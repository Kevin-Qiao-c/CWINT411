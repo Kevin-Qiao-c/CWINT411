{
 "nbformat": 4,
 "nbformat_minor": 0,
 "metadata": {
  "colab": {
   "provenance": []
  },
  "language_info": {
   "codemirror_mode": {
    "name": "ipython",
    "version": 3
   },
   "file_extension": ".py",
   "mimetype": "text/x-python",
   "name": "python",
   "nbconvert_exporter": "python",
   "pygments_lexer": "ipython3",
   "version": "3.7.1"
  },
  "kernelspec": {
   "display_name": "Python 3",
   "language": "python",
   "name": "python3"
  },
  "accelerator": "GPU"
 },
 "cells": [
  {
   "cell_type": "markdown",
   "metadata": {
    "id": "KthJSHkGQR7Z"
   },
   "source": [
    "# Bag of Words Text Classification\n",
    "\n",
    "In this tutorial we will show how to build a simple Bag of Words (BoW) text classifier using PyTorch. The classifier is trained on IMDB movie reviews dataset.\n",
    "\n",
    "This notebook is adapted from https://github.com/scoutbee/pytorch-nlp-notebooks/blob/develop/1_BoW_text_classification.ipynb\n",
    "\n",
    "\n",
    "## Concepts covered in this tutorial\n",
    "1. NLP text pre-processing\n",
    "2. Split of training, validation and testing datasets\n",
    "3. How to build a simple linear classifier using PyTorch\n",
    "4. Training the model and the balance of Under-fitting v.s. Over-fitting\n",
    "5. BoW and TF-IDF text classifier"
   ]
  },
  {
   "cell_type": "code",
   "metadata": {
    "id": "ZniLdSpeQR7l",
    "colab": {
     "base_uri": "https://localhost:8080/"
    },
    "outputId": "0074f36a-a596-424d-837a-48a0dbbeeb56",
    "ExecuteTime": {
     "end_time": "2024-10-08T06:08:32.797747Z",
     "start_time": "2024-10-08T06:08:32.772374Z"
    }
   },
   "source": [
    "import nltk\n",
    "\n",
    "nltk.download('stopwords')\n",
    "nltk.download('wordnet')"
   ],
   "outputs": [
    {
     "name": "stderr",
     "output_type": "stream",
     "text": [
      "[nltk_data] Downloading package stopwords to\n",
      "[nltk_data]     C:\\Users\\Kevin\\AppData\\Roaming\\nltk_data...\n",
      "[nltk_data]   Package stopwords is already up-to-date!\n",
      "[nltk_data] Downloading package wordnet to\n",
      "[nltk_data]     C:\\Users\\Kevin\\AppData\\Roaming\\nltk_data...\n",
      "[nltk_data]   Package wordnet is already up-to-date!\n"
     ]
    },
    {
     "data": {
      "text/plain": [
       "True"
      ]
     },
     "execution_count": 9,
     "metadata": {},
     "output_type": "execute_result"
    }
   ],
   "execution_count": 9
  },
  {
   "cell_type": "code",
   "metadata": {
    "id": "_8cUAJPMQR7g",
    "colab": {
     "base_uri": "https://localhost:8080/"
    },
    "outputId": "c8b4b27f-72cc-408e-b4db-91fbd2193885",
    "ExecuteTime": {
     "end_time": "2024-10-08T06:08:47.512488Z",
     "start_time": "2024-10-08T06:08:47.505179Z"
    }
   },
   "source": [
    "import random\n",
    "import re  # regular expression\n",
    "from collections import Counter\n",
    "from functools import partial\n",
    "from pathlib import Path\n",
    "\n",
    "import matplotlib.pyplot as plt\n",
    "import numpy as np\n",
    "import pandas as pd\n",
    "from google_drive_downloader import GoogleDriveDownloader as gdd\n",
    "from IPython.display import display, HTML\n",
    "# from IPython.core.display import display, HTML\n",
    "from sklearn.feature_extraction.text import TfidfVectorizer  # TF-IDF\n",
    "from sklearn.metrics import classification_report\n",
    "from tqdm import tqdm, tqdm_notebook  # show progress bar\n",
    "\n",
    "# PyTorch modules\n",
    "import torch\n",
    "import torch.nn as nn\n",
    "import torch.nn.functional as F\n",
    "from torch import optim\n",
    "from torch.optim.lr_scheduler import CosineAnnealingLR\n",
    "from torch.utils.data import Dataset, DataLoader\n",
    "from torch.utils.data.dataset import random_split\n",
    "\n",
    "# nltk text processors\n",
    "import nltk\n",
    "from nltk.corpus import stopwords\n",
    "from nltk.tokenize import wordpunct_tokenize\n",
    "from nltk.stem import WordNetLemmatizer\n",
    "\n",
    "%matplotlib inline\n",
    "%config InlineBackend.figure_formats = ['svg']\n",
    "plt.style.use('ggplot')\n",
    "tqdm.pandas()\n",
    "print(\"torch.get_default_device()\", torch.get_default_device())\n",
    "device = torch.device('cuda' if torch.cuda.is_available() else 'cpu')\n",
    "torch.set_default_device(device)\n",
    "print(\"torch.get_default_device()\", torch.get_default_device())"
   ],
   "outputs": [
    {
     "name": "stdout",
     "output_type": "stream",
     "text": [
      "torch.get_default_device() cuda:0\n",
      "torch.get_default_device() cuda:0\n"
     ]
    }
   ],
   "execution_count": 11
  },
  {
   "cell_type": "code",
   "metadata": {
    "id": "j8-WlORVQR7n",
    "colab": {
     "base_uri": "https://localhost:8080/"
    },
    "outputId": "218d752a-6058-46e9-8a32-b38bf943cbd1",
    "ExecuteTime": {
     "end_time": "2024-10-08T06:08:40.776064Z",
     "start_time": "2024-10-08T06:08:40.773280Z"
    }
   },
   "source": [
    "DATA_PATH = 'data/imdb_reviews.csv'\n",
    "if not Path(DATA_PATH).is_file():\n",
    "    gdd.download_file_from_google_drive(\n",
    "        file_id='1zfM5E6HvKIe7f3rEt1V2gBpw5QOSSKQz',\n",
    "        dest_path=DATA_PATH,\n",
    "    )"
   ],
   "outputs": [],
   "execution_count": 10
  },
  {
   "cell_type": "markdown",
   "metadata": {
    "id": "YJmd3NNtQR7s"
   },
   "source": [
    "**Take a look at a few examples**"
   ]
  },
  {
   "cell_type": "code",
   "metadata": {
    "id": "FnsKvqrXQR7t",
    "colab": {
     "base_uri": "https://localhost:8080/",
     "height": 842
    },
    "outputId": "afab2ed5-22eb-41f3-cbf9-985b258711ba",
    "ExecuteTime": {
     "end_time": "2024-10-08T06:26:23.431382Z",
     "start_time": "2024-10-08T06:26:22.899418Z"
    }
   },
   "source": [
    "df = pd.read_csv(DATA_PATH)\n",
    "df.sample(5)"
   ],
   "outputs": [
    {
     "data": {
      "text/plain": [
       "                                                  review  label\n",
       "48123  As in Amelie, recent French films seem to be t...      1\n",
       "55031  I watched the movie \\The Flock\\\" because of th...      0\n",
       "29197  Hilarious, laugh out loud moments ... and yet ...      0\n",
       "6846   And now for another point of view: I didn't li...      0\n",
       "28483  Patricia Hunter: Oh, professor, do you also ma...      0"
      ],
      "text/html": [
       "<div>\n",
       "<style scoped>\n",
       "    .dataframe tbody tr th:only-of-type {\n",
       "        vertical-align: middle;\n",
       "    }\n",
       "\n",
       "    .dataframe tbody tr th {\n",
       "        vertical-align: top;\n",
       "    }\n",
       "\n",
       "    .dataframe thead th {\n",
       "        text-align: right;\n",
       "    }\n",
       "</style>\n",
       "<table border=\"1\" class=\"dataframe\">\n",
       "  <thead>\n",
       "    <tr style=\"text-align: right;\">\n",
       "      <th></th>\n",
       "      <th>review</th>\n",
       "      <th>label</th>\n",
       "    </tr>\n",
       "  </thead>\n",
       "  <tbody>\n",
       "    <tr>\n",
       "      <th>48123</th>\n",
       "      <td>As in Amelie, recent French films seem to be t...</td>\n",
       "      <td>1</td>\n",
       "    </tr>\n",
       "    <tr>\n",
       "      <th>55031</th>\n",
       "      <td>I watched the movie \\The Flock\\\" because of th...</td>\n",
       "      <td>0</td>\n",
       "    </tr>\n",
       "    <tr>\n",
       "      <th>29197</th>\n",
       "      <td>Hilarious, laugh out loud moments ... and yet ...</td>\n",
       "      <td>0</td>\n",
       "    </tr>\n",
       "    <tr>\n",
       "      <th>6846</th>\n",
       "      <td>And now for another point of view: I didn't li...</td>\n",
       "      <td>0</td>\n",
       "    </tr>\n",
       "    <tr>\n",
       "      <th>28483</th>\n",
       "      <td>Patricia Hunter: Oh, professor, do you also ma...</td>\n",
       "      <td>0</td>\n",
       "    </tr>\n",
       "  </tbody>\n",
       "</table>\n",
       "</div>"
      ]
     },
     "execution_count": 13,
     "metadata": {},
     "output_type": "execute_result"
    }
   ],
   "execution_count": 13
  },
  {
   "cell_type": "code",
   "metadata": {
    "id": "oTM2IdHRQR7y",
    "colab": {
     "base_uri": "https://localhost:8080/"
    },
    "outputId": "d9ac9145-3a3e-4f06-a978-b9da28a0dce5",
    "ExecuteTime": {
     "end_time": "2024-10-08T06:36:43.622181Z",
     "start_time": "2024-10-08T06:36:43.609232Z"
    }
   },
   "source": [
    "print('Number of records:', len(df), '\\n')\n",
    "print('Number of positive reviews:', len(df[df.label == 1]))\n",
    "print('Number of negative reviews:', len(df[df.label == 0]), '\\n')\n",
    "\n",
    "print('Example negative review:')\n",
    "print(df.loc[55].review, '\\n')\n",
    "print('Example positive review:')\n",
    "print(df.loc[12361].review, '\\n')"
   ],
   "outputs": [
    {
     "name": "stdout",
     "output_type": "stream",
     "text": [
      "Number of records: 62155 \n",
      "\n",
      "Number of positive reviews: 30870\n",
      "Number of negative reviews: 31285 \n",
      "\n",
      "Example negative review:\n",
      "Seeing this film for the first time twenty years after its release I don't quite get it. Why has this been such a huge hit in 1986? Its amateurishness drips from every scene. The jokes are lame and predictable. The sex scenes are exploitative and over the top (that is not to say that Miss Rudnik does not have nice boobs!). The singing is \"schrecklich\". The only genuinely funny scene is the big shoot out when the gangsters die break dancing, a trait that dates the movie firmly to the mid-eighties. It's really quite puzzling to me how incapable I am to grasp what evoked the enthusiasm of the cheering audiences in 1986 (and apparently still today, reading my fellow IMDBers comments). \n",
      "\n",
      "Example positive review:\n",
      "I went and saw this movie last night after being coaxed to by a few friends of mine. I'll admit that I was reluctant to see it because from what I knew of Ashton Kutcher he was only able to do comedy. I was wrong. Kutcher played the character of Jake Fischer very well, and Kevin Costner played Ben Randall with such professionalism. The sign of a good movie is that it can toy with our emotions. This one did exactly that. The entire theater (which was sold out) was overcome by laughter during the first half of the movie, and were moved to tears during the second half. While exiting the theater I not only saw many women in tears, but many full grown men as well, trying desperately not to let anyone see them crying. This movie was great, and I suggest that you go see it before you judge. \n",
      "\n"
     ]
    }
   ],
   "execution_count": 15
  },
  {
   "cell_type": "markdown",
   "metadata": {
    "id": "kajOXwKjQR71"
   },
   "source": [
    "## Preprocess Text\n",
    "\n",
    "* Replace weird characters\n",
    "* Lowercase\n",
    "* Tokenize\n",
    "* Stemming & Lemmatize\n",
    "* Remove stopwords"
   ]
  },
  {
   "cell_type": "markdown",
   "metadata": {
    "id": "NEAMiSRUQR71"
   },
   "source": [
    "**Let's see how to pre-process these steps one by one. Below I constructed a test corpus which composed of 3 reviews. Each review is a paragraph.**"
   ]
  },
  {
   "cell_type": "code",
   "metadata": {
    "id": "bd4I86AdQR72",
    "colab": {
     "base_uri": "https://localhost:8080/",
     "height": 106
    },
    "outputId": "5f725226-8bcc-4d5a-be00-9816883a2f40",
    "ExecuteTime": {
     "end_time": "2024-10-08T06:42:50.817628Z",
     "start_time": "2024-10-08T06:42:50.813988Z"
    }
   },
   "source": [
    "test_corpus = '''The Intel Core i5 processor that comes with the Dell Latitude 5490 is quad-core and offers 1.6GHz and a 6M cache. The base configuration includes 1 x 4GB of DDR4 Non-CC memory, but this can be upgraded to 8GB or even 16GB (2 x 8GB) if you require more memory. How great is that!?\n",
    "The 14-inch display is available with your choice of 1366 x 768 or 1920 x 1080 resolution. Both versions are non-touch, WLAN capable, and come with anti-glare technology. You also get a built-in camera and microphone. For wireless technology, the system comes with a Qualcomm QCA61 x 4A 802.11 ac (2×2) wireless adapter+.'''\n",
    "test_corpus"
   ],
   "outputs": [
    {
     "data": {
      "text/plain": [
       "'The Intel Core i5 processor that comes with the Dell Latitude 5490 is quad-core and offers 1.6GHz and a 6M cache. The base configuration includes 1 x 4GB of DDR4 Non-CC memory, but this can be upgraded to 8GB or even 16GB (2 x 8GB) if you require more memory. How great is that!?\\nThe 14-inch display is available with your choice of 1366 x 768 or 1920 x 1080 resolution. Both versions are non-touch, WLAN capable, and come with anti-glare technology. You also get a built-in camera and microphone. For wireless technology, the system comes with a Qualcomm QCA61 x 4A 802.11 ac (2×2) wireless adapter+.'"
      ]
     },
     "execution_count": 17,
     "metadata": {},
     "output_type": "execute_result"
    }
   ],
   "execution_count": 17
  },
  {
   "cell_type": "code",
   "metadata": {
    "id": "__qLl57RQR74",
    "colab": {
     "base_uri": "https://localhost:8080/",
     "height": 88
    },
    "outputId": "e00eef2a-7dac-4a9b-f576-90f1c2b48346",
    "ExecuteTime": {
     "end_time": "2024-10-08T06:48:40.434447Z",
     "start_time": "2024-10-08T06:48:40.429696Z"
    }
   },
   "source": [
    "# remove special characters & lowercase\n",
    "clean_corpus = re.sub(r'[^\\w\\s]', '', test_corpus)\n",
    "clean_corpus = clean_corpus.lower()\n",
    "clean_corpus"
   ],
   "outputs": [
    {
     "data": {
      "text/plain": [
       "'the intel core i5 processor that comes with the dell latitude 5490 is quadcore and offers 16ghz and a 6m cache the base configuration includes 1 x 4gb of ddr4 noncc memory but this can be upgraded to 8gb or even 16gb 2 x 8gb if you require more memory how great is that\\nthe 14inch display is available with your choice of 1366 x 768 or 1920 x 1080 resolution both versions are nontouch wlan capable and come with antiglare technology you also get a builtin camera and microphone for wireless technology the system comes with a qualcomm qca61 x 4a 80211 ac 22 wireless adapter'"
      ]
     },
     "execution_count": 19,
     "metadata": {},
     "output_type": "execute_result"
    }
   ],
   "execution_count": 19
  },
  {
   "cell_type": "code",
   "metadata": {
    "id": "wEXzzABQQR78",
    "colab": {
     "base_uri": "https://localhost:8080/"
    },
    "outputId": "02e9dfcb-77a8-4197-d38d-76fc240805a5",
    "ExecuteTime": {
     "end_time": "2024-10-08T07:34:22.972169Z",
     "start_time": "2024-10-08T07:34:22.968863Z"
    }
   },
   "source": [
    "# tokenize\n",
    "clean_tokens = wordpunct_tokenize(clean_corpus)\n",
    "print(clean_tokens)\n",
    "print(len(clean_tokens))"
   ],
   "outputs": [
    {
     "name": "stdout",
     "output_type": "stream",
     "text": [
      "['the', 'intel', 'core', 'i5', 'processor', 'that', 'comes', 'with', 'the', 'dell', 'latitude', '5490', 'is', 'quadcore', 'and', 'offers', '16ghz', 'and', 'a', '6m', 'cache', 'the', 'base', 'configuration', 'includes', '1', 'x', '4gb', 'of', 'ddr4', 'noncc', 'memory', 'but', 'this', 'can', 'be', 'upgraded', 'to', '8gb', 'or', 'even', '16gb', '2', 'x', '8gb', 'if', 'you', 'require', 'more', 'memory', 'how', 'great', 'is', 'that', 'the', '14inch', 'display', 'is', 'available', 'with', 'your', 'choice', 'of', '1366', 'x', '768', 'or', '1920', 'x', '1080', 'resolution', 'both', 'versions', 'are', 'nontouch', 'wlan', 'capable', 'and', 'come', 'with', 'antiglare', 'technology', 'you', 'also', 'get', 'a', 'builtin', 'camera', 'and', 'microphone', 'for', 'wireless', 'technology', 'the', 'system', 'comes', 'with', 'a', 'qualcomm', 'qca61', 'x', '4a', '80211', 'ac', '22', 'wireless', 'adapter']\n",
      "107\n"
     ]
    }
   ],
   "execution_count": 21
  },
  {
   "cell_type": "code",
   "metadata": {
    "id": "yiNcDaSdQR7_",
    "colab": {
     "base_uri": "https://localhost:8080/"
    },
    "outputId": "d6e53618-1d49-468f-e949-778a4de5ca6b",
    "ExecuteTime": {
     "end_time": "2024-10-08T07:38:17.723387Z",
     "start_time": "2024-10-08T07:38:16.773931Z"
    }
   },
   "source": [
    "lemmatizer = WordNetLemmatizer()\n",
    "clean_tokens = [lemmatizer.lemmatize(token) for token in clean_tokens]\n",
    "clean_tokens = [lemmatizer.lemmatize(token, \"v\") for token in clean_tokens]\n",
    "print(clean_tokens)\n",
    "print(len(clean_tokens))"
   ],
   "outputs": [
    {
     "name": "stdout",
     "output_type": "stream",
     "text": [
      "['the', 'intel', 'core', 'i5', 'processor', 'that', 'come', 'with', 'the', 'dell', 'latitude', '5490', 'be', 'quadcore', 'and', 'offer', '16ghz', 'and', 'a', '6m', 'cache', 'the', 'base', 'configuration', 'include', '1', 'x', '4gb', 'of', 'ddr4', 'noncc', 'memory', 'but', 'this', 'can', 'be', 'upgrade', 'to', '8gb', 'or', 'even', '16gb', '2', 'x', '8gb', 'if', 'you', 'require', 'more', 'memory', 'how', 'great', 'be', 'that', 'the', '14inch', 'display', 'be', 'available', 'with', 'your', 'choice', 'of', '1366', 'x', '768', 'or', '1920', 'x', '1080', 'resolution', 'both', 'version', 'be', 'nontouch', 'wlan', 'capable', 'and', 'come', 'with', 'antiglare', 'technology', 'you', 'also', 'get', 'a', 'builtin', 'camera', 'and', 'microphone', 'for', 'wireless', 'technology', 'the', 'system', 'come', 'with', 'a', 'qualcomm', 'qca61', 'x', '4a', '80211', 'ac', '22', 'wireless', 'adapter']\n",
      "107\n"
     ]
    }
   ],
   "execution_count": 22
  },
  {
   "cell_type": "code",
   "metadata": {
    "id": "--w6TAk1QR8E",
    "colab": {
     "base_uri": "https://localhost:8080/"
    },
    "outputId": "6158a549-da58-46dd-9139-408e694fa8ff",
    "ExecuteTime": {
     "end_time": "2024-10-08T07:40:09.757014Z",
     "start_time": "2024-10-08T07:40:09.752573Z"
    }
   },
   "source": [
    "clean_tokens = [re.sub(r'\\b[0-9]+\\b', '<NUM>', token) for token in clean_tokens]\n",
    "print(clean_tokens)\n",
    "print(len(clean_tokens))"
   ],
   "outputs": [
    {
     "name": "stdout",
     "output_type": "stream",
     "text": [
      "['the', 'intel', 'core', 'i5', 'processor', 'that', 'come', 'with', 'the', 'dell', 'latitude', '<NUM>', 'be', 'quadcore', 'and', 'offer', '16ghz', 'and', 'a', '6m', 'cache', 'the', 'base', 'configuration', 'include', '<NUM>', 'x', '4gb', 'of', 'ddr4', 'noncc', 'memory', 'but', 'this', 'can', 'be', 'upgrade', 'to', '8gb', 'or', 'even', '16gb', '<NUM>', 'x', '8gb', 'if', 'you', 'require', 'more', 'memory', 'how', 'great', 'be', 'that', 'the', '14inch', 'display', 'be', 'available', 'with', 'your', 'choice', 'of', '<NUM>', 'x', '<NUM>', 'or', '<NUM>', 'x', '<NUM>', 'resolution', 'both', 'version', 'be', 'nontouch', 'wlan', 'capable', 'and', 'come', 'with', 'antiglare', 'technology', 'you', 'also', 'get', 'a', 'builtin', 'camera', 'and', 'microphone', 'for', 'wireless', 'technology', 'the', 'system', 'come', 'with', 'a', 'qualcomm', 'qca61', 'x', '4a', '<NUM>', 'ac', '<NUM>', 'wireless', 'adapter']\n",
      "107\n"
     ]
    }
   ],
   "execution_count": 23
  },
  {
   "cell_type": "code",
   "metadata": {
    "id": "h7PBL2lIQR8I",
    "colab": {
     "base_uri": "https://localhost:8080/"
    },
    "outputId": "94d4a2dc-a2f1-4378-eace-99fb5a6d626d",
    "ExecuteTime": {
     "end_time": "2024-10-08T07:41:54.415420Z",
     "start_time": "2024-10-08T07:41:54.406571Z"
    }
   },
   "source": [
    "stop_words = set(stopwords.words('english'))\n",
    "clean_tokens = [token for token in clean_tokens if token not in stop_words]\n",
    "print(clean_tokens)\n",
    "print(len(clean_tokens))"
   ],
   "outputs": [
    {
     "name": "stdout",
     "output_type": "stream",
     "text": [
      "['intel', 'core', 'i5', 'processor', 'come', 'dell', 'latitude', '<NUM>', 'quadcore', 'offer', '16ghz', '6m', 'cache', 'base', 'configuration', 'include', '<NUM>', 'x', '4gb', 'ddr4', 'noncc', 'memory', 'upgrade', '8gb', 'even', '16gb', '<NUM>', 'x', '8gb', 'require', 'memory', 'great', '14inch', 'display', 'available', 'choice', '<NUM>', 'x', '<NUM>', '<NUM>', 'x', '<NUM>', 'resolution', 'version', 'nontouch', 'wlan', 'capable', 'come', 'antiglare', 'technology', 'also', 'get', 'builtin', 'camera', 'microphone', 'wireless', 'technology', 'system', 'come', 'qualcomm', 'qca61', 'x', '4a', '<NUM>', 'ac', '<NUM>', 'wireless', 'adapter']\n",
      "68\n"
     ]
    }
   ],
   "execution_count": 24
  },
  {
   "cell_type": "code",
   "metadata": {
    "id": "9t4Mc4pxQR8P",
    "colab": {
     "base_uri": "https://localhost:8080/"
    },
    "outputId": "33b05e80-6fc4-4e7e-8cc3-3678bf9a9996",
    "ExecuteTime": {
     "end_time": "2024-10-08T07:52:47.055163Z",
     "start_time": "2024-10-08T07:52:47.051195Z"
    }
   },
   "source": [
    "def build_vocab(corpus):\n",
    "    vocab = {}\n",
    "    for doc in corpus:\n",
    "        for token in doc:\n",
    "            if token not in vocab.keys():\n",
    "                vocab[token] = len(vocab)\n",
    "    return vocab\n",
    "\n",
    "\n",
    "print(build_vocab([clean_tokens]))"
   ],
   "outputs": [
    {
     "name": "stdout",
     "output_type": "stream",
     "text": [
      "{'intel': 0, 'core': 1, 'i5': 2, 'processor': 3, 'come': 4, 'dell': 5, 'latitude': 6, '<NUM>': 7, 'quadcore': 8, 'offer': 9, '16ghz': 10, '6m': 11, 'cache': 12, 'base': 13, 'configuration': 14, 'include': 15, 'x': 16, '4gb': 17, 'ddr4': 18, 'noncc': 19, 'memory': 20, 'upgrade': 21, '8gb': 22, 'even': 23, '16gb': 24, 'require': 25, 'great': 26, '14inch': 27, 'display': 28, 'available': 29, 'choice': 30, 'resolution': 31, 'version': 32, 'nontouch': 33, 'wlan': 34, 'capable': 35, 'antiglare': 36, 'technology': 37, 'also': 38, 'get': 39, 'builtin': 40, 'camera': 41, 'microphone': 42, 'wireless': 43, 'system': 44, 'qualcomm': 45, 'qca61': 46, '4a': 47, 'ac': 48, 'adapter': 49}\n"
     ]
    }
   ],
   "execution_count": 29
  },
  {
   "cell_type": "code",
   "metadata": {
    "id": "rQw7-4YFQR8S",
    "colab": {
     "base_uri": "https://localhost:8080/"
    },
    "outputId": "76a76528-efb4-4fd4-fb20-e8bc25f4c09e",
    "ExecuteTime": {
     "end_time": "2024-10-08T07:54:13.721320Z",
     "start_time": "2024-10-08T07:54:13.717165Z"
    }
   },
   "source": [
    "def build_index2token(vocab):\n",
    "    index2token = {}\n",
    "    for token in vocab.keys():\n",
    "        index2token[vocab[token]] = token\n",
    "    return index2token\n",
    "\n",
    "\n",
    "print(build_index2token(build_vocab([clean_tokens])))"
   ],
   "outputs": [
    {
     "name": "stdout",
     "output_type": "stream",
     "text": [
      "{0: 'intel', 1: 'core', 2: 'i5', 3: 'processor', 4: 'come', 5: 'dell', 6: 'latitude', 7: '<NUM>', 8: 'quadcore', 9: 'offer', 10: '16ghz', 11: '6m', 12: 'cache', 13: 'base', 14: 'configuration', 15: 'include', 16: 'x', 17: '4gb', 18: 'ddr4', 19: 'noncc', 20: 'memory', 21: 'upgrade', 22: '8gb', 23: 'even', 24: '16gb', 25: 'require', 26: 'great', 27: '14inch', 28: 'display', 29: 'available', 30: 'choice', 31: 'resolution', 32: 'version', 33: 'nontouch', 34: 'wlan', 35: 'capable', 36: 'antiglare', 37: 'technology', 38: 'also', 39: 'get', 40: 'builtin', 41: 'camera', 42: 'microphone', 43: 'wireless', 44: 'system', 45: 'qualcomm', 46: 'qca61', 47: '4a', 48: 'ac', 49: 'adapter'}\n"
     ]
    }
   ],
   "execution_count": 30
  },
  {
   "cell_type": "markdown",
   "metadata": {
    "id": "sOAIqMzqBXiv"
   },
   "source": [
    "**Bag of Words**\n",
    "\n",
    "\n",
    "\n",
    "**TF-IDF**\n",
    "\n"
   ]
  },
  {
   "cell_type": "markdown",
   "metadata": {
    "id": "jCw9LKDKQR8W"
   },
   "source": [
    "**Let's pacakage the pre-processing steps together into functions and apply on our dataset**"
   ]
  },
  {
   "cell_type": "code",
   "metadata": {
    "id": "GHCoa8R_QR8W",
    "ExecuteTime": {
     "end_time": "2024-10-08T10:00:48.512140Z",
     "start_time": "2024-10-08T10:00:48.503694Z"
    }
   },
   "source": [
    "def remove_rare_words(tokens, common_tokens, max_len):\n",
    "    return [token if token in common_tokens else '<UNK>' for token in tokens][-max_len:]\n",
    "\n",
    "\n",
    "def replace_numbers(tokens):\n",
    "    return [re.sub(r'[0-9]+', '<NUM>', token) for token in tokens]\n",
    "\n",
    "\n",
    "def tokenize(text, stop_words, lemmatizer):\n",
    "    text = re.sub(r'[^\\w\\s]', '', text)  # remove special characters\n",
    "    text = text.lower()  # lowercase\n",
    "    tokens = wordpunct_tokenize(text)  # tokenize\n",
    "    tokens = [lemmatizer.lemmatize(token) for token in tokens]  # noun lemmatizer\n",
    "    tokens = [lemmatizer.lemmatize(token, \"v\") for token in tokens]  # verb lemmatizer\n",
    "    tokens = [token for token in tokens if token not in stop_words]  # remove stopwords\n",
    "    return tokens\n",
    "\n",
    "\n",
    "def build_bow_vector(sequence, idx2token):\n",
    "    vector = [0] * len(idx2token)\n",
    "    for token_idx in sequence:\n",
    "        if token_idx not in idx2token:\n",
    "            raise ValueError('Wrong sequence index found!')\n",
    "        else:\n",
    "            vector[token_idx] += 1\n",
    "    return vector"
   ],
   "outputs": [],
   "execution_count": 31
  },
  {
   "cell_type": "code",
   "metadata": {
    "id": "bYb2RZSI_F8A",
    "ExecuteTime": {
     "end_time": "2024-10-08T10:01:59.582469Z",
     "start_time": "2024-10-08T10:01:59.579377Z"
    }
   },
   "source": [
    "# Set parameters\n",
    "\n",
    "MAX_LEN = 128  #@param [64, 256, 512, 1024] {allow-input: true}\n",
    "MAX_VOCAB = 1000  #@param [1000, 5000, 10000, 100000] {allow-input: true}"
   ],
   "outputs": [],
   "execution_count": 32
  },
  {
   "cell_type": "code",
   "metadata": {
    "id": "cRpfCXB5QR8Y",
    "ExecuteTime": {
     "end_time": "2024-10-08T10:12:16.457678Z",
     "start_time": "2024-10-08T10:12:16.446180Z"
    }
   },
   "source": [
    "class ImdbDataset(Dataset):\n",
    "    def __init__(self, data_path, max_vocab=5000, max_len=128):\n",
    "        df = pd.read_csv(data_path)\n",
    "\n",
    "        # Clean and tokenize\n",
    "        stop_words = set(stopwords.words('english'))\n",
    "        lemmatizer = WordNetLemmatizer()\n",
    "        df['tokens'] = df.review.apply(\n",
    "            partial(\n",
    "                tokenize,\n",
    "                stop_words=stop_words,\n",
    "                lemmatizer=lemmatizer,\n",
    "            ),\n",
    "        )\n",
    "\n",
    "        all_tokens = [token for doc in list(df.tokens) for token in doc]\n",
    "\n",
    "        # Build most common tokens bound by max vocab size\n",
    "        common_tokens = set(\n",
    "            list(\n",
    "                zip(*Counter(all_tokens).most_common(max_vocab))\n",
    "            )[0]\n",
    "        )\n",
    "\n",
    "        # Replace rare words with <UNK>\n",
    "        df.loc[:, 'tokens'] = df.tokens.progress_apply(\n",
    "            partial(\n",
    "                remove_rare_words,\n",
    "                common_tokens=common_tokens,\n",
    "                max_len=max_len,\n",
    "            ),\n",
    "        )\n",
    "\n",
    "        # Replace numbers with <NUM>\n",
    "        df.loc[:, 'tokens'] = df.tokens.progress_apply(replace_numbers)\n",
    "\n",
    "        # Remove sequences with only <UNK>\n",
    "        df = df[df.tokens.progress_apply(\n",
    "            lambda tokens: any(token != '<UNK>' for token in tokens),\n",
    "        )]\n",
    "\n",
    "        # Build vocab\n",
    "        vocab = sorted(set(\n",
    "            token for doc in list(df.tokens) for token in doc\n",
    "        ))\n",
    "        self.token2idx = {token: idx for idx, token in enumerate(vocab)}\n",
    "        self.idx2token = {idx: token for token, idx in self.token2idx.items()}\n",
    "\n",
    "        # Convert tokens to indexes\n",
    "        df['indexed_tokens'] = df.tokens.progress_apply(\n",
    "            lambda doc: [self.token2idx[token] for token in doc],\n",
    "        )\n",
    "\n",
    "        # Build BoW vector\n",
    "        df['bow_vector'] = df.indexed_tokens.progress_apply(\n",
    "            build_bow_vector, args=(self.idx2token,)\n",
    "        )\n",
    "\n",
    "        # Build TF-IDF vector\n",
    "        vectorizer = TfidfVectorizer(\n",
    "            analyzer='word',\n",
    "            tokenizer=lambda doc: doc,\n",
    "            preprocessor=lambda doc: doc,\n",
    "            token_pattern=None,\n",
    "        )\n",
    "        vectors = vectorizer.fit_transform(df.tokens).toarray()\n",
    "        df['tfidf_vector'] = [vector.tolist() for vector in vectors]\n",
    "\n",
    "        self.text = df.review.tolist()\n",
    "        self.sequences = df.indexed_tokens.tolist()\n",
    "        self.bow_vector = df.bow_vector.tolist()\n",
    "        self.tfidf_vector = df.tfidf_vector.tolist()\n",
    "        self.targets = df.label.tolist()\n",
    "\n",
    "    def __getitem__(self, i):\n",
    "        return (\n",
    "            self.sequences[i],\n",
    "            self.bow_vector[i],\n",
    "            self.tfidf_vector[i],\n",
    "            self.targets[i],\n",
    "            self.text[i],\n",
    "        )\n",
    "\n",
    "    def __len__(self):\n",
    "        return len(self.targets)"
   ],
   "outputs": [],
   "execution_count": 33
  },
  {
   "cell_type": "code",
   "metadata": {
    "id": "K31nmR1KQR8a",
    "colab": {
     "base_uri": "https://localhost:8080/"
    },
    "outputId": "17e61717-e2b2-4a1f-c0e4-8e515af8b59d",
    "ExecuteTime": {
     "end_time": "2024-10-08T10:26:55.273210Z",
     "start_time": "2024-10-08T10:25:44.989780Z"
    }
   },
   "source": [
    "dataset = ImdbDataset(DATA_PATH, max_vocab=MAX_VOCAB, max_len=MAX_LEN)"
   ],
   "outputs": [
    {
     "name": "stderr",
     "output_type": "stream",
     "text": [
      "100%|██████████| 62155/62155 [00:01<00:00, 56806.55it/s]\n",
      "100%|██████████| 62155/62155 [00:02<00:00, 21624.33it/s]\n",
      "100%|██████████| 62155/62155 [00:00<00:00, 1057156.73it/s]\n",
      "100%|██████████| 62154/62154 [00:00<00:00, 157836.25it/s]\n",
      "100%|██████████| 62154/62154 [00:01<00:00, 42143.96it/s]\n"
     ]
    }
   ],
   "execution_count": 34
  },
  {
   "cell_type": "markdown",
   "metadata": {
    "id": "ZgCt9GdyQR8d"
   },
   "source": [
    "See a random sample out of the dataset processed"
   ]
  },
  {
   "cell_type": "code",
   "metadata": {
    "id": "V57qJlwuQR8e",
    "colab": {
     "base_uri": "https://localhost:8080/"
    },
    "outputId": "5becd027-adcc-4ca6-9a5b-ed734d4bee75",
    "ExecuteTime": {
     "end_time": "2024-10-08T10:51:25.578127Z",
     "start_time": "2024-10-08T10:51:25.574050Z"
    }
   },
   "source": [
    "print('Number of records:', len(dataset), '\\n')\n",
    "\n",
    "import random\n",
    "\n",
    "random_idx = random.randint(0, len(dataset) - 1)\n",
    "print('index:', random_idx, '\\n')\n",
    "sample_seq, bow_vector, tfidf_vector, sample_target, sample_text = dataset[random_idx]\n",
    "print(sample_text, '\\n')\n",
    "print(sample_seq, '\\n')\n",
    "print('BoW vector size:', len(bow_vector), '\\n')\n",
    "print('BoW vector first 10:', bow_vector[:10], '\\n')\n",
    "print('TF-IDF vector size:', len(tfidf_vector), '\\n')\n",
    "print('TF-IDF vector first 10:', tfidf_vector[:10], '\\n')\n",
    "print('Sentiment:', sample_target, '\\n')\n",
    "print(dataset.idx2token[1])"
   ],
   "outputs": [
    {
     "name": "stdout",
     "output_type": "stream",
     "text": [
      "Number of records: 62154 \n",
      "\n",
      "index: 25484 \n",
      "\n",
      "There are so many incorrect statements in this so-called \"documentary\" that I found myself shouting at the television.<br /><br />Bart Sibrel might be able to produce a flashy looking DVD, but he is sadly lacking at looking at the science behind his claims.<br /><br />He relies on either being inaccurate, not telling the full story, or the old favourite \"government always lies to us\" innuendos, and people believing what is told to them and not checking on the accuracy or details behind the claims.<br /><br />What's more, his \"exclusive\" or \"unreleased\" footage is freely available over the internet from various sites.<br /><br />Further reading about the circumstances regarding the filming of this production shows that he used false pretenses to gain interviews, and has used creative editing of the responses in order to promote his own opinions.<br /><br />All of the claims made by Mr Sibrel about \"inaccuracies\", \"mistakes\", or \"whistleblowing\" in the Apollo programme have been thoroughly disproven.<br /><br />How do I get that 40-odd minutes of my life back? \n",
      "\n",
      "[526, 1, 1, 1, 244, 343, 1, 1, 108, 1, 1, 547, 3, 665, 1, 513, 264, 730, 482, 513, 737, 86, 1, 108, 1, 274, 1, 861, 367, 821, 597, 1, 1, 31, 501, 907, 1, 621, 89, 861, 147, 1, 227, 86, 1, 108, 951, 1, 1, 356, 1, 1, 1, 922, 1, 108, 685, 1, 1, 338, 667, 769, 916, 1, 1, 1, 1, 394, 916, 1, 271, 1, 602, 1, 1, 108, 155, 521, 563, 1, 1, 552, 1, 1, 1, 1, 1, 108, 378, 1, 550, 502, 71] \n",
      "\n",
      "BoW vector size: 990 \n",
      "\n",
      "BoW vector first 10: [0, 40, 0, 1, 0, 0, 0, 0, 0, 0] \n",
      "\n",
      "TF-IDF vector size: 990 \n",
      "\n",
      "TF-IDF vector first 10: [0.0, 0.8043708205297242, 0.0, 0.08668910637725623, 0.0, 0.0, 0.0, 0.0, 0.0, 0.0] \n",
      "\n",
      "Sentiment: 0 \n",
      "\n",
      "<UNK>\n"
     ]
    }
   ],
   "execution_count": 75
  },
  {
   "cell_type": "markdown",
   "metadata": {
    "id": "3ScUh32jQR8g"
   },
   "source": [
    "## Split into training, validation, and test sets\n",
    "\n",
    "- **Training**: data the model learns from\n",
    "- **Validation**: data to evaluate with for hyperparameter tuning (make sure the model doesn't overfit!)\n",
    "- **Testing**: data to evaluate the final performance of the model"
   ]
  },
  {
   "cell_type": "code",
   "metadata": {
    "id": "n06g-zwTQR8g",
    "ExecuteTime": {
     "end_time": "2024-10-08T16:41:44.463745Z",
     "start_time": "2024-10-08T16:41:44.459946Z"
    }
   },
   "source": [
    "def split_train_valid_test(corpus, valid_ratio=0.1, test_ratio=0.1):\n",
    "    \"\"\"Split dataset into train, validation, and test.\"\"\"\n",
    "    test_length = int(len(corpus) * test_ratio)\n",
    "    valid_length = int(len(corpus) * valid_ratio)\n",
    "    train_length = len(corpus) - valid_length - test_length\n",
    "    generator = torch.Generator(device=device).manual_seed(\n",
    "        42)  # Create a generator with a fixed seed for reproducibility\n",
    "    return random_split(\n",
    "        corpus, lengths=[train_length, valid_length, test_length], generator=generator\n",
    "    )"
   ],
   "outputs": [],
   "execution_count": 197
  },
  {
   "cell_type": "code",
   "metadata": {
    "id": "qRIrAPkmQR8i",
    "colab": {
     "base_uri": "https://localhost:8080/"
    },
    "outputId": "ca6510f2-85eb-40c6-f3f2-bd0e5a587830",
    "ExecuteTime": {
     "end_time": "2024-10-08T16:41:45.818425Z",
     "start_time": "2024-10-08T16:41:45.810904Z"
    }
   },
   "source": [
    "train_dataset, valid_dataset, test_dataset = split_train_valid_test(\n",
    "    dataset, valid_ratio=0.05, test_ratio=0.05)\n",
    "len(train_dataset), len(valid_dataset), len(test_dataset)"
   ],
   "outputs": [
    {
     "data": {
      "text/plain": [
       "(55940, 3107, 3107)"
      ]
     },
     "execution_count": 198,
     "metadata": {},
     "output_type": "execute_result"
    }
   ],
   "execution_count": 198
  },
  {
   "cell_type": "code",
   "metadata": {
    "id": "Z1iPjOIOQR8l",
    "ExecuteTime": {
     "end_time": "2024-10-08T16:41:48.397610Z",
     "start_time": "2024-10-08T16:41:48.393877Z"
    }
   },
   "source": [
    "BATCH_SIZE = 128\n",
    "\n",
    "\n",
    "def collate(batch):\n",
    "    seq = [item[0] for item in batch]\n",
    "    bow = [item[1] for item in batch]\n",
    "    tfidf = [item[2] for item in batch]\n",
    "    target = torch.LongTensor([item[3] for item in batch]).to(device)\n",
    "    text = [item[4] for item in batch]\n",
    "    return seq, bow, tfidf, target, text\n",
    "\n",
    "\n",
    "train_loader = DataLoader(train_dataset, batch_size=BATCH_SIZE, collate_fn=collate)\n",
    "valid_loader = DataLoader(valid_dataset, batch_size=BATCH_SIZE, collate_fn=collate)\n",
    "test_loader = DataLoader(test_dataset, batch_size=BATCH_SIZE, collate_fn=collate)"
   ],
   "outputs": [],
   "execution_count": 199
  },
  {
   "cell_type": "code",
   "metadata": {
    "id": "3LNYX9TOQR8n",
    "colab": {
     "base_uri": "https://localhost:8080/"
    },
    "outputId": "6e059f52-6d6e-4354-9167-c124018a8863",
    "ExecuteTime": {
     "end_time": "2024-10-08T16:41:51.956028Z",
     "start_time": "2024-10-08T16:41:51.776990Z"
    }
   },
   "source": [
    "print('number of training batches:', len(train_loader), '\\n')\n",
    "batch_idx = random.randint(0, len(train_loader) - 1)\n",
    "example_idx = random.randint(0, BATCH_SIZE - 1)\n",
    "\n",
    "for i, fields in enumerate(train_loader):\n",
    "    seq, bow, tfidf, target, text = fields\n",
    "    if i == batch_idx:\n",
    "        print('Training input sequence:', seq[example_idx], '\\n')\n",
    "        print('BoW vector size:', len(bow[example_idx]), '\\n')\n",
    "        print('TF-IDF vector size:', len(tfidf[example_idx]), '\\n')\n",
    "        print('Label: ', target[example_idx], '\\n')\n",
    "        print('Review text:', text[example_idx], '\\n')\n"
   ],
   "outputs": [
    {
     "name": "stdout",
     "output_type": "stream",
     "text": [
      "number of training batches: 438 \n",
      "\n",
      "Training input sequence: [73, 1, 799, 515, 1, 1, 1, 735, 1, 393, 749, 453, 963, 1, 525, 814, 941, 1, 934, 116, 1, 378, 1, 733, 583, 1, 1, 1, 1, 1, 1, 934, 934, 934, 393, 733, 583, 963, 513, 1, 496, 782, 242, 1, 1, 165, 71, 1, 393, 383, 1, 1, 108, 41, 303, 393, 1, 779, 54, 941, 73, 902, 1, 1, 1, 934, 934, 934, 934, 393, 1, 1, 809, 779, 561, 378, 941, 941, 902, 1, 108, 936, 821, 231, 286, 948, 1, 338, 513, 1] \n",
      "\n",
      "BoW vector size: 990 \n",
      "\n",
      "TF-IDF vector size: 990 \n",
      "\n",
      "Label:  tensor(0, device='cuda:0') \n",
      "\n",
      "Review text: Bad, ambient sound. Lots of shuffling. Loooong pointless scenes. Eg: guy sees interesting woman in lobby. Manages to stay there and watch her under the guise of waiting for the building supervisor to get a package. Says nothing. Stares creepily. More shuffling and other irritating ambient noise. Wait. Wait. Wait. Guy says nothing. Woman looks frightened or at least slightly disturbed about it and rightly so. Manager comes back with package. Guy goes up to the apartment with the package.<br /><br />Another example: the guy and his host sit around watching bad TV. More ambient noise and shuffling. Wait wait wait wait. Guy wanders off to bed. If you can stand to sit through any more of this movie, you get to watch them watch TV again later.<br /><br />If you want a story, any dialogue, entertainment, or a well crafted film, look elsewhere. \n",
      "\n"
     ]
    }
   ],
   "execution_count": 200
  },
  {
   "cell_type": "markdown",
   "metadata": {
    "id": "dRziGFdtQR8p"
   },
   "source": [
    "## BoW Model"
   ]
  },
  {
   "cell_type": "markdown",
   "metadata": {
    "id": "1aZ_jCUBGll4"
   },
   "source": [
    "### Build BoW Linear Model\n",
    "\n",
    "- Input: BoW Vector\n",
    "- Model:\n",
    "    - linear mapping of bow vector to logits\n",
    "- Output:\n",
    "    - vector size of 2 (2 possible outcome: positive v.s. negative)\n",
    "    - probability of input document classified as the label"
   ]
  },
  {
   "cell_type": "code",
   "metadata": {
    "id": "-eKgEFZOQR8s",
    "ExecuteTime": {
     "end_time": "2024-10-08T13:19:12.225876Z",
     "start_time": "2024-10-08T13:19:12.222936Z"
    }
   },
   "source": [
    "class LinearTextClassifier(nn.Module):\n",
    "    def __init__(self, vocab_size, num_labels):\n",
    "        super(LinearTextClassifier, self).__init__()\n",
    "        self.fc = nn.Linear(vocab_size, num_labels)\n",
    "\n",
    "    def forward(self, x):\n",
    "        x = torch.FloatTensor(x).to(device)\n",
    "        return torch.softmax(self.fc(x), dim=-1)\n"
   ],
   "outputs": [],
   "execution_count": 97
  },
  {
   "cell_type": "markdown",
   "metadata": {
    "id": "oJHJnPnJLUfo"
   },
   "source": [
    "P.S. You can also add layers or reduce layers by modifying the cell below"
   ]
  },
  {
   "cell_type": "code",
   "metadata": {
    "id": "M0Q9ze4EQR8t",
    "colab": {
     "base_uri": "https://localhost:8080/"
    },
    "outputId": "30923318-2422-4da6-c9ff-8cdc0c3e3ab7",
    "ExecuteTime": {
     "end_time": "2024-10-08T13:19:14.378204Z",
     "start_time": "2024-10-08T13:19:14.374293Z"
    }
   },
   "source": [
    "bow_model = LinearTextClassifier(\n",
    "    vocab_size=len(dataset.token2idx),\n",
    "    num_labels=2,\n",
    ")\n",
    "bow_model"
   ],
   "outputs": [
    {
     "data": {
      "text/plain": [
       "LinearTextClassifier(\n",
       "  (fc): Linear(in_features=990, out_features=2, bias=True)\n",
       ")"
      ]
     },
     "execution_count": 98,
     "metadata": {},
     "output_type": "execute_result"
    }
   ],
   "execution_count": 98
  },
  {
   "cell_type": "code",
   "metadata": {
    "id": "a3PifawkQR8w",
    "colab": {
     "base_uri": "https://localhost:8080/"
    },
    "outputId": "69b86724-d3bc-43f3-c0f0-41d2370dec5d",
    "ExecuteTime": {
     "end_time": "2024-10-08T13:19:16.553766Z",
     "start_time": "2024-10-08T13:19:16.550392Z"
    }
   },
   "source": [
    "for param in bow_model.parameters():\n",
    "    print(param.size())"
   ],
   "outputs": [
    {
     "name": "stdout",
     "output_type": "stream",
     "text": [
      "torch.Size([2, 990])\n",
      "torch.Size([2])\n"
     ]
    }
   ],
   "execution_count": 99
  },
  {
   "cell_type": "markdown",
   "metadata": {
    "id": "F9AG4SosQR80"
   },
   "source": [
    "### Train BoW Model\n",
    "\n",
    "\n",
    "\n",
    "\n",
    "affine scoring: $$logits = \\theta X + b$$\n",
    "output: $$p = softmax(logits)$$\n",
    "Loss: $$L = −y_0 log(p_0)-y_1 log(p_1)$$\n",
    "Gradient:\n",
    "$$\\frac{\\partial }{\\partial \\theta}L(\\theta, b) = \\frac{\\partial L}{\\partial p}\\frac{\\partial p}{\\partial logits}\\frac{\\partial logits}{\\partial  \\theta}$$\n",
    "\n",
    "Parameter update:\n",
    "$$ \\theta =  \\theta - \\alpha \\frac{\\partial }{\\partial \\theta}L(\\theta, b)$$"
   ]
  },
  {
   "cell_type": "markdown",
   "metadata": {
    "id": "FsGaRTbKGy2F"
   },
   "source": [
    "**Define the initial learning rate**\n",
    "\n",
    "What happens if you set a very small learning rate? What if you set a very large learning rate?"
   ]
  },
  {
   "cell_type": "code",
   "metadata": {
    "id": "58BGkAHOE8Lf",
    "ExecuteTime": {
     "end_time": "2024-10-08T13:19:19.803303Z",
     "start_time": "2024-10-08T13:19:19.800738Z"
    }
   },
   "source": [
    "LEARNING_RATE = 5e-4"
   ],
   "outputs": [],
   "execution_count": 100
  },
  {
   "cell_type": "markdown",
   "metadata": {
    "id": "3utDgyY2G2vK"
   },
   "source": [
    "**Define loss function and gradient descent optimizer**\n",
    "\n",
    "- Criterion: compute *Loss* to see how much does prediction differ from truth\n",
    "- Optimizer: different ways of updating the weight parameters. It can affect the speed of training and how easily are global minimum reached.\n",
    "- scheduler: dynamic alter the learning rate\n",
    "\n",
    "When selecting optimizers, you can think about what problems can we run into when performing gradient desent? (hint: global minimum v.s. local minimum)"
   ]
  },
  {
   "cell_type": "code",
   "metadata": {
    "id": "H2emTYNqE4yC",
    "ExecuteTime": {
     "end_time": "2024-10-08T13:19:21.442277Z",
     "start_time": "2024-10-08T13:19:21.439426Z"
    }
   },
   "source": [
    "criterion = nn.CrossEntropyLoss()\n",
    "optimizer = optim.Adam(\n",
    "    filter(lambda p: p.requires_grad, bow_model.parameters()),\n",
    "    lr=LEARNING_RATE,\n",
    ")\n",
    "scheduler = CosineAnnealingLR(optimizer, 1)"
   ],
   "outputs": [],
   "execution_count": 101
  },
  {
   "cell_type": "markdown",
   "metadata": {
    "id": "IpHbURwPH74N"
   },
   "source": [
    "**Define training round & validation round**"
   ]
  },
  {
   "cell_type": "code",
   "metadata": {
    "id": "ROAha1KQQR81",
    "ExecuteTime": {
     "end_time": "2024-10-08T13:19:23.649759Z",
     "start_time": "2024-10-08T13:19:23.645275Z"
    }
   },
   "source": [
    "def train_epoch(model, optimizer, train_loader, input_type='bow'):\n",
    "    model.train()\n",
    "    total_loss, total = 0, 0\n",
    "    inputs = ''\n",
    "    for seq, bow, tfidf, target, text in train_loader:\n",
    "        if input_type == 'bow':\n",
    "            inputs = bow\n",
    "        if input_type == 'tfidf':\n",
    "            inputs = tfidf\n",
    "\n",
    "        # Reset gradient\n",
    "        optimizer.zero_grad()\n",
    "\n",
    "        # Forward pass\n",
    "        output = model(inputs)\n",
    "\n",
    "        # Compute loss\n",
    "        loss = criterion(output, target)\n",
    "\n",
    "        # Perform gradient descent, backwards pass\n",
    "        loss.backward()\n",
    "\n",
    "        # Take a step in the right direction\n",
    "        optimizer.step()\n",
    "        scheduler.step()\n",
    "\n",
    "        # Record metrics\n",
    "        total_loss += loss.item()\n",
    "        total += len(target)\n",
    "\n",
    "    return total_loss / total\n",
    "\n",
    "\n",
    "def validate_epoch(model, valid_loader, input_type='bow'):\n",
    "    model.eval()\n",
    "    total_loss, total = 0, 0\n",
    "    inputs = ''\n",
    "    with torch.no_grad():\n",
    "        for seq, bow, tfidf, target, text in valid_loader:\n",
    "            if input_type == 'bow':\n",
    "                inputs = bow\n",
    "            if input_type == 'tfidf':\n",
    "                inputs = tfidf\n",
    "\n",
    "            # Forward pass\n",
    "            output = model(inputs)\n",
    "\n",
    "            # Calculate how wrong the model is\n",
    "            loss = criterion(output, target)\n",
    "\n",
    "            # Record metrics\n",
    "            total_loss += loss.item()\n",
    "            total += len(target)\n",
    "\n",
    "    return total_loss / total"
   ],
   "outputs": [],
   "execution_count": 102
  },
  {
   "cell_type": "markdown",
   "metadata": {
    "id": "4JwqTT6bQR83"
   },
   "source": [
    "** Run training epochs**"
   ]
  },
  {
   "cell_type": "code",
   "metadata": {
    "id": "k_DOlOHkQR83",
    "colab": {
     "base_uri": "https://localhost:8080/",
     "height": 1000
    },
    "outputId": "96ec9a0e-762e-4078-e79a-3d8c471965a7",
    "ExecuteTime": {
     "end_time": "2024-10-08T13:30:37.083790Z",
     "start_time": "2024-10-08T13:19:31.429124Z"
    }
   },
   "source": [
    "n_epochs = 0\n",
    "train_losses, valid_losses = [], []\n",
    "while True:\n",
    "    train_loss = train_epoch(bow_model, optimizer, train_loader, input_type='bow')\n",
    "    valid_loss = validate_epoch(bow_model, valid_loader, input_type='bow')\n",
    "\n",
    "    tqdm.write(\n",
    "        f'epoch #{n_epochs + 1:3d}\\ttrain_loss: {train_loss:.2e}\\tvalid_loss: {valid_loss:.2e}\\n',\n",
    "    )\n",
    "\n",
    "    # Early stopping if the current valid_loss is greater than the last three valid losses\n",
    "    if len(valid_losses) > 2 and all(valid_loss >= loss for loss in valid_losses[-3:]):\n",
    "        print('Stopping early')\n",
    "        break\n",
    "\n",
    "    train_losses.append(train_loss)\n",
    "    valid_losses.append(valid_loss)\n",
    "\n",
    "    n_epochs += 1"
   ],
   "outputs": [
    {
     "name": "stdout",
     "output_type": "stream",
     "text": [
      "epoch #  1\ttrain_loss: 1.24e-03\tvalid_loss: 1.21e-03\n",
      "\n",
      "epoch #  2\ttrain_loss: 1.15e-03\tvalid_loss: 1.13e-03\n",
      "\n",
      "epoch #  3\ttrain_loss: 1.09e-03\tvalid_loss: 1.09e-03\n",
      "\n",
      "epoch #  4\ttrain_loss: 1.05e-03\tvalid_loss: 1.05e-03\n",
      "\n",
      "epoch #  5\ttrain_loss: 1.02e-03\tvalid_loss: 1.03e-03\n",
      "\n",
      "epoch #  6\ttrain_loss: 1.00e-03\tvalid_loss: 1.01e-03\n",
      "\n",
      "epoch #  7\ttrain_loss: 9.84e-04\tvalid_loss: 9.94e-04\n",
      "\n",
      "epoch #  8\ttrain_loss: 9.71e-04\tvalid_loss: 9.82e-04\n",
      "\n",
      "epoch #  9\ttrain_loss: 9.60e-04\tvalid_loss: 9.72e-04\n",
      "\n",
      "epoch # 10\ttrain_loss: 9.50e-04\tvalid_loss: 9.63e-04\n",
      "\n",
      "epoch # 11\ttrain_loss: 9.42e-04\tvalid_loss: 9.56e-04\n",
      "\n",
      "epoch # 12\ttrain_loss: 9.35e-04\tvalid_loss: 9.49e-04\n",
      "\n",
      "epoch # 13\ttrain_loss: 9.28e-04\tvalid_loss: 9.43e-04\n",
      "\n",
      "epoch # 14\ttrain_loss: 9.23e-04\tvalid_loss: 9.38e-04\n",
      "\n",
      "epoch # 15\ttrain_loss: 9.18e-04\tvalid_loss: 9.34e-04\n",
      "\n",
      "epoch # 16\ttrain_loss: 9.13e-04\tvalid_loss: 9.30e-04\n",
      "\n",
      "epoch # 17\ttrain_loss: 9.09e-04\tvalid_loss: 9.26e-04\n",
      "\n",
      "epoch # 18\ttrain_loss: 9.05e-04\tvalid_loss: 9.22e-04\n",
      "\n",
      "epoch # 19\ttrain_loss: 9.02e-04\tvalid_loss: 9.19e-04\n",
      "\n",
      "epoch # 20\ttrain_loss: 8.99e-04\tvalid_loss: 9.16e-04\n",
      "\n",
      "epoch # 21\ttrain_loss: 8.96e-04\tvalid_loss: 9.14e-04\n",
      "\n",
      "epoch # 22\ttrain_loss: 8.93e-04\tvalid_loss: 9.11e-04\n",
      "\n",
      "epoch # 23\ttrain_loss: 8.90e-04\tvalid_loss: 9.09e-04\n",
      "\n",
      "epoch # 24\ttrain_loss: 8.88e-04\tvalid_loss: 9.07e-04\n",
      "\n",
      "epoch # 25\ttrain_loss: 8.86e-04\tvalid_loss: 9.05e-04\n",
      "\n",
      "epoch # 26\ttrain_loss: 8.84e-04\tvalid_loss: 9.03e-04\n",
      "\n",
      "epoch # 27\ttrain_loss: 8.82e-04\tvalid_loss: 9.01e-04\n",
      "\n",
      "epoch # 28\ttrain_loss: 8.80e-04\tvalid_loss: 9.00e-04\n",
      "\n",
      "epoch # 29\ttrain_loss: 8.78e-04\tvalid_loss: 8.98e-04\n",
      "\n",
      "epoch # 30\ttrain_loss: 8.77e-04\tvalid_loss: 8.97e-04\n",
      "\n",
      "epoch # 31\ttrain_loss: 8.75e-04\tvalid_loss: 8.95e-04\n",
      "\n",
      "epoch # 32\ttrain_loss: 8.73e-04\tvalid_loss: 8.94e-04\n",
      "\n",
      "epoch # 33\ttrain_loss: 8.72e-04\tvalid_loss: 8.93e-04\n",
      "\n",
      "epoch # 34\ttrain_loss: 8.71e-04\tvalid_loss: 8.92e-04\n",
      "\n",
      "epoch # 35\ttrain_loss: 8.69e-04\tvalid_loss: 8.90e-04\n",
      "\n",
      "epoch # 36\ttrain_loss: 8.68e-04\tvalid_loss: 8.89e-04\n",
      "\n",
      "epoch # 37\ttrain_loss: 8.67e-04\tvalid_loss: 8.88e-04\n",
      "\n",
      "epoch # 38\ttrain_loss: 8.66e-04\tvalid_loss: 8.87e-04\n",
      "\n",
      "epoch # 39\ttrain_loss: 8.65e-04\tvalid_loss: 8.87e-04\n",
      "\n",
      "epoch # 40\ttrain_loss: 8.64e-04\tvalid_loss: 8.86e-04\n",
      "\n",
      "epoch # 41\ttrain_loss: 8.63e-04\tvalid_loss: 8.85e-04\n",
      "\n",
      "epoch # 42\ttrain_loss: 8.62e-04\tvalid_loss: 8.84e-04\n",
      "\n",
      "epoch # 43\ttrain_loss: 8.61e-04\tvalid_loss: 8.83e-04\n",
      "\n",
      "epoch # 44\ttrain_loss: 8.60e-04\tvalid_loss: 8.83e-04\n",
      "\n",
      "epoch # 45\ttrain_loss: 8.59e-04\tvalid_loss: 8.82e-04\n",
      "\n",
      "epoch # 46\ttrain_loss: 8.59e-04\tvalid_loss: 8.81e-04\n",
      "\n",
      "epoch # 47\ttrain_loss: 8.58e-04\tvalid_loss: 8.81e-04\n",
      "\n",
      "epoch # 48\ttrain_loss: 8.57e-04\tvalid_loss: 8.80e-04\n",
      "\n",
      "epoch # 49\ttrain_loss: 8.56e-04\tvalid_loss: 8.80e-04\n",
      "\n",
      "epoch # 50\ttrain_loss: 8.56e-04\tvalid_loss: 8.79e-04\n",
      "\n",
      "epoch # 51\ttrain_loss: 8.55e-04\tvalid_loss: 8.79e-04\n",
      "\n",
      "epoch # 52\ttrain_loss: 8.54e-04\tvalid_loss: 8.78e-04\n",
      "\n",
      "epoch # 53\ttrain_loss: 8.54e-04\tvalid_loss: 8.78e-04\n",
      "\n",
      "epoch # 54\ttrain_loss: 8.53e-04\tvalid_loss: 8.77e-04\n",
      "\n",
      "epoch # 55\ttrain_loss: 8.53e-04\tvalid_loss: 8.77e-04\n",
      "\n",
      "epoch # 56\ttrain_loss: 8.52e-04\tvalid_loss: 8.76e-04\n",
      "\n",
      "epoch # 57\ttrain_loss: 8.52e-04\tvalid_loss: 8.76e-04\n",
      "\n",
      "epoch # 58\ttrain_loss: 8.51e-04\tvalid_loss: 8.76e-04\n",
      "\n",
      "epoch # 59\ttrain_loss: 8.51e-04\tvalid_loss: 8.75e-04\n",
      "\n",
      "epoch # 60\ttrain_loss: 8.50e-04\tvalid_loss: 8.75e-04\n",
      "\n",
      "epoch # 61\ttrain_loss: 8.50e-04\tvalid_loss: 8.75e-04\n",
      "\n",
      "epoch # 62\ttrain_loss: 8.49e-04\tvalid_loss: 8.74e-04\n",
      "\n",
      "epoch # 63\ttrain_loss: 8.49e-04\tvalid_loss: 8.74e-04\n",
      "\n",
      "epoch # 64\ttrain_loss: 8.48e-04\tvalid_loss: 8.74e-04\n",
      "\n",
      "epoch # 65\ttrain_loss: 8.48e-04\tvalid_loss: 8.73e-04\n",
      "\n",
      "epoch # 66\ttrain_loss: 8.48e-04\tvalid_loss: 8.73e-04\n",
      "\n",
      "epoch # 67\ttrain_loss: 8.47e-04\tvalid_loss: 8.73e-04\n",
      "\n",
      "epoch # 68\ttrain_loss: 8.47e-04\tvalid_loss: 8.73e-04\n",
      "\n",
      "epoch # 69\ttrain_loss: 8.46e-04\tvalid_loss: 8.72e-04\n",
      "\n",
      "epoch # 70\ttrain_loss: 8.46e-04\tvalid_loss: 8.72e-04\n",
      "\n",
      "epoch # 71\ttrain_loss: 8.46e-04\tvalid_loss: 8.72e-04\n",
      "\n",
      "epoch # 72\ttrain_loss: 8.45e-04\tvalid_loss: 8.72e-04\n",
      "\n",
      "epoch # 73\ttrain_loss: 8.45e-04\tvalid_loss: 8.71e-04\n",
      "\n",
      "epoch # 74\ttrain_loss: 8.45e-04\tvalid_loss: 8.71e-04\n",
      "\n",
      "epoch # 75\ttrain_loss: 8.44e-04\tvalid_loss: 8.71e-04\n",
      "\n",
      "epoch # 76\ttrain_loss: 8.44e-04\tvalid_loss: 8.71e-04\n",
      "\n",
      "epoch # 77\ttrain_loss: 8.44e-04\tvalid_loss: 8.71e-04\n",
      "\n",
      "epoch # 78\ttrain_loss: 8.44e-04\tvalid_loss: 8.71e-04\n",
      "\n",
      "epoch # 79\ttrain_loss: 8.43e-04\tvalid_loss: 8.70e-04\n",
      "\n",
      "epoch # 80\ttrain_loss: 8.43e-04\tvalid_loss: 8.70e-04\n",
      "\n",
      "epoch # 81\ttrain_loss: 8.43e-04\tvalid_loss: 8.70e-04\n",
      "\n",
      "epoch # 82\ttrain_loss: 8.42e-04\tvalid_loss: 8.70e-04\n",
      "\n",
      "epoch # 83\ttrain_loss: 8.42e-04\tvalid_loss: 8.70e-04\n",
      "\n",
      "epoch # 84\ttrain_loss: 8.42e-04\tvalid_loss: 8.70e-04\n",
      "\n",
      "epoch # 85\ttrain_loss: 8.42e-04\tvalid_loss: 8.70e-04\n",
      "\n",
      "epoch # 86\ttrain_loss: 8.41e-04\tvalid_loss: 8.69e-04\n",
      "\n",
      "epoch # 87\ttrain_loss: 8.41e-04\tvalid_loss: 8.69e-04\n",
      "\n",
      "epoch # 88\ttrain_loss: 8.41e-04\tvalid_loss: 8.69e-04\n",
      "\n",
      "epoch # 89\ttrain_loss: 8.41e-04\tvalid_loss: 8.69e-04\n",
      "\n",
      "epoch # 90\ttrain_loss: 8.41e-04\tvalid_loss: 8.69e-04\n",
      "\n",
      "epoch # 91\ttrain_loss: 8.40e-04\tvalid_loss: 8.69e-04\n",
      "\n",
      "epoch # 92\ttrain_loss: 8.40e-04\tvalid_loss: 8.69e-04\n",
      "\n",
      "epoch # 93\ttrain_loss: 8.40e-04\tvalid_loss: 8.69e-04\n",
      "\n",
      "epoch # 94\ttrain_loss: 8.40e-04\tvalid_loss: 8.69e-04\n",
      "\n",
      "epoch # 95\ttrain_loss: 8.39e-04\tvalid_loss: 8.68e-04\n",
      "\n",
      "epoch # 96\ttrain_loss: 8.39e-04\tvalid_loss: 8.68e-04\n",
      "\n",
      "epoch # 97\ttrain_loss: 8.39e-04\tvalid_loss: 8.68e-04\n",
      "\n",
      "epoch # 98\ttrain_loss: 8.39e-04\tvalid_loss: 8.68e-04\n",
      "\n",
      "epoch # 99\ttrain_loss: 8.39e-04\tvalid_loss: 8.68e-04\n",
      "\n",
      "epoch #100\ttrain_loss: 8.39e-04\tvalid_loss: 8.68e-04\n",
      "\n",
      "epoch #101\ttrain_loss: 8.38e-04\tvalid_loss: 8.68e-04\n",
      "\n",
      "epoch #102\ttrain_loss: 8.38e-04\tvalid_loss: 8.68e-04\n",
      "\n",
      "epoch #103\ttrain_loss: 8.38e-04\tvalid_loss: 8.68e-04\n",
      "\n",
      "epoch #104\ttrain_loss: 8.38e-04\tvalid_loss: 8.68e-04\n",
      "\n",
      "epoch #105\ttrain_loss: 8.38e-04\tvalid_loss: 8.68e-04\n",
      "\n",
      "epoch #106\ttrain_loss: 8.38e-04\tvalid_loss: 8.68e-04\n",
      "\n",
      "epoch #107\ttrain_loss: 8.37e-04\tvalid_loss: 8.68e-04\n",
      "\n",
      "epoch #108\ttrain_loss: 8.37e-04\tvalid_loss: 8.68e-04\n",
      "\n",
      "epoch #109\ttrain_loss: 8.37e-04\tvalid_loss: 8.68e-04\n",
      "\n",
      "epoch #110\ttrain_loss: 8.37e-04\tvalid_loss: 8.67e-04\n",
      "\n",
      "epoch #111\ttrain_loss: 8.37e-04\tvalid_loss: 8.67e-04\n",
      "\n",
      "epoch #112\ttrain_loss: 8.37e-04\tvalid_loss: 8.67e-04\n",
      "\n",
      "epoch #113\ttrain_loss: 8.37e-04\tvalid_loss: 8.67e-04\n",
      "\n",
      "epoch #114\ttrain_loss: 8.36e-04\tvalid_loss: 8.67e-04\n",
      "\n",
      "epoch #115\ttrain_loss: 8.36e-04\tvalid_loss: 8.67e-04\n",
      "\n",
      "epoch #116\ttrain_loss: 8.36e-04\tvalid_loss: 8.67e-04\n",
      "\n",
      "epoch #117\ttrain_loss: 8.36e-04\tvalid_loss: 8.67e-04\n",
      "\n",
      "epoch #118\ttrain_loss: 8.36e-04\tvalid_loss: 8.67e-04\n",
      "\n",
      "epoch #119\ttrain_loss: 8.36e-04\tvalid_loss: 8.67e-04\n",
      "\n",
      "epoch #120\ttrain_loss: 8.36e-04\tvalid_loss: 8.67e-04\n",
      "\n",
      "epoch #121\ttrain_loss: 8.35e-04\tvalid_loss: 8.67e-04\n",
      "\n",
      "epoch #122\ttrain_loss: 8.35e-04\tvalid_loss: 8.67e-04\n",
      "\n",
      "epoch #123\ttrain_loss: 8.35e-04\tvalid_loss: 8.67e-04\n",
      "\n",
      "epoch #124\ttrain_loss: 8.35e-04\tvalid_loss: 8.67e-04\n",
      "\n",
      "epoch #125\ttrain_loss: 8.35e-04\tvalid_loss: 8.67e-04\n",
      "\n",
      "epoch #126\ttrain_loss: 8.35e-04\tvalid_loss: 8.67e-04\n",
      "\n",
      "epoch #127\ttrain_loss: 8.35e-04\tvalid_loss: 8.67e-04\n",
      "\n",
      "epoch #128\ttrain_loss: 8.35e-04\tvalid_loss: 8.67e-04\n",
      "\n",
      "epoch #129\ttrain_loss: 8.35e-04\tvalid_loss: 8.67e-04\n",
      "\n",
      "epoch #130\ttrain_loss: 8.34e-04\tvalid_loss: 8.67e-04\n",
      "\n",
      "epoch #131\ttrain_loss: 8.34e-04\tvalid_loss: 8.67e-04\n",
      "\n",
      "epoch #132\ttrain_loss: 8.34e-04\tvalid_loss: 8.67e-04\n",
      "\n",
      "epoch #133\ttrain_loss: 8.34e-04\tvalid_loss: 8.67e-04\n",
      "\n",
      "epoch #134\ttrain_loss: 8.34e-04\tvalid_loss: 8.67e-04\n",
      "\n",
      "epoch #135\ttrain_loss: 8.34e-04\tvalid_loss: 8.67e-04\n",
      "\n",
      "epoch #136\ttrain_loss: 8.34e-04\tvalid_loss: 8.67e-04\n",
      "\n",
      "epoch #137\ttrain_loss: 8.34e-04\tvalid_loss: 8.67e-04\n",
      "\n",
      "epoch #138\ttrain_loss: 8.34e-04\tvalid_loss: 8.67e-04\n",
      "\n",
      "epoch #139\ttrain_loss: 8.33e-04\tvalid_loss: 8.67e-04\n",
      "\n",
      "epoch #140\ttrain_loss: 8.33e-04\tvalid_loss: 8.67e-04\n",
      "\n",
      "epoch #141\ttrain_loss: 8.33e-04\tvalid_loss: 8.67e-04\n",
      "\n",
      "epoch #142\ttrain_loss: 8.33e-04\tvalid_loss: 8.67e-04\n",
      "\n",
      "epoch #143\ttrain_loss: 8.33e-04\tvalid_loss: 8.67e-04\n",
      "\n",
      "epoch #144\ttrain_loss: 8.33e-04\tvalid_loss: 8.67e-04\n",
      "\n",
      "epoch #145\ttrain_loss: 8.33e-04\tvalid_loss: 8.67e-04\n",
      "\n",
      "epoch #146\ttrain_loss: 8.33e-04\tvalid_loss: 8.67e-04\n",
      "\n",
      "epoch #147\ttrain_loss: 8.33e-04\tvalid_loss: 8.67e-04\n",
      "\n",
      "epoch #148\ttrain_loss: 8.33e-04\tvalid_loss: 8.67e-04\n",
      "\n",
      "epoch #149\ttrain_loss: 8.33e-04\tvalid_loss: 8.67e-04\n",
      "\n",
      "epoch #150\ttrain_loss: 8.32e-04\tvalid_loss: 8.66e-04\n",
      "\n",
      "epoch #151\ttrain_loss: 8.32e-04\tvalid_loss: 8.66e-04\n",
      "\n",
      "epoch #152\ttrain_loss: 8.32e-04\tvalid_loss: 8.66e-04\n",
      "\n",
      "epoch #153\ttrain_loss: 8.32e-04\tvalid_loss: 8.66e-04\n",
      "\n",
      "epoch #154\ttrain_loss: 8.32e-04\tvalid_loss: 8.66e-04\n",
      "\n",
      "epoch #155\ttrain_loss: 8.32e-04\tvalid_loss: 8.66e-04\n",
      "\n",
      "epoch #156\ttrain_loss: 8.32e-04\tvalid_loss: 8.66e-04\n",
      "\n",
      "epoch #157\ttrain_loss: 8.32e-04\tvalid_loss: 8.66e-04\n",
      "\n",
      "epoch #158\ttrain_loss: 8.32e-04\tvalid_loss: 8.66e-04\n",
      "\n",
      "epoch #159\ttrain_loss: 8.32e-04\tvalid_loss: 8.66e-04\n",
      "\n",
      "epoch #160\ttrain_loss: 8.32e-04\tvalid_loss: 8.66e-04\n",
      "\n",
      "epoch #161\ttrain_loss: 8.32e-04\tvalid_loss: 8.66e-04\n",
      "\n",
      "epoch #162\ttrain_loss: 8.31e-04\tvalid_loss: 8.66e-04\n",
      "\n",
      "epoch #163\ttrain_loss: 8.31e-04\tvalid_loss: 8.66e-04\n",
      "\n",
      "epoch #164\ttrain_loss: 8.31e-04\tvalid_loss: 8.66e-04\n",
      "\n",
      "epoch #165\ttrain_loss: 8.31e-04\tvalid_loss: 8.66e-04\n",
      "\n",
      "epoch #166\ttrain_loss: 8.31e-04\tvalid_loss: 8.66e-04\n",
      "\n",
      "epoch #167\ttrain_loss: 8.31e-04\tvalid_loss: 8.66e-04\n",
      "\n",
      "epoch #168\ttrain_loss: 8.31e-04\tvalid_loss: 8.66e-04\n",
      "\n",
      "epoch #169\ttrain_loss: 8.31e-04\tvalid_loss: 8.66e-04\n",
      "\n",
      "epoch #170\ttrain_loss: 8.31e-04\tvalid_loss: 8.66e-04\n",
      "\n",
      "epoch #171\ttrain_loss: 8.31e-04\tvalid_loss: 8.66e-04\n",
      "\n",
      "epoch #172\ttrain_loss: 8.31e-04\tvalid_loss: 8.66e-04\n",
      "\n",
      "epoch #173\ttrain_loss: 8.31e-04\tvalid_loss: 8.66e-04\n",
      "\n",
      "epoch #174\ttrain_loss: 8.31e-04\tvalid_loss: 8.66e-04\n",
      "\n",
      "epoch #175\ttrain_loss: 8.31e-04\tvalid_loss: 8.66e-04\n",
      "\n",
      "epoch #176\ttrain_loss: 8.30e-04\tvalid_loss: 8.66e-04\n",
      "\n",
      "epoch #177\ttrain_loss: 8.30e-04\tvalid_loss: 8.66e-04\n",
      "\n",
      "epoch #178\ttrain_loss: 8.30e-04\tvalid_loss: 8.66e-04\n",
      "\n",
      "epoch #179\ttrain_loss: 8.30e-04\tvalid_loss: 8.66e-04\n",
      "\n",
      "epoch #180\ttrain_loss: 8.30e-04\tvalid_loss: 8.66e-04\n",
      "\n",
      "epoch #181\ttrain_loss: 8.30e-04\tvalid_loss: 8.66e-04\n",
      "\n",
      "epoch #182\ttrain_loss: 8.30e-04\tvalid_loss: 8.66e-04\n",
      "\n",
      "epoch #183\ttrain_loss: 8.30e-04\tvalid_loss: 8.66e-04\n",
      "\n",
      "epoch #184\ttrain_loss: 8.30e-04\tvalid_loss: 8.66e-04\n",
      "\n",
      "epoch #185\ttrain_loss: 8.30e-04\tvalid_loss: 8.66e-04\n",
      "\n",
      "epoch #186\ttrain_loss: 8.30e-04\tvalid_loss: 8.66e-04\n",
      "\n",
      "epoch #187\ttrain_loss: 8.30e-04\tvalid_loss: 8.66e-04\n",
      "\n",
      "epoch #188\ttrain_loss: 8.30e-04\tvalid_loss: 8.66e-04\n",
      "\n",
      "epoch #189\ttrain_loss: 8.30e-04\tvalid_loss: 8.66e-04\n",
      "\n",
      "epoch #190\ttrain_loss: 8.30e-04\tvalid_loss: 8.66e-04\n",
      "\n",
      "epoch #191\ttrain_loss: 8.30e-04\tvalid_loss: 8.66e-04\n",
      "\n",
      "epoch #192\ttrain_loss: 8.29e-04\tvalid_loss: 8.66e-04\n",
      "\n",
      "epoch #193\ttrain_loss: 8.29e-04\tvalid_loss: 8.66e-04\n",
      "\n",
      "epoch #194\ttrain_loss: 8.29e-04\tvalid_loss: 8.66e-04\n",
      "\n",
      "Stopping early\n"
     ]
    }
   ],
   "execution_count": 103
  },
  {
   "cell_type": "code",
   "metadata": {
    "id": "kmGeqkhPZ9cp",
    "colab": {
     "base_uri": "https://localhost:8080/",
     "height": 460
    },
    "outputId": "09df68e5-8676-4a5d-8887-7c5f677d4a02",
    "ExecuteTime": {
     "end_time": "2024-10-08T13:30:51.697228Z",
     "start_time": "2024-10-08T13:30:51.076654Z"
    }
   },
   "source": [
    "epoch_ticks = range(1, n_epochs + 1)\n",
    "plt.plot(epoch_ticks, train_losses)\n",
    "plt.plot(epoch_ticks, valid_losses)\n",
    "plt.legend(['Train Loss', 'Valid Loss'])\n",
    "plt.title('Losses')\n",
    "plt.xlabel('Epoch #')\n",
    "plt.ylabel('Loss')\n",
    "plt.xticks(epoch_ticks)\n",
    "plt.show()"
   ],
   "outputs": [
    {
     "data": {
      "text/plain": [
       "<Figure size 640x480 with 1 Axes>"
      ],
      "image/svg+xml": "<?xml version=\"1.0\" encoding=\"utf-8\" standalone=\"no\"?>\n<!DOCTYPE svg PUBLIC \"-//W3C//DTD SVG 1.1//EN\"\n  \"http://www.w3.org/Graphics/SVG/1.1/DTD/svg11.dtd\">\n<svg xmlns:xlink=\"http://www.w3.org/1999/xlink\" width=\"429.124375pt\" height=\"329.745625pt\" viewBox=\"0 0 429.124375 329.745625\" xmlns=\"http://www.w3.org/2000/svg\" version=\"1.1\">\n <metadata>\n  <rdf:RDF xmlns:dc=\"http://purl.org/dc/elements/1.1/\" xmlns:cc=\"http://creativecommons.org/ns#\" xmlns:rdf=\"http://www.w3.org/1999/02/22-rdf-syntax-ns#\">\n   <cc:Work>\n    <dc:type rdf:resource=\"http://purl.org/dc/dcmitype/StillImage\"/>\n    <dc:date>2024-10-08T21:30:51.341887</dc:date>\n    <dc:format>image/svg+xml</dc:format>\n    <dc:creator>\n     <cc:Agent>\n      <dc:title>Matplotlib v3.8.4, https://matplotlib.org/</dc:title>\n     </cc:Agent>\n    </dc:creator>\n   </cc:Work>\n  </rdf:RDF>\n </metadata>\n <defs>\n  <style type=\"text/css\">*{stroke-linejoin: round; stroke-linecap: butt}</style>\n </defs>\n <g id=\"figure_1\">\n  <g id=\"patch_1\">\n   <path d=\"M -0 329.745625 \nL 429.124375 329.745625 \nL 429.124375 0 \nL -0 0 \nz\n\" style=\"fill: #ffffff\"/>\n  </g>\n  <g id=\"axes_1\">\n   <g id=\"patch_2\">\n    <path d=\"M 64.804375 290.25375 \nL 421.924375 290.25375 \nL 421.924375 24.14175 \nL 64.804375 24.14175 \nz\n\" style=\"fill: #e5e5e5\"/>\n   </g>\n   <g id=\"matplotlib.axis_1\">\n    <g id=\"xtick_1\">\n     <g id=\"line2d_1\">\n      <path d=\"M 81.037102 290.25375 \nL 81.037102 24.14175 \n\" clip-path=\"url(#p399d720b75)\" style=\"fill: none; stroke: #ffffff; stroke-width: 0.8; stroke-linecap: square\"/>\n     </g>\n     <g id=\"line2d_2\">\n      <defs>\n       <path id=\"m256e66ddab\" d=\"M 0 0 \nL 0 3.5 \n\" style=\"stroke: #555555; stroke-width: 0.8\"/>\n      </defs>\n      <g>\n       <use xlink:href=\"#m256e66ddab\" x=\"81.037102\" y=\"290.25375\" style=\"fill: #555555; stroke: #555555; stroke-width: 0.8\"/>\n      </g>\n     </g>\n     <g id=\"text_1\">\n      <!-- 1 -->\n      <g style=\"fill: #555555\" transform=\"translate(77.855852 304.852187) scale(0.1 -0.1)\">\n       <defs>\n        <path id=\"DejaVuSans-31\" d=\"M 794 531 \nL 1825 531 \nL 1825 4091 \nL 703 3866 \nL 703 4441 \nL 1819 4666 \nL 2450 4666 \nL 2450 531 \nL 3481 531 \nL 3481 0 \nL 794 0 \nL 794 531 \nz\n\" transform=\"scale(0.015625)\"/>\n       </defs>\n       <use xlink:href=\"#DejaVuSans-31\"/>\n      </g>\n     </g>\n    </g>\n    <g id=\"xtick_2\">\n     <g id=\"line2d_3\">\n      <path d=\"M 82.728011 290.25375 \nL 82.728011 24.14175 \n\" clip-path=\"url(#p399d720b75)\" style=\"fill: none; stroke: #ffffff; stroke-width: 0.8; stroke-linecap: square\"/>\n     </g>\n     <g id=\"line2d_4\">\n      <g>\n       <use xlink:href=\"#m256e66ddab\" x=\"82.728011\" y=\"290.25375\" style=\"fill: #555555; stroke: #555555; stroke-width: 0.8\"/>\n      </g>\n     </g>\n     <g id=\"text_2\">\n      <!-- 2 -->\n      <g style=\"fill: #555555\" transform=\"translate(79.546761 304.852187) scale(0.1 -0.1)\">\n       <defs>\n        <path id=\"DejaVuSans-32\" d=\"M 1228 531 \nL 3431 531 \nL 3431 0 \nL 469 0 \nL 469 531 \nQ 828 903 1448 1529 \nQ 2069 2156 2228 2338 \nQ 2531 2678 2651 2914 \nQ 2772 3150 2772 3378 \nQ 2772 3750 2511 3984 \nQ 2250 4219 1831 4219 \nQ 1534 4219 1204 4116 \nQ 875 4013 500 3803 \nL 500 4441 \nQ 881 4594 1212 4672 \nQ 1544 4750 1819 4750 \nQ 2544 4750 2975 4387 \nQ 3406 4025 3406 3419 \nQ 3406 3131 3298 2873 \nQ 3191 2616 2906 2266 \nQ 2828 2175 2409 1742 \nQ 1991 1309 1228 531 \nz\n\" transform=\"scale(0.015625)\"/>\n       </defs>\n       <use xlink:href=\"#DejaVuSans-32\"/>\n      </g>\n     </g>\n    </g>\n    <g id=\"xtick_3\">\n     <g id=\"line2d_5\">\n      <path d=\"M 84.41892 290.25375 \nL 84.41892 24.14175 \n\" clip-path=\"url(#p399d720b75)\" style=\"fill: none; stroke: #ffffff; stroke-width: 0.8; stroke-linecap: square\"/>\n     </g>\n     <g id=\"line2d_6\">\n      <g>\n       <use xlink:href=\"#m256e66ddab\" x=\"84.41892\" y=\"290.25375\" style=\"fill: #555555; stroke: #555555; stroke-width: 0.8\"/>\n      </g>\n     </g>\n     <g id=\"text_3\">\n      <!-- 3 -->\n      <g style=\"fill: #555555\" transform=\"translate(81.23767 304.852187) scale(0.1 -0.1)\">\n       <defs>\n        <path id=\"DejaVuSans-33\" d=\"M 2597 2516 \nQ 3050 2419 3304 2112 \nQ 3559 1806 3559 1356 \nQ 3559 666 3084 287 \nQ 2609 -91 1734 -91 \nQ 1441 -91 1130 -33 \nQ 819 25 488 141 \nL 488 750 \nQ 750 597 1062 519 \nQ 1375 441 1716 441 \nQ 2309 441 2620 675 \nQ 2931 909 2931 1356 \nQ 2931 1769 2642 2001 \nQ 2353 2234 1838 2234 \nL 1294 2234 \nL 1294 2753 \nL 1863 2753 \nQ 2328 2753 2575 2939 \nQ 2822 3125 2822 3475 \nQ 2822 3834 2567 4026 \nQ 2313 4219 1838 4219 \nQ 1578 4219 1281 4162 \nQ 984 4106 628 3988 \nL 628 4550 \nQ 988 4650 1302 4700 \nQ 1616 4750 1894 4750 \nQ 2613 4750 3031 4423 \nQ 3450 4097 3450 3541 \nQ 3450 3153 3228 2886 \nQ 3006 2619 2597 2516 \nz\n\" transform=\"scale(0.015625)\"/>\n       </defs>\n       <use xlink:href=\"#DejaVuSans-33\"/>\n      </g>\n     </g>\n    </g>\n    <g id=\"xtick_4\">\n     <g id=\"line2d_7\">\n      <path d=\"M 86.10983 290.25375 \nL 86.10983 24.14175 \n\" clip-path=\"url(#p399d720b75)\" style=\"fill: none; stroke: #ffffff; stroke-width: 0.8; stroke-linecap: square\"/>\n     </g>\n     <g id=\"line2d_8\">\n      <g>\n       <use xlink:href=\"#m256e66ddab\" x=\"86.10983\" y=\"290.25375\" style=\"fill: #555555; stroke: #555555; stroke-width: 0.8\"/>\n      </g>\n     </g>\n     <g id=\"text_4\">\n      <!-- 4 -->\n      <g style=\"fill: #555555\" transform=\"translate(82.92858 304.852187) scale(0.1 -0.1)\">\n       <defs>\n        <path id=\"DejaVuSans-34\" d=\"M 2419 4116 \nL 825 1625 \nL 2419 1625 \nL 2419 4116 \nz\nM 2253 4666 \nL 3047 4666 \nL 3047 1625 \nL 3713 1625 \nL 3713 1100 \nL 3047 1100 \nL 3047 0 \nL 2419 0 \nL 2419 1100 \nL 313 1100 \nL 313 1709 \nL 2253 4666 \nz\n\" transform=\"scale(0.015625)\"/>\n       </defs>\n       <use xlink:href=\"#DejaVuSans-34\"/>\n      </g>\n     </g>\n    </g>\n    <g id=\"xtick_5\">\n     <g id=\"line2d_9\">\n      <path d=\"M 87.800739 290.25375 \nL 87.800739 24.14175 \n\" clip-path=\"url(#p399d720b75)\" style=\"fill: none; stroke: #ffffff; stroke-width: 0.8; stroke-linecap: square\"/>\n     </g>\n     <g id=\"line2d_10\">\n      <g>\n       <use xlink:href=\"#m256e66ddab\" x=\"87.800739\" y=\"290.25375\" style=\"fill: #555555; stroke: #555555; stroke-width: 0.8\"/>\n      </g>\n     </g>\n     <g id=\"text_5\">\n      <!-- 5 -->\n      <g style=\"fill: #555555\" transform=\"translate(84.619489 304.852187) scale(0.1 -0.1)\">\n       <defs>\n        <path id=\"DejaVuSans-35\" d=\"M 691 4666 \nL 3169 4666 \nL 3169 4134 \nL 1269 4134 \nL 1269 2991 \nQ 1406 3038 1543 3061 \nQ 1681 3084 1819 3084 \nQ 2600 3084 3056 2656 \nQ 3513 2228 3513 1497 \nQ 3513 744 3044 326 \nQ 2575 -91 1722 -91 \nQ 1428 -91 1123 -41 \nQ 819 9 494 109 \nL 494 744 \nQ 775 591 1075 516 \nQ 1375 441 1709 441 \nQ 2250 441 2565 725 \nQ 2881 1009 2881 1497 \nQ 2881 1984 2565 2268 \nQ 2250 2553 1709 2553 \nQ 1456 2553 1204 2497 \nQ 953 2441 691 2322 \nL 691 4666 \nz\n\" transform=\"scale(0.015625)\"/>\n       </defs>\n       <use xlink:href=\"#DejaVuSans-35\"/>\n      </g>\n     </g>\n    </g>\n    <g id=\"xtick_6\">\n     <g id=\"line2d_11\">\n      <path d=\"M 89.491648 290.25375 \nL 89.491648 24.14175 \n\" clip-path=\"url(#p399d720b75)\" style=\"fill: none; stroke: #ffffff; stroke-width: 0.8; stroke-linecap: square\"/>\n     </g>\n     <g id=\"line2d_12\">\n      <g>\n       <use xlink:href=\"#m256e66ddab\" x=\"89.491648\" y=\"290.25375\" style=\"fill: #555555; stroke: #555555; stroke-width: 0.8\"/>\n      </g>\n     </g>\n     <g id=\"text_6\">\n      <!-- 6 -->\n      <g style=\"fill: #555555\" transform=\"translate(86.310398 304.852187) scale(0.1 -0.1)\">\n       <defs>\n        <path id=\"DejaVuSans-36\" d=\"M 2113 2584 \nQ 1688 2584 1439 2293 \nQ 1191 2003 1191 1497 \nQ 1191 994 1439 701 \nQ 1688 409 2113 409 \nQ 2538 409 2786 701 \nQ 3034 994 3034 1497 \nQ 3034 2003 2786 2293 \nQ 2538 2584 2113 2584 \nz\nM 3366 4563 \nL 3366 3988 \nQ 3128 4100 2886 4159 \nQ 2644 4219 2406 4219 \nQ 1781 4219 1451 3797 \nQ 1122 3375 1075 2522 \nQ 1259 2794 1537 2939 \nQ 1816 3084 2150 3084 \nQ 2853 3084 3261 2657 \nQ 3669 2231 3669 1497 \nQ 3669 778 3244 343 \nQ 2819 -91 2113 -91 \nQ 1303 -91 875 529 \nQ 447 1150 447 2328 \nQ 447 3434 972 4092 \nQ 1497 4750 2381 4750 \nQ 2619 4750 2861 4703 \nQ 3103 4656 3366 4563 \nz\n\" transform=\"scale(0.015625)\"/>\n       </defs>\n       <use xlink:href=\"#DejaVuSans-36\"/>\n      </g>\n     </g>\n    </g>\n    <g id=\"xtick_7\">\n     <g id=\"line2d_13\">\n      <path d=\"M 91.182557 290.25375 \nL 91.182557 24.14175 \n\" clip-path=\"url(#p399d720b75)\" style=\"fill: none; stroke: #ffffff; stroke-width: 0.8; stroke-linecap: square\"/>\n     </g>\n     <g id=\"line2d_14\">\n      <g>\n       <use xlink:href=\"#m256e66ddab\" x=\"91.182557\" y=\"290.25375\" style=\"fill: #555555; stroke: #555555; stroke-width: 0.8\"/>\n      </g>\n     </g>\n     <g id=\"text_7\">\n      <!-- 7 -->\n      <g style=\"fill: #555555\" transform=\"translate(88.001307 304.852187) scale(0.1 -0.1)\">\n       <defs>\n        <path id=\"DejaVuSans-37\" d=\"M 525 4666 \nL 3525 4666 \nL 3525 4397 \nL 1831 0 \nL 1172 0 \nL 2766 4134 \nL 525 4134 \nL 525 4666 \nz\n\" transform=\"scale(0.015625)\"/>\n       </defs>\n       <use xlink:href=\"#DejaVuSans-37\"/>\n      </g>\n     </g>\n    </g>\n    <g id=\"xtick_8\">\n     <g id=\"line2d_15\">\n      <path d=\"M 92.873466 290.25375 \nL 92.873466 24.14175 \n\" clip-path=\"url(#p399d720b75)\" style=\"fill: none; stroke: #ffffff; stroke-width: 0.8; stroke-linecap: square\"/>\n     </g>\n     <g id=\"line2d_16\">\n      <g>\n       <use xlink:href=\"#m256e66ddab\" x=\"92.873466\" y=\"290.25375\" style=\"fill: #555555; stroke: #555555; stroke-width: 0.8\"/>\n      </g>\n     </g>\n     <g id=\"text_8\">\n      <!-- 8 -->\n      <g style=\"fill: #555555\" transform=\"translate(89.692216 304.852187) scale(0.1 -0.1)\">\n       <defs>\n        <path id=\"DejaVuSans-38\" d=\"M 2034 2216 \nQ 1584 2216 1326 1975 \nQ 1069 1734 1069 1313 \nQ 1069 891 1326 650 \nQ 1584 409 2034 409 \nQ 2484 409 2743 651 \nQ 3003 894 3003 1313 \nQ 3003 1734 2745 1975 \nQ 2488 2216 2034 2216 \nz\nM 1403 2484 \nQ 997 2584 770 2862 \nQ 544 3141 544 3541 \nQ 544 4100 942 4425 \nQ 1341 4750 2034 4750 \nQ 2731 4750 3128 4425 \nQ 3525 4100 3525 3541 \nQ 3525 3141 3298 2862 \nQ 3072 2584 2669 2484 \nQ 3125 2378 3379 2068 \nQ 3634 1759 3634 1313 \nQ 3634 634 3220 271 \nQ 2806 -91 2034 -91 \nQ 1263 -91 848 271 \nQ 434 634 434 1313 \nQ 434 1759 690 2068 \nQ 947 2378 1403 2484 \nz\nM 1172 3481 \nQ 1172 3119 1398 2916 \nQ 1625 2713 2034 2713 \nQ 2441 2713 2670 2916 \nQ 2900 3119 2900 3481 \nQ 2900 3844 2670 4047 \nQ 2441 4250 2034 4250 \nQ 1625 4250 1398 4047 \nQ 1172 3844 1172 3481 \nz\n\" transform=\"scale(0.015625)\"/>\n       </defs>\n       <use xlink:href=\"#DejaVuSans-38\"/>\n      </g>\n     </g>\n    </g>\n    <g id=\"xtick_9\">\n     <g id=\"line2d_17\">\n      <path d=\"M 94.564375 290.25375 \nL 94.564375 24.14175 \n\" clip-path=\"url(#p399d720b75)\" style=\"fill: none; stroke: #ffffff; stroke-width: 0.8; stroke-linecap: square\"/>\n     </g>\n     <g id=\"line2d_18\">\n      <g>\n       <use xlink:href=\"#m256e66ddab\" x=\"94.564375\" y=\"290.25375\" style=\"fill: #555555; stroke: #555555; stroke-width: 0.8\"/>\n      </g>\n     </g>\n     <g id=\"text_9\">\n      <!-- 9 -->\n      <g style=\"fill: #555555\" transform=\"translate(91.383125 304.852187) scale(0.1 -0.1)\">\n       <defs>\n        <path id=\"DejaVuSans-39\" d=\"M 703 97 \nL 703 672 \nQ 941 559 1184 500 \nQ 1428 441 1663 441 \nQ 2288 441 2617 861 \nQ 2947 1281 2994 2138 \nQ 2813 1869 2534 1725 \nQ 2256 1581 1919 1581 \nQ 1219 1581 811 2004 \nQ 403 2428 403 3163 \nQ 403 3881 828 4315 \nQ 1253 4750 1959 4750 \nQ 2769 4750 3195 4129 \nQ 3622 3509 3622 2328 \nQ 3622 1225 3098 567 \nQ 2575 -91 1691 -91 \nQ 1453 -91 1209 -44 \nQ 966 3 703 97 \nz\nM 1959 2075 \nQ 2384 2075 2632 2365 \nQ 2881 2656 2881 3163 \nQ 2881 3666 2632 3958 \nQ 2384 4250 1959 4250 \nQ 1534 4250 1286 3958 \nQ 1038 3666 1038 3163 \nQ 1038 2656 1286 2365 \nQ 1534 2075 1959 2075 \nz\n\" transform=\"scale(0.015625)\"/>\n       </defs>\n       <use xlink:href=\"#DejaVuSans-39\"/>\n      </g>\n     </g>\n    </g>\n    <g id=\"xtick_10\">\n     <g id=\"line2d_19\">\n      <path d=\"M 96.255284 290.25375 \nL 96.255284 24.14175 \n\" clip-path=\"url(#p399d720b75)\" style=\"fill: none; stroke: #ffffff; stroke-width: 0.8; stroke-linecap: square\"/>\n     </g>\n     <g id=\"line2d_20\">\n      <g>\n       <use xlink:href=\"#m256e66ddab\" x=\"96.255284\" y=\"290.25375\" style=\"fill: #555555; stroke: #555555; stroke-width: 0.8\"/>\n      </g>\n     </g>\n     <g id=\"text_10\">\n      <!-- 10 -->\n      <g style=\"fill: #555555\" transform=\"translate(89.892784 304.852187) scale(0.1 -0.1)\">\n       <defs>\n        <path id=\"DejaVuSans-30\" d=\"M 2034 4250 \nQ 1547 4250 1301 3770 \nQ 1056 3291 1056 2328 \nQ 1056 1369 1301 889 \nQ 1547 409 2034 409 \nQ 2525 409 2770 889 \nQ 3016 1369 3016 2328 \nQ 3016 3291 2770 3770 \nQ 2525 4250 2034 4250 \nz\nM 2034 4750 \nQ 2819 4750 3233 4129 \nQ 3647 3509 3647 2328 \nQ 3647 1150 3233 529 \nQ 2819 -91 2034 -91 \nQ 1250 -91 836 529 \nQ 422 1150 422 2328 \nQ 422 3509 836 4129 \nQ 1250 4750 2034 4750 \nz\n\" transform=\"scale(0.015625)\"/>\n       </defs>\n       <use xlink:href=\"#DejaVuSans-31\"/>\n       <use xlink:href=\"#DejaVuSans-30\" x=\"63.623047\"/>\n      </g>\n     </g>\n    </g>\n    <g id=\"xtick_11\">\n     <g id=\"line2d_21\">\n      <path d=\"M 97.946193 290.25375 \nL 97.946193 24.14175 \n\" clip-path=\"url(#p399d720b75)\" style=\"fill: none; stroke: #ffffff; stroke-width: 0.8; stroke-linecap: square\"/>\n     </g>\n     <g id=\"line2d_22\">\n      <g>\n       <use xlink:href=\"#m256e66ddab\" x=\"97.946193\" y=\"290.25375\" style=\"fill: #555555; stroke: #555555; stroke-width: 0.8\"/>\n      </g>\n     </g>\n     <g id=\"text_11\">\n      <!-- 11 -->\n      <g style=\"fill: #555555\" transform=\"translate(91.583693 304.852187) scale(0.1 -0.1)\">\n       <use xlink:href=\"#DejaVuSans-31\"/>\n       <use xlink:href=\"#DejaVuSans-31\" x=\"63.623047\"/>\n      </g>\n     </g>\n    </g>\n    <g id=\"xtick_12\">\n     <g id=\"line2d_23\">\n      <path d=\"M 99.637102 290.25375 \nL 99.637102 24.14175 \n\" clip-path=\"url(#p399d720b75)\" style=\"fill: none; stroke: #ffffff; stroke-width: 0.8; stroke-linecap: square\"/>\n     </g>\n     <g id=\"line2d_24\">\n      <g>\n       <use xlink:href=\"#m256e66ddab\" x=\"99.637102\" y=\"290.25375\" style=\"fill: #555555; stroke: #555555; stroke-width: 0.8\"/>\n      </g>\n     </g>\n     <g id=\"text_12\">\n      <!-- 12 -->\n      <g style=\"fill: #555555\" transform=\"translate(93.274602 304.852187) scale(0.1 -0.1)\">\n       <use xlink:href=\"#DejaVuSans-31\"/>\n       <use xlink:href=\"#DejaVuSans-32\" x=\"63.623047\"/>\n      </g>\n     </g>\n    </g>\n    <g id=\"xtick_13\">\n     <g id=\"line2d_25\">\n      <path d=\"M 101.328011 290.25375 \nL 101.328011 24.14175 \n\" clip-path=\"url(#p399d720b75)\" style=\"fill: none; stroke: #ffffff; stroke-width: 0.8; stroke-linecap: square\"/>\n     </g>\n     <g id=\"line2d_26\">\n      <g>\n       <use xlink:href=\"#m256e66ddab\" x=\"101.328011\" y=\"290.25375\" style=\"fill: #555555; stroke: #555555; stroke-width: 0.8\"/>\n      </g>\n     </g>\n     <g id=\"text_13\">\n      <!-- 13 -->\n      <g style=\"fill: #555555\" transform=\"translate(94.965511 304.852187) scale(0.1 -0.1)\">\n       <use xlink:href=\"#DejaVuSans-31\"/>\n       <use xlink:href=\"#DejaVuSans-33\" x=\"63.623047\"/>\n      </g>\n     </g>\n    </g>\n    <g id=\"xtick_14\">\n     <g id=\"line2d_27\">\n      <path d=\"M 103.01892 290.25375 \nL 103.01892 24.14175 \n\" clip-path=\"url(#p399d720b75)\" style=\"fill: none; stroke: #ffffff; stroke-width: 0.8; stroke-linecap: square\"/>\n     </g>\n     <g id=\"line2d_28\">\n      <g>\n       <use xlink:href=\"#m256e66ddab\" x=\"103.01892\" y=\"290.25375\" style=\"fill: #555555; stroke: #555555; stroke-width: 0.8\"/>\n      </g>\n     </g>\n     <g id=\"text_14\">\n      <!-- 14 -->\n      <g style=\"fill: #555555\" transform=\"translate(96.65642 304.852187) scale(0.1 -0.1)\">\n       <use xlink:href=\"#DejaVuSans-31\"/>\n       <use xlink:href=\"#DejaVuSans-34\" x=\"63.623047\"/>\n      </g>\n     </g>\n    </g>\n    <g id=\"xtick_15\">\n     <g id=\"line2d_29\">\n      <path d=\"M 104.70983 290.25375 \nL 104.70983 24.14175 \n\" clip-path=\"url(#p399d720b75)\" style=\"fill: none; stroke: #ffffff; stroke-width: 0.8; stroke-linecap: square\"/>\n     </g>\n     <g id=\"line2d_30\">\n      <g>\n       <use xlink:href=\"#m256e66ddab\" x=\"104.70983\" y=\"290.25375\" style=\"fill: #555555; stroke: #555555; stroke-width: 0.8\"/>\n      </g>\n     </g>\n     <g id=\"text_15\">\n      <!-- 15 -->\n      <g style=\"fill: #555555\" transform=\"translate(98.34733 304.852187) scale(0.1 -0.1)\">\n       <use xlink:href=\"#DejaVuSans-31\"/>\n       <use xlink:href=\"#DejaVuSans-35\" x=\"63.623047\"/>\n      </g>\n     </g>\n    </g>\n    <g id=\"xtick_16\">\n     <g id=\"line2d_31\">\n      <path d=\"M 106.400739 290.25375 \nL 106.400739 24.14175 \n\" clip-path=\"url(#p399d720b75)\" style=\"fill: none; stroke: #ffffff; stroke-width: 0.8; stroke-linecap: square\"/>\n     </g>\n     <g id=\"line2d_32\">\n      <g>\n       <use xlink:href=\"#m256e66ddab\" x=\"106.400739\" y=\"290.25375\" style=\"fill: #555555; stroke: #555555; stroke-width: 0.8\"/>\n      </g>\n     </g>\n     <g id=\"text_16\">\n      <!-- 16 -->\n      <g style=\"fill: #555555\" transform=\"translate(100.038239 304.852187) scale(0.1 -0.1)\">\n       <use xlink:href=\"#DejaVuSans-31\"/>\n       <use xlink:href=\"#DejaVuSans-36\" x=\"63.623047\"/>\n      </g>\n     </g>\n    </g>\n    <g id=\"xtick_17\">\n     <g id=\"line2d_33\">\n      <path d=\"M 108.091648 290.25375 \nL 108.091648 24.14175 \n\" clip-path=\"url(#p399d720b75)\" style=\"fill: none; stroke: #ffffff; stroke-width: 0.8; stroke-linecap: square\"/>\n     </g>\n     <g id=\"line2d_34\">\n      <g>\n       <use xlink:href=\"#m256e66ddab\" x=\"108.091648\" y=\"290.25375\" style=\"fill: #555555; stroke: #555555; stroke-width: 0.8\"/>\n      </g>\n     </g>\n     <g id=\"text_17\">\n      <!-- 17 -->\n      <g style=\"fill: #555555\" transform=\"translate(101.729148 304.852187) scale(0.1 -0.1)\">\n       <use xlink:href=\"#DejaVuSans-31\"/>\n       <use xlink:href=\"#DejaVuSans-37\" x=\"63.623047\"/>\n      </g>\n     </g>\n    </g>\n    <g id=\"xtick_18\">\n     <g id=\"line2d_35\">\n      <path d=\"M 109.782557 290.25375 \nL 109.782557 24.14175 \n\" clip-path=\"url(#p399d720b75)\" style=\"fill: none; stroke: #ffffff; stroke-width: 0.8; stroke-linecap: square\"/>\n     </g>\n     <g id=\"line2d_36\">\n      <g>\n       <use xlink:href=\"#m256e66ddab\" x=\"109.782557\" y=\"290.25375\" style=\"fill: #555555; stroke: #555555; stroke-width: 0.8\"/>\n      </g>\n     </g>\n     <g id=\"text_18\">\n      <!-- 18 -->\n      <g style=\"fill: #555555\" transform=\"translate(103.420057 304.852187) scale(0.1 -0.1)\">\n       <use xlink:href=\"#DejaVuSans-31\"/>\n       <use xlink:href=\"#DejaVuSans-38\" x=\"63.623047\"/>\n      </g>\n     </g>\n    </g>\n    <g id=\"xtick_19\">\n     <g id=\"line2d_37\">\n      <path d=\"M 111.473466 290.25375 \nL 111.473466 24.14175 \n\" clip-path=\"url(#p399d720b75)\" style=\"fill: none; stroke: #ffffff; stroke-width: 0.8; stroke-linecap: square\"/>\n     </g>\n     <g id=\"line2d_38\">\n      <g>\n       <use xlink:href=\"#m256e66ddab\" x=\"111.473466\" y=\"290.25375\" style=\"fill: #555555; stroke: #555555; stroke-width: 0.8\"/>\n      </g>\n     </g>\n     <g id=\"text_19\">\n      <!-- 19 -->\n      <g style=\"fill: #555555\" transform=\"translate(105.110966 304.852187) scale(0.1 -0.1)\">\n       <use xlink:href=\"#DejaVuSans-31\"/>\n       <use xlink:href=\"#DejaVuSans-39\" x=\"63.623047\"/>\n      </g>\n     </g>\n    </g>\n    <g id=\"xtick_20\">\n     <g id=\"line2d_39\">\n      <path d=\"M 113.164375 290.25375 \nL 113.164375 24.14175 \n\" clip-path=\"url(#p399d720b75)\" style=\"fill: none; stroke: #ffffff; stroke-width: 0.8; stroke-linecap: square\"/>\n     </g>\n     <g id=\"line2d_40\">\n      <g>\n       <use xlink:href=\"#m256e66ddab\" x=\"113.164375\" y=\"290.25375\" style=\"fill: #555555; stroke: #555555; stroke-width: 0.8\"/>\n      </g>\n     </g>\n     <g id=\"text_20\">\n      <!-- 20 -->\n      <g style=\"fill: #555555\" transform=\"translate(106.801875 304.852187) scale(0.1 -0.1)\">\n       <use xlink:href=\"#DejaVuSans-32\"/>\n       <use xlink:href=\"#DejaVuSans-30\" x=\"63.623047\"/>\n      </g>\n     </g>\n    </g>\n    <g id=\"xtick_21\">\n     <g id=\"line2d_41\">\n      <path d=\"M 114.855284 290.25375 \nL 114.855284 24.14175 \n\" clip-path=\"url(#p399d720b75)\" style=\"fill: none; stroke: #ffffff; stroke-width: 0.8; stroke-linecap: square\"/>\n     </g>\n     <g id=\"line2d_42\">\n      <g>\n       <use xlink:href=\"#m256e66ddab\" x=\"114.855284\" y=\"290.25375\" style=\"fill: #555555; stroke: #555555; stroke-width: 0.8\"/>\n      </g>\n     </g>\n     <g id=\"text_21\">\n      <!-- 21 -->\n      <g style=\"fill: #555555\" transform=\"translate(108.492784 304.852187) scale(0.1 -0.1)\">\n       <use xlink:href=\"#DejaVuSans-32\"/>\n       <use xlink:href=\"#DejaVuSans-31\" x=\"63.623047\"/>\n      </g>\n     </g>\n    </g>\n    <g id=\"xtick_22\">\n     <g id=\"line2d_43\">\n      <path d=\"M 116.546193 290.25375 \nL 116.546193 24.14175 \n\" clip-path=\"url(#p399d720b75)\" style=\"fill: none; stroke: #ffffff; stroke-width: 0.8; stroke-linecap: square\"/>\n     </g>\n     <g id=\"line2d_44\">\n      <g>\n       <use xlink:href=\"#m256e66ddab\" x=\"116.546193\" y=\"290.25375\" style=\"fill: #555555; stroke: #555555; stroke-width: 0.8\"/>\n      </g>\n     </g>\n     <g id=\"text_22\">\n      <!-- 22 -->\n      <g style=\"fill: #555555\" transform=\"translate(110.183693 304.852187) scale(0.1 -0.1)\">\n       <use xlink:href=\"#DejaVuSans-32\"/>\n       <use xlink:href=\"#DejaVuSans-32\" x=\"63.623047\"/>\n      </g>\n     </g>\n    </g>\n    <g id=\"xtick_23\">\n     <g id=\"line2d_45\">\n      <path d=\"M 118.237102 290.25375 \nL 118.237102 24.14175 \n\" clip-path=\"url(#p399d720b75)\" style=\"fill: none; stroke: #ffffff; stroke-width: 0.8; stroke-linecap: square\"/>\n     </g>\n     <g id=\"line2d_46\">\n      <g>\n       <use xlink:href=\"#m256e66ddab\" x=\"118.237102\" y=\"290.25375\" style=\"fill: #555555; stroke: #555555; stroke-width: 0.8\"/>\n      </g>\n     </g>\n     <g id=\"text_23\">\n      <!-- 23 -->\n      <g style=\"fill: #555555\" transform=\"translate(111.874602 304.852187) scale(0.1 -0.1)\">\n       <use xlink:href=\"#DejaVuSans-32\"/>\n       <use xlink:href=\"#DejaVuSans-33\" x=\"63.623047\"/>\n      </g>\n     </g>\n    </g>\n    <g id=\"xtick_24\">\n     <g id=\"line2d_47\">\n      <path d=\"M 119.928011 290.25375 \nL 119.928011 24.14175 \n\" clip-path=\"url(#p399d720b75)\" style=\"fill: none; stroke: #ffffff; stroke-width: 0.8; stroke-linecap: square\"/>\n     </g>\n     <g id=\"line2d_48\">\n      <g>\n       <use xlink:href=\"#m256e66ddab\" x=\"119.928011\" y=\"290.25375\" style=\"fill: #555555; stroke: #555555; stroke-width: 0.8\"/>\n      </g>\n     </g>\n     <g id=\"text_24\">\n      <!-- 24 -->\n      <g style=\"fill: #555555\" transform=\"translate(113.565511 304.852187) scale(0.1 -0.1)\">\n       <use xlink:href=\"#DejaVuSans-32\"/>\n       <use xlink:href=\"#DejaVuSans-34\" x=\"63.623047\"/>\n      </g>\n     </g>\n    </g>\n    <g id=\"xtick_25\">\n     <g id=\"line2d_49\">\n      <path d=\"M 121.61892 290.25375 \nL 121.61892 24.14175 \n\" clip-path=\"url(#p399d720b75)\" style=\"fill: none; stroke: #ffffff; stroke-width: 0.8; stroke-linecap: square\"/>\n     </g>\n     <g id=\"line2d_50\">\n      <g>\n       <use xlink:href=\"#m256e66ddab\" x=\"121.61892\" y=\"290.25375\" style=\"fill: #555555; stroke: #555555; stroke-width: 0.8\"/>\n      </g>\n     </g>\n     <g id=\"text_25\">\n      <!-- 25 -->\n      <g style=\"fill: #555555\" transform=\"translate(115.25642 304.852187) scale(0.1 -0.1)\">\n       <use xlink:href=\"#DejaVuSans-32\"/>\n       <use xlink:href=\"#DejaVuSans-35\" x=\"63.623047\"/>\n      </g>\n     </g>\n    </g>\n    <g id=\"xtick_26\">\n     <g id=\"line2d_51\">\n      <path d=\"M 123.30983 290.25375 \nL 123.30983 24.14175 \n\" clip-path=\"url(#p399d720b75)\" style=\"fill: none; stroke: #ffffff; stroke-width: 0.8; stroke-linecap: square\"/>\n     </g>\n     <g id=\"line2d_52\">\n      <g>\n       <use xlink:href=\"#m256e66ddab\" x=\"123.30983\" y=\"290.25375\" style=\"fill: #555555; stroke: #555555; stroke-width: 0.8\"/>\n      </g>\n     </g>\n     <g id=\"text_26\">\n      <!-- 26 -->\n      <g style=\"fill: #555555\" transform=\"translate(116.94733 304.852187) scale(0.1 -0.1)\">\n       <use xlink:href=\"#DejaVuSans-32\"/>\n       <use xlink:href=\"#DejaVuSans-36\" x=\"63.623047\"/>\n      </g>\n     </g>\n    </g>\n    <g id=\"xtick_27\">\n     <g id=\"line2d_53\">\n      <path d=\"M 125.000739 290.25375 \nL 125.000739 24.14175 \n\" clip-path=\"url(#p399d720b75)\" style=\"fill: none; stroke: #ffffff; stroke-width: 0.8; stroke-linecap: square\"/>\n     </g>\n     <g id=\"line2d_54\">\n      <g>\n       <use xlink:href=\"#m256e66ddab\" x=\"125.000739\" y=\"290.25375\" style=\"fill: #555555; stroke: #555555; stroke-width: 0.8\"/>\n      </g>\n     </g>\n     <g id=\"text_27\">\n      <!-- 27 -->\n      <g style=\"fill: #555555\" transform=\"translate(118.638239 304.852187) scale(0.1 -0.1)\">\n       <use xlink:href=\"#DejaVuSans-32\"/>\n       <use xlink:href=\"#DejaVuSans-37\" x=\"63.623047\"/>\n      </g>\n     </g>\n    </g>\n    <g id=\"xtick_28\">\n     <g id=\"line2d_55\">\n      <path d=\"M 126.691648 290.25375 \nL 126.691648 24.14175 \n\" clip-path=\"url(#p399d720b75)\" style=\"fill: none; stroke: #ffffff; stroke-width: 0.8; stroke-linecap: square\"/>\n     </g>\n     <g id=\"line2d_56\">\n      <g>\n       <use xlink:href=\"#m256e66ddab\" x=\"126.691648\" y=\"290.25375\" style=\"fill: #555555; stroke: #555555; stroke-width: 0.8\"/>\n      </g>\n     </g>\n     <g id=\"text_28\">\n      <!-- 28 -->\n      <g style=\"fill: #555555\" transform=\"translate(120.329148 304.852187) scale(0.1 -0.1)\">\n       <use xlink:href=\"#DejaVuSans-32\"/>\n       <use xlink:href=\"#DejaVuSans-38\" x=\"63.623047\"/>\n      </g>\n     </g>\n    </g>\n    <g id=\"xtick_29\">\n     <g id=\"line2d_57\">\n      <path d=\"M 128.382557 290.25375 \nL 128.382557 24.14175 \n\" clip-path=\"url(#p399d720b75)\" style=\"fill: none; stroke: #ffffff; stroke-width: 0.8; stroke-linecap: square\"/>\n     </g>\n     <g id=\"line2d_58\">\n      <g>\n       <use xlink:href=\"#m256e66ddab\" x=\"128.382557\" y=\"290.25375\" style=\"fill: #555555; stroke: #555555; stroke-width: 0.8\"/>\n      </g>\n     </g>\n     <g id=\"text_29\">\n      <!-- 29 -->\n      <g style=\"fill: #555555\" transform=\"translate(122.020057 304.852187) scale(0.1 -0.1)\">\n       <use xlink:href=\"#DejaVuSans-32\"/>\n       <use xlink:href=\"#DejaVuSans-39\" x=\"63.623047\"/>\n      </g>\n     </g>\n    </g>\n    <g id=\"xtick_30\">\n     <g id=\"line2d_59\">\n      <path d=\"M 130.073466 290.25375 \nL 130.073466 24.14175 \n\" clip-path=\"url(#p399d720b75)\" style=\"fill: none; stroke: #ffffff; stroke-width: 0.8; stroke-linecap: square\"/>\n     </g>\n     <g id=\"line2d_60\">\n      <g>\n       <use xlink:href=\"#m256e66ddab\" x=\"130.073466\" y=\"290.25375\" style=\"fill: #555555; stroke: #555555; stroke-width: 0.8\"/>\n      </g>\n     </g>\n     <g id=\"text_30\">\n      <!-- 30 -->\n      <g style=\"fill: #555555\" transform=\"translate(123.710966 304.852187) scale(0.1 -0.1)\">\n       <use xlink:href=\"#DejaVuSans-33\"/>\n       <use xlink:href=\"#DejaVuSans-30\" x=\"63.623047\"/>\n      </g>\n     </g>\n    </g>\n    <g id=\"xtick_31\">\n     <g id=\"line2d_61\">\n      <path d=\"M 131.764375 290.25375 \nL 131.764375 24.14175 \n\" clip-path=\"url(#p399d720b75)\" style=\"fill: none; stroke: #ffffff; stroke-width: 0.8; stroke-linecap: square\"/>\n     </g>\n     <g id=\"line2d_62\">\n      <g>\n       <use xlink:href=\"#m256e66ddab\" x=\"131.764375\" y=\"290.25375\" style=\"fill: #555555; stroke: #555555; stroke-width: 0.8\"/>\n      </g>\n     </g>\n     <g id=\"text_31\">\n      <!-- 31 -->\n      <g style=\"fill: #555555\" transform=\"translate(125.401875 304.852187) scale(0.1 -0.1)\">\n       <use xlink:href=\"#DejaVuSans-33\"/>\n       <use xlink:href=\"#DejaVuSans-31\" x=\"63.623047\"/>\n      </g>\n     </g>\n    </g>\n    <g id=\"xtick_32\">\n     <g id=\"line2d_63\">\n      <path d=\"M 133.455284 290.25375 \nL 133.455284 24.14175 \n\" clip-path=\"url(#p399d720b75)\" style=\"fill: none; stroke: #ffffff; stroke-width: 0.8; stroke-linecap: square\"/>\n     </g>\n     <g id=\"line2d_64\">\n      <g>\n       <use xlink:href=\"#m256e66ddab\" x=\"133.455284\" y=\"290.25375\" style=\"fill: #555555; stroke: #555555; stroke-width: 0.8\"/>\n      </g>\n     </g>\n     <g id=\"text_32\">\n      <!-- 32 -->\n      <g style=\"fill: #555555\" transform=\"translate(127.092784 304.852187) scale(0.1 -0.1)\">\n       <use xlink:href=\"#DejaVuSans-33\"/>\n       <use xlink:href=\"#DejaVuSans-32\" x=\"63.623047\"/>\n      </g>\n     </g>\n    </g>\n    <g id=\"xtick_33\">\n     <g id=\"line2d_65\">\n      <path d=\"M 135.146193 290.25375 \nL 135.146193 24.14175 \n\" clip-path=\"url(#p399d720b75)\" style=\"fill: none; stroke: #ffffff; stroke-width: 0.8; stroke-linecap: square\"/>\n     </g>\n     <g id=\"line2d_66\">\n      <g>\n       <use xlink:href=\"#m256e66ddab\" x=\"135.146193\" y=\"290.25375\" style=\"fill: #555555; stroke: #555555; stroke-width: 0.8\"/>\n      </g>\n     </g>\n     <g id=\"text_33\">\n      <!-- 33 -->\n      <g style=\"fill: #555555\" transform=\"translate(128.783693 304.852187) scale(0.1 -0.1)\">\n       <use xlink:href=\"#DejaVuSans-33\"/>\n       <use xlink:href=\"#DejaVuSans-33\" x=\"63.623047\"/>\n      </g>\n     </g>\n    </g>\n    <g id=\"xtick_34\">\n     <g id=\"line2d_67\">\n      <path d=\"M 136.837102 290.25375 \nL 136.837102 24.14175 \n\" clip-path=\"url(#p399d720b75)\" style=\"fill: none; stroke: #ffffff; stroke-width: 0.8; stroke-linecap: square\"/>\n     </g>\n     <g id=\"line2d_68\">\n      <g>\n       <use xlink:href=\"#m256e66ddab\" x=\"136.837102\" y=\"290.25375\" style=\"fill: #555555; stroke: #555555; stroke-width: 0.8\"/>\n      </g>\n     </g>\n     <g id=\"text_34\">\n      <!-- 34 -->\n      <g style=\"fill: #555555\" transform=\"translate(130.474602 304.852187) scale(0.1 -0.1)\">\n       <use xlink:href=\"#DejaVuSans-33\"/>\n       <use xlink:href=\"#DejaVuSans-34\" x=\"63.623047\"/>\n      </g>\n     </g>\n    </g>\n    <g id=\"xtick_35\">\n     <g id=\"line2d_69\">\n      <path d=\"M 138.528011 290.25375 \nL 138.528011 24.14175 \n\" clip-path=\"url(#p399d720b75)\" style=\"fill: none; stroke: #ffffff; stroke-width: 0.8; stroke-linecap: square\"/>\n     </g>\n     <g id=\"line2d_70\">\n      <g>\n       <use xlink:href=\"#m256e66ddab\" x=\"138.528011\" y=\"290.25375\" style=\"fill: #555555; stroke: #555555; stroke-width: 0.8\"/>\n      </g>\n     </g>\n     <g id=\"text_35\">\n      <!-- 35 -->\n      <g style=\"fill: #555555\" transform=\"translate(132.165511 304.852187) scale(0.1 -0.1)\">\n       <use xlink:href=\"#DejaVuSans-33\"/>\n       <use xlink:href=\"#DejaVuSans-35\" x=\"63.623047\"/>\n      </g>\n     </g>\n    </g>\n    <g id=\"xtick_36\">\n     <g id=\"line2d_71\">\n      <path d=\"M 140.21892 290.25375 \nL 140.21892 24.14175 \n\" clip-path=\"url(#p399d720b75)\" style=\"fill: none; stroke: #ffffff; stroke-width: 0.8; stroke-linecap: square\"/>\n     </g>\n     <g id=\"line2d_72\">\n      <g>\n       <use xlink:href=\"#m256e66ddab\" x=\"140.21892\" y=\"290.25375\" style=\"fill: #555555; stroke: #555555; stroke-width: 0.8\"/>\n      </g>\n     </g>\n     <g id=\"text_36\">\n      <!-- 36 -->\n      <g style=\"fill: #555555\" transform=\"translate(133.85642 304.852187) scale(0.1 -0.1)\">\n       <use xlink:href=\"#DejaVuSans-33\"/>\n       <use xlink:href=\"#DejaVuSans-36\" x=\"63.623047\"/>\n      </g>\n     </g>\n    </g>\n    <g id=\"xtick_37\">\n     <g id=\"line2d_73\">\n      <path d=\"M 141.90983 290.25375 \nL 141.90983 24.14175 \n\" clip-path=\"url(#p399d720b75)\" style=\"fill: none; stroke: #ffffff; stroke-width: 0.8; stroke-linecap: square\"/>\n     </g>\n     <g id=\"line2d_74\">\n      <g>\n       <use xlink:href=\"#m256e66ddab\" x=\"141.90983\" y=\"290.25375\" style=\"fill: #555555; stroke: #555555; stroke-width: 0.8\"/>\n      </g>\n     </g>\n     <g id=\"text_37\">\n      <!-- 37 -->\n      <g style=\"fill: #555555\" transform=\"translate(135.54733 304.852187) scale(0.1 -0.1)\">\n       <use xlink:href=\"#DejaVuSans-33\"/>\n       <use xlink:href=\"#DejaVuSans-37\" x=\"63.623047\"/>\n      </g>\n     </g>\n    </g>\n    <g id=\"xtick_38\">\n     <g id=\"line2d_75\">\n      <path d=\"M 143.600739 290.25375 \nL 143.600739 24.14175 \n\" clip-path=\"url(#p399d720b75)\" style=\"fill: none; stroke: #ffffff; stroke-width: 0.8; stroke-linecap: square\"/>\n     </g>\n     <g id=\"line2d_76\">\n      <g>\n       <use xlink:href=\"#m256e66ddab\" x=\"143.600739\" y=\"290.25375\" style=\"fill: #555555; stroke: #555555; stroke-width: 0.8\"/>\n      </g>\n     </g>\n     <g id=\"text_38\">\n      <!-- 38 -->\n      <g style=\"fill: #555555\" transform=\"translate(137.238239 304.852187) scale(0.1 -0.1)\">\n       <use xlink:href=\"#DejaVuSans-33\"/>\n       <use xlink:href=\"#DejaVuSans-38\" x=\"63.623047\"/>\n      </g>\n     </g>\n    </g>\n    <g id=\"xtick_39\">\n     <g id=\"line2d_77\">\n      <path d=\"M 145.291648 290.25375 \nL 145.291648 24.14175 \n\" clip-path=\"url(#p399d720b75)\" style=\"fill: none; stroke: #ffffff; stroke-width: 0.8; stroke-linecap: square\"/>\n     </g>\n     <g id=\"line2d_78\">\n      <g>\n       <use xlink:href=\"#m256e66ddab\" x=\"145.291648\" y=\"290.25375\" style=\"fill: #555555; stroke: #555555; stroke-width: 0.8\"/>\n      </g>\n     </g>\n     <g id=\"text_39\">\n      <!-- 39 -->\n      <g style=\"fill: #555555\" transform=\"translate(138.929148 304.852187) scale(0.1 -0.1)\">\n       <use xlink:href=\"#DejaVuSans-33\"/>\n       <use xlink:href=\"#DejaVuSans-39\" x=\"63.623047\"/>\n      </g>\n     </g>\n    </g>\n    <g id=\"xtick_40\">\n     <g id=\"line2d_79\">\n      <path d=\"M 146.982557 290.25375 \nL 146.982557 24.14175 \n\" clip-path=\"url(#p399d720b75)\" style=\"fill: none; stroke: #ffffff; stroke-width: 0.8; stroke-linecap: square\"/>\n     </g>\n     <g id=\"line2d_80\">\n      <g>\n       <use xlink:href=\"#m256e66ddab\" x=\"146.982557\" y=\"290.25375\" style=\"fill: #555555; stroke: #555555; stroke-width: 0.8\"/>\n      </g>\n     </g>\n     <g id=\"text_40\">\n      <!-- 40 -->\n      <g style=\"fill: #555555\" transform=\"translate(140.620057 304.852187) scale(0.1 -0.1)\">\n       <use xlink:href=\"#DejaVuSans-34\"/>\n       <use xlink:href=\"#DejaVuSans-30\" x=\"63.623047\"/>\n      </g>\n     </g>\n    </g>\n    <g id=\"xtick_41\">\n     <g id=\"line2d_81\">\n      <path d=\"M 148.673466 290.25375 \nL 148.673466 24.14175 \n\" clip-path=\"url(#p399d720b75)\" style=\"fill: none; stroke: #ffffff; stroke-width: 0.8; stroke-linecap: square\"/>\n     </g>\n     <g id=\"line2d_82\">\n      <g>\n       <use xlink:href=\"#m256e66ddab\" x=\"148.673466\" y=\"290.25375\" style=\"fill: #555555; stroke: #555555; stroke-width: 0.8\"/>\n      </g>\n     </g>\n     <g id=\"text_41\">\n      <!-- 41 -->\n      <g style=\"fill: #555555\" transform=\"translate(142.310966 304.852187) scale(0.1 -0.1)\">\n       <use xlink:href=\"#DejaVuSans-34\"/>\n       <use xlink:href=\"#DejaVuSans-31\" x=\"63.623047\"/>\n      </g>\n     </g>\n    </g>\n    <g id=\"xtick_42\">\n     <g id=\"line2d_83\">\n      <path d=\"M 150.364375 290.25375 \nL 150.364375 24.14175 \n\" clip-path=\"url(#p399d720b75)\" style=\"fill: none; stroke: #ffffff; stroke-width: 0.8; stroke-linecap: square\"/>\n     </g>\n     <g id=\"line2d_84\">\n      <g>\n       <use xlink:href=\"#m256e66ddab\" x=\"150.364375\" y=\"290.25375\" style=\"fill: #555555; stroke: #555555; stroke-width: 0.8\"/>\n      </g>\n     </g>\n     <g id=\"text_42\">\n      <!-- 42 -->\n      <g style=\"fill: #555555\" transform=\"translate(144.001875 304.852187) scale(0.1 -0.1)\">\n       <use xlink:href=\"#DejaVuSans-34\"/>\n       <use xlink:href=\"#DejaVuSans-32\" x=\"63.623047\"/>\n      </g>\n     </g>\n    </g>\n    <g id=\"xtick_43\">\n     <g id=\"line2d_85\">\n      <path d=\"M 152.055284 290.25375 \nL 152.055284 24.14175 \n\" clip-path=\"url(#p399d720b75)\" style=\"fill: none; stroke: #ffffff; stroke-width: 0.8; stroke-linecap: square\"/>\n     </g>\n     <g id=\"line2d_86\">\n      <g>\n       <use xlink:href=\"#m256e66ddab\" x=\"152.055284\" y=\"290.25375\" style=\"fill: #555555; stroke: #555555; stroke-width: 0.8\"/>\n      </g>\n     </g>\n     <g id=\"text_43\">\n      <!-- 43 -->\n      <g style=\"fill: #555555\" transform=\"translate(145.692784 304.852187) scale(0.1 -0.1)\">\n       <use xlink:href=\"#DejaVuSans-34\"/>\n       <use xlink:href=\"#DejaVuSans-33\" x=\"63.623047\"/>\n      </g>\n     </g>\n    </g>\n    <g id=\"xtick_44\">\n     <g id=\"line2d_87\">\n      <path d=\"M 153.746193 290.25375 \nL 153.746193 24.14175 \n\" clip-path=\"url(#p399d720b75)\" style=\"fill: none; stroke: #ffffff; stroke-width: 0.8; stroke-linecap: square\"/>\n     </g>\n     <g id=\"line2d_88\">\n      <g>\n       <use xlink:href=\"#m256e66ddab\" x=\"153.746193\" y=\"290.25375\" style=\"fill: #555555; stroke: #555555; stroke-width: 0.8\"/>\n      </g>\n     </g>\n     <g id=\"text_44\">\n      <!-- 44 -->\n      <g style=\"fill: #555555\" transform=\"translate(147.383693 304.852187) scale(0.1 -0.1)\">\n       <use xlink:href=\"#DejaVuSans-34\"/>\n       <use xlink:href=\"#DejaVuSans-34\" x=\"63.623047\"/>\n      </g>\n     </g>\n    </g>\n    <g id=\"xtick_45\">\n     <g id=\"line2d_89\">\n      <path d=\"M 155.437102 290.25375 \nL 155.437102 24.14175 \n\" clip-path=\"url(#p399d720b75)\" style=\"fill: none; stroke: #ffffff; stroke-width: 0.8; stroke-linecap: square\"/>\n     </g>\n     <g id=\"line2d_90\">\n      <g>\n       <use xlink:href=\"#m256e66ddab\" x=\"155.437102\" y=\"290.25375\" style=\"fill: #555555; stroke: #555555; stroke-width: 0.8\"/>\n      </g>\n     </g>\n     <g id=\"text_45\">\n      <!-- 45 -->\n      <g style=\"fill: #555555\" transform=\"translate(149.074602 304.852187) scale(0.1 -0.1)\">\n       <use xlink:href=\"#DejaVuSans-34\"/>\n       <use xlink:href=\"#DejaVuSans-35\" x=\"63.623047\"/>\n      </g>\n     </g>\n    </g>\n    <g id=\"xtick_46\">\n     <g id=\"line2d_91\">\n      <path d=\"M 157.128011 290.25375 \nL 157.128011 24.14175 \n\" clip-path=\"url(#p399d720b75)\" style=\"fill: none; stroke: #ffffff; stroke-width: 0.8; stroke-linecap: square\"/>\n     </g>\n     <g id=\"line2d_92\">\n      <g>\n       <use xlink:href=\"#m256e66ddab\" x=\"157.128011\" y=\"290.25375\" style=\"fill: #555555; stroke: #555555; stroke-width: 0.8\"/>\n      </g>\n     </g>\n     <g id=\"text_46\">\n      <!-- 46 -->\n      <g style=\"fill: #555555\" transform=\"translate(150.765511 304.852187) scale(0.1 -0.1)\">\n       <use xlink:href=\"#DejaVuSans-34\"/>\n       <use xlink:href=\"#DejaVuSans-36\" x=\"63.623047\"/>\n      </g>\n     </g>\n    </g>\n    <g id=\"xtick_47\">\n     <g id=\"line2d_93\">\n      <path d=\"M 158.81892 290.25375 \nL 158.81892 24.14175 \n\" clip-path=\"url(#p399d720b75)\" style=\"fill: none; stroke: #ffffff; stroke-width: 0.8; stroke-linecap: square\"/>\n     </g>\n     <g id=\"line2d_94\">\n      <g>\n       <use xlink:href=\"#m256e66ddab\" x=\"158.81892\" y=\"290.25375\" style=\"fill: #555555; stroke: #555555; stroke-width: 0.8\"/>\n      </g>\n     </g>\n     <g id=\"text_47\">\n      <!-- 47 -->\n      <g style=\"fill: #555555\" transform=\"translate(152.45642 304.852187) scale(0.1 -0.1)\">\n       <use xlink:href=\"#DejaVuSans-34\"/>\n       <use xlink:href=\"#DejaVuSans-37\" x=\"63.623047\"/>\n      </g>\n     </g>\n    </g>\n    <g id=\"xtick_48\">\n     <g id=\"line2d_95\">\n      <path d=\"M 160.50983 290.25375 \nL 160.50983 24.14175 \n\" clip-path=\"url(#p399d720b75)\" style=\"fill: none; stroke: #ffffff; stroke-width: 0.8; stroke-linecap: square\"/>\n     </g>\n     <g id=\"line2d_96\">\n      <g>\n       <use xlink:href=\"#m256e66ddab\" x=\"160.50983\" y=\"290.25375\" style=\"fill: #555555; stroke: #555555; stroke-width: 0.8\"/>\n      </g>\n     </g>\n     <g id=\"text_48\">\n      <!-- 48 -->\n      <g style=\"fill: #555555\" transform=\"translate(154.14733 304.852187) scale(0.1 -0.1)\">\n       <use xlink:href=\"#DejaVuSans-34\"/>\n       <use xlink:href=\"#DejaVuSans-38\" x=\"63.623047\"/>\n      </g>\n     </g>\n    </g>\n    <g id=\"xtick_49\">\n     <g id=\"line2d_97\">\n      <path d=\"M 162.200739 290.25375 \nL 162.200739 24.14175 \n\" clip-path=\"url(#p399d720b75)\" style=\"fill: none; stroke: #ffffff; stroke-width: 0.8; stroke-linecap: square\"/>\n     </g>\n     <g id=\"line2d_98\">\n      <g>\n       <use xlink:href=\"#m256e66ddab\" x=\"162.200739\" y=\"290.25375\" style=\"fill: #555555; stroke: #555555; stroke-width: 0.8\"/>\n      </g>\n     </g>\n     <g id=\"text_49\">\n      <!-- 49 -->\n      <g style=\"fill: #555555\" transform=\"translate(155.838239 304.852187) scale(0.1 -0.1)\">\n       <use xlink:href=\"#DejaVuSans-34\"/>\n       <use xlink:href=\"#DejaVuSans-39\" x=\"63.623047\"/>\n      </g>\n     </g>\n    </g>\n    <g id=\"xtick_50\">\n     <g id=\"line2d_99\">\n      <path d=\"M 163.891648 290.25375 \nL 163.891648 24.14175 \n\" clip-path=\"url(#p399d720b75)\" style=\"fill: none; stroke: #ffffff; stroke-width: 0.8; stroke-linecap: square\"/>\n     </g>\n     <g id=\"line2d_100\">\n      <g>\n       <use xlink:href=\"#m256e66ddab\" x=\"163.891648\" y=\"290.25375\" style=\"fill: #555555; stroke: #555555; stroke-width: 0.8\"/>\n      </g>\n     </g>\n     <g id=\"text_50\">\n      <!-- 50 -->\n      <g style=\"fill: #555555\" transform=\"translate(157.529148 304.852187) scale(0.1 -0.1)\">\n       <use xlink:href=\"#DejaVuSans-35\"/>\n       <use xlink:href=\"#DejaVuSans-30\" x=\"63.623047\"/>\n      </g>\n     </g>\n    </g>\n    <g id=\"xtick_51\">\n     <g id=\"line2d_101\">\n      <path d=\"M 165.582557 290.25375 \nL 165.582557 24.14175 \n\" clip-path=\"url(#p399d720b75)\" style=\"fill: none; stroke: #ffffff; stroke-width: 0.8; stroke-linecap: square\"/>\n     </g>\n     <g id=\"line2d_102\">\n      <g>\n       <use xlink:href=\"#m256e66ddab\" x=\"165.582557\" y=\"290.25375\" style=\"fill: #555555; stroke: #555555; stroke-width: 0.8\"/>\n      </g>\n     </g>\n     <g id=\"text_51\">\n      <!-- 51 -->\n      <g style=\"fill: #555555\" transform=\"translate(159.220057 304.852187) scale(0.1 -0.1)\">\n       <use xlink:href=\"#DejaVuSans-35\"/>\n       <use xlink:href=\"#DejaVuSans-31\" x=\"63.623047\"/>\n      </g>\n     </g>\n    </g>\n    <g id=\"xtick_52\">\n     <g id=\"line2d_103\">\n      <path d=\"M 167.273466 290.25375 \nL 167.273466 24.14175 \n\" clip-path=\"url(#p399d720b75)\" style=\"fill: none; stroke: #ffffff; stroke-width: 0.8; stroke-linecap: square\"/>\n     </g>\n     <g id=\"line2d_104\">\n      <g>\n       <use xlink:href=\"#m256e66ddab\" x=\"167.273466\" y=\"290.25375\" style=\"fill: #555555; stroke: #555555; stroke-width: 0.8\"/>\n      </g>\n     </g>\n     <g id=\"text_52\">\n      <!-- 52 -->\n      <g style=\"fill: #555555\" transform=\"translate(160.910966 304.852187) scale(0.1 -0.1)\">\n       <use xlink:href=\"#DejaVuSans-35\"/>\n       <use xlink:href=\"#DejaVuSans-32\" x=\"63.623047\"/>\n      </g>\n     </g>\n    </g>\n    <g id=\"xtick_53\">\n     <g id=\"line2d_105\">\n      <path d=\"M 168.964375 290.25375 \nL 168.964375 24.14175 \n\" clip-path=\"url(#p399d720b75)\" style=\"fill: none; stroke: #ffffff; stroke-width: 0.8; stroke-linecap: square\"/>\n     </g>\n     <g id=\"line2d_106\">\n      <g>\n       <use xlink:href=\"#m256e66ddab\" x=\"168.964375\" y=\"290.25375\" style=\"fill: #555555; stroke: #555555; stroke-width: 0.8\"/>\n      </g>\n     </g>\n     <g id=\"text_53\">\n      <!-- 53 -->\n      <g style=\"fill: #555555\" transform=\"translate(162.601875 304.852187) scale(0.1 -0.1)\">\n       <use xlink:href=\"#DejaVuSans-35\"/>\n       <use xlink:href=\"#DejaVuSans-33\" x=\"63.623047\"/>\n      </g>\n     </g>\n    </g>\n    <g id=\"xtick_54\">\n     <g id=\"line2d_107\">\n      <path d=\"M 170.655284 290.25375 \nL 170.655284 24.14175 \n\" clip-path=\"url(#p399d720b75)\" style=\"fill: none; stroke: #ffffff; stroke-width: 0.8; stroke-linecap: square\"/>\n     </g>\n     <g id=\"line2d_108\">\n      <g>\n       <use xlink:href=\"#m256e66ddab\" x=\"170.655284\" y=\"290.25375\" style=\"fill: #555555; stroke: #555555; stroke-width: 0.8\"/>\n      </g>\n     </g>\n     <g id=\"text_54\">\n      <!-- 54 -->\n      <g style=\"fill: #555555\" transform=\"translate(164.292784 304.852187) scale(0.1 -0.1)\">\n       <use xlink:href=\"#DejaVuSans-35\"/>\n       <use xlink:href=\"#DejaVuSans-34\" x=\"63.623047\"/>\n      </g>\n     </g>\n    </g>\n    <g id=\"xtick_55\">\n     <g id=\"line2d_109\">\n      <path d=\"M 172.346193 290.25375 \nL 172.346193 24.14175 \n\" clip-path=\"url(#p399d720b75)\" style=\"fill: none; stroke: #ffffff; stroke-width: 0.8; stroke-linecap: square\"/>\n     </g>\n     <g id=\"line2d_110\">\n      <g>\n       <use xlink:href=\"#m256e66ddab\" x=\"172.346193\" y=\"290.25375\" style=\"fill: #555555; stroke: #555555; stroke-width: 0.8\"/>\n      </g>\n     </g>\n     <g id=\"text_55\">\n      <!-- 55 -->\n      <g style=\"fill: #555555\" transform=\"translate(165.983693 304.852187) scale(0.1 -0.1)\">\n       <use xlink:href=\"#DejaVuSans-35\"/>\n       <use xlink:href=\"#DejaVuSans-35\" x=\"63.623047\"/>\n      </g>\n     </g>\n    </g>\n    <g id=\"xtick_56\">\n     <g id=\"line2d_111\">\n      <path d=\"M 174.037102 290.25375 \nL 174.037102 24.14175 \n\" clip-path=\"url(#p399d720b75)\" style=\"fill: none; stroke: #ffffff; stroke-width: 0.8; stroke-linecap: square\"/>\n     </g>\n     <g id=\"line2d_112\">\n      <g>\n       <use xlink:href=\"#m256e66ddab\" x=\"174.037102\" y=\"290.25375\" style=\"fill: #555555; stroke: #555555; stroke-width: 0.8\"/>\n      </g>\n     </g>\n     <g id=\"text_56\">\n      <!-- 56 -->\n      <g style=\"fill: #555555\" transform=\"translate(167.674602 304.852187) scale(0.1 -0.1)\">\n       <use xlink:href=\"#DejaVuSans-35\"/>\n       <use xlink:href=\"#DejaVuSans-36\" x=\"63.623047\"/>\n      </g>\n     </g>\n    </g>\n    <g id=\"xtick_57\">\n     <g id=\"line2d_113\">\n      <path d=\"M 175.728011 290.25375 \nL 175.728011 24.14175 \n\" clip-path=\"url(#p399d720b75)\" style=\"fill: none; stroke: #ffffff; stroke-width: 0.8; stroke-linecap: square\"/>\n     </g>\n     <g id=\"line2d_114\">\n      <g>\n       <use xlink:href=\"#m256e66ddab\" x=\"175.728011\" y=\"290.25375\" style=\"fill: #555555; stroke: #555555; stroke-width: 0.8\"/>\n      </g>\n     </g>\n     <g id=\"text_57\">\n      <!-- 57 -->\n      <g style=\"fill: #555555\" transform=\"translate(169.365511 304.852187) scale(0.1 -0.1)\">\n       <use xlink:href=\"#DejaVuSans-35\"/>\n       <use xlink:href=\"#DejaVuSans-37\" x=\"63.623047\"/>\n      </g>\n     </g>\n    </g>\n    <g id=\"xtick_58\">\n     <g id=\"line2d_115\">\n      <path d=\"M 177.41892 290.25375 \nL 177.41892 24.14175 \n\" clip-path=\"url(#p399d720b75)\" style=\"fill: none; stroke: #ffffff; stroke-width: 0.8; stroke-linecap: square\"/>\n     </g>\n     <g id=\"line2d_116\">\n      <g>\n       <use xlink:href=\"#m256e66ddab\" x=\"177.41892\" y=\"290.25375\" style=\"fill: #555555; stroke: #555555; stroke-width: 0.8\"/>\n      </g>\n     </g>\n     <g id=\"text_58\">\n      <!-- 58 -->\n      <g style=\"fill: #555555\" transform=\"translate(171.05642 304.852187) scale(0.1 -0.1)\">\n       <use xlink:href=\"#DejaVuSans-35\"/>\n       <use xlink:href=\"#DejaVuSans-38\" x=\"63.623047\"/>\n      </g>\n     </g>\n    </g>\n    <g id=\"xtick_59\">\n     <g id=\"line2d_117\">\n      <path d=\"M 179.10983 290.25375 \nL 179.10983 24.14175 \n\" clip-path=\"url(#p399d720b75)\" style=\"fill: none; stroke: #ffffff; stroke-width: 0.8; stroke-linecap: square\"/>\n     </g>\n     <g id=\"line2d_118\">\n      <g>\n       <use xlink:href=\"#m256e66ddab\" x=\"179.10983\" y=\"290.25375\" style=\"fill: #555555; stroke: #555555; stroke-width: 0.8\"/>\n      </g>\n     </g>\n     <g id=\"text_59\">\n      <!-- 59 -->\n      <g style=\"fill: #555555\" transform=\"translate(172.74733 304.852187) scale(0.1 -0.1)\">\n       <use xlink:href=\"#DejaVuSans-35\"/>\n       <use xlink:href=\"#DejaVuSans-39\" x=\"63.623047\"/>\n      </g>\n     </g>\n    </g>\n    <g id=\"xtick_60\">\n     <g id=\"line2d_119\">\n      <path d=\"M 180.800739 290.25375 \nL 180.800739 24.14175 \n\" clip-path=\"url(#p399d720b75)\" style=\"fill: none; stroke: #ffffff; stroke-width: 0.8; stroke-linecap: square\"/>\n     </g>\n     <g id=\"line2d_120\">\n      <g>\n       <use xlink:href=\"#m256e66ddab\" x=\"180.800739\" y=\"290.25375\" style=\"fill: #555555; stroke: #555555; stroke-width: 0.8\"/>\n      </g>\n     </g>\n     <g id=\"text_60\">\n      <!-- 60 -->\n      <g style=\"fill: #555555\" transform=\"translate(174.438239 304.852187) scale(0.1 -0.1)\">\n       <use xlink:href=\"#DejaVuSans-36\"/>\n       <use xlink:href=\"#DejaVuSans-30\" x=\"63.623047\"/>\n      </g>\n     </g>\n    </g>\n    <g id=\"xtick_61\">\n     <g id=\"line2d_121\">\n      <path d=\"M 182.491648 290.25375 \nL 182.491648 24.14175 \n\" clip-path=\"url(#p399d720b75)\" style=\"fill: none; stroke: #ffffff; stroke-width: 0.8; stroke-linecap: square\"/>\n     </g>\n     <g id=\"line2d_122\">\n      <g>\n       <use xlink:href=\"#m256e66ddab\" x=\"182.491648\" y=\"290.25375\" style=\"fill: #555555; stroke: #555555; stroke-width: 0.8\"/>\n      </g>\n     </g>\n     <g id=\"text_61\">\n      <!-- 61 -->\n      <g style=\"fill: #555555\" transform=\"translate(176.129148 304.852187) scale(0.1 -0.1)\">\n       <use xlink:href=\"#DejaVuSans-36\"/>\n       <use xlink:href=\"#DejaVuSans-31\" x=\"63.623047\"/>\n      </g>\n     </g>\n    </g>\n    <g id=\"xtick_62\">\n     <g id=\"line2d_123\">\n      <path d=\"M 184.182557 290.25375 \nL 184.182557 24.14175 \n\" clip-path=\"url(#p399d720b75)\" style=\"fill: none; stroke: #ffffff; stroke-width: 0.8; stroke-linecap: square\"/>\n     </g>\n     <g id=\"line2d_124\">\n      <g>\n       <use xlink:href=\"#m256e66ddab\" x=\"184.182557\" y=\"290.25375\" style=\"fill: #555555; stroke: #555555; stroke-width: 0.8\"/>\n      </g>\n     </g>\n     <g id=\"text_62\">\n      <!-- 62 -->\n      <g style=\"fill: #555555\" transform=\"translate(177.820057 304.852187) scale(0.1 -0.1)\">\n       <use xlink:href=\"#DejaVuSans-36\"/>\n       <use xlink:href=\"#DejaVuSans-32\" x=\"63.623047\"/>\n      </g>\n     </g>\n    </g>\n    <g id=\"xtick_63\">\n     <g id=\"line2d_125\">\n      <path d=\"M 185.873466 290.25375 \nL 185.873466 24.14175 \n\" clip-path=\"url(#p399d720b75)\" style=\"fill: none; stroke: #ffffff; stroke-width: 0.8; stroke-linecap: square\"/>\n     </g>\n     <g id=\"line2d_126\">\n      <g>\n       <use xlink:href=\"#m256e66ddab\" x=\"185.873466\" y=\"290.25375\" style=\"fill: #555555; stroke: #555555; stroke-width: 0.8\"/>\n      </g>\n     </g>\n     <g id=\"text_63\">\n      <!-- 63 -->\n      <g style=\"fill: #555555\" transform=\"translate(179.510966 304.852187) scale(0.1 -0.1)\">\n       <use xlink:href=\"#DejaVuSans-36\"/>\n       <use xlink:href=\"#DejaVuSans-33\" x=\"63.623047\"/>\n      </g>\n     </g>\n    </g>\n    <g id=\"xtick_64\">\n     <g id=\"line2d_127\">\n      <path d=\"M 187.564375 290.25375 \nL 187.564375 24.14175 \n\" clip-path=\"url(#p399d720b75)\" style=\"fill: none; stroke: #ffffff; stroke-width: 0.8; stroke-linecap: square\"/>\n     </g>\n     <g id=\"line2d_128\">\n      <g>\n       <use xlink:href=\"#m256e66ddab\" x=\"187.564375\" y=\"290.25375\" style=\"fill: #555555; stroke: #555555; stroke-width: 0.8\"/>\n      </g>\n     </g>\n     <g id=\"text_64\">\n      <!-- 64 -->\n      <g style=\"fill: #555555\" transform=\"translate(181.201875 304.852187) scale(0.1 -0.1)\">\n       <use xlink:href=\"#DejaVuSans-36\"/>\n       <use xlink:href=\"#DejaVuSans-34\" x=\"63.623047\"/>\n      </g>\n     </g>\n    </g>\n    <g id=\"xtick_65\">\n     <g id=\"line2d_129\">\n      <path d=\"M 189.255284 290.25375 \nL 189.255284 24.14175 \n\" clip-path=\"url(#p399d720b75)\" style=\"fill: none; stroke: #ffffff; stroke-width: 0.8; stroke-linecap: square\"/>\n     </g>\n     <g id=\"line2d_130\">\n      <g>\n       <use xlink:href=\"#m256e66ddab\" x=\"189.255284\" y=\"290.25375\" style=\"fill: #555555; stroke: #555555; stroke-width: 0.8\"/>\n      </g>\n     </g>\n     <g id=\"text_65\">\n      <!-- 65 -->\n      <g style=\"fill: #555555\" transform=\"translate(182.892784 304.852187) scale(0.1 -0.1)\">\n       <use xlink:href=\"#DejaVuSans-36\"/>\n       <use xlink:href=\"#DejaVuSans-35\" x=\"63.623047\"/>\n      </g>\n     </g>\n    </g>\n    <g id=\"xtick_66\">\n     <g id=\"line2d_131\">\n      <path d=\"M 190.946193 290.25375 \nL 190.946193 24.14175 \n\" clip-path=\"url(#p399d720b75)\" style=\"fill: none; stroke: #ffffff; stroke-width: 0.8; stroke-linecap: square\"/>\n     </g>\n     <g id=\"line2d_132\">\n      <g>\n       <use xlink:href=\"#m256e66ddab\" x=\"190.946193\" y=\"290.25375\" style=\"fill: #555555; stroke: #555555; stroke-width: 0.8\"/>\n      </g>\n     </g>\n     <g id=\"text_66\">\n      <!-- 66 -->\n      <g style=\"fill: #555555\" transform=\"translate(184.583693 304.852187) scale(0.1 -0.1)\">\n       <use xlink:href=\"#DejaVuSans-36\"/>\n       <use xlink:href=\"#DejaVuSans-36\" x=\"63.623047\"/>\n      </g>\n     </g>\n    </g>\n    <g id=\"xtick_67\">\n     <g id=\"line2d_133\">\n      <path d=\"M 192.637102 290.25375 \nL 192.637102 24.14175 \n\" clip-path=\"url(#p399d720b75)\" style=\"fill: none; stroke: #ffffff; stroke-width: 0.8; stroke-linecap: square\"/>\n     </g>\n     <g id=\"line2d_134\">\n      <g>\n       <use xlink:href=\"#m256e66ddab\" x=\"192.637102\" y=\"290.25375\" style=\"fill: #555555; stroke: #555555; stroke-width: 0.8\"/>\n      </g>\n     </g>\n     <g id=\"text_67\">\n      <!-- 67 -->\n      <g style=\"fill: #555555\" transform=\"translate(186.274602 304.852187) scale(0.1 -0.1)\">\n       <use xlink:href=\"#DejaVuSans-36\"/>\n       <use xlink:href=\"#DejaVuSans-37\" x=\"63.623047\"/>\n      </g>\n     </g>\n    </g>\n    <g id=\"xtick_68\">\n     <g id=\"line2d_135\">\n      <path d=\"M 194.328011 290.25375 \nL 194.328011 24.14175 \n\" clip-path=\"url(#p399d720b75)\" style=\"fill: none; stroke: #ffffff; stroke-width: 0.8; stroke-linecap: square\"/>\n     </g>\n     <g id=\"line2d_136\">\n      <g>\n       <use xlink:href=\"#m256e66ddab\" x=\"194.328011\" y=\"290.25375\" style=\"fill: #555555; stroke: #555555; stroke-width: 0.8\"/>\n      </g>\n     </g>\n     <g id=\"text_68\">\n      <!-- 68 -->\n      <g style=\"fill: #555555\" transform=\"translate(187.965511 304.852187) scale(0.1 -0.1)\">\n       <use xlink:href=\"#DejaVuSans-36\"/>\n       <use xlink:href=\"#DejaVuSans-38\" x=\"63.623047\"/>\n      </g>\n     </g>\n    </g>\n    <g id=\"xtick_69\">\n     <g id=\"line2d_137\">\n      <path d=\"M 196.01892 290.25375 \nL 196.01892 24.14175 \n\" clip-path=\"url(#p399d720b75)\" style=\"fill: none; stroke: #ffffff; stroke-width: 0.8; stroke-linecap: square\"/>\n     </g>\n     <g id=\"line2d_138\">\n      <g>\n       <use xlink:href=\"#m256e66ddab\" x=\"196.01892\" y=\"290.25375\" style=\"fill: #555555; stroke: #555555; stroke-width: 0.8\"/>\n      </g>\n     </g>\n     <g id=\"text_69\">\n      <!-- 69 -->\n      <g style=\"fill: #555555\" transform=\"translate(189.65642 304.852187) scale(0.1 -0.1)\">\n       <use xlink:href=\"#DejaVuSans-36\"/>\n       <use xlink:href=\"#DejaVuSans-39\" x=\"63.623047\"/>\n      </g>\n     </g>\n    </g>\n    <g id=\"xtick_70\">\n     <g id=\"line2d_139\">\n      <path d=\"M 197.70983 290.25375 \nL 197.70983 24.14175 \n\" clip-path=\"url(#p399d720b75)\" style=\"fill: none; stroke: #ffffff; stroke-width: 0.8; stroke-linecap: square\"/>\n     </g>\n     <g id=\"line2d_140\">\n      <g>\n       <use xlink:href=\"#m256e66ddab\" x=\"197.70983\" y=\"290.25375\" style=\"fill: #555555; stroke: #555555; stroke-width: 0.8\"/>\n      </g>\n     </g>\n     <g id=\"text_70\">\n      <!-- 70 -->\n      <g style=\"fill: #555555\" transform=\"translate(191.34733 304.852187) scale(0.1 -0.1)\">\n       <use xlink:href=\"#DejaVuSans-37\"/>\n       <use xlink:href=\"#DejaVuSans-30\" x=\"63.623047\"/>\n      </g>\n     </g>\n    </g>\n    <g id=\"xtick_71\">\n     <g id=\"line2d_141\">\n      <path d=\"M 199.400739 290.25375 \nL 199.400739 24.14175 \n\" clip-path=\"url(#p399d720b75)\" style=\"fill: none; stroke: #ffffff; stroke-width: 0.8; stroke-linecap: square\"/>\n     </g>\n     <g id=\"line2d_142\">\n      <g>\n       <use xlink:href=\"#m256e66ddab\" x=\"199.400739\" y=\"290.25375\" style=\"fill: #555555; stroke: #555555; stroke-width: 0.8\"/>\n      </g>\n     </g>\n     <g id=\"text_71\">\n      <!-- 71 -->\n      <g style=\"fill: #555555\" transform=\"translate(193.038239 304.852187) scale(0.1 -0.1)\">\n       <use xlink:href=\"#DejaVuSans-37\"/>\n       <use xlink:href=\"#DejaVuSans-31\" x=\"63.623047\"/>\n      </g>\n     </g>\n    </g>\n    <g id=\"xtick_72\">\n     <g id=\"line2d_143\">\n      <path d=\"M 201.091648 290.25375 \nL 201.091648 24.14175 \n\" clip-path=\"url(#p399d720b75)\" style=\"fill: none; stroke: #ffffff; stroke-width: 0.8; stroke-linecap: square\"/>\n     </g>\n     <g id=\"line2d_144\">\n      <g>\n       <use xlink:href=\"#m256e66ddab\" x=\"201.091648\" y=\"290.25375\" style=\"fill: #555555; stroke: #555555; stroke-width: 0.8\"/>\n      </g>\n     </g>\n     <g id=\"text_72\">\n      <!-- 72 -->\n      <g style=\"fill: #555555\" transform=\"translate(194.729148 304.852187) scale(0.1 -0.1)\">\n       <use xlink:href=\"#DejaVuSans-37\"/>\n       <use xlink:href=\"#DejaVuSans-32\" x=\"63.623047\"/>\n      </g>\n     </g>\n    </g>\n    <g id=\"xtick_73\">\n     <g id=\"line2d_145\">\n      <path d=\"M 202.782557 290.25375 \nL 202.782557 24.14175 \n\" clip-path=\"url(#p399d720b75)\" style=\"fill: none; stroke: #ffffff; stroke-width: 0.8; stroke-linecap: square\"/>\n     </g>\n     <g id=\"line2d_146\">\n      <g>\n       <use xlink:href=\"#m256e66ddab\" x=\"202.782557\" y=\"290.25375\" style=\"fill: #555555; stroke: #555555; stroke-width: 0.8\"/>\n      </g>\n     </g>\n     <g id=\"text_73\">\n      <!-- 73 -->\n      <g style=\"fill: #555555\" transform=\"translate(196.420057 304.852187) scale(0.1 -0.1)\">\n       <use xlink:href=\"#DejaVuSans-37\"/>\n       <use xlink:href=\"#DejaVuSans-33\" x=\"63.623047\"/>\n      </g>\n     </g>\n    </g>\n    <g id=\"xtick_74\">\n     <g id=\"line2d_147\">\n      <path d=\"M 204.473466 290.25375 \nL 204.473466 24.14175 \n\" clip-path=\"url(#p399d720b75)\" style=\"fill: none; stroke: #ffffff; stroke-width: 0.8; stroke-linecap: square\"/>\n     </g>\n     <g id=\"line2d_148\">\n      <g>\n       <use xlink:href=\"#m256e66ddab\" x=\"204.473466\" y=\"290.25375\" style=\"fill: #555555; stroke: #555555; stroke-width: 0.8\"/>\n      </g>\n     </g>\n     <g id=\"text_74\">\n      <!-- 74 -->\n      <g style=\"fill: #555555\" transform=\"translate(198.110966 304.852187) scale(0.1 -0.1)\">\n       <use xlink:href=\"#DejaVuSans-37\"/>\n       <use xlink:href=\"#DejaVuSans-34\" x=\"63.623047\"/>\n      </g>\n     </g>\n    </g>\n    <g id=\"xtick_75\">\n     <g id=\"line2d_149\">\n      <path d=\"M 206.164375 290.25375 \nL 206.164375 24.14175 \n\" clip-path=\"url(#p399d720b75)\" style=\"fill: none; stroke: #ffffff; stroke-width: 0.8; stroke-linecap: square\"/>\n     </g>\n     <g id=\"line2d_150\">\n      <g>\n       <use xlink:href=\"#m256e66ddab\" x=\"206.164375\" y=\"290.25375\" style=\"fill: #555555; stroke: #555555; stroke-width: 0.8\"/>\n      </g>\n     </g>\n     <g id=\"text_75\">\n      <!-- 75 -->\n      <g style=\"fill: #555555\" transform=\"translate(199.801875 304.852187) scale(0.1 -0.1)\">\n       <use xlink:href=\"#DejaVuSans-37\"/>\n       <use xlink:href=\"#DejaVuSans-35\" x=\"63.623047\"/>\n      </g>\n     </g>\n    </g>\n    <g id=\"xtick_76\">\n     <g id=\"line2d_151\">\n      <path d=\"M 207.855284 290.25375 \nL 207.855284 24.14175 \n\" clip-path=\"url(#p399d720b75)\" style=\"fill: none; stroke: #ffffff; stroke-width: 0.8; stroke-linecap: square\"/>\n     </g>\n     <g id=\"line2d_152\">\n      <g>\n       <use xlink:href=\"#m256e66ddab\" x=\"207.855284\" y=\"290.25375\" style=\"fill: #555555; stroke: #555555; stroke-width: 0.8\"/>\n      </g>\n     </g>\n     <g id=\"text_76\">\n      <!-- 76 -->\n      <g style=\"fill: #555555\" transform=\"translate(201.492784 304.852187) scale(0.1 -0.1)\">\n       <use xlink:href=\"#DejaVuSans-37\"/>\n       <use xlink:href=\"#DejaVuSans-36\" x=\"63.623047\"/>\n      </g>\n     </g>\n    </g>\n    <g id=\"xtick_77\">\n     <g id=\"line2d_153\">\n      <path d=\"M 209.546193 290.25375 \nL 209.546193 24.14175 \n\" clip-path=\"url(#p399d720b75)\" style=\"fill: none; stroke: #ffffff; stroke-width: 0.8; stroke-linecap: square\"/>\n     </g>\n     <g id=\"line2d_154\">\n      <g>\n       <use xlink:href=\"#m256e66ddab\" x=\"209.546193\" y=\"290.25375\" style=\"fill: #555555; stroke: #555555; stroke-width: 0.8\"/>\n      </g>\n     </g>\n     <g id=\"text_77\">\n      <!-- 77 -->\n      <g style=\"fill: #555555\" transform=\"translate(203.183693 304.852187) scale(0.1 -0.1)\">\n       <use xlink:href=\"#DejaVuSans-37\"/>\n       <use xlink:href=\"#DejaVuSans-37\" x=\"63.623047\"/>\n      </g>\n     </g>\n    </g>\n    <g id=\"xtick_78\">\n     <g id=\"line2d_155\">\n      <path d=\"M 211.237102 290.25375 \nL 211.237102 24.14175 \n\" clip-path=\"url(#p399d720b75)\" style=\"fill: none; stroke: #ffffff; stroke-width: 0.8; stroke-linecap: square\"/>\n     </g>\n     <g id=\"line2d_156\">\n      <g>\n       <use xlink:href=\"#m256e66ddab\" x=\"211.237102\" y=\"290.25375\" style=\"fill: #555555; stroke: #555555; stroke-width: 0.8\"/>\n      </g>\n     </g>\n     <g id=\"text_78\">\n      <!-- 78 -->\n      <g style=\"fill: #555555\" transform=\"translate(204.874602 304.852187) scale(0.1 -0.1)\">\n       <use xlink:href=\"#DejaVuSans-37\"/>\n       <use xlink:href=\"#DejaVuSans-38\" x=\"63.623047\"/>\n      </g>\n     </g>\n    </g>\n    <g id=\"xtick_79\">\n     <g id=\"line2d_157\">\n      <path d=\"M 212.928011 290.25375 \nL 212.928011 24.14175 \n\" clip-path=\"url(#p399d720b75)\" style=\"fill: none; stroke: #ffffff; stroke-width: 0.8; stroke-linecap: square\"/>\n     </g>\n     <g id=\"line2d_158\">\n      <g>\n       <use xlink:href=\"#m256e66ddab\" x=\"212.928011\" y=\"290.25375\" style=\"fill: #555555; stroke: #555555; stroke-width: 0.8\"/>\n      </g>\n     </g>\n     <g id=\"text_79\">\n      <!-- 79 -->\n      <g style=\"fill: #555555\" transform=\"translate(206.565511 304.852187) scale(0.1 -0.1)\">\n       <use xlink:href=\"#DejaVuSans-37\"/>\n       <use xlink:href=\"#DejaVuSans-39\" x=\"63.623047\"/>\n      </g>\n     </g>\n    </g>\n    <g id=\"xtick_80\">\n     <g id=\"line2d_159\">\n      <path d=\"M 214.61892 290.25375 \nL 214.61892 24.14175 \n\" clip-path=\"url(#p399d720b75)\" style=\"fill: none; stroke: #ffffff; stroke-width: 0.8; stroke-linecap: square\"/>\n     </g>\n     <g id=\"line2d_160\">\n      <g>\n       <use xlink:href=\"#m256e66ddab\" x=\"214.61892\" y=\"290.25375\" style=\"fill: #555555; stroke: #555555; stroke-width: 0.8\"/>\n      </g>\n     </g>\n     <g id=\"text_80\">\n      <!-- 80 -->\n      <g style=\"fill: #555555\" transform=\"translate(208.25642 304.852187) scale(0.1 -0.1)\">\n       <use xlink:href=\"#DejaVuSans-38\"/>\n       <use xlink:href=\"#DejaVuSans-30\" x=\"63.623047\"/>\n      </g>\n     </g>\n    </g>\n    <g id=\"xtick_81\">\n     <g id=\"line2d_161\">\n      <path d=\"M 216.30983 290.25375 \nL 216.30983 24.14175 \n\" clip-path=\"url(#p399d720b75)\" style=\"fill: none; stroke: #ffffff; stroke-width: 0.8; stroke-linecap: square\"/>\n     </g>\n     <g id=\"line2d_162\">\n      <g>\n       <use xlink:href=\"#m256e66ddab\" x=\"216.30983\" y=\"290.25375\" style=\"fill: #555555; stroke: #555555; stroke-width: 0.8\"/>\n      </g>\n     </g>\n     <g id=\"text_81\">\n      <!-- 81 -->\n      <g style=\"fill: #555555\" transform=\"translate(209.94733 304.852187) scale(0.1 -0.1)\">\n       <use xlink:href=\"#DejaVuSans-38\"/>\n       <use xlink:href=\"#DejaVuSans-31\" x=\"63.623047\"/>\n      </g>\n     </g>\n    </g>\n    <g id=\"xtick_82\">\n     <g id=\"line2d_163\">\n      <path d=\"M 218.000739 290.25375 \nL 218.000739 24.14175 \n\" clip-path=\"url(#p399d720b75)\" style=\"fill: none; stroke: #ffffff; stroke-width: 0.8; stroke-linecap: square\"/>\n     </g>\n     <g id=\"line2d_164\">\n      <g>\n       <use xlink:href=\"#m256e66ddab\" x=\"218.000739\" y=\"290.25375\" style=\"fill: #555555; stroke: #555555; stroke-width: 0.8\"/>\n      </g>\n     </g>\n     <g id=\"text_82\">\n      <!-- 82 -->\n      <g style=\"fill: #555555\" transform=\"translate(211.638239 304.852187) scale(0.1 -0.1)\">\n       <use xlink:href=\"#DejaVuSans-38\"/>\n       <use xlink:href=\"#DejaVuSans-32\" x=\"63.623047\"/>\n      </g>\n     </g>\n    </g>\n    <g id=\"xtick_83\">\n     <g id=\"line2d_165\">\n      <path d=\"M 219.691648 290.25375 \nL 219.691648 24.14175 \n\" clip-path=\"url(#p399d720b75)\" style=\"fill: none; stroke: #ffffff; stroke-width: 0.8; stroke-linecap: square\"/>\n     </g>\n     <g id=\"line2d_166\">\n      <g>\n       <use xlink:href=\"#m256e66ddab\" x=\"219.691648\" y=\"290.25375\" style=\"fill: #555555; stroke: #555555; stroke-width: 0.8\"/>\n      </g>\n     </g>\n     <g id=\"text_83\">\n      <!-- 83 -->\n      <g style=\"fill: #555555\" transform=\"translate(213.329148 304.852187) scale(0.1 -0.1)\">\n       <use xlink:href=\"#DejaVuSans-38\"/>\n       <use xlink:href=\"#DejaVuSans-33\" x=\"63.623047\"/>\n      </g>\n     </g>\n    </g>\n    <g id=\"xtick_84\">\n     <g id=\"line2d_167\">\n      <path d=\"M 221.382557 290.25375 \nL 221.382557 24.14175 \n\" clip-path=\"url(#p399d720b75)\" style=\"fill: none; stroke: #ffffff; stroke-width: 0.8; stroke-linecap: square\"/>\n     </g>\n     <g id=\"line2d_168\">\n      <g>\n       <use xlink:href=\"#m256e66ddab\" x=\"221.382557\" y=\"290.25375\" style=\"fill: #555555; stroke: #555555; stroke-width: 0.8\"/>\n      </g>\n     </g>\n     <g id=\"text_84\">\n      <!-- 84 -->\n      <g style=\"fill: #555555\" transform=\"translate(215.020057 304.852187) scale(0.1 -0.1)\">\n       <use xlink:href=\"#DejaVuSans-38\"/>\n       <use xlink:href=\"#DejaVuSans-34\" x=\"63.623047\"/>\n      </g>\n     </g>\n    </g>\n    <g id=\"xtick_85\">\n     <g id=\"line2d_169\">\n      <path d=\"M 223.073466 290.25375 \nL 223.073466 24.14175 \n\" clip-path=\"url(#p399d720b75)\" style=\"fill: none; stroke: #ffffff; stroke-width: 0.8; stroke-linecap: square\"/>\n     </g>\n     <g id=\"line2d_170\">\n      <g>\n       <use xlink:href=\"#m256e66ddab\" x=\"223.073466\" y=\"290.25375\" style=\"fill: #555555; stroke: #555555; stroke-width: 0.8\"/>\n      </g>\n     </g>\n     <g id=\"text_85\">\n      <!-- 85 -->\n      <g style=\"fill: #555555\" transform=\"translate(216.710966 304.852187) scale(0.1 -0.1)\">\n       <use xlink:href=\"#DejaVuSans-38\"/>\n       <use xlink:href=\"#DejaVuSans-35\" x=\"63.623047\"/>\n      </g>\n     </g>\n    </g>\n    <g id=\"xtick_86\">\n     <g id=\"line2d_171\">\n      <path d=\"M 224.764375 290.25375 \nL 224.764375 24.14175 \n\" clip-path=\"url(#p399d720b75)\" style=\"fill: none; stroke: #ffffff; stroke-width: 0.8; stroke-linecap: square\"/>\n     </g>\n     <g id=\"line2d_172\">\n      <g>\n       <use xlink:href=\"#m256e66ddab\" x=\"224.764375\" y=\"290.25375\" style=\"fill: #555555; stroke: #555555; stroke-width: 0.8\"/>\n      </g>\n     </g>\n     <g id=\"text_86\">\n      <!-- 86 -->\n      <g style=\"fill: #555555\" transform=\"translate(218.401875 304.852187) scale(0.1 -0.1)\">\n       <use xlink:href=\"#DejaVuSans-38\"/>\n       <use xlink:href=\"#DejaVuSans-36\" x=\"63.623047\"/>\n      </g>\n     </g>\n    </g>\n    <g id=\"xtick_87\">\n     <g id=\"line2d_173\">\n      <path d=\"M 226.455284 290.25375 \nL 226.455284 24.14175 \n\" clip-path=\"url(#p399d720b75)\" style=\"fill: none; stroke: #ffffff; stroke-width: 0.8; stroke-linecap: square\"/>\n     </g>\n     <g id=\"line2d_174\">\n      <g>\n       <use xlink:href=\"#m256e66ddab\" x=\"226.455284\" y=\"290.25375\" style=\"fill: #555555; stroke: #555555; stroke-width: 0.8\"/>\n      </g>\n     </g>\n     <g id=\"text_87\">\n      <!-- 87 -->\n      <g style=\"fill: #555555\" transform=\"translate(220.092784 304.852187) scale(0.1 -0.1)\">\n       <use xlink:href=\"#DejaVuSans-38\"/>\n       <use xlink:href=\"#DejaVuSans-37\" x=\"63.623047\"/>\n      </g>\n     </g>\n    </g>\n    <g id=\"xtick_88\">\n     <g id=\"line2d_175\">\n      <path d=\"M 228.146193 290.25375 \nL 228.146193 24.14175 \n\" clip-path=\"url(#p399d720b75)\" style=\"fill: none; stroke: #ffffff; stroke-width: 0.8; stroke-linecap: square\"/>\n     </g>\n     <g id=\"line2d_176\">\n      <g>\n       <use xlink:href=\"#m256e66ddab\" x=\"228.146193\" y=\"290.25375\" style=\"fill: #555555; stroke: #555555; stroke-width: 0.8\"/>\n      </g>\n     </g>\n     <g id=\"text_88\">\n      <!-- 88 -->\n      <g style=\"fill: #555555\" transform=\"translate(221.783693 304.852187) scale(0.1 -0.1)\">\n       <use xlink:href=\"#DejaVuSans-38\"/>\n       <use xlink:href=\"#DejaVuSans-38\" x=\"63.623047\"/>\n      </g>\n     </g>\n    </g>\n    <g id=\"xtick_89\">\n     <g id=\"line2d_177\">\n      <path d=\"M 229.837102 290.25375 \nL 229.837102 24.14175 \n\" clip-path=\"url(#p399d720b75)\" style=\"fill: none; stroke: #ffffff; stroke-width: 0.8; stroke-linecap: square\"/>\n     </g>\n     <g id=\"line2d_178\">\n      <g>\n       <use xlink:href=\"#m256e66ddab\" x=\"229.837102\" y=\"290.25375\" style=\"fill: #555555; stroke: #555555; stroke-width: 0.8\"/>\n      </g>\n     </g>\n     <g id=\"text_89\">\n      <!-- 89 -->\n      <g style=\"fill: #555555\" transform=\"translate(223.474602 304.852187) scale(0.1 -0.1)\">\n       <use xlink:href=\"#DejaVuSans-38\"/>\n       <use xlink:href=\"#DejaVuSans-39\" x=\"63.623047\"/>\n      </g>\n     </g>\n    </g>\n    <g id=\"xtick_90\">\n     <g id=\"line2d_179\">\n      <path d=\"M 231.528011 290.25375 \nL 231.528011 24.14175 \n\" clip-path=\"url(#p399d720b75)\" style=\"fill: none; stroke: #ffffff; stroke-width: 0.8; stroke-linecap: square\"/>\n     </g>\n     <g id=\"line2d_180\">\n      <g>\n       <use xlink:href=\"#m256e66ddab\" x=\"231.528011\" y=\"290.25375\" style=\"fill: #555555; stroke: #555555; stroke-width: 0.8\"/>\n      </g>\n     </g>\n     <g id=\"text_90\">\n      <!-- 90 -->\n      <g style=\"fill: #555555\" transform=\"translate(225.165511 304.852187) scale(0.1 -0.1)\">\n       <use xlink:href=\"#DejaVuSans-39\"/>\n       <use xlink:href=\"#DejaVuSans-30\" x=\"63.623047\"/>\n      </g>\n     </g>\n    </g>\n    <g id=\"xtick_91\">\n     <g id=\"line2d_181\">\n      <path d=\"M 233.21892 290.25375 \nL 233.21892 24.14175 \n\" clip-path=\"url(#p399d720b75)\" style=\"fill: none; stroke: #ffffff; stroke-width: 0.8; stroke-linecap: square\"/>\n     </g>\n     <g id=\"line2d_182\">\n      <g>\n       <use xlink:href=\"#m256e66ddab\" x=\"233.21892\" y=\"290.25375\" style=\"fill: #555555; stroke: #555555; stroke-width: 0.8\"/>\n      </g>\n     </g>\n     <g id=\"text_91\">\n      <!-- 91 -->\n      <g style=\"fill: #555555\" transform=\"translate(226.85642 304.852187) scale(0.1 -0.1)\">\n       <use xlink:href=\"#DejaVuSans-39\"/>\n       <use xlink:href=\"#DejaVuSans-31\" x=\"63.623047\"/>\n      </g>\n     </g>\n    </g>\n    <g id=\"xtick_92\">\n     <g id=\"line2d_183\">\n      <path d=\"M 234.90983 290.25375 \nL 234.90983 24.14175 \n\" clip-path=\"url(#p399d720b75)\" style=\"fill: none; stroke: #ffffff; stroke-width: 0.8; stroke-linecap: square\"/>\n     </g>\n     <g id=\"line2d_184\">\n      <g>\n       <use xlink:href=\"#m256e66ddab\" x=\"234.90983\" y=\"290.25375\" style=\"fill: #555555; stroke: #555555; stroke-width: 0.8\"/>\n      </g>\n     </g>\n     <g id=\"text_92\">\n      <!-- 92 -->\n      <g style=\"fill: #555555\" transform=\"translate(228.54733 304.852187) scale(0.1 -0.1)\">\n       <use xlink:href=\"#DejaVuSans-39\"/>\n       <use xlink:href=\"#DejaVuSans-32\" x=\"63.623047\"/>\n      </g>\n     </g>\n    </g>\n    <g id=\"xtick_93\">\n     <g id=\"line2d_185\">\n      <path d=\"M 236.600739 290.25375 \nL 236.600739 24.14175 \n\" clip-path=\"url(#p399d720b75)\" style=\"fill: none; stroke: #ffffff; stroke-width: 0.8; stroke-linecap: square\"/>\n     </g>\n     <g id=\"line2d_186\">\n      <g>\n       <use xlink:href=\"#m256e66ddab\" x=\"236.600739\" y=\"290.25375\" style=\"fill: #555555; stroke: #555555; stroke-width: 0.8\"/>\n      </g>\n     </g>\n     <g id=\"text_93\">\n      <!-- 93 -->\n      <g style=\"fill: #555555\" transform=\"translate(230.238239 304.852187) scale(0.1 -0.1)\">\n       <use xlink:href=\"#DejaVuSans-39\"/>\n       <use xlink:href=\"#DejaVuSans-33\" x=\"63.623047\"/>\n      </g>\n     </g>\n    </g>\n    <g id=\"xtick_94\">\n     <g id=\"line2d_187\">\n      <path d=\"M 238.291648 290.25375 \nL 238.291648 24.14175 \n\" clip-path=\"url(#p399d720b75)\" style=\"fill: none; stroke: #ffffff; stroke-width: 0.8; stroke-linecap: square\"/>\n     </g>\n     <g id=\"line2d_188\">\n      <g>\n       <use xlink:href=\"#m256e66ddab\" x=\"238.291648\" y=\"290.25375\" style=\"fill: #555555; stroke: #555555; stroke-width: 0.8\"/>\n      </g>\n     </g>\n     <g id=\"text_94\">\n      <!-- 94 -->\n      <g style=\"fill: #555555\" transform=\"translate(231.929148 304.852187) scale(0.1 -0.1)\">\n       <use xlink:href=\"#DejaVuSans-39\"/>\n       <use xlink:href=\"#DejaVuSans-34\" x=\"63.623047\"/>\n      </g>\n     </g>\n    </g>\n    <g id=\"xtick_95\">\n     <g id=\"line2d_189\">\n      <path d=\"M 239.982557 290.25375 \nL 239.982557 24.14175 \n\" clip-path=\"url(#p399d720b75)\" style=\"fill: none; stroke: #ffffff; stroke-width: 0.8; stroke-linecap: square\"/>\n     </g>\n     <g id=\"line2d_190\">\n      <g>\n       <use xlink:href=\"#m256e66ddab\" x=\"239.982557\" y=\"290.25375\" style=\"fill: #555555; stroke: #555555; stroke-width: 0.8\"/>\n      </g>\n     </g>\n     <g id=\"text_95\">\n      <!-- 95 -->\n      <g style=\"fill: #555555\" transform=\"translate(233.620057 304.852187) scale(0.1 -0.1)\">\n       <use xlink:href=\"#DejaVuSans-39\"/>\n       <use xlink:href=\"#DejaVuSans-35\" x=\"63.623047\"/>\n      </g>\n     </g>\n    </g>\n    <g id=\"xtick_96\">\n     <g id=\"line2d_191\">\n      <path d=\"M 241.673466 290.25375 \nL 241.673466 24.14175 \n\" clip-path=\"url(#p399d720b75)\" style=\"fill: none; stroke: #ffffff; stroke-width: 0.8; stroke-linecap: square\"/>\n     </g>\n     <g id=\"line2d_192\">\n      <g>\n       <use xlink:href=\"#m256e66ddab\" x=\"241.673466\" y=\"290.25375\" style=\"fill: #555555; stroke: #555555; stroke-width: 0.8\"/>\n      </g>\n     </g>\n     <g id=\"text_96\">\n      <!-- 96 -->\n      <g style=\"fill: #555555\" transform=\"translate(235.310966 304.852187) scale(0.1 -0.1)\">\n       <use xlink:href=\"#DejaVuSans-39\"/>\n       <use xlink:href=\"#DejaVuSans-36\" x=\"63.623047\"/>\n      </g>\n     </g>\n    </g>\n    <g id=\"xtick_97\">\n     <g id=\"line2d_193\">\n      <path d=\"M 243.364375 290.25375 \nL 243.364375 24.14175 \n\" clip-path=\"url(#p399d720b75)\" style=\"fill: none; stroke: #ffffff; stroke-width: 0.8; stroke-linecap: square\"/>\n     </g>\n     <g id=\"line2d_194\">\n      <g>\n       <use xlink:href=\"#m256e66ddab\" x=\"243.364375\" y=\"290.25375\" style=\"fill: #555555; stroke: #555555; stroke-width: 0.8\"/>\n      </g>\n     </g>\n     <g id=\"text_97\">\n      <!-- 97 -->\n      <g style=\"fill: #555555\" transform=\"translate(237.001875 304.852187) scale(0.1 -0.1)\">\n       <use xlink:href=\"#DejaVuSans-39\"/>\n       <use xlink:href=\"#DejaVuSans-37\" x=\"63.623047\"/>\n      </g>\n     </g>\n    </g>\n    <g id=\"xtick_98\">\n     <g id=\"line2d_195\">\n      <path d=\"M 245.055284 290.25375 \nL 245.055284 24.14175 \n\" clip-path=\"url(#p399d720b75)\" style=\"fill: none; stroke: #ffffff; stroke-width: 0.8; stroke-linecap: square\"/>\n     </g>\n     <g id=\"line2d_196\">\n      <g>\n       <use xlink:href=\"#m256e66ddab\" x=\"245.055284\" y=\"290.25375\" style=\"fill: #555555; stroke: #555555; stroke-width: 0.8\"/>\n      </g>\n     </g>\n     <g id=\"text_98\">\n      <!-- 98 -->\n      <g style=\"fill: #555555\" transform=\"translate(238.692784 304.852187) scale(0.1 -0.1)\">\n       <use xlink:href=\"#DejaVuSans-39\"/>\n       <use xlink:href=\"#DejaVuSans-38\" x=\"63.623047\"/>\n      </g>\n     </g>\n    </g>\n    <g id=\"xtick_99\">\n     <g id=\"line2d_197\">\n      <path d=\"M 246.746193 290.25375 \nL 246.746193 24.14175 \n\" clip-path=\"url(#p399d720b75)\" style=\"fill: none; stroke: #ffffff; stroke-width: 0.8; stroke-linecap: square\"/>\n     </g>\n     <g id=\"line2d_198\">\n      <g>\n       <use xlink:href=\"#m256e66ddab\" x=\"246.746193\" y=\"290.25375\" style=\"fill: #555555; stroke: #555555; stroke-width: 0.8\"/>\n      </g>\n     </g>\n     <g id=\"text_99\">\n      <!-- 99 -->\n      <g style=\"fill: #555555\" transform=\"translate(240.383693 304.852187) scale(0.1 -0.1)\">\n       <use xlink:href=\"#DejaVuSans-39\"/>\n       <use xlink:href=\"#DejaVuSans-39\" x=\"63.623047\"/>\n      </g>\n     </g>\n    </g>\n    <g id=\"xtick_100\">\n     <g id=\"line2d_199\">\n      <path d=\"M 248.437102 290.25375 \nL 248.437102 24.14175 \n\" clip-path=\"url(#p399d720b75)\" style=\"fill: none; stroke: #ffffff; stroke-width: 0.8; stroke-linecap: square\"/>\n     </g>\n     <g id=\"line2d_200\">\n      <g>\n       <use xlink:href=\"#m256e66ddab\" x=\"248.437102\" y=\"290.25375\" style=\"fill: #555555; stroke: #555555; stroke-width: 0.8\"/>\n      </g>\n     </g>\n     <g id=\"text_100\">\n      <!-- 100 -->\n      <g style=\"fill: #555555\" transform=\"translate(238.893352 304.852187) scale(0.1 -0.1)\">\n       <use xlink:href=\"#DejaVuSans-31\"/>\n       <use xlink:href=\"#DejaVuSans-30\" x=\"63.623047\"/>\n       <use xlink:href=\"#DejaVuSans-30\" x=\"127.246094\"/>\n      </g>\n     </g>\n    </g>\n    <g id=\"xtick_101\">\n     <g id=\"line2d_201\">\n      <path d=\"M 250.128011 290.25375 \nL 250.128011 24.14175 \n\" clip-path=\"url(#p399d720b75)\" style=\"fill: none; stroke: #ffffff; stroke-width: 0.8; stroke-linecap: square\"/>\n     </g>\n     <g id=\"line2d_202\">\n      <g>\n       <use xlink:href=\"#m256e66ddab\" x=\"250.128011\" y=\"290.25375\" style=\"fill: #555555; stroke: #555555; stroke-width: 0.8\"/>\n      </g>\n     </g>\n     <g id=\"text_101\">\n      <!-- 101 -->\n      <g style=\"fill: #555555\" transform=\"translate(240.584261 304.852187) scale(0.1 -0.1)\">\n       <use xlink:href=\"#DejaVuSans-31\"/>\n       <use xlink:href=\"#DejaVuSans-30\" x=\"63.623047\"/>\n       <use xlink:href=\"#DejaVuSans-31\" x=\"127.246094\"/>\n      </g>\n     </g>\n    </g>\n    <g id=\"xtick_102\">\n     <g id=\"line2d_203\">\n      <path d=\"M 251.81892 290.25375 \nL 251.81892 24.14175 \n\" clip-path=\"url(#p399d720b75)\" style=\"fill: none; stroke: #ffffff; stroke-width: 0.8; stroke-linecap: square\"/>\n     </g>\n     <g id=\"line2d_204\">\n      <g>\n       <use xlink:href=\"#m256e66ddab\" x=\"251.81892\" y=\"290.25375\" style=\"fill: #555555; stroke: #555555; stroke-width: 0.8\"/>\n      </g>\n     </g>\n     <g id=\"text_102\">\n      <!-- 102 -->\n      <g style=\"fill: #555555\" transform=\"translate(242.27517 304.852187) scale(0.1 -0.1)\">\n       <use xlink:href=\"#DejaVuSans-31\"/>\n       <use xlink:href=\"#DejaVuSans-30\" x=\"63.623047\"/>\n       <use xlink:href=\"#DejaVuSans-32\" x=\"127.246094\"/>\n      </g>\n     </g>\n    </g>\n    <g id=\"xtick_103\">\n     <g id=\"line2d_205\">\n      <path d=\"M 253.50983 290.25375 \nL 253.50983 24.14175 \n\" clip-path=\"url(#p399d720b75)\" style=\"fill: none; stroke: #ffffff; stroke-width: 0.8; stroke-linecap: square\"/>\n     </g>\n     <g id=\"line2d_206\">\n      <g>\n       <use xlink:href=\"#m256e66ddab\" x=\"253.50983\" y=\"290.25375\" style=\"fill: #555555; stroke: #555555; stroke-width: 0.8\"/>\n      </g>\n     </g>\n     <g id=\"text_103\">\n      <!-- 103 -->\n      <g style=\"fill: #555555\" transform=\"translate(243.96608 304.852187) scale(0.1 -0.1)\">\n       <use xlink:href=\"#DejaVuSans-31\"/>\n       <use xlink:href=\"#DejaVuSans-30\" x=\"63.623047\"/>\n       <use xlink:href=\"#DejaVuSans-33\" x=\"127.246094\"/>\n      </g>\n     </g>\n    </g>\n    <g id=\"xtick_104\">\n     <g id=\"line2d_207\">\n      <path d=\"M 255.200739 290.25375 \nL 255.200739 24.14175 \n\" clip-path=\"url(#p399d720b75)\" style=\"fill: none; stroke: #ffffff; stroke-width: 0.8; stroke-linecap: square\"/>\n     </g>\n     <g id=\"line2d_208\">\n      <g>\n       <use xlink:href=\"#m256e66ddab\" x=\"255.200739\" y=\"290.25375\" style=\"fill: #555555; stroke: #555555; stroke-width: 0.8\"/>\n      </g>\n     </g>\n     <g id=\"text_104\">\n      <!-- 104 -->\n      <g style=\"fill: #555555\" transform=\"translate(245.656989 304.852187) scale(0.1 -0.1)\">\n       <use xlink:href=\"#DejaVuSans-31\"/>\n       <use xlink:href=\"#DejaVuSans-30\" x=\"63.623047\"/>\n       <use xlink:href=\"#DejaVuSans-34\" x=\"127.246094\"/>\n      </g>\n     </g>\n    </g>\n    <g id=\"xtick_105\">\n     <g id=\"line2d_209\">\n      <path d=\"M 256.891648 290.25375 \nL 256.891648 24.14175 \n\" clip-path=\"url(#p399d720b75)\" style=\"fill: none; stroke: #ffffff; stroke-width: 0.8; stroke-linecap: square\"/>\n     </g>\n     <g id=\"line2d_210\">\n      <g>\n       <use xlink:href=\"#m256e66ddab\" x=\"256.891648\" y=\"290.25375\" style=\"fill: #555555; stroke: #555555; stroke-width: 0.8\"/>\n      </g>\n     </g>\n     <g id=\"text_105\">\n      <!-- 105 -->\n      <g style=\"fill: #555555\" transform=\"translate(247.347898 304.852187) scale(0.1 -0.1)\">\n       <use xlink:href=\"#DejaVuSans-31\"/>\n       <use xlink:href=\"#DejaVuSans-30\" x=\"63.623047\"/>\n       <use xlink:href=\"#DejaVuSans-35\" x=\"127.246094\"/>\n      </g>\n     </g>\n    </g>\n    <g id=\"xtick_106\">\n     <g id=\"line2d_211\">\n      <path d=\"M 258.582557 290.25375 \nL 258.582557 24.14175 \n\" clip-path=\"url(#p399d720b75)\" style=\"fill: none; stroke: #ffffff; stroke-width: 0.8; stroke-linecap: square\"/>\n     </g>\n     <g id=\"line2d_212\">\n      <g>\n       <use xlink:href=\"#m256e66ddab\" x=\"258.582557\" y=\"290.25375\" style=\"fill: #555555; stroke: #555555; stroke-width: 0.8\"/>\n      </g>\n     </g>\n     <g id=\"text_106\">\n      <!-- 106 -->\n      <g style=\"fill: #555555\" transform=\"translate(249.038807 304.852187) scale(0.1 -0.1)\">\n       <use xlink:href=\"#DejaVuSans-31\"/>\n       <use xlink:href=\"#DejaVuSans-30\" x=\"63.623047\"/>\n       <use xlink:href=\"#DejaVuSans-36\" x=\"127.246094\"/>\n      </g>\n     </g>\n    </g>\n    <g id=\"xtick_107\">\n     <g id=\"line2d_213\">\n      <path d=\"M 260.273466 290.25375 \nL 260.273466 24.14175 \n\" clip-path=\"url(#p399d720b75)\" style=\"fill: none; stroke: #ffffff; stroke-width: 0.8; stroke-linecap: square\"/>\n     </g>\n     <g id=\"line2d_214\">\n      <g>\n       <use xlink:href=\"#m256e66ddab\" x=\"260.273466\" y=\"290.25375\" style=\"fill: #555555; stroke: #555555; stroke-width: 0.8\"/>\n      </g>\n     </g>\n     <g id=\"text_107\">\n      <!-- 107 -->\n      <g style=\"fill: #555555\" transform=\"translate(250.729716 304.852187) scale(0.1 -0.1)\">\n       <use xlink:href=\"#DejaVuSans-31\"/>\n       <use xlink:href=\"#DejaVuSans-30\" x=\"63.623047\"/>\n       <use xlink:href=\"#DejaVuSans-37\" x=\"127.246094\"/>\n      </g>\n     </g>\n    </g>\n    <g id=\"xtick_108\">\n     <g id=\"line2d_215\">\n      <path d=\"M 261.964375 290.25375 \nL 261.964375 24.14175 \n\" clip-path=\"url(#p399d720b75)\" style=\"fill: none; stroke: #ffffff; stroke-width: 0.8; stroke-linecap: square\"/>\n     </g>\n     <g id=\"line2d_216\">\n      <g>\n       <use xlink:href=\"#m256e66ddab\" x=\"261.964375\" y=\"290.25375\" style=\"fill: #555555; stroke: #555555; stroke-width: 0.8\"/>\n      </g>\n     </g>\n     <g id=\"text_108\">\n      <!-- 108 -->\n      <g style=\"fill: #555555\" transform=\"translate(252.420625 304.852187) scale(0.1 -0.1)\">\n       <use xlink:href=\"#DejaVuSans-31\"/>\n       <use xlink:href=\"#DejaVuSans-30\" x=\"63.623047\"/>\n       <use xlink:href=\"#DejaVuSans-38\" x=\"127.246094\"/>\n      </g>\n     </g>\n    </g>\n    <g id=\"xtick_109\">\n     <g id=\"line2d_217\">\n      <path d=\"M 263.655284 290.25375 \nL 263.655284 24.14175 \n\" clip-path=\"url(#p399d720b75)\" style=\"fill: none; stroke: #ffffff; stroke-width: 0.8; stroke-linecap: square\"/>\n     </g>\n     <g id=\"line2d_218\">\n      <g>\n       <use xlink:href=\"#m256e66ddab\" x=\"263.655284\" y=\"290.25375\" style=\"fill: #555555; stroke: #555555; stroke-width: 0.8\"/>\n      </g>\n     </g>\n     <g id=\"text_109\">\n      <!-- 109 -->\n      <g style=\"fill: #555555\" transform=\"translate(254.111534 304.852187) scale(0.1 -0.1)\">\n       <use xlink:href=\"#DejaVuSans-31\"/>\n       <use xlink:href=\"#DejaVuSans-30\" x=\"63.623047\"/>\n       <use xlink:href=\"#DejaVuSans-39\" x=\"127.246094\"/>\n      </g>\n     </g>\n    </g>\n    <g id=\"xtick_110\">\n     <g id=\"line2d_219\">\n      <path d=\"M 265.346193 290.25375 \nL 265.346193 24.14175 \n\" clip-path=\"url(#p399d720b75)\" style=\"fill: none; stroke: #ffffff; stroke-width: 0.8; stroke-linecap: square\"/>\n     </g>\n     <g id=\"line2d_220\">\n      <g>\n       <use xlink:href=\"#m256e66ddab\" x=\"265.346193\" y=\"290.25375\" style=\"fill: #555555; stroke: #555555; stroke-width: 0.8\"/>\n      </g>\n     </g>\n     <g id=\"text_110\">\n      <!-- 110 -->\n      <g style=\"fill: #555555\" transform=\"translate(255.802443 304.852187) scale(0.1 -0.1)\">\n       <use xlink:href=\"#DejaVuSans-31\"/>\n       <use xlink:href=\"#DejaVuSans-31\" x=\"63.623047\"/>\n       <use xlink:href=\"#DejaVuSans-30\" x=\"127.246094\"/>\n      </g>\n     </g>\n    </g>\n    <g id=\"xtick_111\">\n     <g id=\"line2d_221\">\n      <path d=\"M 267.037102 290.25375 \nL 267.037102 24.14175 \n\" clip-path=\"url(#p399d720b75)\" style=\"fill: none; stroke: #ffffff; stroke-width: 0.8; stroke-linecap: square\"/>\n     </g>\n     <g id=\"line2d_222\">\n      <g>\n       <use xlink:href=\"#m256e66ddab\" x=\"267.037102\" y=\"290.25375\" style=\"fill: #555555; stroke: #555555; stroke-width: 0.8\"/>\n      </g>\n     </g>\n     <g id=\"text_111\">\n      <!-- 111 -->\n      <g style=\"fill: #555555\" transform=\"translate(257.493352 304.852187) scale(0.1 -0.1)\">\n       <use xlink:href=\"#DejaVuSans-31\"/>\n       <use xlink:href=\"#DejaVuSans-31\" x=\"63.623047\"/>\n       <use xlink:href=\"#DejaVuSans-31\" x=\"127.246094\"/>\n      </g>\n     </g>\n    </g>\n    <g id=\"xtick_112\">\n     <g id=\"line2d_223\">\n      <path d=\"M 268.728011 290.25375 \nL 268.728011 24.14175 \n\" clip-path=\"url(#p399d720b75)\" style=\"fill: none; stroke: #ffffff; stroke-width: 0.8; stroke-linecap: square\"/>\n     </g>\n     <g id=\"line2d_224\">\n      <g>\n       <use xlink:href=\"#m256e66ddab\" x=\"268.728011\" y=\"290.25375\" style=\"fill: #555555; stroke: #555555; stroke-width: 0.8\"/>\n      </g>\n     </g>\n     <g id=\"text_112\">\n      <!-- 112 -->\n      <g style=\"fill: #555555\" transform=\"translate(259.184261 304.852187) scale(0.1 -0.1)\">\n       <use xlink:href=\"#DejaVuSans-31\"/>\n       <use xlink:href=\"#DejaVuSans-31\" x=\"63.623047\"/>\n       <use xlink:href=\"#DejaVuSans-32\" x=\"127.246094\"/>\n      </g>\n     </g>\n    </g>\n    <g id=\"xtick_113\">\n     <g id=\"line2d_225\">\n      <path d=\"M 270.41892 290.25375 \nL 270.41892 24.14175 \n\" clip-path=\"url(#p399d720b75)\" style=\"fill: none; stroke: #ffffff; stroke-width: 0.8; stroke-linecap: square\"/>\n     </g>\n     <g id=\"line2d_226\">\n      <g>\n       <use xlink:href=\"#m256e66ddab\" x=\"270.41892\" y=\"290.25375\" style=\"fill: #555555; stroke: #555555; stroke-width: 0.8\"/>\n      </g>\n     </g>\n     <g id=\"text_113\">\n      <!-- 113 -->\n      <g style=\"fill: #555555\" transform=\"translate(260.87517 304.852187) scale(0.1 -0.1)\">\n       <use xlink:href=\"#DejaVuSans-31\"/>\n       <use xlink:href=\"#DejaVuSans-31\" x=\"63.623047\"/>\n       <use xlink:href=\"#DejaVuSans-33\" x=\"127.246094\"/>\n      </g>\n     </g>\n    </g>\n    <g id=\"xtick_114\">\n     <g id=\"line2d_227\">\n      <path d=\"M 272.10983 290.25375 \nL 272.10983 24.14175 \n\" clip-path=\"url(#p399d720b75)\" style=\"fill: none; stroke: #ffffff; stroke-width: 0.8; stroke-linecap: square\"/>\n     </g>\n     <g id=\"line2d_228\">\n      <g>\n       <use xlink:href=\"#m256e66ddab\" x=\"272.10983\" y=\"290.25375\" style=\"fill: #555555; stroke: #555555; stroke-width: 0.8\"/>\n      </g>\n     </g>\n     <g id=\"text_114\">\n      <!-- 114 -->\n      <g style=\"fill: #555555\" transform=\"translate(262.56608 304.852187) scale(0.1 -0.1)\">\n       <use xlink:href=\"#DejaVuSans-31\"/>\n       <use xlink:href=\"#DejaVuSans-31\" x=\"63.623047\"/>\n       <use xlink:href=\"#DejaVuSans-34\" x=\"127.246094\"/>\n      </g>\n     </g>\n    </g>\n    <g id=\"xtick_115\">\n     <g id=\"line2d_229\">\n      <path d=\"M 273.800739 290.25375 \nL 273.800739 24.14175 \n\" clip-path=\"url(#p399d720b75)\" style=\"fill: none; stroke: #ffffff; stroke-width: 0.8; stroke-linecap: square\"/>\n     </g>\n     <g id=\"line2d_230\">\n      <g>\n       <use xlink:href=\"#m256e66ddab\" x=\"273.800739\" y=\"290.25375\" style=\"fill: #555555; stroke: #555555; stroke-width: 0.8\"/>\n      </g>\n     </g>\n     <g id=\"text_115\">\n      <!-- 115 -->\n      <g style=\"fill: #555555\" transform=\"translate(264.256989 304.852187) scale(0.1 -0.1)\">\n       <use xlink:href=\"#DejaVuSans-31\"/>\n       <use xlink:href=\"#DejaVuSans-31\" x=\"63.623047\"/>\n       <use xlink:href=\"#DejaVuSans-35\" x=\"127.246094\"/>\n      </g>\n     </g>\n    </g>\n    <g id=\"xtick_116\">\n     <g id=\"line2d_231\">\n      <path d=\"M 275.491648 290.25375 \nL 275.491648 24.14175 \n\" clip-path=\"url(#p399d720b75)\" style=\"fill: none; stroke: #ffffff; stroke-width: 0.8; stroke-linecap: square\"/>\n     </g>\n     <g id=\"line2d_232\">\n      <g>\n       <use xlink:href=\"#m256e66ddab\" x=\"275.491648\" y=\"290.25375\" style=\"fill: #555555; stroke: #555555; stroke-width: 0.8\"/>\n      </g>\n     </g>\n     <g id=\"text_116\">\n      <!-- 116 -->\n      <g style=\"fill: #555555\" transform=\"translate(265.947898 304.852187) scale(0.1 -0.1)\">\n       <use xlink:href=\"#DejaVuSans-31\"/>\n       <use xlink:href=\"#DejaVuSans-31\" x=\"63.623047\"/>\n       <use xlink:href=\"#DejaVuSans-36\" x=\"127.246094\"/>\n      </g>\n     </g>\n    </g>\n    <g id=\"xtick_117\">\n     <g id=\"line2d_233\">\n      <path d=\"M 277.182557 290.25375 \nL 277.182557 24.14175 \n\" clip-path=\"url(#p399d720b75)\" style=\"fill: none; stroke: #ffffff; stroke-width: 0.8; stroke-linecap: square\"/>\n     </g>\n     <g id=\"line2d_234\">\n      <g>\n       <use xlink:href=\"#m256e66ddab\" x=\"277.182557\" y=\"290.25375\" style=\"fill: #555555; stroke: #555555; stroke-width: 0.8\"/>\n      </g>\n     </g>\n     <g id=\"text_117\">\n      <!-- 117 -->\n      <g style=\"fill: #555555\" transform=\"translate(267.638807 304.852187) scale(0.1 -0.1)\">\n       <use xlink:href=\"#DejaVuSans-31\"/>\n       <use xlink:href=\"#DejaVuSans-31\" x=\"63.623047\"/>\n       <use xlink:href=\"#DejaVuSans-37\" x=\"127.246094\"/>\n      </g>\n     </g>\n    </g>\n    <g id=\"xtick_118\">\n     <g id=\"line2d_235\">\n      <path d=\"M 278.873466 290.25375 \nL 278.873466 24.14175 \n\" clip-path=\"url(#p399d720b75)\" style=\"fill: none; stroke: #ffffff; stroke-width: 0.8; stroke-linecap: square\"/>\n     </g>\n     <g id=\"line2d_236\">\n      <g>\n       <use xlink:href=\"#m256e66ddab\" x=\"278.873466\" y=\"290.25375\" style=\"fill: #555555; stroke: #555555; stroke-width: 0.8\"/>\n      </g>\n     </g>\n     <g id=\"text_118\">\n      <!-- 118 -->\n      <g style=\"fill: #555555\" transform=\"translate(269.329716 304.852187) scale(0.1 -0.1)\">\n       <use xlink:href=\"#DejaVuSans-31\"/>\n       <use xlink:href=\"#DejaVuSans-31\" x=\"63.623047\"/>\n       <use xlink:href=\"#DejaVuSans-38\" x=\"127.246094\"/>\n      </g>\n     </g>\n    </g>\n    <g id=\"xtick_119\">\n     <g id=\"line2d_237\">\n      <path d=\"M 280.564375 290.25375 \nL 280.564375 24.14175 \n\" clip-path=\"url(#p399d720b75)\" style=\"fill: none; stroke: #ffffff; stroke-width: 0.8; stroke-linecap: square\"/>\n     </g>\n     <g id=\"line2d_238\">\n      <g>\n       <use xlink:href=\"#m256e66ddab\" x=\"280.564375\" y=\"290.25375\" style=\"fill: #555555; stroke: #555555; stroke-width: 0.8\"/>\n      </g>\n     </g>\n     <g id=\"text_119\">\n      <!-- 119 -->\n      <g style=\"fill: #555555\" transform=\"translate(271.020625 304.852187) scale(0.1 -0.1)\">\n       <use xlink:href=\"#DejaVuSans-31\"/>\n       <use xlink:href=\"#DejaVuSans-31\" x=\"63.623047\"/>\n       <use xlink:href=\"#DejaVuSans-39\" x=\"127.246094\"/>\n      </g>\n     </g>\n    </g>\n    <g id=\"xtick_120\">\n     <g id=\"line2d_239\">\n      <path d=\"M 282.255284 290.25375 \nL 282.255284 24.14175 \n\" clip-path=\"url(#p399d720b75)\" style=\"fill: none; stroke: #ffffff; stroke-width: 0.8; stroke-linecap: square\"/>\n     </g>\n     <g id=\"line2d_240\">\n      <g>\n       <use xlink:href=\"#m256e66ddab\" x=\"282.255284\" y=\"290.25375\" style=\"fill: #555555; stroke: #555555; stroke-width: 0.8\"/>\n      </g>\n     </g>\n     <g id=\"text_120\">\n      <!-- 120 -->\n      <g style=\"fill: #555555\" transform=\"translate(272.711534 304.852187) scale(0.1 -0.1)\">\n       <use xlink:href=\"#DejaVuSans-31\"/>\n       <use xlink:href=\"#DejaVuSans-32\" x=\"63.623047\"/>\n       <use xlink:href=\"#DejaVuSans-30\" x=\"127.246094\"/>\n      </g>\n     </g>\n    </g>\n    <g id=\"xtick_121\">\n     <g id=\"line2d_241\">\n      <path d=\"M 283.946193 290.25375 \nL 283.946193 24.14175 \n\" clip-path=\"url(#p399d720b75)\" style=\"fill: none; stroke: #ffffff; stroke-width: 0.8; stroke-linecap: square\"/>\n     </g>\n     <g id=\"line2d_242\">\n      <g>\n       <use xlink:href=\"#m256e66ddab\" x=\"283.946193\" y=\"290.25375\" style=\"fill: #555555; stroke: #555555; stroke-width: 0.8\"/>\n      </g>\n     </g>\n     <g id=\"text_121\">\n      <!-- 121 -->\n      <g style=\"fill: #555555\" transform=\"translate(274.402443 304.852187) scale(0.1 -0.1)\">\n       <use xlink:href=\"#DejaVuSans-31\"/>\n       <use xlink:href=\"#DejaVuSans-32\" x=\"63.623047\"/>\n       <use xlink:href=\"#DejaVuSans-31\" x=\"127.246094\"/>\n      </g>\n     </g>\n    </g>\n    <g id=\"xtick_122\">\n     <g id=\"line2d_243\">\n      <path d=\"M 285.637102 290.25375 \nL 285.637102 24.14175 \n\" clip-path=\"url(#p399d720b75)\" style=\"fill: none; stroke: #ffffff; stroke-width: 0.8; stroke-linecap: square\"/>\n     </g>\n     <g id=\"line2d_244\">\n      <g>\n       <use xlink:href=\"#m256e66ddab\" x=\"285.637102\" y=\"290.25375\" style=\"fill: #555555; stroke: #555555; stroke-width: 0.8\"/>\n      </g>\n     </g>\n     <g id=\"text_122\">\n      <!-- 122 -->\n      <g style=\"fill: #555555\" transform=\"translate(276.093352 304.852187) scale(0.1 -0.1)\">\n       <use xlink:href=\"#DejaVuSans-31\"/>\n       <use xlink:href=\"#DejaVuSans-32\" x=\"63.623047\"/>\n       <use xlink:href=\"#DejaVuSans-32\" x=\"127.246094\"/>\n      </g>\n     </g>\n    </g>\n    <g id=\"xtick_123\">\n     <g id=\"line2d_245\">\n      <path d=\"M 287.328011 290.25375 \nL 287.328011 24.14175 \n\" clip-path=\"url(#p399d720b75)\" style=\"fill: none; stroke: #ffffff; stroke-width: 0.8; stroke-linecap: square\"/>\n     </g>\n     <g id=\"line2d_246\">\n      <g>\n       <use xlink:href=\"#m256e66ddab\" x=\"287.328011\" y=\"290.25375\" style=\"fill: #555555; stroke: #555555; stroke-width: 0.8\"/>\n      </g>\n     </g>\n     <g id=\"text_123\">\n      <!-- 123 -->\n      <g style=\"fill: #555555\" transform=\"translate(277.784261 304.852187) scale(0.1 -0.1)\">\n       <use xlink:href=\"#DejaVuSans-31\"/>\n       <use xlink:href=\"#DejaVuSans-32\" x=\"63.623047\"/>\n       <use xlink:href=\"#DejaVuSans-33\" x=\"127.246094\"/>\n      </g>\n     </g>\n    </g>\n    <g id=\"xtick_124\">\n     <g id=\"line2d_247\">\n      <path d=\"M 289.01892 290.25375 \nL 289.01892 24.14175 \n\" clip-path=\"url(#p399d720b75)\" style=\"fill: none; stroke: #ffffff; stroke-width: 0.8; stroke-linecap: square\"/>\n     </g>\n     <g id=\"line2d_248\">\n      <g>\n       <use xlink:href=\"#m256e66ddab\" x=\"289.01892\" y=\"290.25375\" style=\"fill: #555555; stroke: #555555; stroke-width: 0.8\"/>\n      </g>\n     </g>\n     <g id=\"text_124\">\n      <!-- 124 -->\n      <g style=\"fill: #555555\" transform=\"translate(279.47517 304.852187) scale(0.1 -0.1)\">\n       <use xlink:href=\"#DejaVuSans-31\"/>\n       <use xlink:href=\"#DejaVuSans-32\" x=\"63.623047\"/>\n       <use xlink:href=\"#DejaVuSans-34\" x=\"127.246094\"/>\n      </g>\n     </g>\n    </g>\n    <g id=\"xtick_125\">\n     <g id=\"line2d_249\">\n      <path d=\"M 290.70983 290.25375 \nL 290.70983 24.14175 \n\" clip-path=\"url(#p399d720b75)\" style=\"fill: none; stroke: #ffffff; stroke-width: 0.8; stroke-linecap: square\"/>\n     </g>\n     <g id=\"line2d_250\">\n      <g>\n       <use xlink:href=\"#m256e66ddab\" x=\"290.70983\" y=\"290.25375\" style=\"fill: #555555; stroke: #555555; stroke-width: 0.8\"/>\n      </g>\n     </g>\n     <g id=\"text_125\">\n      <!-- 125 -->\n      <g style=\"fill: #555555\" transform=\"translate(281.16608 304.852187) scale(0.1 -0.1)\">\n       <use xlink:href=\"#DejaVuSans-31\"/>\n       <use xlink:href=\"#DejaVuSans-32\" x=\"63.623047\"/>\n       <use xlink:href=\"#DejaVuSans-35\" x=\"127.246094\"/>\n      </g>\n     </g>\n    </g>\n    <g id=\"xtick_126\">\n     <g id=\"line2d_251\">\n      <path d=\"M 292.400739 290.25375 \nL 292.400739 24.14175 \n\" clip-path=\"url(#p399d720b75)\" style=\"fill: none; stroke: #ffffff; stroke-width: 0.8; stroke-linecap: square\"/>\n     </g>\n     <g id=\"line2d_252\">\n      <g>\n       <use xlink:href=\"#m256e66ddab\" x=\"292.400739\" y=\"290.25375\" style=\"fill: #555555; stroke: #555555; stroke-width: 0.8\"/>\n      </g>\n     </g>\n     <g id=\"text_126\">\n      <!-- 126 -->\n      <g style=\"fill: #555555\" transform=\"translate(282.856989 304.852187) scale(0.1 -0.1)\">\n       <use xlink:href=\"#DejaVuSans-31\"/>\n       <use xlink:href=\"#DejaVuSans-32\" x=\"63.623047\"/>\n       <use xlink:href=\"#DejaVuSans-36\" x=\"127.246094\"/>\n      </g>\n     </g>\n    </g>\n    <g id=\"xtick_127\">\n     <g id=\"line2d_253\">\n      <path d=\"M 294.091648 290.25375 \nL 294.091648 24.14175 \n\" clip-path=\"url(#p399d720b75)\" style=\"fill: none; stroke: #ffffff; stroke-width: 0.8; stroke-linecap: square\"/>\n     </g>\n     <g id=\"line2d_254\">\n      <g>\n       <use xlink:href=\"#m256e66ddab\" x=\"294.091648\" y=\"290.25375\" style=\"fill: #555555; stroke: #555555; stroke-width: 0.8\"/>\n      </g>\n     </g>\n     <g id=\"text_127\">\n      <!-- 127 -->\n      <g style=\"fill: #555555\" transform=\"translate(284.547898 304.852187) scale(0.1 -0.1)\">\n       <use xlink:href=\"#DejaVuSans-31\"/>\n       <use xlink:href=\"#DejaVuSans-32\" x=\"63.623047\"/>\n       <use xlink:href=\"#DejaVuSans-37\" x=\"127.246094\"/>\n      </g>\n     </g>\n    </g>\n    <g id=\"xtick_128\">\n     <g id=\"line2d_255\">\n      <path d=\"M 295.782557 290.25375 \nL 295.782557 24.14175 \n\" clip-path=\"url(#p399d720b75)\" style=\"fill: none; stroke: #ffffff; stroke-width: 0.8; stroke-linecap: square\"/>\n     </g>\n     <g id=\"line2d_256\">\n      <g>\n       <use xlink:href=\"#m256e66ddab\" x=\"295.782557\" y=\"290.25375\" style=\"fill: #555555; stroke: #555555; stroke-width: 0.8\"/>\n      </g>\n     </g>\n     <g id=\"text_128\">\n      <!-- 128 -->\n      <g style=\"fill: #555555\" transform=\"translate(286.238807 304.852187) scale(0.1 -0.1)\">\n       <use xlink:href=\"#DejaVuSans-31\"/>\n       <use xlink:href=\"#DejaVuSans-32\" x=\"63.623047\"/>\n       <use xlink:href=\"#DejaVuSans-38\" x=\"127.246094\"/>\n      </g>\n     </g>\n    </g>\n    <g id=\"xtick_129\">\n     <g id=\"line2d_257\">\n      <path d=\"M 297.473466 290.25375 \nL 297.473466 24.14175 \n\" clip-path=\"url(#p399d720b75)\" style=\"fill: none; stroke: #ffffff; stroke-width: 0.8; stroke-linecap: square\"/>\n     </g>\n     <g id=\"line2d_258\">\n      <g>\n       <use xlink:href=\"#m256e66ddab\" x=\"297.473466\" y=\"290.25375\" style=\"fill: #555555; stroke: #555555; stroke-width: 0.8\"/>\n      </g>\n     </g>\n     <g id=\"text_129\">\n      <!-- 129 -->\n      <g style=\"fill: #555555\" transform=\"translate(287.929716 304.852187) scale(0.1 -0.1)\">\n       <use xlink:href=\"#DejaVuSans-31\"/>\n       <use xlink:href=\"#DejaVuSans-32\" x=\"63.623047\"/>\n       <use xlink:href=\"#DejaVuSans-39\" x=\"127.246094\"/>\n      </g>\n     </g>\n    </g>\n    <g id=\"xtick_130\">\n     <g id=\"line2d_259\">\n      <path d=\"M 299.164375 290.25375 \nL 299.164375 24.14175 \n\" clip-path=\"url(#p399d720b75)\" style=\"fill: none; stroke: #ffffff; stroke-width: 0.8; stroke-linecap: square\"/>\n     </g>\n     <g id=\"line2d_260\">\n      <g>\n       <use xlink:href=\"#m256e66ddab\" x=\"299.164375\" y=\"290.25375\" style=\"fill: #555555; stroke: #555555; stroke-width: 0.8\"/>\n      </g>\n     </g>\n     <g id=\"text_130\">\n      <!-- 130 -->\n      <g style=\"fill: #555555\" transform=\"translate(289.620625 304.852187) scale(0.1 -0.1)\">\n       <use xlink:href=\"#DejaVuSans-31\"/>\n       <use xlink:href=\"#DejaVuSans-33\" x=\"63.623047\"/>\n       <use xlink:href=\"#DejaVuSans-30\" x=\"127.246094\"/>\n      </g>\n     </g>\n    </g>\n    <g id=\"xtick_131\">\n     <g id=\"line2d_261\">\n      <path d=\"M 300.855284 290.25375 \nL 300.855284 24.14175 \n\" clip-path=\"url(#p399d720b75)\" style=\"fill: none; stroke: #ffffff; stroke-width: 0.8; stroke-linecap: square\"/>\n     </g>\n     <g id=\"line2d_262\">\n      <g>\n       <use xlink:href=\"#m256e66ddab\" x=\"300.855284\" y=\"290.25375\" style=\"fill: #555555; stroke: #555555; stroke-width: 0.8\"/>\n      </g>\n     </g>\n     <g id=\"text_131\">\n      <!-- 131 -->\n      <g style=\"fill: #555555\" transform=\"translate(291.311534 304.852187) scale(0.1 -0.1)\">\n       <use xlink:href=\"#DejaVuSans-31\"/>\n       <use xlink:href=\"#DejaVuSans-33\" x=\"63.623047\"/>\n       <use xlink:href=\"#DejaVuSans-31\" x=\"127.246094\"/>\n      </g>\n     </g>\n    </g>\n    <g id=\"xtick_132\">\n     <g id=\"line2d_263\">\n      <path d=\"M 302.546193 290.25375 \nL 302.546193 24.14175 \n\" clip-path=\"url(#p399d720b75)\" style=\"fill: none; stroke: #ffffff; stroke-width: 0.8; stroke-linecap: square\"/>\n     </g>\n     <g id=\"line2d_264\">\n      <g>\n       <use xlink:href=\"#m256e66ddab\" x=\"302.546193\" y=\"290.25375\" style=\"fill: #555555; stroke: #555555; stroke-width: 0.8\"/>\n      </g>\n     </g>\n     <g id=\"text_132\">\n      <!-- 132 -->\n      <g style=\"fill: #555555\" transform=\"translate(293.002443 304.852187) scale(0.1 -0.1)\">\n       <use xlink:href=\"#DejaVuSans-31\"/>\n       <use xlink:href=\"#DejaVuSans-33\" x=\"63.623047\"/>\n       <use xlink:href=\"#DejaVuSans-32\" x=\"127.246094\"/>\n      </g>\n     </g>\n    </g>\n    <g id=\"xtick_133\">\n     <g id=\"line2d_265\">\n      <path d=\"M 304.237102 290.25375 \nL 304.237102 24.14175 \n\" clip-path=\"url(#p399d720b75)\" style=\"fill: none; stroke: #ffffff; stroke-width: 0.8; stroke-linecap: square\"/>\n     </g>\n     <g id=\"line2d_266\">\n      <g>\n       <use xlink:href=\"#m256e66ddab\" x=\"304.237102\" y=\"290.25375\" style=\"fill: #555555; stroke: #555555; stroke-width: 0.8\"/>\n      </g>\n     </g>\n     <g id=\"text_133\">\n      <!-- 133 -->\n      <g style=\"fill: #555555\" transform=\"translate(294.693352 304.852187) scale(0.1 -0.1)\">\n       <use xlink:href=\"#DejaVuSans-31\"/>\n       <use xlink:href=\"#DejaVuSans-33\" x=\"63.623047\"/>\n       <use xlink:href=\"#DejaVuSans-33\" x=\"127.246094\"/>\n      </g>\n     </g>\n    </g>\n    <g id=\"xtick_134\">\n     <g id=\"line2d_267\">\n      <path d=\"M 305.928011 290.25375 \nL 305.928011 24.14175 \n\" clip-path=\"url(#p399d720b75)\" style=\"fill: none; stroke: #ffffff; stroke-width: 0.8; stroke-linecap: square\"/>\n     </g>\n     <g id=\"line2d_268\">\n      <g>\n       <use xlink:href=\"#m256e66ddab\" x=\"305.928011\" y=\"290.25375\" style=\"fill: #555555; stroke: #555555; stroke-width: 0.8\"/>\n      </g>\n     </g>\n     <g id=\"text_134\">\n      <!-- 134 -->\n      <g style=\"fill: #555555\" transform=\"translate(296.384261 304.852187) scale(0.1 -0.1)\">\n       <use xlink:href=\"#DejaVuSans-31\"/>\n       <use xlink:href=\"#DejaVuSans-33\" x=\"63.623047\"/>\n       <use xlink:href=\"#DejaVuSans-34\" x=\"127.246094\"/>\n      </g>\n     </g>\n    </g>\n    <g id=\"xtick_135\">\n     <g id=\"line2d_269\">\n      <path d=\"M 307.61892 290.25375 \nL 307.61892 24.14175 \n\" clip-path=\"url(#p399d720b75)\" style=\"fill: none; stroke: #ffffff; stroke-width: 0.8; stroke-linecap: square\"/>\n     </g>\n     <g id=\"line2d_270\">\n      <g>\n       <use xlink:href=\"#m256e66ddab\" x=\"307.61892\" y=\"290.25375\" style=\"fill: #555555; stroke: #555555; stroke-width: 0.8\"/>\n      </g>\n     </g>\n     <g id=\"text_135\">\n      <!-- 135 -->\n      <g style=\"fill: #555555\" transform=\"translate(298.07517 304.852187) scale(0.1 -0.1)\">\n       <use xlink:href=\"#DejaVuSans-31\"/>\n       <use xlink:href=\"#DejaVuSans-33\" x=\"63.623047\"/>\n       <use xlink:href=\"#DejaVuSans-35\" x=\"127.246094\"/>\n      </g>\n     </g>\n    </g>\n    <g id=\"xtick_136\">\n     <g id=\"line2d_271\">\n      <path d=\"M 309.30983 290.25375 \nL 309.30983 24.14175 \n\" clip-path=\"url(#p399d720b75)\" style=\"fill: none; stroke: #ffffff; stroke-width: 0.8; stroke-linecap: square\"/>\n     </g>\n     <g id=\"line2d_272\">\n      <g>\n       <use xlink:href=\"#m256e66ddab\" x=\"309.30983\" y=\"290.25375\" style=\"fill: #555555; stroke: #555555; stroke-width: 0.8\"/>\n      </g>\n     </g>\n     <g id=\"text_136\">\n      <!-- 136 -->\n      <g style=\"fill: #555555\" transform=\"translate(299.76608 304.852187) scale(0.1 -0.1)\">\n       <use xlink:href=\"#DejaVuSans-31\"/>\n       <use xlink:href=\"#DejaVuSans-33\" x=\"63.623047\"/>\n       <use xlink:href=\"#DejaVuSans-36\" x=\"127.246094\"/>\n      </g>\n     </g>\n    </g>\n    <g id=\"xtick_137\">\n     <g id=\"line2d_273\">\n      <path d=\"M 311.000739 290.25375 \nL 311.000739 24.14175 \n\" clip-path=\"url(#p399d720b75)\" style=\"fill: none; stroke: #ffffff; stroke-width: 0.8; stroke-linecap: square\"/>\n     </g>\n     <g id=\"line2d_274\">\n      <g>\n       <use xlink:href=\"#m256e66ddab\" x=\"311.000739\" y=\"290.25375\" style=\"fill: #555555; stroke: #555555; stroke-width: 0.8\"/>\n      </g>\n     </g>\n     <g id=\"text_137\">\n      <!-- 137 -->\n      <g style=\"fill: #555555\" transform=\"translate(301.456989 304.852187) scale(0.1 -0.1)\">\n       <use xlink:href=\"#DejaVuSans-31\"/>\n       <use xlink:href=\"#DejaVuSans-33\" x=\"63.623047\"/>\n       <use xlink:href=\"#DejaVuSans-37\" x=\"127.246094\"/>\n      </g>\n     </g>\n    </g>\n    <g id=\"xtick_138\">\n     <g id=\"line2d_275\">\n      <path d=\"M 312.691648 290.25375 \nL 312.691648 24.14175 \n\" clip-path=\"url(#p399d720b75)\" style=\"fill: none; stroke: #ffffff; stroke-width: 0.8; stroke-linecap: square\"/>\n     </g>\n     <g id=\"line2d_276\">\n      <g>\n       <use xlink:href=\"#m256e66ddab\" x=\"312.691648\" y=\"290.25375\" style=\"fill: #555555; stroke: #555555; stroke-width: 0.8\"/>\n      </g>\n     </g>\n     <g id=\"text_138\">\n      <!-- 138 -->\n      <g style=\"fill: #555555\" transform=\"translate(303.147898 304.852187) scale(0.1 -0.1)\">\n       <use xlink:href=\"#DejaVuSans-31\"/>\n       <use xlink:href=\"#DejaVuSans-33\" x=\"63.623047\"/>\n       <use xlink:href=\"#DejaVuSans-38\" x=\"127.246094\"/>\n      </g>\n     </g>\n    </g>\n    <g id=\"xtick_139\">\n     <g id=\"line2d_277\">\n      <path d=\"M 314.382557 290.25375 \nL 314.382557 24.14175 \n\" clip-path=\"url(#p399d720b75)\" style=\"fill: none; stroke: #ffffff; stroke-width: 0.8; stroke-linecap: square\"/>\n     </g>\n     <g id=\"line2d_278\">\n      <g>\n       <use xlink:href=\"#m256e66ddab\" x=\"314.382557\" y=\"290.25375\" style=\"fill: #555555; stroke: #555555; stroke-width: 0.8\"/>\n      </g>\n     </g>\n     <g id=\"text_139\">\n      <!-- 139 -->\n      <g style=\"fill: #555555\" transform=\"translate(304.838807 304.852187) scale(0.1 -0.1)\">\n       <use xlink:href=\"#DejaVuSans-31\"/>\n       <use xlink:href=\"#DejaVuSans-33\" x=\"63.623047\"/>\n       <use xlink:href=\"#DejaVuSans-39\" x=\"127.246094\"/>\n      </g>\n     </g>\n    </g>\n    <g id=\"xtick_140\">\n     <g id=\"line2d_279\">\n      <path d=\"M 316.073466 290.25375 \nL 316.073466 24.14175 \n\" clip-path=\"url(#p399d720b75)\" style=\"fill: none; stroke: #ffffff; stroke-width: 0.8; stroke-linecap: square\"/>\n     </g>\n     <g id=\"line2d_280\">\n      <g>\n       <use xlink:href=\"#m256e66ddab\" x=\"316.073466\" y=\"290.25375\" style=\"fill: #555555; stroke: #555555; stroke-width: 0.8\"/>\n      </g>\n     </g>\n     <g id=\"text_140\">\n      <!-- 140 -->\n      <g style=\"fill: #555555\" transform=\"translate(306.529716 304.852187) scale(0.1 -0.1)\">\n       <use xlink:href=\"#DejaVuSans-31\"/>\n       <use xlink:href=\"#DejaVuSans-34\" x=\"63.623047\"/>\n       <use xlink:href=\"#DejaVuSans-30\" x=\"127.246094\"/>\n      </g>\n     </g>\n    </g>\n    <g id=\"xtick_141\">\n     <g id=\"line2d_281\">\n      <path d=\"M 317.764375 290.25375 \nL 317.764375 24.14175 \n\" clip-path=\"url(#p399d720b75)\" style=\"fill: none; stroke: #ffffff; stroke-width: 0.8; stroke-linecap: square\"/>\n     </g>\n     <g id=\"line2d_282\">\n      <g>\n       <use xlink:href=\"#m256e66ddab\" x=\"317.764375\" y=\"290.25375\" style=\"fill: #555555; stroke: #555555; stroke-width: 0.8\"/>\n      </g>\n     </g>\n     <g id=\"text_141\">\n      <!-- 141 -->\n      <g style=\"fill: #555555\" transform=\"translate(308.220625 304.852187) scale(0.1 -0.1)\">\n       <use xlink:href=\"#DejaVuSans-31\"/>\n       <use xlink:href=\"#DejaVuSans-34\" x=\"63.623047\"/>\n       <use xlink:href=\"#DejaVuSans-31\" x=\"127.246094\"/>\n      </g>\n     </g>\n    </g>\n    <g id=\"xtick_142\">\n     <g id=\"line2d_283\">\n      <path d=\"M 319.455284 290.25375 \nL 319.455284 24.14175 \n\" clip-path=\"url(#p399d720b75)\" style=\"fill: none; stroke: #ffffff; stroke-width: 0.8; stroke-linecap: square\"/>\n     </g>\n     <g id=\"line2d_284\">\n      <g>\n       <use xlink:href=\"#m256e66ddab\" x=\"319.455284\" y=\"290.25375\" style=\"fill: #555555; stroke: #555555; stroke-width: 0.8\"/>\n      </g>\n     </g>\n     <g id=\"text_142\">\n      <!-- 142 -->\n      <g style=\"fill: #555555\" transform=\"translate(309.911534 304.852187) scale(0.1 -0.1)\">\n       <use xlink:href=\"#DejaVuSans-31\"/>\n       <use xlink:href=\"#DejaVuSans-34\" x=\"63.623047\"/>\n       <use xlink:href=\"#DejaVuSans-32\" x=\"127.246094\"/>\n      </g>\n     </g>\n    </g>\n    <g id=\"xtick_143\">\n     <g id=\"line2d_285\">\n      <path d=\"M 321.146193 290.25375 \nL 321.146193 24.14175 \n\" clip-path=\"url(#p399d720b75)\" style=\"fill: none; stroke: #ffffff; stroke-width: 0.8; stroke-linecap: square\"/>\n     </g>\n     <g id=\"line2d_286\">\n      <g>\n       <use xlink:href=\"#m256e66ddab\" x=\"321.146193\" y=\"290.25375\" style=\"fill: #555555; stroke: #555555; stroke-width: 0.8\"/>\n      </g>\n     </g>\n     <g id=\"text_143\">\n      <!-- 143 -->\n      <g style=\"fill: #555555\" transform=\"translate(311.602443 304.852187) scale(0.1 -0.1)\">\n       <use xlink:href=\"#DejaVuSans-31\"/>\n       <use xlink:href=\"#DejaVuSans-34\" x=\"63.623047\"/>\n       <use xlink:href=\"#DejaVuSans-33\" x=\"127.246094\"/>\n      </g>\n     </g>\n    </g>\n    <g id=\"xtick_144\">\n     <g id=\"line2d_287\">\n      <path d=\"M 322.837102 290.25375 \nL 322.837102 24.14175 \n\" clip-path=\"url(#p399d720b75)\" style=\"fill: none; stroke: #ffffff; stroke-width: 0.8; stroke-linecap: square\"/>\n     </g>\n     <g id=\"line2d_288\">\n      <g>\n       <use xlink:href=\"#m256e66ddab\" x=\"322.837102\" y=\"290.25375\" style=\"fill: #555555; stroke: #555555; stroke-width: 0.8\"/>\n      </g>\n     </g>\n     <g id=\"text_144\">\n      <!-- 144 -->\n      <g style=\"fill: #555555\" transform=\"translate(313.293352 304.852187) scale(0.1 -0.1)\">\n       <use xlink:href=\"#DejaVuSans-31\"/>\n       <use xlink:href=\"#DejaVuSans-34\" x=\"63.623047\"/>\n       <use xlink:href=\"#DejaVuSans-34\" x=\"127.246094\"/>\n      </g>\n     </g>\n    </g>\n    <g id=\"xtick_145\">\n     <g id=\"line2d_289\">\n      <path d=\"M 324.528011 290.25375 \nL 324.528011 24.14175 \n\" clip-path=\"url(#p399d720b75)\" style=\"fill: none; stroke: #ffffff; stroke-width: 0.8; stroke-linecap: square\"/>\n     </g>\n     <g id=\"line2d_290\">\n      <g>\n       <use xlink:href=\"#m256e66ddab\" x=\"324.528011\" y=\"290.25375\" style=\"fill: #555555; stroke: #555555; stroke-width: 0.8\"/>\n      </g>\n     </g>\n     <g id=\"text_145\">\n      <!-- 145 -->\n      <g style=\"fill: #555555\" transform=\"translate(314.984261 304.852187) scale(0.1 -0.1)\">\n       <use xlink:href=\"#DejaVuSans-31\"/>\n       <use xlink:href=\"#DejaVuSans-34\" x=\"63.623047\"/>\n       <use xlink:href=\"#DejaVuSans-35\" x=\"127.246094\"/>\n      </g>\n     </g>\n    </g>\n    <g id=\"xtick_146\">\n     <g id=\"line2d_291\">\n      <path d=\"M 326.21892 290.25375 \nL 326.21892 24.14175 \n\" clip-path=\"url(#p399d720b75)\" style=\"fill: none; stroke: #ffffff; stroke-width: 0.8; stroke-linecap: square\"/>\n     </g>\n     <g id=\"line2d_292\">\n      <g>\n       <use xlink:href=\"#m256e66ddab\" x=\"326.21892\" y=\"290.25375\" style=\"fill: #555555; stroke: #555555; stroke-width: 0.8\"/>\n      </g>\n     </g>\n     <g id=\"text_146\">\n      <!-- 146 -->\n      <g style=\"fill: #555555\" transform=\"translate(316.67517 304.852187) scale(0.1 -0.1)\">\n       <use xlink:href=\"#DejaVuSans-31\"/>\n       <use xlink:href=\"#DejaVuSans-34\" x=\"63.623047\"/>\n       <use xlink:href=\"#DejaVuSans-36\" x=\"127.246094\"/>\n      </g>\n     </g>\n    </g>\n    <g id=\"xtick_147\">\n     <g id=\"line2d_293\">\n      <path d=\"M 327.90983 290.25375 \nL 327.90983 24.14175 \n\" clip-path=\"url(#p399d720b75)\" style=\"fill: none; stroke: #ffffff; stroke-width: 0.8; stroke-linecap: square\"/>\n     </g>\n     <g id=\"line2d_294\">\n      <g>\n       <use xlink:href=\"#m256e66ddab\" x=\"327.90983\" y=\"290.25375\" style=\"fill: #555555; stroke: #555555; stroke-width: 0.8\"/>\n      </g>\n     </g>\n     <g id=\"text_147\">\n      <!-- 147 -->\n      <g style=\"fill: #555555\" transform=\"translate(318.36608 304.852187) scale(0.1 -0.1)\">\n       <use xlink:href=\"#DejaVuSans-31\"/>\n       <use xlink:href=\"#DejaVuSans-34\" x=\"63.623047\"/>\n       <use xlink:href=\"#DejaVuSans-37\" x=\"127.246094\"/>\n      </g>\n     </g>\n    </g>\n    <g id=\"xtick_148\">\n     <g id=\"line2d_295\">\n      <path d=\"M 329.600739 290.25375 \nL 329.600739 24.14175 \n\" clip-path=\"url(#p399d720b75)\" style=\"fill: none; stroke: #ffffff; stroke-width: 0.8; stroke-linecap: square\"/>\n     </g>\n     <g id=\"line2d_296\">\n      <g>\n       <use xlink:href=\"#m256e66ddab\" x=\"329.600739\" y=\"290.25375\" style=\"fill: #555555; stroke: #555555; stroke-width: 0.8\"/>\n      </g>\n     </g>\n     <g id=\"text_148\">\n      <!-- 148 -->\n      <g style=\"fill: #555555\" transform=\"translate(320.056989 304.852187) scale(0.1 -0.1)\">\n       <use xlink:href=\"#DejaVuSans-31\"/>\n       <use xlink:href=\"#DejaVuSans-34\" x=\"63.623047\"/>\n       <use xlink:href=\"#DejaVuSans-38\" x=\"127.246094\"/>\n      </g>\n     </g>\n    </g>\n    <g id=\"xtick_149\">\n     <g id=\"line2d_297\">\n      <path d=\"M 331.291648 290.25375 \nL 331.291648 24.14175 \n\" clip-path=\"url(#p399d720b75)\" style=\"fill: none; stroke: #ffffff; stroke-width: 0.8; stroke-linecap: square\"/>\n     </g>\n     <g id=\"line2d_298\">\n      <g>\n       <use xlink:href=\"#m256e66ddab\" x=\"331.291648\" y=\"290.25375\" style=\"fill: #555555; stroke: #555555; stroke-width: 0.8\"/>\n      </g>\n     </g>\n     <g id=\"text_149\">\n      <!-- 149 -->\n      <g style=\"fill: #555555\" transform=\"translate(321.747898 304.852187) scale(0.1 -0.1)\">\n       <use xlink:href=\"#DejaVuSans-31\"/>\n       <use xlink:href=\"#DejaVuSans-34\" x=\"63.623047\"/>\n       <use xlink:href=\"#DejaVuSans-39\" x=\"127.246094\"/>\n      </g>\n     </g>\n    </g>\n    <g id=\"xtick_150\">\n     <g id=\"line2d_299\">\n      <path d=\"M 332.982557 290.25375 \nL 332.982557 24.14175 \n\" clip-path=\"url(#p399d720b75)\" style=\"fill: none; stroke: #ffffff; stroke-width: 0.8; stroke-linecap: square\"/>\n     </g>\n     <g id=\"line2d_300\">\n      <g>\n       <use xlink:href=\"#m256e66ddab\" x=\"332.982557\" y=\"290.25375\" style=\"fill: #555555; stroke: #555555; stroke-width: 0.8\"/>\n      </g>\n     </g>\n     <g id=\"text_150\">\n      <!-- 150 -->\n      <g style=\"fill: #555555\" transform=\"translate(323.438807 304.852187) scale(0.1 -0.1)\">\n       <use xlink:href=\"#DejaVuSans-31\"/>\n       <use xlink:href=\"#DejaVuSans-35\" x=\"63.623047\"/>\n       <use xlink:href=\"#DejaVuSans-30\" x=\"127.246094\"/>\n      </g>\n     </g>\n    </g>\n    <g id=\"xtick_151\">\n     <g id=\"line2d_301\">\n      <path d=\"M 334.673466 290.25375 \nL 334.673466 24.14175 \n\" clip-path=\"url(#p399d720b75)\" style=\"fill: none; stroke: #ffffff; stroke-width: 0.8; stroke-linecap: square\"/>\n     </g>\n     <g id=\"line2d_302\">\n      <g>\n       <use xlink:href=\"#m256e66ddab\" x=\"334.673466\" y=\"290.25375\" style=\"fill: #555555; stroke: #555555; stroke-width: 0.8\"/>\n      </g>\n     </g>\n     <g id=\"text_151\">\n      <!-- 151 -->\n      <g style=\"fill: #555555\" transform=\"translate(325.129716 304.852187) scale(0.1 -0.1)\">\n       <use xlink:href=\"#DejaVuSans-31\"/>\n       <use xlink:href=\"#DejaVuSans-35\" x=\"63.623047\"/>\n       <use xlink:href=\"#DejaVuSans-31\" x=\"127.246094\"/>\n      </g>\n     </g>\n    </g>\n    <g id=\"xtick_152\">\n     <g id=\"line2d_303\">\n      <path d=\"M 336.364375 290.25375 \nL 336.364375 24.14175 \n\" clip-path=\"url(#p399d720b75)\" style=\"fill: none; stroke: #ffffff; stroke-width: 0.8; stroke-linecap: square\"/>\n     </g>\n     <g id=\"line2d_304\">\n      <g>\n       <use xlink:href=\"#m256e66ddab\" x=\"336.364375\" y=\"290.25375\" style=\"fill: #555555; stroke: #555555; stroke-width: 0.8\"/>\n      </g>\n     </g>\n     <g id=\"text_152\">\n      <!-- 152 -->\n      <g style=\"fill: #555555\" transform=\"translate(326.820625 304.852187) scale(0.1 -0.1)\">\n       <use xlink:href=\"#DejaVuSans-31\"/>\n       <use xlink:href=\"#DejaVuSans-35\" x=\"63.623047\"/>\n       <use xlink:href=\"#DejaVuSans-32\" x=\"127.246094\"/>\n      </g>\n     </g>\n    </g>\n    <g id=\"xtick_153\">\n     <g id=\"line2d_305\">\n      <path d=\"M 338.055284 290.25375 \nL 338.055284 24.14175 \n\" clip-path=\"url(#p399d720b75)\" style=\"fill: none; stroke: #ffffff; stroke-width: 0.8; stroke-linecap: square\"/>\n     </g>\n     <g id=\"line2d_306\">\n      <g>\n       <use xlink:href=\"#m256e66ddab\" x=\"338.055284\" y=\"290.25375\" style=\"fill: #555555; stroke: #555555; stroke-width: 0.8\"/>\n      </g>\n     </g>\n     <g id=\"text_153\">\n      <!-- 153 -->\n      <g style=\"fill: #555555\" transform=\"translate(328.511534 304.852187) scale(0.1 -0.1)\">\n       <use xlink:href=\"#DejaVuSans-31\"/>\n       <use xlink:href=\"#DejaVuSans-35\" x=\"63.623047\"/>\n       <use xlink:href=\"#DejaVuSans-33\" x=\"127.246094\"/>\n      </g>\n     </g>\n    </g>\n    <g id=\"xtick_154\">\n     <g id=\"line2d_307\">\n      <path d=\"M 339.746193 290.25375 \nL 339.746193 24.14175 \n\" clip-path=\"url(#p399d720b75)\" style=\"fill: none; stroke: #ffffff; stroke-width: 0.8; stroke-linecap: square\"/>\n     </g>\n     <g id=\"line2d_308\">\n      <g>\n       <use xlink:href=\"#m256e66ddab\" x=\"339.746193\" y=\"290.25375\" style=\"fill: #555555; stroke: #555555; stroke-width: 0.8\"/>\n      </g>\n     </g>\n     <g id=\"text_154\">\n      <!-- 154 -->\n      <g style=\"fill: #555555\" transform=\"translate(330.202443 304.852187) scale(0.1 -0.1)\">\n       <use xlink:href=\"#DejaVuSans-31\"/>\n       <use xlink:href=\"#DejaVuSans-35\" x=\"63.623047\"/>\n       <use xlink:href=\"#DejaVuSans-34\" x=\"127.246094\"/>\n      </g>\n     </g>\n    </g>\n    <g id=\"xtick_155\">\n     <g id=\"line2d_309\">\n      <path d=\"M 341.437102 290.25375 \nL 341.437102 24.14175 \n\" clip-path=\"url(#p399d720b75)\" style=\"fill: none; stroke: #ffffff; stroke-width: 0.8; stroke-linecap: square\"/>\n     </g>\n     <g id=\"line2d_310\">\n      <g>\n       <use xlink:href=\"#m256e66ddab\" x=\"341.437102\" y=\"290.25375\" style=\"fill: #555555; stroke: #555555; stroke-width: 0.8\"/>\n      </g>\n     </g>\n     <g id=\"text_155\">\n      <!-- 155 -->\n      <g style=\"fill: #555555\" transform=\"translate(331.893352 304.852187) scale(0.1 -0.1)\">\n       <use xlink:href=\"#DejaVuSans-31\"/>\n       <use xlink:href=\"#DejaVuSans-35\" x=\"63.623047\"/>\n       <use xlink:href=\"#DejaVuSans-35\" x=\"127.246094\"/>\n      </g>\n     </g>\n    </g>\n    <g id=\"xtick_156\">\n     <g id=\"line2d_311\">\n      <path d=\"M 343.128011 290.25375 \nL 343.128011 24.14175 \n\" clip-path=\"url(#p399d720b75)\" style=\"fill: none; stroke: #ffffff; stroke-width: 0.8; stroke-linecap: square\"/>\n     </g>\n     <g id=\"line2d_312\">\n      <g>\n       <use xlink:href=\"#m256e66ddab\" x=\"343.128011\" y=\"290.25375\" style=\"fill: #555555; stroke: #555555; stroke-width: 0.8\"/>\n      </g>\n     </g>\n     <g id=\"text_156\">\n      <!-- 156 -->\n      <g style=\"fill: #555555\" transform=\"translate(333.584261 304.852187) scale(0.1 -0.1)\">\n       <use xlink:href=\"#DejaVuSans-31\"/>\n       <use xlink:href=\"#DejaVuSans-35\" x=\"63.623047\"/>\n       <use xlink:href=\"#DejaVuSans-36\" x=\"127.246094\"/>\n      </g>\n     </g>\n    </g>\n    <g id=\"xtick_157\">\n     <g id=\"line2d_313\">\n      <path d=\"M 344.81892 290.25375 \nL 344.81892 24.14175 \n\" clip-path=\"url(#p399d720b75)\" style=\"fill: none; stroke: #ffffff; stroke-width: 0.8; stroke-linecap: square\"/>\n     </g>\n     <g id=\"line2d_314\">\n      <g>\n       <use xlink:href=\"#m256e66ddab\" x=\"344.81892\" y=\"290.25375\" style=\"fill: #555555; stroke: #555555; stroke-width: 0.8\"/>\n      </g>\n     </g>\n     <g id=\"text_157\">\n      <!-- 157 -->\n      <g style=\"fill: #555555\" transform=\"translate(335.27517 304.852187) scale(0.1 -0.1)\">\n       <use xlink:href=\"#DejaVuSans-31\"/>\n       <use xlink:href=\"#DejaVuSans-35\" x=\"63.623047\"/>\n       <use xlink:href=\"#DejaVuSans-37\" x=\"127.246094\"/>\n      </g>\n     </g>\n    </g>\n    <g id=\"xtick_158\">\n     <g id=\"line2d_315\">\n      <path d=\"M 346.50983 290.25375 \nL 346.50983 24.14175 \n\" clip-path=\"url(#p399d720b75)\" style=\"fill: none; stroke: #ffffff; stroke-width: 0.8; stroke-linecap: square\"/>\n     </g>\n     <g id=\"line2d_316\">\n      <g>\n       <use xlink:href=\"#m256e66ddab\" x=\"346.50983\" y=\"290.25375\" style=\"fill: #555555; stroke: #555555; stroke-width: 0.8\"/>\n      </g>\n     </g>\n     <g id=\"text_158\">\n      <!-- 158 -->\n      <g style=\"fill: #555555\" transform=\"translate(336.96608 304.852187) scale(0.1 -0.1)\">\n       <use xlink:href=\"#DejaVuSans-31\"/>\n       <use xlink:href=\"#DejaVuSans-35\" x=\"63.623047\"/>\n       <use xlink:href=\"#DejaVuSans-38\" x=\"127.246094\"/>\n      </g>\n     </g>\n    </g>\n    <g id=\"xtick_159\">\n     <g id=\"line2d_317\">\n      <path d=\"M 348.200739 290.25375 \nL 348.200739 24.14175 \n\" clip-path=\"url(#p399d720b75)\" style=\"fill: none; stroke: #ffffff; stroke-width: 0.8; stroke-linecap: square\"/>\n     </g>\n     <g id=\"line2d_318\">\n      <g>\n       <use xlink:href=\"#m256e66ddab\" x=\"348.200739\" y=\"290.25375\" style=\"fill: #555555; stroke: #555555; stroke-width: 0.8\"/>\n      </g>\n     </g>\n     <g id=\"text_159\">\n      <!-- 159 -->\n      <g style=\"fill: #555555\" transform=\"translate(338.656989 304.852187) scale(0.1 -0.1)\">\n       <use xlink:href=\"#DejaVuSans-31\"/>\n       <use xlink:href=\"#DejaVuSans-35\" x=\"63.623047\"/>\n       <use xlink:href=\"#DejaVuSans-39\" x=\"127.246094\"/>\n      </g>\n     </g>\n    </g>\n    <g id=\"xtick_160\">\n     <g id=\"line2d_319\">\n      <path d=\"M 349.891648 290.25375 \nL 349.891648 24.14175 \n\" clip-path=\"url(#p399d720b75)\" style=\"fill: none; stroke: #ffffff; stroke-width: 0.8; stroke-linecap: square\"/>\n     </g>\n     <g id=\"line2d_320\">\n      <g>\n       <use xlink:href=\"#m256e66ddab\" x=\"349.891648\" y=\"290.25375\" style=\"fill: #555555; stroke: #555555; stroke-width: 0.8\"/>\n      </g>\n     </g>\n     <g id=\"text_160\">\n      <!-- 160 -->\n      <g style=\"fill: #555555\" transform=\"translate(340.347898 304.852187) scale(0.1 -0.1)\">\n       <use xlink:href=\"#DejaVuSans-31\"/>\n       <use xlink:href=\"#DejaVuSans-36\" x=\"63.623047\"/>\n       <use xlink:href=\"#DejaVuSans-30\" x=\"127.246094\"/>\n      </g>\n     </g>\n    </g>\n    <g id=\"xtick_161\">\n     <g id=\"line2d_321\">\n      <path d=\"M 351.582557 290.25375 \nL 351.582557 24.14175 \n\" clip-path=\"url(#p399d720b75)\" style=\"fill: none; stroke: #ffffff; stroke-width: 0.8; stroke-linecap: square\"/>\n     </g>\n     <g id=\"line2d_322\">\n      <g>\n       <use xlink:href=\"#m256e66ddab\" x=\"351.582557\" y=\"290.25375\" style=\"fill: #555555; stroke: #555555; stroke-width: 0.8\"/>\n      </g>\n     </g>\n     <g id=\"text_161\">\n      <!-- 161 -->\n      <g style=\"fill: #555555\" transform=\"translate(342.038807 304.852187) scale(0.1 -0.1)\">\n       <use xlink:href=\"#DejaVuSans-31\"/>\n       <use xlink:href=\"#DejaVuSans-36\" x=\"63.623047\"/>\n       <use xlink:href=\"#DejaVuSans-31\" x=\"127.246094\"/>\n      </g>\n     </g>\n    </g>\n    <g id=\"xtick_162\">\n     <g id=\"line2d_323\">\n      <path d=\"M 353.273466 290.25375 \nL 353.273466 24.14175 \n\" clip-path=\"url(#p399d720b75)\" style=\"fill: none; stroke: #ffffff; stroke-width: 0.8; stroke-linecap: square\"/>\n     </g>\n     <g id=\"line2d_324\">\n      <g>\n       <use xlink:href=\"#m256e66ddab\" x=\"353.273466\" y=\"290.25375\" style=\"fill: #555555; stroke: #555555; stroke-width: 0.8\"/>\n      </g>\n     </g>\n     <g id=\"text_162\">\n      <!-- 162 -->\n      <g style=\"fill: #555555\" transform=\"translate(343.729716 304.852187) scale(0.1 -0.1)\">\n       <use xlink:href=\"#DejaVuSans-31\"/>\n       <use xlink:href=\"#DejaVuSans-36\" x=\"63.623047\"/>\n       <use xlink:href=\"#DejaVuSans-32\" x=\"127.246094\"/>\n      </g>\n     </g>\n    </g>\n    <g id=\"xtick_163\">\n     <g id=\"line2d_325\">\n      <path d=\"M 354.964375 290.25375 \nL 354.964375 24.14175 \n\" clip-path=\"url(#p399d720b75)\" style=\"fill: none; stroke: #ffffff; stroke-width: 0.8; stroke-linecap: square\"/>\n     </g>\n     <g id=\"line2d_326\">\n      <g>\n       <use xlink:href=\"#m256e66ddab\" x=\"354.964375\" y=\"290.25375\" style=\"fill: #555555; stroke: #555555; stroke-width: 0.8\"/>\n      </g>\n     </g>\n     <g id=\"text_163\">\n      <!-- 163 -->\n      <g style=\"fill: #555555\" transform=\"translate(345.420625 304.852187) scale(0.1 -0.1)\">\n       <use xlink:href=\"#DejaVuSans-31\"/>\n       <use xlink:href=\"#DejaVuSans-36\" x=\"63.623047\"/>\n       <use xlink:href=\"#DejaVuSans-33\" x=\"127.246094\"/>\n      </g>\n     </g>\n    </g>\n    <g id=\"xtick_164\">\n     <g id=\"line2d_327\">\n      <path d=\"M 356.655284 290.25375 \nL 356.655284 24.14175 \n\" clip-path=\"url(#p399d720b75)\" style=\"fill: none; stroke: #ffffff; stroke-width: 0.8; stroke-linecap: square\"/>\n     </g>\n     <g id=\"line2d_328\">\n      <g>\n       <use xlink:href=\"#m256e66ddab\" x=\"356.655284\" y=\"290.25375\" style=\"fill: #555555; stroke: #555555; stroke-width: 0.8\"/>\n      </g>\n     </g>\n     <g id=\"text_164\">\n      <!-- 164 -->\n      <g style=\"fill: #555555\" transform=\"translate(347.111534 304.852187) scale(0.1 -0.1)\">\n       <use xlink:href=\"#DejaVuSans-31\"/>\n       <use xlink:href=\"#DejaVuSans-36\" x=\"63.623047\"/>\n       <use xlink:href=\"#DejaVuSans-34\" x=\"127.246094\"/>\n      </g>\n     </g>\n    </g>\n    <g id=\"xtick_165\">\n     <g id=\"line2d_329\">\n      <path d=\"M 358.346193 290.25375 \nL 358.346193 24.14175 \n\" clip-path=\"url(#p399d720b75)\" style=\"fill: none; stroke: #ffffff; stroke-width: 0.8; stroke-linecap: square\"/>\n     </g>\n     <g id=\"line2d_330\">\n      <g>\n       <use xlink:href=\"#m256e66ddab\" x=\"358.346193\" y=\"290.25375\" style=\"fill: #555555; stroke: #555555; stroke-width: 0.8\"/>\n      </g>\n     </g>\n     <g id=\"text_165\">\n      <!-- 165 -->\n      <g style=\"fill: #555555\" transform=\"translate(348.802443 304.852187) scale(0.1 -0.1)\">\n       <use xlink:href=\"#DejaVuSans-31\"/>\n       <use xlink:href=\"#DejaVuSans-36\" x=\"63.623047\"/>\n       <use xlink:href=\"#DejaVuSans-35\" x=\"127.246094\"/>\n      </g>\n     </g>\n    </g>\n    <g id=\"xtick_166\">\n     <g id=\"line2d_331\">\n      <path d=\"M 360.037102 290.25375 \nL 360.037102 24.14175 \n\" clip-path=\"url(#p399d720b75)\" style=\"fill: none; stroke: #ffffff; stroke-width: 0.8; stroke-linecap: square\"/>\n     </g>\n     <g id=\"line2d_332\">\n      <g>\n       <use xlink:href=\"#m256e66ddab\" x=\"360.037102\" y=\"290.25375\" style=\"fill: #555555; stroke: #555555; stroke-width: 0.8\"/>\n      </g>\n     </g>\n     <g id=\"text_166\">\n      <!-- 166 -->\n      <g style=\"fill: #555555\" transform=\"translate(350.493352 304.852187) scale(0.1 -0.1)\">\n       <use xlink:href=\"#DejaVuSans-31\"/>\n       <use xlink:href=\"#DejaVuSans-36\" x=\"63.623047\"/>\n       <use xlink:href=\"#DejaVuSans-36\" x=\"127.246094\"/>\n      </g>\n     </g>\n    </g>\n    <g id=\"xtick_167\">\n     <g id=\"line2d_333\">\n      <path d=\"M 361.728011 290.25375 \nL 361.728011 24.14175 \n\" clip-path=\"url(#p399d720b75)\" style=\"fill: none; stroke: #ffffff; stroke-width: 0.8; stroke-linecap: square\"/>\n     </g>\n     <g id=\"line2d_334\">\n      <g>\n       <use xlink:href=\"#m256e66ddab\" x=\"361.728011\" y=\"290.25375\" style=\"fill: #555555; stroke: #555555; stroke-width: 0.8\"/>\n      </g>\n     </g>\n     <g id=\"text_167\">\n      <!-- 167 -->\n      <g style=\"fill: #555555\" transform=\"translate(352.184261 304.852187) scale(0.1 -0.1)\">\n       <use xlink:href=\"#DejaVuSans-31\"/>\n       <use xlink:href=\"#DejaVuSans-36\" x=\"63.623047\"/>\n       <use xlink:href=\"#DejaVuSans-37\" x=\"127.246094\"/>\n      </g>\n     </g>\n    </g>\n    <g id=\"xtick_168\">\n     <g id=\"line2d_335\">\n      <path d=\"M 363.41892 290.25375 \nL 363.41892 24.14175 \n\" clip-path=\"url(#p399d720b75)\" style=\"fill: none; stroke: #ffffff; stroke-width: 0.8; stroke-linecap: square\"/>\n     </g>\n     <g id=\"line2d_336\">\n      <g>\n       <use xlink:href=\"#m256e66ddab\" x=\"363.41892\" y=\"290.25375\" style=\"fill: #555555; stroke: #555555; stroke-width: 0.8\"/>\n      </g>\n     </g>\n     <g id=\"text_168\">\n      <!-- 168 -->\n      <g style=\"fill: #555555\" transform=\"translate(353.87517 304.852187) scale(0.1 -0.1)\">\n       <use xlink:href=\"#DejaVuSans-31\"/>\n       <use xlink:href=\"#DejaVuSans-36\" x=\"63.623047\"/>\n       <use xlink:href=\"#DejaVuSans-38\" x=\"127.246094\"/>\n      </g>\n     </g>\n    </g>\n    <g id=\"xtick_169\">\n     <g id=\"line2d_337\">\n      <path d=\"M 365.10983 290.25375 \nL 365.10983 24.14175 \n\" clip-path=\"url(#p399d720b75)\" style=\"fill: none; stroke: #ffffff; stroke-width: 0.8; stroke-linecap: square\"/>\n     </g>\n     <g id=\"line2d_338\">\n      <g>\n       <use xlink:href=\"#m256e66ddab\" x=\"365.10983\" y=\"290.25375\" style=\"fill: #555555; stroke: #555555; stroke-width: 0.8\"/>\n      </g>\n     </g>\n     <g id=\"text_169\">\n      <!-- 169 -->\n      <g style=\"fill: #555555\" transform=\"translate(355.56608 304.852187) scale(0.1 -0.1)\">\n       <use xlink:href=\"#DejaVuSans-31\"/>\n       <use xlink:href=\"#DejaVuSans-36\" x=\"63.623047\"/>\n       <use xlink:href=\"#DejaVuSans-39\" x=\"127.246094\"/>\n      </g>\n     </g>\n    </g>\n    <g id=\"xtick_170\">\n     <g id=\"line2d_339\">\n      <path d=\"M 366.800739 290.25375 \nL 366.800739 24.14175 \n\" clip-path=\"url(#p399d720b75)\" style=\"fill: none; stroke: #ffffff; stroke-width: 0.8; stroke-linecap: square\"/>\n     </g>\n     <g id=\"line2d_340\">\n      <g>\n       <use xlink:href=\"#m256e66ddab\" x=\"366.800739\" y=\"290.25375\" style=\"fill: #555555; stroke: #555555; stroke-width: 0.8\"/>\n      </g>\n     </g>\n     <g id=\"text_170\">\n      <!-- 170 -->\n      <g style=\"fill: #555555\" transform=\"translate(357.256989 304.852187) scale(0.1 -0.1)\">\n       <use xlink:href=\"#DejaVuSans-31\"/>\n       <use xlink:href=\"#DejaVuSans-37\" x=\"63.623047\"/>\n       <use xlink:href=\"#DejaVuSans-30\" x=\"127.246094\"/>\n      </g>\n     </g>\n    </g>\n    <g id=\"xtick_171\">\n     <g id=\"line2d_341\">\n      <path d=\"M 368.491648 290.25375 \nL 368.491648 24.14175 \n\" clip-path=\"url(#p399d720b75)\" style=\"fill: none; stroke: #ffffff; stroke-width: 0.8; stroke-linecap: square\"/>\n     </g>\n     <g id=\"line2d_342\">\n      <g>\n       <use xlink:href=\"#m256e66ddab\" x=\"368.491648\" y=\"290.25375\" style=\"fill: #555555; stroke: #555555; stroke-width: 0.8\"/>\n      </g>\n     </g>\n     <g id=\"text_171\">\n      <!-- 171 -->\n      <g style=\"fill: #555555\" transform=\"translate(358.947898 304.852187) scale(0.1 -0.1)\">\n       <use xlink:href=\"#DejaVuSans-31\"/>\n       <use xlink:href=\"#DejaVuSans-37\" x=\"63.623047\"/>\n       <use xlink:href=\"#DejaVuSans-31\" x=\"127.246094\"/>\n      </g>\n     </g>\n    </g>\n    <g id=\"xtick_172\">\n     <g id=\"line2d_343\">\n      <path d=\"M 370.182557 290.25375 \nL 370.182557 24.14175 \n\" clip-path=\"url(#p399d720b75)\" style=\"fill: none; stroke: #ffffff; stroke-width: 0.8; stroke-linecap: square\"/>\n     </g>\n     <g id=\"line2d_344\">\n      <g>\n       <use xlink:href=\"#m256e66ddab\" x=\"370.182557\" y=\"290.25375\" style=\"fill: #555555; stroke: #555555; stroke-width: 0.8\"/>\n      </g>\n     </g>\n     <g id=\"text_172\">\n      <!-- 172 -->\n      <g style=\"fill: #555555\" transform=\"translate(360.638807 304.852187) scale(0.1 -0.1)\">\n       <use xlink:href=\"#DejaVuSans-31\"/>\n       <use xlink:href=\"#DejaVuSans-37\" x=\"63.623047\"/>\n       <use xlink:href=\"#DejaVuSans-32\" x=\"127.246094\"/>\n      </g>\n     </g>\n    </g>\n    <g id=\"xtick_173\">\n     <g id=\"line2d_345\">\n      <path d=\"M 371.873466 290.25375 \nL 371.873466 24.14175 \n\" clip-path=\"url(#p399d720b75)\" style=\"fill: none; stroke: #ffffff; stroke-width: 0.8; stroke-linecap: square\"/>\n     </g>\n     <g id=\"line2d_346\">\n      <g>\n       <use xlink:href=\"#m256e66ddab\" x=\"371.873466\" y=\"290.25375\" style=\"fill: #555555; stroke: #555555; stroke-width: 0.8\"/>\n      </g>\n     </g>\n     <g id=\"text_173\">\n      <!-- 173 -->\n      <g style=\"fill: #555555\" transform=\"translate(362.329716 304.852187) scale(0.1 -0.1)\">\n       <use xlink:href=\"#DejaVuSans-31\"/>\n       <use xlink:href=\"#DejaVuSans-37\" x=\"63.623047\"/>\n       <use xlink:href=\"#DejaVuSans-33\" x=\"127.246094\"/>\n      </g>\n     </g>\n    </g>\n    <g id=\"xtick_174\">\n     <g id=\"line2d_347\">\n      <path d=\"M 373.564375 290.25375 \nL 373.564375 24.14175 \n\" clip-path=\"url(#p399d720b75)\" style=\"fill: none; stroke: #ffffff; stroke-width: 0.8; stroke-linecap: square\"/>\n     </g>\n     <g id=\"line2d_348\">\n      <g>\n       <use xlink:href=\"#m256e66ddab\" x=\"373.564375\" y=\"290.25375\" style=\"fill: #555555; stroke: #555555; stroke-width: 0.8\"/>\n      </g>\n     </g>\n     <g id=\"text_174\">\n      <!-- 174 -->\n      <g style=\"fill: #555555\" transform=\"translate(364.020625 304.852187) scale(0.1 -0.1)\">\n       <use xlink:href=\"#DejaVuSans-31\"/>\n       <use xlink:href=\"#DejaVuSans-37\" x=\"63.623047\"/>\n       <use xlink:href=\"#DejaVuSans-34\" x=\"127.246094\"/>\n      </g>\n     </g>\n    </g>\n    <g id=\"xtick_175\">\n     <g id=\"line2d_349\">\n      <path d=\"M 375.255284 290.25375 \nL 375.255284 24.14175 \n\" clip-path=\"url(#p399d720b75)\" style=\"fill: none; stroke: #ffffff; stroke-width: 0.8; stroke-linecap: square\"/>\n     </g>\n     <g id=\"line2d_350\">\n      <g>\n       <use xlink:href=\"#m256e66ddab\" x=\"375.255284\" y=\"290.25375\" style=\"fill: #555555; stroke: #555555; stroke-width: 0.8\"/>\n      </g>\n     </g>\n     <g id=\"text_175\">\n      <!-- 175 -->\n      <g style=\"fill: #555555\" transform=\"translate(365.711534 304.852187) scale(0.1 -0.1)\">\n       <use xlink:href=\"#DejaVuSans-31\"/>\n       <use xlink:href=\"#DejaVuSans-37\" x=\"63.623047\"/>\n       <use xlink:href=\"#DejaVuSans-35\" x=\"127.246094\"/>\n      </g>\n     </g>\n    </g>\n    <g id=\"xtick_176\">\n     <g id=\"line2d_351\">\n      <path d=\"M 376.946193 290.25375 \nL 376.946193 24.14175 \n\" clip-path=\"url(#p399d720b75)\" style=\"fill: none; stroke: #ffffff; stroke-width: 0.8; stroke-linecap: square\"/>\n     </g>\n     <g id=\"line2d_352\">\n      <g>\n       <use xlink:href=\"#m256e66ddab\" x=\"376.946193\" y=\"290.25375\" style=\"fill: #555555; stroke: #555555; stroke-width: 0.8\"/>\n      </g>\n     </g>\n     <g id=\"text_176\">\n      <!-- 176 -->\n      <g style=\"fill: #555555\" transform=\"translate(367.402443 304.852187) scale(0.1 -0.1)\">\n       <use xlink:href=\"#DejaVuSans-31\"/>\n       <use xlink:href=\"#DejaVuSans-37\" x=\"63.623047\"/>\n       <use xlink:href=\"#DejaVuSans-36\" x=\"127.246094\"/>\n      </g>\n     </g>\n    </g>\n    <g id=\"xtick_177\">\n     <g id=\"line2d_353\">\n      <path d=\"M 378.637102 290.25375 \nL 378.637102 24.14175 \n\" clip-path=\"url(#p399d720b75)\" style=\"fill: none; stroke: #ffffff; stroke-width: 0.8; stroke-linecap: square\"/>\n     </g>\n     <g id=\"line2d_354\">\n      <g>\n       <use xlink:href=\"#m256e66ddab\" x=\"378.637102\" y=\"290.25375\" style=\"fill: #555555; stroke: #555555; stroke-width: 0.8\"/>\n      </g>\n     </g>\n     <g id=\"text_177\">\n      <!-- 177 -->\n      <g style=\"fill: #555555\" transform=\"translate(369.093352 304.852187) scale(0.1 -0.1)\">\n       <use xlink:href=\"#DejaVuSans-31\"/>\n       <use xlink:href=\"#DejaVuSans-37\" x=\"63.623047\"/>\n       <use xlink:href=\"#DejaVuSans-37\" x=\"127.246094\"/>\n      </g>\n     </g>\n    </g>\n    <g id=\"xtick_178\">\n     <g id=\"line2d_355\">\n      <path d=\"M 380.328011 290.25375 \nL 380.328011 24.14175 \n\" clip-path=\"url(#p399d720b75)\" style=\"fill: none; stroke: #ffffff; stroke-width: 0.8; stroke-linecap: square\"/>\n     </g>\n     <g id=\"line2d_356\">\n      <g>\n       <use xlink:href=\"#m256e66ddab\" x=\"380.328011\" y=\"290.25375\" style=\"fill: #555555; stroke: #555555; stroke-width: 0.8\"/>\n      </g>\n     </g>\n     <g id=\"text_178\">\n      <!-- 178 -->\n      <g style=\"fill: #555555\" transform=\"translate(370.784261 304.852187) scale(0.1 -0.1)\">\n       <use xlink:href=\"#DejaVuSans-31\"/>\n       <use xlink:href=\"#DejaVuSans-37\" x=\"63.623047\"/>\n       <use xlink:href=\"#DejaVuSans-38\" x=\"127.246094\"/>\n      </g>\n     </g>\n    </g>\n    <g id=\"xtick_179\">\n     <g id=\"line2d_357\">\n      <path d=\"M 382.01892 290.25375 \nL 382.01892 24.14175 \n\" clip-path=\"url(#p399d720b75)\" style=\"fill: none; stroke: #ffffff; stroke-width: 0.8; stroke-linecap: square\"/>\n     </g>\n     <g id=\"line2d_358\">\n      <g>\n       <use xlink:href=\"#m256e66ddab\" x=\"382.01892\" y=\"290.25375\" style=\"fill: #555555; stroke: #555555; stroke-width: 0.8\"/>\n      </g>\n     </g>\n     <g id=\"text_179\">\n      <!-- 179 -->\n      <g style=\"fill: #555555\" transform=\"translate(372.47517 304.852187) scale(0.1 -0.1)\">\n       <use xlink:href=\"#DejaVuSans-31\"/>\n       <use xlink:href=\"#DejaVuSans-37\" x=\"63.623047\"/>\n       <use xlink:href=\"#DejaVuSans-39\" x=\"127.246094\"/>\n      </g>\n     </g>\n    </g>\n    <g id=\"xtick_180\">\n     <g id=\"line2d_359\">\n      <path d=\"M 383.70983 290.25375 \nL 383.70983 24.14175 \n\" clip-path=\"url(#p399d720b75)\" style=\"fill: none; stroke: #ffffff; stroke-width: 0.8; stroke-linecap: square\"/>\n     </g>\n     <g id=\"line2d_360\">\n      <g>\n       <use xlink:href=\"#m256e66ddab\" x=\"383.70983\" y=\"290.25375\" style=\"fill: #555555; stroke: #555555; stroke-width: 0.8\"/>\n      </g>\n     </g>\n     <g id=\"text_180\">\n      <!-- 180 -->\n      <g style=\"fill: #555555\" transform=\"translate(374.16608 304.852187) scale(0.1 -0.1)\">\n       <use xlink:href=\"#DejaVuSans-31\"/>\n       <use xlink:href=\"#DejaVuSans-38\" x=\"63.623047\"/>\n       <use xlink:href=\"#DejaVuSans-30\" x=\"127.246094\"/>\n      </g>\n     </g>\n    </g>\n    <g id=\"xtick_181\">\n     <g id=\"line2d_361\">\n      <path d=\"M 385.400739 290.25375 \nL 385.400739 24.14175 \n\" clip-path=\"url(#p399d720b75)\" style=\"fill: none; stroke: #ffffff; stroke-width: 0.8; stroke-linecap: square\"/>\n     </g>\n     <g id=\"line2d_362\">\n      <g>\n       <use xlink:href=\"#m256e66ddab\" x=\"385.400739\" y=\"290.25375\" style=\"fill: #555555; stroke: #555555; stroke-width: 0.8\"/>\n      </g>\n     </g>\n     <g id=\"text_181\">\n      <!-- 181 -->\n      <g style=\"fill: #555555\" transform=\"translate(375.856989 304.852187) scale(0.1 -0.1)\">\n       <use xlink:href=\"#DejaVuSans-31\"/>\n       <use xlink:href=\"#DejaVuSans-38\" x=\"63.623047\"/>\n       <use xlink:href=\"#DejaVuSans-31\" x=\"127.246094\"/>\n      </g>\n     </g>\n    </g>\n    <g id=\"xtick_182\">\n     <g id=\"line2d_363\">\n      <path d=\"M 387.091648 290.25375 \nL 387.091648 24.14175 \n\" clip-path=\"url(#p399d720b75)\" style=\"fill: none; stroke: #ffffff; stroke-width: 0.8; stroke-linecap: square\"/>\n     </g>\n     <g id=\"line2d_364\">\n      <g>\n       <use xlink:href=\"#m256e66ddab\" x=\"387.091648\" y=\"290.25375\" style=\"fill: #555555; stroke: #555555; stroke-width: 0.8\"/>\n      </g>\n     </g>\n     <g id=\"text_182\">\n      <!-- 182 -->\n      <g style=\"fill: #555555\" transform=\"translate(377.547898 304.852187) scale(0.1 -0.1)\">\n       <use xlink:href=\"#DejaVuSans-31\"/>\n       <use xlink:href=\"#DejaVuSans-38\" x=\"63.623047\"/>\n       <use xlink:href=\"#DejaVuSans-32\" x=\"127.246094\"/>\n      </g>\n     </g>\n    </g>\n    <g id=\"xtick_183\">\n     <g id=\"line2d_365\">\n      <path d=\"M 388.782557 290.25375 \nL 388.782557 24.14175 \n\" clip-path=\"url(#p399d720b75)\" style=\"fill: none; stroke: #ffffff; stroke-width: 0.8; stroke-linecap: square\"/>\n     </g>\n     <g id=\"line2d_366\">\n      <g>\n       <use xlink:href=\"#m256e66ddab\" x=\"388.782557\" y=\"290.25375\" style=\"fill: #555555; stroke: #555555; stroke-width: 0.8\"/>\n      </g>\n     </g>\n     <g id=\"text_183\">\n      <!-- 183 -->\n      <g style=\"fill: #555555\" transform=\"translate(379.238807 304.852187) scale(0.1 -0.1)\">\n       <use xlink:href=\"#DejaVuSans-31\"/>\n       <use xlink:href=\"#DejaVuSans-38\" x=\"63.623047\"/>\n       <use xlink:href=\"#DejaVuSans-33\" x=\"127.246094\"/>\n      </g>\n     </g>\n    </g>\n    <g id=\"xtick_184\">\n     <g id=\"line2d_367\">\n      <path d=\"M 390.473466 290.25375 \nL 390.473466 24.14175 \n\" clip-path=\"url(#p399d720b75)\" style=\"fill: none; stroke: #ffffff; stroke-width: 0.8; stroke-linecap: square\"/>\n     </g>\n     <g id=\"line2d_368\">\n      <g>\n       <use xlink:href=\"#m256e66ddab\" x=\"390.473466\" y=\"290.25375\" style=\"fill: #555555; stroke: #555555; stroke-width: 0.8\"/>\n      </g>\n     </g>\n     <g id=\"text_184\">\n      <!-- 184 -->\n      <g style=\"fill: #555555\" transform=\"translate(380.929716 304.852187) scale(0.1 -0.1)\">\n       <use xlink:href=\"#DejaVuSans-31\"/>\n       <use xlink:href=\"#DejaVuSans-38\" x=\"63.623047\"/>\n       <use xlink:href=\"#DejaVuSans-34\" x=\"127.246094\"/>\n      </g>\n     </g>\n    </g>\n    <g id=\"xtick_185\">\n     <g id=\"line2d_369\">\n      <path d=\"M 392.164375 290.25375 \nL 392.164375 24.14175 \n\" clip-path=\"url(#p399d720b75)\" style=\"fill: none; stroke: #ffffff; stroke-width: 0.8; stroke-linecap: square\"/>\n     </g>\n     <g id=\"line2d_370\">\n      <g>\n       <use xlink:href=\"#m256e66ddab\" x=\"392.164375\" y=\"290.25375\" style=\"fill: #555555; stroke: #555555; stroke-width: 0.8\"/>\n      </g>\n     </g>\n     <g id=\"text_185\">\n      <!-- 185 -->\n      <g style=\"fill: #555555\" transform=\"translate(382.620625 304.852187) scale(0.1 -0.1)\">\n       <use xlink:href=\"#DejaVuSans-31\"/>\n       <use xlink:href=\"#DejaVuSans-38\" x=\"63.623047\"/>\n       <use xlink:href=\"#DejaVuSans-35\" x=\"127.246094\"/>\n      </g>\n     </g>\n    </g>\n    <g id=\"xtick_186\">\n     <g id=\"line2d_371\">\n      <path d=\"M 393.855284 290.25375 \nL 393.855284 24.14175 \n\" clip-path=\"url(#p399d720b75)\" style=\"fill: none; stroke: #ffffff; stroke-width: 0.8; stroke-linecap: square\"/>\n     </g>\n     <g id=\"line2d_372\">\n      <g>\n       <use xlink:href=\"#m256e66ddab\" x=\"393.855284\" y=\"290.25375\" style=\"fill: #555555; stroke: #555555; stroke-width: 0.8\"/>\n      </g>\n     </g>\n     <g id=\"text_186\">\n      <!-- 186 -->\n      <g style=\"fill: #555555\" transform=\"translate(384.311534 304.852187) scale(0.1 -0.1)\">\n       <use xlink:href=\"#DejaVuSans-31\"/>\n       <use xlink:href=\"#DejaVuSans-38\" x=\"63.623047\"/>\n       <use xlink:href=\"#DejaVuSans-36\" x=\"127.246094\"/>\n      </g>\n     </g>\n    </g>\n    <g id=\"xtick_187\">\n     <g id=\"line2d_373\">\n      <path d=\"M 395.546193 290.25375 \nL 395.546193 24.14175 \n\" clip-path=\"url(#p399d720b75)\" style=\"fill: none; stroke: #ffffff; stroke-width: 0.8; stroke-linecap: square\"/>\n     </g>\n     <g id=\"line2d_374\">\n      <g>\n       <use xlink:href=\"#m256e66ddab\" x=\"395.546193\" y=\"290.25375\" style=\"fill: #555555; stroke: #555555; stroke-width: 0.8\"/>\n      </g>\n     </g>\n     <g id=\"text_187\">\n      <!-- 187 -->\n      <g style=\"fill: #555555\" transform=\"translate(386.002443 304.852187) scale(0.1 -0.1)\">\n       <use xlink:href=\"#DejaVuSans-31\"/>\n       <use xlink:href=\"#DejaVuSans-38\" x=\"63.623047\"/>\n       <use xlink:href=\"#DejaVuSans-37\" x=\"127.246094\"/>\n      </g>\n     </g>\n    </g>\n    <g id=\"xtick_188\">\n     <g id=\"line2d_375\">\n      <path d=\"M 397.237102 290.25375 \nL 397.237102 24.14175 \n\" clip-path=\"url(#p399d720b75)\" style=\"fill: none; stroke: #ffffff; stroke-width: 0.8; stroke-linecap: square\"/>\n     </g>\n     <g id=\"line2d_376\">\n      <g>\n       <use xlink:href=\"#m256e66ddab\" x=\"397.237102\" y=\"290.25375\" style=\"fill: #555555; stroke: #555555; stroke-width: 0.8\"/>\n      </g>\n     </g>\n     <g id=\"text_188\">\n      <!-- 188 -->\n      <g style=\"fill: #555555\" transform=\"translate(387.693352 304.852187) scale(0.1 -0.1)\">\n       <use xlink:href=\"#DejaVuSans-31\"/>\n       <use xlink:href=\"#DejaVuSans-38\" x=\"63.623047\"/>\n       <use xlink:href=\"#DejaVuSans-38\" x=\"127.246094\"/>\n      </g>\n     </g>\n    </g>\n    <g id=\"xtick_189\">\n     <g id=\"line2d_377\">\n      <path d=\"M 398.928011 290.25375 \nL 398.928011 24.14175 \n\" clip-path=\"url(#p399d720b75)\" style=\"fill: none; stroke: #ffffff; stroke-width: 0.8; stroke-linecap: square\"/>\n     </g>\n     <g id=\"line2d_378\">\n      <g>\n       <use xlink:href=\"#m256e66ddab\" x=\"398.928011\" y=\"290.25375\" style=\"fill: #555555; stroke: #555555; stroke-width: 0.8\"/>\n      </g>\n     </g>\n     <g id=\"text_189\">\n      <!-- 189 -->\n      <g style=\"fill: #555555\" transform=\"translate(389.384261 304.852187) scale(0.1 -0.1)\">\n       <use xlink:href=\"#DejaVuSans-31\"/>\n       <use xlink:href=\"#DejaVuSans-38\" x=\"63.623047\"/>\n       <use xlink:href=\"#DejaVuSans-39\" x=\"127.246094\"/>\n      </g>\n     </g>\n    </g>\n    <g id=\"xtick_190\">\n     <g id=\"line2d_379\">\n      <path d=\"M 400.61892 290.25375 \nL 400.61892 24.14175 \n\" clip-path=\"url(#p399d720b75)\" style=\"fill: none; stroke: #ffffff; stroke-width: 0.8; stroke-linecap: square\"/>\n     </g>\n     <g id=\"line2d_380\">\n      <g>\n       <use xlink:href=\"#m256e66ddab\" x=\"400.61892\" y=\"290.25375\" style=\"fill: #555555; stroke: #555555; stroke-width: 0.8\"/>\n      </g>\n     </g>\n     <g id=\"text_190\">\n      <!-- 190 -->\n      <g style=\"fill: #555555\" transform=\"translate(391.07517 304.852187) scale(0.1 -0.1)\">\n       <use xlink:href=\"#DejaVuSans-31\"/>\n       <use xlink:href=\"#DejaVuSans-39\" x=\"63.623047\"/>\n       <use xlink:href=\"#DejaVuSans-30\" x=\"127.246094\"/>\n      </g>\n     </g>\n    </g>\n    <g id=\"xtick_191\">\n     <g id=\"line2d_381\">\n      <path d=\"M 402.30983 290.25375 \nL 402.30983 24.14175 \n\" clip-path=\"url(#p399d720b75)\" style=\"fill: none; stroke: #ffffff; stroke-width: 0.8; stroke-linecap: square\"/>\n     </g>\n     <g id=\"line2d_382\">\n      <g>\n       <use xlink:href=\"#m256e66ddab\" x=\"402.30983\" y=\"290.25375\" style=\"fill: #555555; stroke: #555555; stroke-width: 0.8\"/>\n      </g>\n     </g>\n     <g id=\"text_191\">\n      <!-- 191 -->\n      <g style=\"fill: #555555\" transform=\"translate(392.76608 304.852187) scale(0.1 -0.1)\">\n       <use xlink:href=\"#DejaVuSans-31\"/>\n       <use xlink:href=\"#DejaVuSans-39\" x=\"63.623047\"/>\n       <use xlink:href=\"#DejaVuSans-31\" x=\"127.246094\"/>\n      </g>\n     </g>\n    </g>\n    <g id=\"xtick_192\">\n     <g id=\"line2d_383\">\n      <path d=\"M 404.000739 290.25375 \nL 404.000739 24.14175 \n\" clip-path=\"url(#p399d720b75)\" style=\"fill: none; stroke: #ffffff; stroke-width: 0.8; stroke-linecap: square\"/>\n     </g>\n     <g id=\"line2d_384\">\n      <g>\n       <use xlink:href=\"#m256e66ddab\" x=\"404.000739\" y=\"290.25375\" style=\"fill: #555555; stroke: #555555; stroke-width: 0.8\"/>\n      </g>\n     </g>\n     <g id=\"text_192\">\n      <!-- 192 -->\n      <g style=\"fill: #555555\" transform=\"translate(394.456989 304.852187) scale(0.1 -0.1)\">\n       <use xlink:href=\"#DejaVuSans-31\"/>\n       <use xlink:href=\"#DejaVuSans-39\" x=\"63.623047\"/>\n       <use xlink:href=\"#DejaVuSans-32\" x=\"127.246094\"/>\n      </g>\n     </g>\n    </g>\n    <g id=\"xtick_193\">\n     <g id=\"line2d_385\">\n      <path d=\"M 405.691648 290.25375 \nL 405.691648 24.14175 \n\" clip-path=\"url(#p399d720b75)\" style=\"fill: none; stroke: #ffffff; stroke-width: 0.8; stroke-linecap: square\"/>\n     </g>\n     <g id=\"line2d_386\">\n      <g>\n       <use xlink:href=\"#m256e66ddab\" x=\"405.691648\" y=\"290.25375\" style=\"fill: #555555; stroke: #555555; stroke-width: 0.8\"/>\n      </g>\n     </g>\n     <g id=\"text_193\">\n      <!-- 193 -->\n      <g style=\"fill: #555555\" transform=\"translate(396.147898 304.852187) scale(0.1 -0.1)\">\n       <use xlink:href=\"#DejaVuSans-31\"/>\n       <use xlink:href=\"#DejaVuSans-39\" x=\"63.623047\"/>\n       <use xlink:href=\"#DejaVuSans-33\" x=\"127.246094\"/>\n      </g>\n     </g>\n    </g>\n    <g id=\"text_194\">\n     <!-- Epoch # -->\n     <g style=\"fill: #555555\" transform=\"translate(218.056563 320.05) scale(0.12 -0.12)\">\n      <defs>\n       <path id=\"DejaVuSans-45\" d=\"M 628 4666 \nL 3578 4666 \nL 3578 4134 \nL 1259 4134 \nL 1259 2753 \nL 3481 2753 \nL 3481 2222 \nL 1259 2222 \nL 1259 531 \nL 3634 531 \nL 3634 0 \nL 628 0 \nL 628 4666 \nz\n\" transform=\"scale(0.015625)\"/>\n       <path id=\"DejaVuSans-70\" d=\"M 1159 525 \nL 1159 -1331 \nL 581 -1331 \nL 581 3500 \nL 1159 3500 \nL 1159 2969 \nQ 1341 3281 1617 3432 \nQ 1894 3584 2278 3584 \nQ 2916 3584 3314 3078 \nQ 3713 2572 3713 1747 \nQ 3713 922 3314 415 \nQ 2916 -91 2278 -91 \nQ 1894 -91 1617 61 \nQ 1341 213 1159 525 \nz\nM 3116 1747 \nQ 3116 2381 2855 2742 \nQ 2594 3103 2138 3103 \nQ 1681 3103 1420 2742 \nQ 1159 2381 1159 1747 \nQ 1159 1113 1420 752 \nQ 1681 391 2138 391 \nQ 2594 391 2855 752 \nQ 3116 1113 3116 1747 \nz\n\" transform=\"scale(0.015625)\"/>\n       <path id=\"DejaVuSans-6f\" d=\"M 1959 3097 \nQ 1497 3097 1228 2736 \nQ 959 2375 959 1747 \nQ 959 1119 1226 758 \nQ 1494 397 1959 397 \nQ 2419 397 2687 759 \nQ 2956 1122 2956 1747 \nQ 2956 2369 2687 2733 \nQ 2419 3097 1959 3097 \nz\nM 1959 3584 \nQ 2709 3584 3137 3096 \nQ 3566 2609 3566 1747 \nQ 3566 888 3137 398 \nQ 2709 -91 1959 -91 \nQ 1206 -91 779 398 \nQ 353 888 353 1747 \nQ 353 2609 779 3096 \nQ 1206 3584 1959 3584 \nz\n\" transform=\"scale(0.015625)\"/>\n       <path id=\"DejaVuSans-63\" d=\"M 3122 3366 \nL 3122 2828 \nQ 2878 2963 2633 3030 \nQ 2388 3097 2138 3097 \nQ 1578 3097 1268 2742 \nQ 959 2388 959 1747 \nQ 959 1106 1268 751 \nQ 1578 397 2138 397 \nQ 2388 397 2633 464 \nQ 2878 531 3122 666 \nL 3122 134 \nQ 2881 22 2623 -34 \nQ 2366 -91 2075 -91 \nQ 1284 -91 818 406 \nQ 353 903 353 1747 \nQ 353 2603 823 3093 \nQ 1294 3584 2113 3584 \nQ 2378 3584 2631 3529 \nQ 2884 3475 3122 3366 \nz\n\" transform=\"scale(0.015625)\"/>\n       <path id=\"DejaVuSans-68\" d=\"M 3513 2113 \nL 3513 0 \nL 2938 0 \nL 2938 2094 \nQ 2938 2591 2744 2837 \nQ 2550 3084 2163 3084 \nQ 1697 3084 1428 2787 \nQ 1159 2491 1159 1978 \nL 1159 0 \nL 581 0 \nL 581 4863 \nL 1159 4863 \nL 1159 2956 \nQ 1366 3272 1645 3428 \nQ 1925 3584 2291 3584 \nQ 2894 3584 3203 3211 \nQ 3513 2838 3513 2113 \nz\n\" transform=\"scale(0.015625)\"/>\n       <path id=\"DejaVuSans-20\" transform=\"scale(0.015625)\"/>\n       <path id=\"DejaVuSans-23\" d=\"M 3272 2816 \nL 2363 2816 \nL 2100 1772 \nL 3016 1772 \nL 3272 2816 \nz\nM 2803 4594 \nL 2478 3297 \nL 3391 3297 \nL 3719 4594 \nL 4219 4594 \nL 3897 3297 \nL 4872 3297 \nL 4872 2816 \nL 3775 2816 \nL 3519 1772 \nL 4513 1772 \nL 4513 1294 \nL 3397 1294 \nL 3072 0 \nL 2572 0 \nL 2894 1294 \nL 1978 1294 \nL 1656 0 \nL 1153 0 \nL 1478 1294 \nL 494 1294 \nL 494 1772 \nL 1594 1772 \nL 1856 2816 \nL 850 2816 \nL 850 3297 \nL 1978 3297 \nL 2297 4594 \nL 2803 4594 \nz\n\" transform=\"scale(0.015625)\"/>\n      </defs>\n      <use xlink:href=\"#DejaVuSans-45\"/>\n      <use xlink:href=\"#DejaVuSans-70\" x=\"63.183594\"/>\n      <use xlink:href=\"#DejaVuSans-6f\" x=\"126.660156\"/>\n      <use xlink:href=\"#DejaVuSans-63\" x=\"187.841797\"/>\n      <use xlink:href=\"#DejaVuSans-68\" x=\"242.822266\"/>\n      <use xlink:href=\"#DejaVuSans-20\" x=\"306.201172\"/>\n      <use xlink:href=\"#DejaVuSans-23\" x=\"337.988281\"/>\n     </g>\n    </g>\n   </g>\n   <g id=\"matplotlib.axis_2\">\n    <g id=\"ytick_1\">\n     <g id=\"line2d_387\">\n      <path d=\"M 64.804375 236.970466 \nL 421.924375 236.970466 \n\" clip-path=\"url(#p399d720b75)\" style=\"fill: none; stroke: #ffffff; stroke-width: 0.8; stroke-linecap: square\"/>\n     </g>\n     <g id=\"line2d_388\">\n      <defs>\n       <path id=\"m7d1c7aec6f\" d=\"M 0 0 \nL -3.5 0 \n\" style=\"stroke: #555555; stroke-width: 0.8\"/>\n      </defs>\n      <g>\n       <use xlink:href=\"#m7d1c7aec6f\" x=\"64.804375\" y=\"236.970466\" style=\"fill: #555555; stroke: #555555; stroke-width: 0.8\"/>\n      </g>\n     </g>\n     <g id=\"text_195\">\n      <!-- 0.0009 -->\n      <g style=\"fill: #555555\" transform=\"translate(22.81375 240.769685) scale(0.1 -0.1)\">\n       <defs>\n        <path id=\"DejaVuSans-2e\" d=\"M 684 794 \nL 1344 794 \nL 1344 0 \nL 684 0 \nL 684 794 \nz\n\" transform=\"scale(0.015625)\"/>\n       </defs>\n       <use xlink:href=\"#DejaVuSans-30\"/>\n       <use xlink:href=\"#DejaVuSans-2e\" x=\"63.623047\"/>\n       <use xlink:href=\"#DejaVuSans-30\" x=\"95.410156\"/>\n       <use xlink:href=\"#DejaVuSans-30\" x=\"159.033203\"/>\n       <use xlink:href=\"#DejaVuSans-30\" x=\"222.65625\"/>\n       <use xlink:href=\"#DejaVuSans-39\" x=\"286.279297\"/>\n      </g>\n     </g>\n    </g>\n    <g id=\"ytick_2\">\n     <g id=\"line2d_389\">\n      <path d=\"M 64.804375 178.604038 \nL 421.924375 178.604038 \n\" clip-path=\"url(#p399d720b75)\" style=\"fill: none; stroke: #ffffff; stroke-width: 0.8; stroke-linecap: square\"/>\n     </g>\n     <g id=\"line2d_390\">\n      <g>\n       <use xlink:href=\"#m7d1c7aec6f\" x=\"64.804375\" y=\"178.604038\" style=\"fill: #555555; stroke: #555555; stroke-width: 0.8\"/>\n      </g>\n     </g>\n     <g id=\"text_196\">\n      <!-- 0.0010 -->\n      <g style=\"fill: #555555\" transform=\"translate(22.81375 182.403257) scale(0.1 -0.1)\">\n       <use xlink:href=\"#DejaVuSans-30\"/>\n       <use xlink:href=\"#DejaVuSans-2e\" x=\"63.623047\"/>\n       <use xlink:href=\"#DejaVuSans-30\" x=\"95.410156\"/>\n       <use xlink:href=\"#DejaVuSans-30\" x=\"159.033203\"/>\n       <use xlink:href=\"#DejaVuSans-31\" x=\"222.65625\"/>\n       <use xlink:href=\"#DejaVuSans-30\" x=\"286.279297\"/>\n      </g>\n     </g>\n    </g>\n    <g id=\"ytick_3\">\n     <g id=\"line2d_391\">\n      <path d=\"M 64.804375 120.23761 \nL 421.924375 120.23761 \n\" clip-path=\"url(#p399d720b75)\" style=\"fill: none; stroke: #ffffff; stroke-width: 0.8; stroke-linecap: square\"/>\n     </g>\n     <g id=\"line2d_392\">\n      <g>\n       <use xlink:href=\"#m7d1c7aec6f\" x=\"64.804375\" y=\"120.23761\" style=\"fill: #555555; stroke: #555555; stroke-width: 0.8\"/>\n      </g>\n     </g>\n     <g id=\"text_197\">\n      <!-- 0.0011 -->\n      <g style=\"fill: #555555\" transform=\"translate(22.81375 124.036829) scale(0.1 -0.1)\">\n       <use xlink:href=\"#DejaVuSans-30\"/>\n       <use xlink:href=\"#DejaVuSans-2e\" x=\"63.623047\"/>\n       <use xlink:href=\"#DejaVuSans-30\" x=\"95.410156\"/>\n       <use xlink:href=\"#DejaVuSans-30\" x=\"159.033203\"/>\n       <use xlink:href=\"#DejaVuSans-31\" x=\"222.65625\"/>\n       <use xlink:href=\"#DejaVuSans-31\" x=\"286.279297\"/>\n      </g>\n     </g>\n    </g>\n    <g id=\"ytick_4\">\n     <g id=\"line2d_393\">\n      <path d=\"M 64.804375 61.871182 \nL 421.924375 61.871182 \n\" clip-path=\"url(#p399d720b75)\" style=\"fill: none; stroke: #ffffff; stroke-width: 0.8; stroke-linecap: square\"/>\n     </g>\n     <g id=\"line2d_394\">\n      <g>\n       <use xlink:href=\"#m7d1c7aec6f\" x=\"64.804375\" y=\"61.871182\" style=\"fill: #555555; stroke: #555555; stroke-width: 0.8\"/>\n      </g>\n     </g>\n     <g id=\"text_198\">\n      <!-- 0.0012 -->\n      <g style=\"fill: #555555\" transform=\"translate(22.81375 65.670401) scale(0.1 -0.1)\">\n       <use xlink:href=\"#DejaVuSans-30\"/>\n       <use xlink:href=\"#DejaVuSans-2e\" x=\"63.623047\"/>\n       <use xlink:href=\"#DejaVuSans-30\" x=\"95.410156\"/>\n       <use xlink:href=\"#DejaVuSans-30\" x=\"159.033203\"/>\n       <use xlink:href=\"#DejaVuSans-31\" x=\"222.65625\"/>\n       <use xlink:href=\"#DejaVuSans-32\" x=\"286.279297\"/>\n      </g>\n     </g>\n    </g>\n    <g id=\"text_199\">\n     <!-- Loss -->\n     <g style=\"fill: #555555\" transform=\"translate(16.318125 170.358375) rotate(-90) scale(0.12 -0.12)\">\n      <defs>\n       <path id=\"DejaVuSans-4c\" d=\"M 628 4666 \nL 1259 4666 \nL 1259 531 \nL 3531 531 \nL 3531 0 \nL 628 0 \nL 628 4666 \nz\n\" transform=\"scale(0.015625)\"/>\n       <path id=\"DejaVuSans-73\" d=\"M 2834 3397 \nL 2834 2853 \nQ 2591 2978 2328 3040 \nQ 2066 3103 1784 3103 \nQ 1356 3103 1142 2972 \nQ 928 2841 928 2578 \nQ 928 2378 1081 2264 \nQ 1234 2150 1697 2047 \nL 1894 2003 \nQ 2506 1872 2764 1633 \nQ 3022 1394 3022 966 \nQ 3022 478 2636 193 \nQ 2250 -91 1575 -91 \nQ 1294 -91 989 -36 \nQ 684 19 347 128 \nL 347 722 \nQ 666 556 975 473 \nQ 1284 391 1588 391 \nQ 1994 391 2212 530 \nQ 2431 669 2431 922 \nQ 2431 1156 2273 1281 \nQ 2116 1406 1581 1522 \nL 1381 1569 \nQ 847 1681 609 1914 \nQ 372 2147 372 2553 \nQ 372 3047 722 3315 \nQ 1072 3584 1716 3584 \nQ 2034 3584 2315 3537 \nQ 2597 3491 2834 3397 \nz\n\" transform=\"scale(0.015625)\"/>\n      </defs>\n      <use xlink:href=\"#DejaVuSans-4c\"/>\n      <use xlink:href=\"#DejaVuSans-6f\" x=\"53.962891\"/>\n      <use xlink:href=\"#DejaVuSans-73\" x=\"115.144531\"/>\n      <use xlink:href=\"#DejaVuSans-73\" x=\"167.244141\"/>\n     </g>\n    </g>\n   </g>\n   <g id=\"line2d_395\">\n    <path d=\"M 81.037102 36.23775 \nL 82.728011 92.932701 \nL 84.41892 126.88994 \nL 86.10983 149.595191 \nL 87.800739 165.854307 \nL 89.491648 178.140421 \nL 91.182557 187.812223 \nL 92.873466 195.666895 \nL 94.564375 202.202 \nL 96.255284 207.744707 \nL 97.946193 212.519539 \nL 99.637102 216.686108 \nL 101.328011 220.361345 \nL 103.01892 223.633018 \nL 104.70983 226.568419 \nL 106.400739 229.220165 \nL 108.091648 231.629994 \nL 111.473466 235.852173 \nL 114.855284 239.437513 \nL 118.237102 242.526032 \nL 121.61892 245.218078 \nL 125.000739 247.587645 \nL 128.382557 249.690732 \nL 131.764375 251.570535 \nL 135.146193 253.261037 \nL 140.21892 255.499788 \nL 145.291648 257.443634 \nL 150.364375 259.145874 \nL 155.437102 260.647433 \nL 162.200739 262.391879 \nL 168.964375 263.894883 \nL 177.41892 265.501393 \nL 185.873466 266.866097 \nL 196.01892 268.252928 \nL 206.164375 269.424738 \nL 218.000739 270.580807 \nL 231.528011 271.687538 \nL 248.437102 272.829747 \nL 267.037102 273.859143 \nL 289.01892 274.856427 \nL 316.073466 275.855502 \nL 349.891648 276.863695 \nL 390.473466 277.839484 \nL 405.691648 278.15775 \nL 405.691648 278.15775 \n\" clip-path=\"url(#p399d720b75)\" style=\"fill: none; stroke: #e24a33; stroke-width: 1.5; stroke-linecap: square\"/>\n   </g>\n   <g id=\"line2d_396\">\n    <path d=\"M 81.037102 57.602414 \nL 82.728011 100.778993 \nL 84.41892 128.803636 \nL 86.10983 148.216615 \nL 87.800739 162.445851 \nL 89.491648 173.366908 \nL 91.182557 182.052774 \nL 92.873466 189.154532 \nL 94.564375 195.089326 \nL 96.255284 200.136881 \nL 97.946193 204.492153 \nL 99.637102 208.29553 \nL 101.328011 211.650708 \nL 103.01892 214.636144 \nL 104.70983 217.312492 \nL 106.400739 219.727261 \nL 108.091648 221.918409 \nL 111.473466 225.747012 \nL 114.855284 228.98386 \nL 118.237102 231.757975 \nL 121.61892 234.162118 \nL 125.000739 236.265168 \nL 128.382557 238.119051 \nL 131.764375 239.76402 \nL 136.837102 241.90734 \nL 141.90983 243.732015 \nL 146.982557 245.29809 \nL 152.055284 246.651002 \nL 158.81892 248.182686 \nL 165.582557 249.460382 \nL 172.346193 250.531824 \nL 180.800739 251.636492 \nL 189.255284 252.531906 \nL 199.400739 253.389804 \nL 211.237102 254.162011 \nL 224.764375 254.821923 \nL 241.673466 255.410399 \nL 261.964375 255.881972 \nL 287.328011 256.240422 \nL 321.146193 256.48118 \nL 371.873466 256.594191 \nL 405.691648 256.604129 \nL 405.691648 256.604129 \n\" clip-path=\"url(#p399d720b75)\" style=\"fill: none; stroke: #348abd; stroke-width: 1.5; stroke-linecap: square\"/>\n   </g>\n   <g id=\"patch_3\">\n    <path d=\"M 64.804375 290.25375 \nL 64.804375 24.14175 \n\" style=\"fill: none; stroke: #ffffff; stroke-linejoin: miter; stroke-linecap: square\"/>\n   </g>\n   <g id=\"patch_4\">\n    <path d=\"M 421.924375 290.25375 \nL 421.924375 24.14175 \n\" style=\"fill: none; stroke: #ffffff; stroke-linejoin: miter; stroke-linecap: square\"/>\n   </g>\n   <g id=\"patch_5\">\n    <path d=\"M 64.804375 290.25375 \nL 421.924375 290.25375 \n\" style=\"fill: none; stroke: #ffffff; stroke-linejoin: miter; stroke-linecap: square\"/>\n   </g>\n   <g id=\"patch_6\">\n    <path d=\"M 64.804375 24.14175 \nL 421.924375 24.14175 \n\" style=\"fill: none; stroke: #ffffff; stroke-linejoin: miter; stroke-linecap: square\"/>\n   </g>\n   <g id=\"text_200\">\n    <!-- Losses -->\n    <g transform=\"translate(219.390625 18.14175) scale(0.144 -0.144)\">\n     <defs>\n      <path id=\"DejaVuSans-65\" d=\"M 3597 1894 \nL 3597 1613 \nL 953 1613 \nQ 991 1019 1311 708 \nQ 1631 397 2203 397 \nQ 2534 397 2845 478 \nQ 3156 559 3463 722 \nL 3463 178 \nQ 3153 47 2828 -22 \nQ 2503 -91 2169 -91 \nQ 1331 -91 842 396 \nQ 353 884 353 1716 \nQ 353 2575 817 3079 \nQ 1281 3584 2069 3584 \nQ 2775 3584 3186 3129 \nQ 3597 2675 3597 1894 \nz\nM 3022 2063 \nQ 3016 2534 2758 2815 \nQ 2500 3097 2075 3097 \nQ 1594 3097 1305 2825 \nQ 1016 2553 972 2059 \nL 3022 2063 \nz\n\" transform=\"scale(0.015625)\"/>\n     </defs>\n     <use xlink:href=\"#DejaVuSans-4c\"/>\n     <use xlink:href=\"#DejaVuSans-6f\" x=\"53.962891\"/>\n     <use xlink:href=\"#DejaVuSans-73\" x=\"115.144531\"/>\n     <use xlink:href=\"#DejaVuSans-73\" x=\"167.244141\"/>\n     <use xlink:href=\"#DejaVuSans-65\" x=\"219.34375\"/>\n     <use xlink:href=\"#DejaVuSans-73\" x=\"280.867188\"/>\n    </g>\n   </g>\n   <g id=\"legend_1\">\n    <g id=\"patch_7\">\n     <path d=\"M 333.713438 61.498 \nL 414.924375 61.498 \nQ 416.924375 61.498 416.924375 59.498 \nL 416.924375 31.14175 \nQ 416.924375 29.14175 414.924375 29.14175 \nL 333.713438 29.14175 \nQ 331.713438 29.14175 331.713438 31.14175 \nL 331.713438 59.498 \nQ 331.713438 61.498 333.713438 61.498 \nz\n\" style=\"fill: #e5e5e5; opacity: 0.8; stroke: #cccccc; stroke-width: 0.5; stroke-linejoin: miter\"/>\n    </g>\n    <g id=\"line2d_397\">\n     <path d=\"M 335.713438 37.240187 \nL 345.713438 37.240187 \nL 355.713438 37.240187 \n\" style=\"fill: none; stroke: #e24a33; stroke-width: 1.5; stroke-linecap: square\"/>\n    </g>\n    <g id=\"text_201\">\n     <!-- Train Loss -->\n     <g transform=\"translate(363.713438 40.740187) scale(0.1 -0.1)\">\n      <defs>\n       <path id=\"DejaVuSans-54\" d=\"M -19 4666 \nL 3928 4666 \nL 3928 4134 \nL 2272 4134 \nL 2272 0 \nL 1638 0 \nL 1638 4134 \nL -19 4134 \nL -19 4666 \nz\n\" transform=\"scale(0.015625)\"/>\n       <path id=\"DejaVuSans-72\" d=\"M 2631 2963 \nQ 2534 3019 2420 3045 \nQ 2306 3072 2169 3072 \nQ 1681 3072 1420 2755 \nQ 1159 2438 1159 1844 \nL 1159 0 \nL 581 0 \nL 581 3500 \nL 1159 3500 \nL 1159 2956 \nQ 1341 3275 1631 3429 \nQ 1922 3584 2338 3584 \nQ 2397 3584 2469 3576 \nQ 2541 3569 2628 3553 \nL 2631 2963 \nz\n\" transform=\"scale(0.015625)\"/>\n       <path id=\"DejaVuSans-61\" d=\"M 2194 1759 \nQ 1497 1759 1228 1600 \nQ 959 1441 959 1056 \nQ 959 750 1161 570 \nQ 1363 391 1709 391 \nQ 2188 391 2477 730 \nQ 2766 1069 2766 1631 \nL 2766 1759 \nL 2194 1759 \nz\nM 3341 1997 \nL 3341 0 \nL 2766 0 \nL 2766 531 \nQ 2569 213 2275 61 \nQ 1981 -91 1556 -91 \nQ 1019 -91 701 211 \nQ 384 513 384 1019 \nQ 384 1609 779 1909 \nQ 1175 2209 1959 2209 \nL 2766 2209 \nL 2766 2266 \nQ 2766 2663 2505 2880 \nQ 2244 3097 1772 3097 \nQ 1472 3097 1187 3025 \nQ 903 2953 641 2809 \nL 641 3341 \nQ 956 3463 1253 3523 \nQ 1550 3584 1831 3584 \nQ 2591 3584 2966 3190 \nQ 3341 2797 3341 1997 \nz\n\" transform=\"scale(0.015625)\"/>\n       <path id=\"DejaVuSans-69\" d=\"M 603 3500 \nL 1178 3500 \nL 1178 0 \nL 603 0 \nL 603 3500 \nz\nM 603 4863 \nL 1178 4863 \nL 1178 4134 \nL 603 4134 \nL 603 4863 \nz\n\" transform=\"scale(0.015625)\"/>\n       <path id=\"DejaVuSans-6e\" d=\"M 3513 2113 \nL 3513 0 \nL 2938 0 \nL 2938 2094 \nQ 2938 2591 2744 2837 \nQ 2550 3084 2163 3084 \nQ 1697 3084 1428 2787 \nQ 1159 2491 1159 1978 \nL 1159 0 \nL 581 0 \nL 581 3500 \nL 1159 3500 \nL 1159 2956 \nQ 1366 3272 1645 3428 \nQ 1925 3584 2291 3584 \nQ 2894 3584 3203 3211 \nQ 3513 2838 3513 2113 \nz\n\" transform=\"scale(0.015625)\"/>\n      </defs>\n      <use xlink:href=\"#DejaVuSans-54\"/>\n      <use xlink:href=\"#DejaVuSans-72\" x=\"46.333984\"/>\n      <use xlink:href=\"#DejaVuSans-61\" x=\"87.447266\"/>\n      <use xlink:href=\"#DejaVuSans-69\" x=\"148.726562\"/>\n      <use xlink:href=\"#DejaVuSans-6e\" x=\"176.509766\"/>\n      <use xlink:href=\"#DejaVuSans-20\" x=\"239.888672\"/>\n      <use xlink:href=\"#DejaVuSans-4c\" x=\"271.675781\"/>\n      <use xlink:href=\"#DejaVuSans-6f\" x=\"325.638672\"/>\n      <use xlink:href=\"#DejaVuSans-73\" x=\"386.820312\"/>\n      <use xlink:href=\"#DejaVuSans-73\" x=\"438.919922\"/>\n     </g>\n    </g>\n    <g id=\"line2d_398\">\n     <path d=\"M 335.713438 51.918312 \nL 345.713438 51.918312 \nL 355.713438 51.918312 \n\" style=\"fill: none; stroke: #348abd; stroke-width: 1.5; stroke-linecap: square\"/>\n    </g>\n    <g id=\"text_202\">\n     <!-- Valid Loss -->\n     <g transform=\"translate(363.713438 55.418312) scale(0.1 -0.1)\">\n      <defs>\n       <path id=\"DejaVuSans-56\" d=\"M 1831 0 \nL 50 4666 \nL 709 4666 \nL 2188 738 \nL 3669 4666 \nL 4325 4666 \nL 2547 0 \nL 1831 0 \nz\n\" transform=\"scale(0.015625)\"/>\n       <path id=\"DejaVuSans-6c\" d=\"M 603 4863 \nL 1178 4863 \nL 1178 0 \nL 603 0 \nL 603 4863 \nz\n\" transform=\"scale(0.015625)\"/>\n       <path id=\"DejaVuSans-64\" d=\"M 2906 2969 \nL 2906 4863 \nL 3481 4863 \nL 3481 0 \nL 2906 0 \nL 2906 525 \nQ 2725 213 2448 61 \nQ 2172 -91 1784 -91 \nQ 1150 -91 751 415 \nQ 353 922 353 1747 \nQ 353 2572 751 3078 \nQ 1150 3584 1784 3584 \nQ 2172 3584 2448 3432 \nQ 2725 3281 2906 2969 \nz\nM 947 1747 \nQ 947 1113 1208 752 \nQ 1469 391 1925 391 \nQ 2381 391 2643 752 \nQ 2906 1113 2906 1747 \nQ 2906 2381 2643 2742 \nQ 2381 3103 1925 3103 \nQ 1469 3103 1208 2742 \nQ 947 2381 947 1747 \nz\n\" transform=\"scale(0.015625)\"/>\n      </defs>\n      <use xlink:href=\"#DejaVuSans-56\"/>\n      <use xlink:href=\"#DejaVuSans-61\" x=\"60.658203\"/>\n      <use xlink:href=\"#DejaVuSans-6c\" x=\"121.9375\"/>\n      <use xlink:href=\"#DejaVuSans-69\" x=\"149.720703\"/>\n      <use xlink:href=\"#DejaVuSans-64\" x=\"177.503906\"/>\n      <use xlink:href=\"#DejaVuSans-20\" x=\"240.980469\"/>\n      <use xlink:href=\"#DejaVuSans-4c\" x=\"272.767578\"/>\n      <use xlink:href=\"#DejaVuSans-6f\" x=\"326.730469\"/>\n      <use xlink:href=\"#DejaVuSans-73\" x=\"387.912109\"/>\n      <use xlink:href=\"#DejaVuSans-73\" x=\"440.011719\"/>\n     </g>\n    </g>\n   </g>\n  </g>\n </g>\n <defs>\n  <clipPath id=\"p399d720b75\">\n   <rect x=\"64.804375\" y=\"24.14175\" width=\"357.12\" height=\"266.112\"/>\n  </clipPath>\n </defs>\n</svg>\n"
     },
     "metadata": {},
     "output_type": "display_data"
    }
   ],
   "execution_count": 104
  },
  {
   "cell_type": "markdown",
   "metadata": {
    "id": "0hmGZdPhGUyO"
   },
   "source": [
    "### Check Performance of BoW Model"
   ]
  },
  {
   "cell_type": "code",
   "metadata": {
    "id": "oyUgARIFGRtQ",
    "colab": {
     "base_uri": "https://localhost:8080/"
    },
    "outputId": "d6043627-ad50-4841-dc8b-2a853637bb53",
    "ExecuteTime": {
     "end_time": "2024-10-08T13:37:23.311618Z",
     "start_time": "2024-10-08T13:37:23.015563Z"
    }
   },
   "source": [
    "bow_model.eval()\n",
    "test_accuracy, n_examples = 0, 0\n",
    "y_true, y_pred = [], []\n",
    "input_type = 'bow'\n",
    "\n",
    "with torch.no_grad():\n",
    "    for seq, bow, tfidf, target, text in test_loader:\n",
    "        inputs = bow\n",
    "        probs = bow_model(inputs)\n",
    "\n",
    "        probs = probs.detach().cpu()  #.numpy()\n",
    "        predictions = torch.argmax(probs, dim=1)\n",
    "        target = target.cpu()  #.numpy()\n",
    "\n",
    "        y_true.extend(predictions)\n",
    "        y_pred.extend(target)\n",
    "\n",
    "print(classification_report(y_true, y_pred))"
   ],
   "outputs": [
    {
     "name": "stdout",
     "output_type": "stream",
     "text": [
      "              precision    recall  f1-score   support\n",
      "\n",
      "           0       0.86      0.85      0.85      1562\n",
      "           1       0.85      0.86      0.85      1545\n",
      "\n",
      "    accuracy                           0.85      3107\n",
      "   macro avg       0.85      0.85      0.85      3107\n",
      "weighted avg       0.85      0.85      0.85      3107\n",
      "\n"
     ]
    }
   ],
   "execution_count": 107
  },
  {
   "cell_type": "markdown",
   "metadata": {
    "id": "SdUah0AkIOdq"
   },
   "source": [
    "**Let's check a few examples**"
   ]
  },
  {
   "cell_type": "code",
   "metadata": {
    "id": "sr0faB2WIe-M",
    "ExecuteTime": {
     "end_time": "2024-10-08T13:41:38.101265Z",
     "start_time": "2024-10-08T13:41:38.079585Z"
    }
   },
   "source": [
    "flatten = lambda x: [sublst for lst in x for sublst in lst]\n",
    "seq_lst, bow_lst, tfidf_lst, target_lst, text_lst = zip(*test_loader)\n",
    "seq_lst, bow_lst, tfidf_lst, target_lst, text_lst = map(flatten, [seq_lst, bow_lst, tfidf_lst, target_lst, text_lst])\n",
    "test_examples = list(zip(seq_lst, bow_lst, tfidf_lst, target_lst, text_lst))\n",
    "\n",
    "\n",
    "def print_random_prediction(model, n=5, input_type='bow'):\n",
    "    to_emoji = lambda x: '😄' if x else '😡'\n",
    "    model.eval()\n",
    "    rows = []\n",
    "    for i in range(n):\n",
    "        with torch.no_grad():\n",
    "            seq, bow, tdidf, target, text = random.choice(test_examples)\n",
    "            target = target.item()\n",
    "\n",
    "            inputs = bow\n",
    "            if input_type == 'tdidf':\n",
    "                inputs = tdidf\n",
    "\n",
    "            probs = model([inputs])\n",
    "            probs = probs.detach().cpu().numpy()\n",
    "            prediction = np.argmax(probs, axis=1)[0]\n",
    "\n",
    "            predicted = to_emoji(prediction)\n",
    "            actual = to_emoji(target)\n",
    "\n",
    "            row = f\"\"\"\n",
    "            <tr>\n",
    "            <td>{i + 1}&nbsp;</td>\n",
    "            <td>{text}&nbsp;</td>\n",
    "            <td>{predicted}&nbsp;</td>\n",
    "            <td>{actual}&nbsp;</td>\n",
    "            </tr>\n",
    "            \"\"\"\n",
    "            rows.append(row)\n",
    "\n",
    "    rows_joined = '\\n'.join(rows)\n",
    "    table = f\"\"\"\n",
    "    <table>\n",
    "    <tbody>\n",
    "    <tr>\n",
    "    <td><b>Number</b>&nbsp;</td>\n",
    "    <td><b>Review</b>&nbsp;</td>\n",
    "    <td><b>Predicted</b>&nbsp;</td>\n",
    "    <td><b>Actual</b>&nbsp;</td>\n",
    "    </tr>{rows_joined}\n",
    "    </tbody>\n",
    "    </table>\n",
    "    \"\"\"\n",
    "    display(HTML(table))"
   ],
   "outputs": [],
   "execution_count": 112
  },
  {
   "cell_type": "code",
   "metadata": {
    "id": "HPZKONRaIu_U",
    "colab": {
     "base_uri": "https://localhost:8080/",
     "height": 1000
    },
    "outputId": "b393b82b-e976-4e9f-bf8f-a506103b3337",
    "ExecuteTime": {
     "end_time": "2024-10-08T13:41:51.814177Z",
     "start_time": "2024-10-08T13:41:51.807864Z"
    }
   },
   "source": [
    "print_random_prediction(bow_model, n=5, input_type='bow')"
   ],
   "outputs": [
    {
     "data": {
      "text/plain": [
       "<IPython.core.display.HTML object>"
      ],
      "text/html": [
       "\n",
       "    <table>\n",
       "    <tbody>\n",
       "    <tr>\n",
       "    <td><b>Number</b>&nbsp;</td>\n",
       "    <td><b>Review</b>&nbsp;</td>\n",
       "    <td><b>Predicted</b>&nbsp;</td>\n",
       "    <td><b>Actual</b>&nbsp;</td>\n",
       "    </tr>\n",
       "            <tr>\n",
       "            <td>1&nbsp;</td>\n",
       "            <td>One of the commenter's is wrong. This is not the only Pat Patterson film and he didn't die two years after this was made. He shot a film called the \"Electric Chair\" in Pineville, NC. He shot this a few years after Doctor Gore. Patterson died in the late 70's. I know this because he used my house and he left a cat there!! It sucked also. This was a big deal when the movie came out. No independent horror films were being made in NC. This movie didn't help matters. Patterson used to do gore effects for H. G. Lewis. He was also good at magic. His gore scenes in Body shop were actually well done. The film was shot in a building that also housed a 7/11. You can actually see the tops of the walls in some scenes. The budget was less that $20,000 and the script looked like a child wrote it. Only Patterson could understand it. Still...it's entertainment and it's a classic.&nbsp;</td>\n",
       "            <td>😡&nbsp;</td>\n",
       "            <td>😡&nbsp;</td>\n",
       "            </tr>\n",
       "            \n",
       "\n",
       "            <tr>\n",
       "            <td>2&nbsp;</td>\n",
       "            <td>I's a big struggle. As a story that is surreal, this movie could've been great (as great as it is rated by some here), but mixed with the acting (director and relatives playing major roles, due to financial reasons I reckon) found in here ... although calling this acting, is not only a stretch of that word, it's giving it a new meaning! A whole new meaning! <br /><br />If you are into surreal movies (there are some that I do like actually, see the Japanese Strange Circus for example), you might be able to overlook the flaws (see above) and enjoy this more. There are great ideas here, after all! Many great metaphors and ambiguous scenes, but while watching this (with a group of friends) almost all of us, just couldn't stop laughing ... not the intention of the director of course! Again, everyone has their own liking, as one can see by the high rating of this movie, but I could only recommend the movie if you're aware of the work that Alejandro Jodorowsky has done and/or are a fan of his!&nbsp;</td>\n",
       "            <td>😄&nbsp;</td>\n",
       "            <td>😡&nbsp;</td>\n",
       "            </tr>\n",
       "            \n",
       "\n",
       "            <tr>\n",
       "            <td>3&nbsp;</td>\n",
       "            <td>Billy Crystal co-wrote, co-produced and stars in this extremely safe and comfy comedy-drama about fathers and sons, adult irresponsibility, and growing old. Billy plays a heart surgeon who has a heart attack (ha ha) which causes him to seek out his estranged father (Alan King), a movie-extra who fancies himself a big star. The script is sub-Neil Simon nonsense with one-liners galore, a flat, inexpressive direction by Henry Winkler (stuck in sitcom mode), and family-conflict at the ready. Crystal and King try their best, but King is over-eager and frequently over-the-top. JoBeth Williams has another one of her thankless roles, but manages to bring her innate, down-home class to the proverbial girlfriend character. It's a comedy, I guess, but one that blinks back the tears...shamefully. ** from ****&nbsp;</td>\n",
       "            <td>😡&nbsp;</td>\n",
       "            <td>😡&nbsp;</td>\n",
       "            </tr>\n",
       "            \n",
       "\n",
       "            <tr>\n",
       "            <td>4&nbsp;</td>\n",
       "            <td>I saw this movie not knowing anything about it before hand. The plot was terrible with large gaps of information missing. The movie didn't have the \"battle of wits\" feel to me. The actors just spewed out mouthful's of nonsense, at times causing me to gnash my teeth in agony as they droned on and on. The plot was predictable except for the stomach sickening homo erotic scene at the end (I'm not homophobic but made me physically sick to my stomach), even the ending was predictable. And you could tell the detective was Jude Law in a costume, everything from the fake accent, terrible dental work, costume shop facial hair, everything pointed to it being a disguise. The whole movie just felt like wasted time out of my life. This movie had the feel of a puppet show with Jude Law and Michael Caine as puppets and the house as the window to view the show, really boooring in my opinion.&nbsp;</td>\n",
       "            <td>😡&nbsp;</td>\n",
       "            <td>😡&nbsp;</td>\n",
       "            </tr>\n",
       "            \n",
       "\n",
       "            <tr>\n",
       "            <td>5&nbsp;</td>\n",
       "            <td>I like the film, itÂ´s the best pirate-movie I watched hitherto (forget silly Errol-Flynn-stuff and Pirates of the Caribbean). This movie is wonderful melancholic. I compare it with \"Johnny Guitar\" at the sea-side (but 3 years earlier), two women fighting for a man, where mad love might lead one.<br /><br />The character of the female (anti-) heroine, Anne Providence, is superb, acting without compromise like a child, lost alone on her search for a own female identity in a real manÂ´s world. SheÂ´s a quite strange movie-hero, not a funny pirate, as most of her companions in this genre, not making jokes all the time, fighting for the poor and good and only killing the stupid spanish or british soldiers or - better - sly governors, but sheÂ´s murdering all the poor prisoners of war, after she captured a ship (look careful at this at the start of the movie), sheÂ´s primitive (she canÂ´t even read), she is desperated and she getÂ´s an alcoholic, she looses all her friends as consequence of her obstinacy and sheÂ´s wearing rags most of the film. This film shows a pirate \"hero\" a little (!) bit as he (or in this case \"she\", but there has been a female \"Anne\" buccaneer, Anne Boney) might have been in brutal reality.<br /><br />The film is quite short and the story is told in a breathtaking manner. Certainly, a film from the 1950s has no exciting special effects for present time viewers (the ships swim very obvious in a bath tube), but this real drama about love (that kills), trust, betrayal, revenge, hatred and sacrifice drives one crazy. Maybe, Anne is even supposed to be Judas Iskarioth and Jesus from Nazareth in one person, being betrayed by her friend (the french LaRochelle) as Jesus; after being disappointed by the friend, delivering him to a death penalty (as Judas); than getting remorse about this (like Judas, who commits suicide according to the gospel of Matthew); and in the end sacrificing herself for the rescue of the beloved enemy (as Jesus). But, even if you are not interested in this philosophical questions of guilt and atonement, the film brings a lot of (cheap) action as sword fights and burning (plastic) ships for a very short one and a half hour.&nbsp;</td>\n",
       "            <td>😡&nbsp;</td>\n",
       "            <td>😄&nbsp;</td>\n",
       "            </tr>\n",
       "            \n",
       "    </tbody>\n",
       "    </table>\n",
       "    "
      ]
     },
     "metadata": {},
     "output_type": "display_data"
    }
   ],
   "execution_count": 114
  },
  {
   "cell_type": "markdown",
   "metadata": {
    "id": "Evqnu98cQR86"
   },
   "source": [
    "## TF-IDF Model\n",
    "\n",
    "**Term Frequency - Inverse Document Frequency**\n",
    "\n",
    "For a term `i` in document `j`:\n",
    "\n",
    "$$TFIDF = TF_{i,j} \\times log \\frac{N}{DF_i}$$\n",
    "\n",
    "- TF: number of occurance of the term `i` in document `j`\n",
    "- N: total number of documents\n",
    "- DF: number of documents containins the term `i`\n",
    "\n",
    "Questions:\n",
    "- Why would this be more representative than pure bag of words?\n",
    "- What does TFIDF score of a word mean for a document?"
   ]
  },
  {
   "cell_type": "markdown",
   "metadata": {
    "id": "PJJqesoYPheB"
   },
   "source": [
    "### Initialize TF-IDF Model"
   ]
  },
  {
   "cell_type": "code",
   "metadata": {
    "id": "e0kloodgQR87",
    "ExecuteTime": {
     "end_time": "2024-10-08T15:15:11.854882Z",
     "start_time": "2024-10-08T15:15:11.850093Z"
    }
   },
   "source": [
    "tfidf_model = LinearTextClassifier(\n",
    "    vocab_size=len(dataset.token2idx),\n",
    "    num_labels=2,\n",
    ")\n",
    "tfidf_model"
   ],
   "outputs": [
    {
     "data": {
      "text/plain": [
       "LinearTextClassifier(\n",
       "  (fc): Linear(in_features=990, out_features=2, bias=True)\n",
       ")"
      ]
     },
     "execution_count": 134,
     "metadata": {},
     "output_type": "execute_result"
    }
   ],
   "execution_count": 134
  },
  {
   "cell_type": "markdown",
   "metadata": {
    "id": "7w-9q4ErPmiL"
   },
   "source": [
    "### Train TF-IDF Model\n",
    "\n",
    "TF-IDF vectors as input"
   ]
  },
  {
   "cell_type": "code",
   "metadata": {
    "id": "2vxcXt_-PX0X",
    "ExecuteTime": {
     "end_time": "2024-10-08T15:15:14.236656Z",
     "start_time": "2024-10-08T15:15:14.234005Z"
    }
   },
   "source": [
    "LEARNING_RATE = 5e-5"
   ],
   "outputs": [],
   "execution_count": 135
  },
  {
   "cell_type": "code",
   "metadata": {
    "id": "LTAApk0GOdnn",
    "ExecuteTime": {
     "end_time": "2024-10-08T15:15:14.897761Z",
     "start_time": "2024-10-08T15:15:14.894306Z"
    }
   },
   "source": [
    "criterion = nn.CrossEntropyLoss()\n",
    "optimizer = optim.Adam(\n",
    "    filter(lambda p: p.requires_grad, tfidf_model.parameters()),\n",
    "    lr=LEARNING_RATE,\n",
    ")\n",
    "scheduler = CosineAnnealingLR(optimizer, 1)"
   ],
   "outputs": [],
   "execution_count": 136
  },
  {
   "cell_type": "code",
   "metadata": {
    "id": "JOKbMYOaQR8-",
    "ExecuteTime": {
     "end_time": "2024-10-08T15:24:39.299995Z",
     "start_time": "2024-10-08T15:15:16.447539Z"
    }
   },
   "source": [
    "n_epochs = 0\n",
    "train_losses, valid_losses = [], []\n",
    "while True:\n",
    "    train_loss = train_epoch(tfidf_model, optimizer, train_loader, input_type='tfidf')\n",
    "    valid_loss = validate_epoch(tfidf_model, valid_loader, input_type='tfidf')\n",
    "\n",
    "    tqdm.write(\n",
    "        f'epoch #{n_epochs + 1:3d}\\ttrain_loss: {train_loss:.2e}\\tvalid_loss: {valid_loss:.2e}\\n',\n",
    "    )\n",
    "\n",
    "    # Early stopping if the current valid_loss is greater than the last three valid losses\n",
    "    if len(valid_losses) > 2 and all(valid_loss >= loss for loss in valid_losses[-3:]):\n",
    "        print('Stopping early')\n",
    "        break\n",
    "\n",
    "    train_losses.append(train_loss)\n",
    "    valid_losses.append(valid_loss)\n",
    "\n",
    "    n_epochs += 1"
   ],
   "outputs": [
    {
     "name": "stdout",
     "output_type": "stream",
     "text": [
      "epoch #  1\ttrain_loss: 1.31e-03\tvalid_loss: 1.34e-03\n",
      "\n",
      "epoch #  2\ttrain_loss: 1.31e-03\tvalid_loss: 1.34e-03\n",
      "\n",
      "epoch #  3\ttrain_loss: 1.31e-03\tvalid_loss: 1.33e-03\n",
      "\n",
      "epoch #  4\ttrain_loss: 1.31e-03\tvalid_loss: 1.33e-03\n",
      "\n",
      "epoch #  5\ttrain_loss: 1.31e-03\tvalid_loss: 1.33e-03\n",
      "\n",
      "epoch #  6\ttrain_loss: 1.31e-03\tvalid_loss: 1.33e-03\n",
      "\n",
      "epoch #  7\ttrain_loss: 1.30e-03\tvalid_loss: 1.33e-03\n",
      "\n",
      "epoch #  8\ttrain_loss: 1.30e-03\tvalid_loss: 1.33e-03\n",
      "\n",
      "epoch #  9\ttrain_loss: 1.30e-03\tvalid_loss: 1.33e-03\n",
      "\n",
      "epoch # 10\ttrain_loss: 1.30e-03\tvalid_loss: 1.33e-03\n",
      "\n",
      "epoch # 11\ttrain_loss: 1.30e-03\tvalid_loss: 1.32e-03\n",
      "\n",
      "epoch # 12\ttrain_loss: 1.30e-03\tvalid_loss: 1.32e-03\n",
      "\n",
      "epoch # 13\ttrain_loss: 1.30e-03\tvalid_loss: 1.32e-03\n",
      "\n",
      "epoch # 14\ttrain_loss: 1.30e-03\tvalid_loss: 1.32e-03\n",
      "\n",
      "epoch # 15\ttrain_loss: 1.29e-03\tvalid_loss: 1.32e-03\n",
      "\n",
      "epoch # 16\ttrain_loss: 1.29e-03\tvalid_loss: 1.32e-03\n",
      "\n",
      "epoch # 17\ttrain_loss: 1.29e-03\tvalid_loss: 1.32e-03\n",
      "\n",
      "epoch # 18\ttrain_loss: 1.29e-03\tvalid_loss: 1.31e-03\n",
      "\n",
      "epoch # 19\ttrain_loss: 1.29e-03\tvalid_loss: 1.31e-03\n",
      "\n",
      "epoch # 20\ttrain_loss: 1.29e-03\tvalid_loss: 1.31e-03\n",
      "\n",
      "epoch # 21\ttrain_loss: 1.29e-03\tvalid_loss: 1.31e-03\n",
      "\n",
      "epoch # 22\ttrain_loss: 1.29e-03\tvalid_loss: 1.31e-03\n",
      "\n",
      "epoch # 23\ttrain_loss: 1.28e-03\tvalid_loss: 1.31e-03\n",
      "\n",
      "epoch # 24\ttrain_loss: 1.28e-03\tvalid_loss: 1.31e-03\n",
      "\n",
      "epoch # 25\ttrain_loss: 1.28e-03\tvalid_loss: 1.31e-03\n",
      "\n",
      "epoch # 26\ttrain_loss: 1.28e-03\tvalid_loss: 1.30e-03\n",
      "\n",
      "epoch # 27\ttrain_loss: 1.28e-03\tvalid_loss: 1.30e-03\n",
      "\n",
      "epoch # 28\ttrain_loss: 1.28e-03\tvalid_loss: 1.30e-03\n",
      "\n",
      "epoch # 29\ttrain_loss: 1.28e-03\tvalid_loss: 1.30e-03\n",
      "\n",
      "epoch # 30\ttrain_loss: 1.28e-03\tvalid_loss: 1.30e-03\n",
      "\n",
      "epoch # 31\ttrain_loss: 1.27e-03\tvalid_loss: 1.30e-03\n",
      "\n",
      "epoch # 32\ttrain_loss: 1.27e-03\tvalid_loss: 1.30e-03\n",
      "\n",
      "epoch # 33\ttrain_loss: 1.27e-03\tvalid_loss: 1.30e-03\n",
      "\n",
      "epoch # 34\ttrain_loss: 1.27e-03\tvalid_loss: 1.29e-03\n",
      "\n",
      "epoch # 35\ttrain_loss: 1.27e-03\tvalid_loss: 1.29e-03\n",
      "\n",
      "epoch # 36\ttrain_loss: 1.27e-03\tvalid_loss: 1.29e-03\n",
      "\n",
      "epoch # 37\ttrain_loss: 1.27e-03\tvalid_loss: 1.29e-03\n",
      "\n",
      "epoch # 38\ttrain_loss: 1.27e-03\tvalid_loss: 1.29e-03\n",
      "\n",
      "epoch # 39\ttrain_loss: 1.26e-03\tvalid_loss: 1.29e-03\n",
      "\n",
      "epoch # 40\ttrain_loss: 1.26e-03\tvalid_loss: 1.29e-03\n",
      "\n",
      "epoch # 41\ttrain_loss: 1.26e-03\tvalid_loss: 1.29e-03\n",
      "\n",
      "epoch # 42\ttrain_loss: 1.26e-03\tvalid_loss: 1.29e-03\n",
      "\n",
      "epoch # 43\ttrain_loss: 1.26e-03\tvalid_loss: 1.28e-03\n",
      "\n",
      "epoch # 44\ttrain_loss: 1.26e-03\tvalid_loss: 1.28e-03\n",
      "\n",
      "epoch # 45\ttrain_loss: 1.26e-03\tvalid_loss: 1.28e-03\n",
      "\n",
      "epoch # 46\ttrain_loss: 1.26e-03\tvalid_loss: 1.28e-03\n",
      "\n",
      "epoch # 47\ttrain_loss: 1.25e-03\tvalid_loss: 1.28e-03\n",
      "\n",
      "epoch # 48\ttrain_loss: 1.25e-03\tvalid_loss: 1.28e-03\n",
      "\n",
      "epoch # 49\ttrain_loss: 1.25e-03\tvalid_loss: 1.28e-03\n",
      "\n",
      "epoch # 50\ttrain_loss: 1.25e-03\tvalid_loss: 1.28e-03\n",
      "\n",
      "epoch # 51\ttrain_loss: 1.25e-03\tvalid_loss: 1.27e-03\n",
      "\n",
      "epoch # 52\ttrain_loss: 1.25e-03\tvalid_loss: 1.27e-03\n",
      "\n",
      "epoch # 53\ttrain_loss: 1.25e-03\tvalid_loss: 1.27e-03\n",
      "\n",
      "epoch # 54\ttrain_loss: 1.25e-03\tvalid_loss: 1.27e-03\n",
      "\n",
      "epoch # 55\ttrain_loss: 1.25e-03\tvalid_loss: 1.27e-03\n",
      "\n",
      "epoch # 56\ttrain_loss: 1.24e-03\tvalid_loss: 1.27e-03\n",
      "\n",
      "epoch # 57\ttrain_loss: 1.24e-03\tvalid_loss: 1.27e-03\n",
      "\n",
      "epoch # 58\ttrain_loss: 1.24e-03\tvalid_loss: 1.27e-03\n",
      "\n",
      "epoch # 59\ttrain_loss: 1.24e-03\tvalid_loss: 1.27e-03\n",
      "\n",
      "epoch # 60\ttrain_loss: 1.24e-03\tvalid_loss: 1.26e-03\n",
      "\n",
      "epoch # 61\ttrain_loss: 1.24e-03\tvalid_loss: 1.26e-03\n",
      "\n",
      "epoch # 62\ttrain_loss: 1.24e-03\tvalid_loss: 1.26e-03\n",
      "\n",
      "epoch # 63\ttrain_loss: 1.24e-03\tvalid_loss: 1.26e-03\n",
      "\n",
      "epoch # 64\ttrain_loss: 1.24e-03\tvalid_loss: 1.26e-03\n",
      "\n",
      "epoch # 65\ttrain_loss: 1.23e-03\tvalid_loss: 1.26e-03\n",
      "\n",
      "epoch # 66\ttrain_loss: 1.23e-03\tvalid_loss: 1.26e-03\n",
      "\n",
      "epoch # 67\ttrain_loss: 1.23e-03\tvalid_loss: 1.26e-03\n",
      "\n",
      "epoch # 68\ttrain_loss: 1.23e-03\tvalid_loss: 1.26e-03\n",
      "\n",
      "epoch # 69\ttrain_loss: 1.23e-03\tvalid_loss: 1.25e-03\n",
      "\n",
      "epoch # 70\ttrain_loss: 1.23e-03\tvalid_loss: 1.25e-03\n",
      "\n",
      "epoch # 71\ttrain_loss: 1.23e-03\tvalid_loss: 1.25e-03\n",
      "\n",
      "epoch # 72\ttrain_loss: 1.23e-03\tvalid_loss: 1.25e-03\n",
      "\n",
      "epoch # 73\ttrain_loss: 1.23e-03\tvalid_loss: 1.25e-03\n",
      "\n",
      "epoch # 74\ttrain_loss: 1.22e-03\tvalid_loss: 1.25e-03\n",
      "\n",
      "epoch # 75\ttrain_loss: 1.22e-03\tvalid_loss: 1.25e-03\n",
      "\n",
      "epoch # 76\ttrain_loss: 1.22e-03\tvalid_loss: 1.25e-03\n",
      "\n",
      "epoch # 77\ttrain_loss: 1.22e-03\tvalid_loss: 1.25e-03\n",
      "\n",
      "epoch # 78\ttrain_loss: 1.22e-03\tvalid_loss: 1.25e-03\n",
      "\n",
      "epoch # 79\ttrain_loss: 1.22e-03\tvalid_loss: 1.24e-03\n",
      "\n",
      "epoch # 80\ttrain_loss: 1.22e-03\tvalid_loss: 1.24e-03\n",
      "\n",
      "epoch # 81\ttrain_loss: 1.22e-03\tvalid_loss: 1.24e-03\n",
      "\n",
      "epoch # 82\ttrain_loss: 1.22e-03\tvalid_loss: 1.24e-03\n",
      "\n",
      "epoch # 83\ttrain_loss: 1.22e-03\tvalid_loss: 1.24e-03\n",
      "\n",
      "epoch # 84\ttrain_loss: 1.21e-03\tvalid_loss: 1.24e-03\n",
      "\n",
      "epoch # 85\ttrain_loss: 1.21e-03\tvalid_loss: 1.24e-03\n",
      "\n",
      "epoch # 86\ttrain_loss: 1.21e-03\tvalid_loss: 1.24e-03\n",
      "\n",
      "epoch # 87\ttrain_loss: 1.21e-03\tvalid_loss: 1.24e-03\n",
      "\n",
      "epoch # 88\ttrain_loss: 1.21e-03\tvalid_loss: 1.24e-03\n",
      "\n",
      "epoch # 89\ttrain_loss: 1.21e-03\tvalid_loss: 1.23e-03\n",
      "\n",
      "epoch # 90\ttrain_loss: 1.21e-03\tvalid_loss: 1.23e-03\n",
      "\n",
      "epoch # 91\ttrain_loss: 1.21e-03\tvalid_loss: 1.23e-03\n",
      "\n",
      "epoch # 92\ttrain_loss: 1.21e-03\tvalid_loss: 1.23e-03\n",
      "\n",
      "epoch # 93\ttrain_loss: 1.21e-03\tvalid_loss: 1.23e-03\n",
      "\n",
      "epoch # 94\ttrain_loss: 1.20e-03\tvalid_loss: 1.23e-03\n",
      "\n",
      "epoch # 95\ttrain_loss: 1.20e-03\tvalid_loss: 1.23e-03\n",
      "\n",
      "epoch # 96\ttrain_loss: 1.20e-03\tvalid_loss: 1.23e-03\n",
      "\n",
      "epoch # 97\ttrain_loss: 1.20e-03\tvalid_loss: 1.23e-03\n",
      "\n",
      "epoch # 98\ttrain_loss: 1.20e-03\tvalid_loss: 1.23e-03\n",
      "\n",
      "epoch # 99\ttrain_loss: 1.20e-03\tvalid_loss: 1.22e-03\n",
      "\n",
      "epoch #100\ttrain_loss: 1.20e-03\tvalid_loss: 1.22e-03\n",
      "\n",
      "epoch #101\ttrain_loss: 1.20e-03\tvalid_loss: 1.22e-03\n",
      "\n",
      "epoch #102\ttrain_loss: 1.20e-03\tvalid_loss: 1.22e-03\n",
      "\n",
      "epoch #103\ttrain_loss: 1.20e-03\tvalid_loss: 1.22e-03\n",
      "\n",
      "epoch #104\ttrain_loss: 1.19e-03\tvalid_loss: 1.22e-03\n",
      "\n",
      "epoch #105\ttrain_loss: 1.19e-03\tvalid_loss: 1.22e-03\n",
      "\n",
      "epoch #106\ttrain_loss: 1.19e-03\tvalid_loss: 1.22e-03\n",
      "\n",
      "epoch #107\ttrain_loss: 1.19e-03\tvalid_loss: 1.22e-03\n",
      "\n",
      "epoch #108\ttrain_loss: 1.19e-03\tvalid_loss: 1.22e-03\n",
      "\n",
      "epoch #109\ttrain_loss: 1.19e-03\tvalid_loss: 1.21e-03\n",
      "\n",
      "epoch #110\ttrain_loss: 1.19e-03\tvalid_loss: 1.21e-03\n",
      "\n",
      "epoch #111\ttrain_loss: 1.19e-03\tvalid_loss: 1.21e-03\n",
      "\n",
      "epoch #112\ttrain_loss: 1.19e-03\tvalid_loss: 1.21e-03\n",
      "\n",
      "epoch #113\ttrain_loss: 1.19e-03\tvalid_loss: 1.21e-03\n",
      "\n",
      "epoch #114\ttrain_loss: 1.19e-03\tvalid_loss: 1.21e-03\n",
      "\n",
      "epoch #115\ttrain_loss: 1.18e-03\tvalid_loss: 1.21e-03\n",
      "\n",
      "epoch #116\ttrain_loss: 1.18e-03\tvalid_loss: 1.21e-03\n",
      "\n",
      "epoch #117\ttrain_loss: 1.18e-03\tvalid_loss: 1.21e-03\n",
      "\n",
      "epoch #118\ttrain_loss: 1.18e-03\tvalid_loss: 1.21e-03\n",
      "\n",
      "epoch #119\ttrain_loss: 1.18e-03\tvalid_loss: 1.21e-03\n",
      "\n",
      "epoch #120\ttrain_loss: 1.18e-03\tvalid_loss: 1.20e-03\n",
      "\n",
      "epoch #121\ttrain_loss: 1.18e-03\tvalid_loss: 1.20e-03\n",
      "\n",
      "epoch #122\ttrain_loss: 1.18e-03\tvalid_loss: 1.20e-03\n",
      "\n",
      "epoch #123\ttrain_loss: 1.18e-03\tvalid_loss: 1.20e-03\n",
      "\n",
      "epoch #124\ttrain_loss: 1.18e-03\tvalid_loss: 1.20e-03\n",
      "\n",
      "epoch #125\ttrain_loss: 1.18e-03\tvalid_loss: 1.20e-03\n",
      "\n",
      "epoch #126\ttrain_loss: 1.18e-03\tvalid_loss: 1.20e-03\n",
      "\n",
      "epoch #127\ttrain_loss: 1.17e-03\tvalid_loss: 1.20e-03\n",
      "\n",
      "epoch #128\ttrain_loss: 1.17e-03\tvalid_loss: 1.20e-03\n",
      "\n",
      "epoch #129\ttrain_loss: 1.17e-03\tvalid_loss: 1.20e-03\n",
      "\n",
      "epoch #130\ttrain_loss: 1.17e-03\tvalid_loss: 1.20e-03\n",
      "\n",
      "epoch #131\ttrain_loss: 1.17e-03\tvalid_loss: 1.20e-03\n",
      "\n",
      "epoch #132\ttrain_loss: 1.17e-03\tvalid_loss: 1.19e-03\n",
      "\n",
      "epoch #133\ttrain_loss: 1.17e-03\tvalid_loss: 1.19e-03\n",
      "\n",
      "epoch #134\ttrain_loss: 1.17e-03\tvalid_loss: 1.19e-03\n",
      "\n",
      "epoch #135\ttrain_loss: 1.17e-03\tvalid_loss: 1.19e-03\n",
      "\n",
      "epoch #136\ttrain_loss: 1.17e-03\tvalid_loss: 1.19e-03\n",
      "\n",
      "epoch #137\ttrain_loss: 1.17e-03\tvalid_loss: 1.19e-03\n",
      "\n",
      "epoch #138\ttrain_loss: 1.17e-03\tvalid_loss: 1.19e-03\n",
      "\n",
      "epoch #139\ttrain_loss: 1.16e-03\tvalid_loss: 1.19e-03\n",
      "\n",
      "epoch #140\ttrain_loss: 1.16e-03\tvalid_loss: 1.19e-03\n",
      "\n",
      "epoch #141\ttrain_loss: 1.16e-03\tvalid_loss: 1.19e-03\n",
      "\n",
      "epoch #142\ttrain_loss: 1.16e-03\tvalid_loss: 1.19e-03\n",
      "\n",
      "epoch #143\ttrain_loss: 1.16e-03\tvalid_loss: 1.18e-03\n",
      "\n",
      "epoch #144\ttrain_loss: 1.16e-03\tvalid_loss: 1.18e-03\n",
      "\n",
      "epoch #145\ttrain_loss: 1.16e-03\tvalid_loss: 1.18e-03\n",
      "\n",
      "epoch #146\ttrain_loss: 1.16e-03\tvalid_loss: 1.18e-03\n",
      "\n",
      "epoch #147\ttrain_loss: 1.16e-03\tvalid_loss: 1.18e-03\n",
      "\n",
      "epoch #148\ttrain_loss: 1.16e-03\tvalid_loss: 1.18e-03\n",
      "\n",
      "epoch #149\ttrain_loss: 1.16e-03\tvalid_loss: 1.18e-03\n",
      "\n",
      "epoch #150\ttrain_loss: 1.16e-03\tvalid_loss: 1.18e-03\n",
      "\n",
      "epoch #151\ttrain_loss: 1.15e-03\tvalid_loss: 1.18e-03\n",
      "\n",
      "epoch #152\ttrain_loss: 1.15e-03\tvalid_loss: 1.18e-03\n",
      "\n",
      "epoch #153\ttrain_loss: 1.15e-03\tvalid_loss: 1.18e-03\n",
      "\n",
      "epoch #154\ttrain_loss: 1.15e-03\tvalid_loss: 1.18e-03\n",
      "\n",
      "epoch #155\ttrain_loss: 1.15e-03\tvalid_loss: 1.18e-03\n",
      "\n",
      "epoch #156\ttrain_loss: 1.15e-03\tvalid_loss: 1.17e-03\n",
      "\n",
      "epoch #157\ttrain_loss: 1.15e-03\tvalid_loss: 1.17e-03\n",
      "\n",
      "epoch #158\ttrain_loss: 1.15e-03\tvalid_loss: 1.17e-03\n",
      "\n",
      "epoch #159\ttrain_loss: 1.15e-03\tvalid_loss: 1.17e-03\n",
      "\n",
      "epoch #160\ttrain_loss: 1.15e-03\tvalid_loss: 1.17e-03\n",
      "\n",
      "epoch #161\ttrain_loss: 1.15e-03\tvalid_loss: 1.17e-03\n",
      "\n",
      "epoch #162\ttrain_loss: 1.15e-03\tvalid_loss: 1.17e-03\n",
      "\n",
      "epoch #163\ttrain_loss: 1.15e-03\tvalid_loss: 1.17e-03\n",
      "\n",
      "epoch #164\ttrain_loss: 1.14e-03\tvalid_loss: 1.17e-03\n",
      "\n",
      "epoch #165\ttrain_loss: 1.14e-03\tvalid_loss: 1.17e-03\n",
      "\n",
      "epoch #166\ttrain_loss: 1.14e-03\tvalid_loss: 1.17e-03\n",
      "\n",
      "epoch #167\ttrain_loss: 1.14e-03\tvalid_loss: 1.17e-03\n",
      "\n",
      "epoch #168\ttrain_loss: 1.14e-03\tvalid_loss: 1.17e-03\n",
      "\n",
      "epoch #169\ttrain_loss: 1.14e-03\tvalid_loss: 1.16e-03\n",
      "\n",
      "epoch #170\ttrain_loss: 1.14e-03\tvalid_loss: 1.16e-03\n",
      "\n",
      "epoch #171\ttrain_loss: 1.14e-03\tvalid_loss: 1.16e-03\n",
      "\n",
      "epoch #172\ttrain_loss: 1.14e-03\tvalid_loss: 1.16e-03\n",
      "\n",
      "epoch #173\ttrain_loss: 1.14e-03\tvalid_loss: 1.16e-03\n",
      "\n",
      "epoch #174\ttrain_loss: 1.14e-03\tvalid_loss: 1.16e-03\n",
      "\n",
      "epoch #175\ttrain_loss: 1.14e-03\tvalid_loss: 1.16e-03\n",
      "\n",
      "epoch #176\ttrain_loss: 1.14e-03\tvalid_loss: 1.16e-03\n",
      "\n",
      "epoch #177\ttrain_loss: 1.14e-03\tvalid_loss: 1.16e-03\n",
      "\n",
      "epoch #178\ttrain_loss: 1.13e-03\tvalid_loss: 1.16e-03\n",
      "\n",
      "epoch #179\ttrain_loss: 1.13e-03\tvalid_loss: 1.16e-03\n",
      "\n",
      "epoch #180\ttrain_loss: 1.13e-03\tvalid_loss: 1.16e-03\n",
      "\n",
      "epoch #181\ttrain_loss: 1.13e-03\tvalid_loss: 1.16e-03\n",
      "\n",
      "epoch #182\ttrain_loss: 1.13e-03\tvalid_loss: 1.16e-03\n",
      "\n",
      "epoch #183\ttrain_loss: 1.13e-03\tvalid_loss: 1.15e-03\n",
      "\n",
      "epoch #184\ttrain_loss: 1.13e-03\tvalid_loss: 1.15e-03\n",
      "\n",
      "epoch #185\ttrain_loss: 1.13e-03\tvalid_loss: 1.15e-03\n",
      "\n",
      "epoch #186\ttrain_loss: 1.13e-03\tvalid_loss: 1.15e-03\n",
      "\n",
      "epoch #187\ttrain_loss: 1.13e-03\tvalid_loss: 1.15e-03\n",
      "\n",
      "epoch #188\ttrain_loss: 1.13e-03\tvalid_loss: 1.15e-03\n",
      "\n",
      "epoch #189\ttrain_loss: 1.13e-03\tvalid_loss: 1.15e-03\n",
      "\n",
      "epoch #190\ttrain_loss: 1.13e-03\tvalid_loss: 1.15e-03\n",
      "\n",
      "epoch #191\ttrain_loss: 1.13e-03\tvalid_loss: 1.15e-03\n",
      "\n",
      "epoch #192\ttrain_loss: 1.13e-03\tvalid_loss: 1.15e-03\n",
      "\n",
      "epoch #193\ttrain_loss: 1.12e-03\tvalid_loss: 1.15e-03\n",
      "\n",
      "epoch #194\ttrain_loss: 1.12e-03\tvalid_loss: 1.15e-03\n",
      "\n",
      "epoch #195\ttrain_loss: 1.12e-03\tvalid_loss: 1.15e-03\n",
      "\n",
      "epoch #196\ttrain_loss: 1.12e-03\tvalid_loss: 1.15e-03\n",
      "\n",
      "epoch #197\ttrain_loss: 1.12e-03\tvalid_loss: 1.15e-03\n",
      "\n",
      "epoch #198\ttrain_loss: 1.12e-03\tvalid_loss: 1.14e-03\n",
      "\n",
      "epoch #199\ttrain_loss: 1.12e-03\tvalid_loss: 1.14e-03\n",
      "\n",
      "epoch #200\ttrain_loss: 1.12e-03\tvalid_loss: 1.14e-03\n",
      "\n"
     ]
    },
    {
     "ename": "KeyboardInterrupt",
     "evalue": "",
     "output_type": "error",
     "traceback": [
      "\u001B[1;31m---------------------------------------------------------------------------\u001B[0m",
      "\u001B[1;31mKeyboardInterrupt\u001B[0m                         Traceback (most recent call last)",
      "Cell \u001B[1;32mIn[137], line 4\u001B[0m\n\u001B[0;32m      2\u001B[0m train_losses, valid_losses \u001B[38;5;241m=\u001B[39m [], []\n\u001B[0;32m      3\u001B[0m \u001B[38;5;28;01mwhile\u001B[39;00m \u001B[38;5;28;01mTrue\u001B[39;00m:\n\u001B[1;32m----> 4\u001B[0m     train_loss \u001B[38;5;241m=\u001B[39m train_epoch(tfidf_model, optimizer, train_loader, input_type\u001B[38;5;241m=\u001B[39m\u001B[38;5;124m'\u001B[39m\u001B[38;5;124mtfidf\u001B[39m\u001B[38;5;124m'\u001B[39m)\n\u001B[0;32m      5\u001B[0m     valid_loss \u001B[38;5;241m=\u001B[39m validate_epoch(tfidf_model, valid_loader, input_type\u001B[38;5;241m=\u001B[39m\u001B[38;5;124m'\u001B[39m\u001B[38;5;124mtfidf\u001B[39m\u001B[38;5;124m'\u001B[39m)\n\u001B[0;32m      7\u001B[0m     tqdm\u001B[38;5;241m.\u001B[39mwrite(\n\u001B[0;32m      8\u001B[0m         \u001B[38;5;124mf\u001B[39m\u001B[38;5;124m'\u001B[39m\u001B[38;5;124mepoch #\u001B[39m\u001B[38;5;132;01m{\u001B[39;00mn_epochs\u001B[38;5;250m \u001B[39m\u001B[38;5;241m+\u001B[39m\u001B[38;5;250m \u001B[39m\u001B[38;5;241m1\u001B[39m\u001B[38;5;132;01m:\u001B[39;00m\u001B[38;5;124m3d\u001B[39m\u001B[38;5;132;01m}\u001B[39;00m\u001B[38;5;130;01m\\t\u001B[39;00m\u001B[38;5;124mtrain_loss: \u001B[39m\u001B[38;5;132;01m{\u001B[39;00mtrain_loss\u001B[38;5;132;01m:\u001B[39;00m\u001B[38;5;124m.2e\u001B[39m\u001B[38;5;132;01m}\u001B[39;00m\u001B[38;5;130;01m\\t\u001B[39;00m\u001B[38;5;124mvalid_loss: \u001B[39m\u001B[38;5;132;01m{\u001B[39;00mvalid_loss\u001B[38;5;132;01m:\u001B[39;00m\u001B[38;5;124m.2e\u001B[39m\u001B[38;5;132;01m}\u001B[39;00m\u001B[38;5;130;01m\\n\u001B[39;00m\u001B[38;5;124m'\u001B[39m,\n\u001B[0;32m      9\u001B[0m     )\n",
      "Cell \u001B[1;32mIn[102], line 15\u001B[0m, in \u001B[0;36mtrain_epoch\u001B[1;34m(model, optimizer, train_loader, input_type)\u001B[0m\n\u001B[0;32m     12\u001B[0m optimizer\u001B[38;5;241m.\u001B[39mzero_grad()\n\u001B[0;32m     14\u001B[0m \u001B[38;5;66;03m# Forward pass\u001B[39;00m\n\u001B[1;32m---> 15\u001B[0m output \u001B[38;5;241m=\u001B[39m model(inputs)\n\u001B[0;32m     17\u001B[0m \u001B[38;5;66;03m# Compute loss\u001B[39;00m\n\u001B[0;32m     18\u001B[0m loss \u001B[38;5;241m=\u001B[39m criterion(output, target)\n",
      "File \u001B[1;32m~\\AppData\\Roaming\\Python\\Python312\\site-packages\\torch\\nn\\modules\\module.py:1553\u001B[0m, in \u001B[0;36mModule._wrapped_call_impl\u001B[1;34m(self, *args, **kwargs)\u001B[0m\n\u001B[0;32m   1551\u001B[0m     \u001B[38;5;28;01mreturn\u001B[39;00m \u001B[38;5;28mself\u001B[39m\u001B[38;5;241m.\u001B[39m_compiled_call_impl(\u001B[38;5;241m*\u001B[39margs, \u001B[38;5;241m*\u001B[39m\u001B[38;5;241m*\u001B[39mkwargs)  \u001B[38;5;66;03m# type: ignore[misc]\u001B[39;00m\n\u001B[0;32m   1552\u001B[0m \u001B[38;5;28;01melse\u001B[39;00m:\n\u001B[1;32m-> 1553\u001B[0m     \u001B[38;5;28;01mreturn\u001B[39;00m \u001B[38;5;28mself\u001B[39m\u001B[38;5;241m.\u001B[39m_call_impl(\u001B[38;5;241m*\u001B[39margs, \u001B[38;5;241m*\u001B[39m\u001B[38;5;241m*\u001B[39mkwargs)\n",
      "File \u001B[1;32m~\\AppData\\Roaming\\Python\\Python312\\site-packages\\torch\\nn\\modules\\module.py:1562\u001B[0m, in \u001B[0;36mModule._call_impl\u001B[1;34m(self, *args, **kwargs)\u001B[0m\n\u001B[0;32m   1557\u001B[0m \u001B[38;5;66;03m# If we don't have any hooks, we want to skip the rest of the logic in\u001B[39;00m\n\u001B[0;32m   1558\u001B[0m \u001B[38;5;66;03m# this function, and just call forward.\u001B[39;00m\n\u001B[0;32m   1559\u001B[0m \u001B[38;5;28;01mif\u001B[39;00m \u001B[38;5;129;01mnot\u001B[39;00m (\u001B[38;5;28mself\u001B[39m\u001B[38;5;241m.\u001B[39m_backward_hooks \u001B[38;5;129;01mor\u001B[39;00m \u001B[38;5;28mself\u001B[39m\u001B[38;5;241m.\u001B[39m_backward_pre_hooks \u001B[38;5;129;01mor\u001B[39;00m \u001B[38;5;28mself\u001B[39m\u001B[38;5;241m.\u001B[39m_forward_hooks \u001B[38;5;129;01mor\u001B[39;00m \u001B[38;5;28mself\u001B[39m\u001B[38;5;241m.\u001B[39m_forward_pre_hooks\n\u001B[0;32m   1560\u001B[0m         \u001B[38;5;129;01mor\u001B[39;00m _global_backward_pre_hooks \u001B[38;5;129;01mor\u001B[39;00m _global_backward_hooks\n\u001B[0;32m   1561\u001B[0m         \u001B[38;5;129;01mor\u001B[39;00m _global_forward_hooks \u001B[38;5;129;01mor\u001B[39;00m _global_forward_pre_hooks):\n\u001B[1;32m-> 1562\u001B[0m     \u001B[38;5;28;01mreturn\u001B[39;00m forward_call(\u001B[38;5;241m*\u001B[39margs, \u001B[38;5;241m*\u001B[39m\u001B[38;5;241m*\u001B[39mkwargs)\n\u001B[0;32m   1564\u001B[0m \u001B[38;5;28;01mtry\u001B[39;00m:\n\u001B[0;32m   1565\u001B[0m     result \u001B[38;5;241m=\u001B[39m \u001B[38;5;28;01mNone\u001B[39;00m\n",
      "Cell \u001B[1;32mIn[97], line 7\u001B[0m, in \u001B[0;36mLinearTextClassifier.forward\u001B[1;34m(self, x)\u001B[0m\n\u001B[0;32m      6\u001B[0m \u001B[38;5;28;01mdef\u001B[39;00m \u001B[38;5;21mforward\u001B[39m(\u001B[38;5;28mself\u001B[39m, x):\n\u001B[1;32m----> 7\u001B[0m     x \u001B[38;5;241m=\u001B[39m torch\u001B[38;5;241m.\u001B[39mFloatTensor(x)\u001B[38;5;241m.\u001B[39mto(device)\n\u001B[0;32m      8\u001B[0m     \u001B[38;5;28;01mreturn\u001B[39;00m torch\u001B[38;5;241m.\u001B[39msoftmax(\u001B[38;5;28mself\u001B[39m\u001B[38;5;241m.\u001B[39mfc(x), dim\u001B[38;5;241m=\u001B[39m\u001B[38;5;241m-\u001B[39m\u001B[38;5;241m1\u001B[39m)\n",
      "\u001B[1;31mKeyboardInterrupt\u001B[0m: "
     ]
    }
   ],
   "execution_count": 137
  },
  {
   "cell_type": "code",
   "metadata": {
    "id": "DwjtRORzZzjG",
    "ExecuteTime": {
     "end_time": "2024-10-08T15:24:43.883748Z",
     "start_time": "2024-10-08T15:24:43.408539Z"
    }
   },
   "source": [
    "epoch_ticks = range(1, n_epochs + 1)\n",
    "plt.plot(epoch_ticks, train_losses)\n",
    "plt.plot(epoch_ticks, valid_losses)\n",
    "plt.legend(['Train Loss', 'Valid Loss'])\n",
    "plt.title('Losses')\n",
    "plt.xlabel('Epoch #')\n",
    "plt.ylabel('Loss')\n",
    "plt.xticks(epoch_ticks)\n",
    "plt.show()"
   ],
   "outputs": [
    {
     "data": {
      "text/plain": [
       "<Figure size 640x480 with 1 Axes>"
      ],
      "image/svg+xml": "<?xml version=\"1.0\" encoding=\"utf-8\" standalone=\"no\"?>\n<!DOCTYPE svg PUBLIC \"-//W3C//DTD SVG 1.1//EN\"\n  \"http://www.w3.org/Graphics/SVG/1.1/DTD/svg11.dtd\">\n<svg xmlns:xlink=\"http://www.w3.org/1999/xlink\" width=\"435.486875pt\" height=\"329.745625pt\" viewBox=\"0 0 435.486875 329.745625\" xmlns=\"http://www.w3.org/2000/svg\" version=\"1.1\">\n <metadata>\n  <rdf:RDF xmlns:dc=\"http://purl.org/dc/elements/1.1/\" xmlns:cc=\"http://creativecommons.org/ns#\" xmlns:rdf=\"http://www.w3.org/1999/02/22-rdf-syntax-ns#\">\n   <cc:Work>\n    <dc:type rdf:resource=\"http://purl.org/dc/dcmitype/StillImage\"/>\n    <dc:date>2024-10-08T23:24:43.662591</dc:date>\n    <dc:format>image/svg+xml</dc:format>\n    <dc:creator>\n     <cc:Agent>\n      <dc:title>Matplotlib v3.8.4, https://matplotlib.org/</dc:title>\n     </cc:Agent>\n    </dc:creator>\n   </cc:Work>\n  </rdf:RDF>\n </metadata>\n <defs>\n  <style type=\"text/css\">*{stroke-linejoin: round; stroke-linecap: butt}</style>\n </defs>\n <g id=\"figure_1\">\n  <g id=\"patch_1\">\n   <path d=\"M 0 329.745625 \nL 435.486875 329.745625 \nL 435.486875 0 \nL 0 0 \nz\n\" style=\"fill: #ffffff\"/>\n  </g>\n  <g id=\"axes_1\">\n   <g id=\"patch_2\">\n    <path d=\"M 71.166875 290.25375 \nL 428.286875 290.25375 \nL 428.286875 24.14175 \nL 71.166875 24.14175 \nz\n\" style=\"fill: #e5e5e5\"/>\n   </g>\n   <g id=\"matplotlib.axis_1\">\n    <g id=\"xtick_1\">\n     <g id=\"line2d_1\">\n      <path d=\"M 87.399602 290.25375 \nL 87.399602 24.14175 \n\" clip-path=\"url(#pc9c66672a5)\" style=\"fill: none; stroke: #ffffff; stroke-width: 0.8; stroke-linecap: square\"/>\n     </g>\n     <g id=\"line2d_2\">\n      <defs>\n       <path id=\"m306453811f\" d=\"M 0 0 \nL 0 3.5 \n\" style=\"stroke: #555555; stroke-width: 0.8\"/>\n      </defs>\n      <g>\n       <use xlink:href=\"#m306453811f\" x=\"87.399602\" y=\"290.25375\" style=\"fill: #555555; stroke: #555555; stroke-width: 0.8\"/>\n      </g>\n     </g>\n     <g id=\"text_1\">\n      <!-- 1 -->\n      <g style=\"fill: #555555\" transform=\"translate(84.218352 304.852187) scale(0.1 -0.1)\">\n       <defs>\n        <path id=\"DejaVuSans-31\" d=\"M 794 531 \nL 1825 531 \nL 1825 4091 \nL 703 3866 \nL 703 4441 \nL 1819 4666 \nL 2450 4666 \nL 2450 531 \nL 3481 531 \nL 3481 0 \nL 794 0 \nL 794 531 \nz\n\" transform=\"scale(0.015625)\"/>\n       </defs>\n       <use xlink:href=\"#DejaVuSans-31\"/>\n      </g>\n     </g>\n    </g>\n    <g id=\"xtick_2\">\n     <g id=\"line2d_3\">\n      <path d=\"M 89.031032 290.25375 \nL 89.031032 24.14175 \n\" clip-path=\"url(#pc9c66672a5)\" style=\"fill: none; stroke: #ffffff; stroke-width: 0.8; stroke-linecap: square\"/>\n     </g>\n     <g id=\"line2d_4\">\n      <g>\n       <use xlink:href=\"#m306453811f\" x=\"89.031032\" y=\"290.25375\" style=\"fill: #555555; stroke: #555555; stroke-width: 0.8\"/>\n      </g>\n     </g>\n     <g id=\"text_2\">\n      <!-- 2 -->\n      <g style=\"fill: #555555\" transform=\"translate(85.849782 304.852187) scale(0.1 -0.1)\">\n       <defs>\n        <path id=\"DejaVuSans-32\" d=\"M 1228 531 \nL 3431 531 \nL 3431 0 \nL 469 0 \nL 469 531 \nQ 828 903 1448 1529 \nQ 2069 2156 2228 2338 \nQ 2531 2678 2651 2914 \nQ 2772 3150 2772 3378 \nQ 2772 3750 2511 3984 \nQ 2250 4219 1831 4219 \nQ 1534 4219 1204 4116 \nQ 875 4013 500 3803 \nL 500 4441 \nQ 881 4594 1212 4672 \nQ 1544 4750 1819 4750 \nQ 2544 4750 2975 4387 \nQ 3406 4025 3406 3419 \nQ 3406 3131 3298 2873 \nQ 3191 2616 2906 2266 \nQ 2828 2175 2409 1742 \nQ 1991 1309 1228 531 \nz\n\" transform=\"scale(0.015625)\"/>\n       </defs>\n       <use xlink:href=\"#DejaVuSans-32\"/>\n      </g>\n     </g>\n    </g>\n    <g id=\"xtick_3\">\n     <g id=\"line2d_5\">\n      <path d=\"M 90.662462 290.25375 \nL 90.662462 24.14175 \n\" clip-path=\"url(#pc9c66672a5)\" style=\"fill: none; stroke: #ffffff; stroke-width: 0.8; stroke-linecap: square\"/>\n     </g>\n     <g id=\"line2d_6\">\n      <g>\n       <use xlink:href=\"#m306453811f\" x=\"90.662462\" y=\"290.25375\" style=\"fill: #555555; stroke: #555555; stroke-width: 0.8\"/>\n      </g>\n     </g>\n     <g id=\"text_3\">\n      <!-- 3 -->\n      <g style=\"fill: #555555\" transform=\"translate(87.481212 304.852187) scale(0.1 -0.1)\">\n       <defs>\n        <path id=\"DejaVuSans-33\" d=\"M 2597 2516 \nQ 3050 2419 3304 2112 \nQ 3559 1806 3559 1356 \nQ 3559 666 3084 287 \nQ 2609 -91 1734 -91 \nQ 1441 -91 1130 -33 \nQ 819 25 488 141 \nL 488 750 \nQ 750 597 1062 519 \nQ 1375 441 1716 441 \nQ 2309 441 2620 675 \nQ 2931 909 2931 1356 \nQ 2931 1769 2642 2001 \nQ 2353 2234 1838 2234 \nL 1294 2234 \nL 1294 2753 \nL 1863 2753 \nQ 2328 2753 2575 2939 \nQ 2822 3125 2822 3475 \nQ 2822 3834 2567 4026 \nQ 2313 4219 1838 4219 \nQ 1578 4219 1281 4162 \nQ 984 4106 628 3988 \nL 628 4550 \nQ 988 4650 1302 4700 \nQ 1616 4750 1894 4750 \nQ 2613 4750 3031 4423 \nQ 3450 4097 3450 3541 \nQ 3450 3153 3228 2886 \nQ 3006 2619 2597 2516 \nz\n\" transform=\"scale(0.015625)\"/>\n       </defs>\n       <use xlink:href=\"#DejaVuSans-33\"/>\n      </g>\n     </g>\n    </g>\n    <g id=\"xtick_4\">\n     <g id=\"line2d_7\">\n      <path d=\"M 92.293892 290.25375 \nL 92.293892 24.14175 \n\" clip-path=\"url(#pc9c66672a5)\" style=\"fill: none; stroke: #ffffff; stroke-width: 0.8; stroke-linecap: square\"/>\n     </g>\n     <g id=\"line2d_8\">\n      <g>\n       <use xlink:href=\"#m306453811f\" x=\"92.293892\" y=\"290.25375\" style=\"fill: #555555; stroke: #555555; stroke-width: 0.8\"/>\n      </g>\n     </g>\n     <g id=\"text_4\">\n      <!-- 4 -->\n      <g style=\"fill: #555555\" transform=\"translate(89.112642 304.852187) scale(0.1 -0.1)\">\n       <defs>\n        <path id=\"DejaVuSans-34\" d=\"M 2419 4116 \nL 825 1625 \nL 2419 1625 \nL 2419 4116 \nz\nM 2253 4666 \nL 3047 4666 \nL 3047 1625 \nL 3713 1625 \nL 3713 1100 \nL 3047 1100 \nL 3047 0 \nL 2419 0 \nL 2419 1100 \nL 313 1100 \nL 313 1709 \nL 2253 4666 \nz\n\" transform=\"scale(0.015625)\"/>\n       </defs>\n       <use xlink:href=\"#DejaVuSans-34\"/>\n      </g>\n     </g>\n    </g>\n    <g id=\"xtick_5\">\n     <g id=\"line2d_9\">\n      <path d=\"M 93.925322 290.25375 \nL 93.925322 24.14175 \n\" clip-path=\"url(#pc9c66672a5)\" style=\"fill: none; stroke: #ffffff; stroke-width: 0.8; stroke-linecap: square\"/>\n     </g>\n     <g id=\"line2d_10\">\n      <g>\n       <use xlink:href=\"#m306453811f\" x=\"93.925322\" y=\"290.25375\" style=\"fill: #555555; stroke: #555555; stroke-width: 0.8\"/>\n      </g>\n     </g>\n     <g id=\"text_5\">\n      <!-- 5 -->\n      <g style=\"fill: #555555\" transform=\"translate(90.744072 304.852187) scale(0.1 -0.1)\">\n       <defs>\n        <path id=\"DejaVuSans-35\" d=\"M 691 4666 \nL 3169 4666 \nL 3169 4134 \nL 1269 4134 \nL 1269 2991 \nQ 1406 3038 1543 3061 \nQ 1681 3084 1819 3084 \nQ 2600 3084 3056 2656 \nQ 3513 2228 3513 1497 \nQ 3513 744 3044 326 \nQ 2575 -91 1722 -91 \nQ 1428 -91 1123 -41 \nQ 819 9 494 109 \nL 494 744 \nQ 775 591 1075 516 \nQ 1375 441 1709 441 \nQ 2250 441 2565 725 \nQ 2881 1009 2881 1497 \nQ 2881 1984 2565 2268 \nQ 2250 2553 1709 2553 \nQ 1456 2553 1204 2497 \nQ 953 2441 691 2322 \nL 691 4666 \nz\n\" transform=\"scale(0.015625)\"/>\n       </defs>\n       <use xlink:href=\"#DejaVuSans-35\"/>\n      </g>\n     </g>\n    </g>\n    <g id=\"xtick_6\">\n     <g id=\"line2d_11\">\n      <path d=\"M 95.556752 290.25375 \nL 95.556752 24.14175 \n\" clip-path=\"url(#pc9c66672a5)\" style=\"fill: none; stroke: #ffffff; stroke-width: 0.8; stroke-linecap: square\"/>\n     </g>\n     <g id=\"line2d_12\">\n      <g>\n       <use xlink:href=\"#m306453811f\" x=\"95.556752\" y=\"290.25375\" style=\"fill: #555555; stroke: #555555; stroke-width: 0.8\"/>\n      </g>\n     </g>\n     <g id=\"text_6\">\n      <!-- 6 -->\n      <g style=\"fill: #555555\" transform=\"translate(92.375502 304.852187) scale(0.1 -0.1)\">\n       <defs>\n        <path id=\"DejaVuSans-36\" d=\"M 2113 2584 \nQ 1688 2584 1439 2293 \nQ 1191 2003 1191 1497 \nQ 1191 994 1439 701 \nQ 1688 409 2113 409 \nQ 2538 409 2786 701 \nQ 3034 994 3034 1497 \nQ 3034 2003 2786 2293 \nQ 2538 2584 2113 2584 \nz\nM 3366 4563 \nL 3366 3988 \nQ 3128 4100 2886 4159 \nQ 2644 4219 2406 4219 \nQ 1781 4219 1451 3797 \nQ 1122 3375 1075 2522 \nQ 1259 2794 1537 2939 \nQ 1816 3084 2150 3084 \nQ 2853 3084 3261 2657 \nQ 3669 2231 3669 1497 \nQ 3669 778 3244 343 \nQ 2819 -91 2113 -91 \nQ 1303 -91 875 529 \nQ 447 1150 447 2328 \nQ 447 3434 972 4092 \nQ 1497 4750 2381 4750 \nQ 2619 4750 2861 4703 \nQ 3103 4656 3366 4563 \nz\n\" transform=\"scale(0.015625)\"/>\n       </defs>\n       <use xlink:href=\"#DejaVuSans-36\"/>\n      </g>\n     </g>\n    </g>\n    <g id=\"xtick_7\">\n     <g id=\"line2d_13\">\n      <path d=\"M 97.188182 290.25375 \nL 97.188182 24.14175 \n\" clip-path=\"url(#pc9c66672a5)\" style=\"fill: none; stroke: #ffffff; stroke-width: 0.8; stroke-linecap: square\"/>\n     </g>\n     <g id=\"line2d_14\">\n      <g>\n       <use xlink:href=\"#m306453811f\" x=\"97.188182\" y=\"290.25375\" style=\"fill: #555555; stroke: #555555; stroke-width: 0.8\"/>\n      </g>\n     </g>\n     <g id=\"text_7\">\n      <!-- 7 -->\n      <g style=\"fill: #555555\" transform=\"translate(94.006932 304.852187) scale(0.1 -0.1)\">\n       <defs>\n        <path id=\"DejaVuSans-37\" d=\"M 525 4666 \nL 3525 4666 \nL 3525 4397 \nL 1831 0 \nL 1172 0 \nL 2766 4134 \nL 525 4134 \nL 525 4666 \nz\n\" transform=\"scale(0.015625)\"/>\n       </defs>\n       <use xlink:href=\"#DejaVuSans-37\"/>\n      </g>\n     </g>\n    </g>\n    <g id=\"xtick_8\">\n     <g id=\"line2d_15\">\n      <path d=\"M 98.819611 290.25375 \nL 98.819611 24.14175 \n\" clip-path=\"url(#pc9c66672a5)\" style=\"fill: none; stroke: #ffffff; stroke-width: 0.8; stroke-linecap: square\"/>\n     </g>\n     <g id=\"line2d_16\">\n      <g>\n       <use xlink:href=\"#m306453811f\" x=\"98.819611\" y=\"290.25375\" style=\"fill: #555555; stroke: #555555; stroke-width: 0.8\"/>\n      </g>\n     </g>\n     <g id=\"text_8\">\n      <!-- 8 -->\n      <g style=\"fill: #555555\" transform=\"translate(95.638361 304.852187) scale(0.1 -0.1)\">\n       <defs>\n        <path id=\"DejaVuSans-38\" d=\"M 2034 2216 \nQ 1584 2216 1326 1975 \nQ 1069 1734 1069 1313 \nQ 1069 891 1326 650 \nQ 1584 409 2034 409 \nQ 2484 409 2743 651 \nQ 3003 894 3003 1313 \nQ 3003 1734 2745 1975 \nQ 2488 2216 2034 2216 \nz\nM 1403 2484 \nQ 997 2584 770 2862 \nQ 544 3141 544 3541 \nQ 544 4100 942 4425 \nQ 1341 4750 2034 4750 \nQ 2731 4750 3128 4425 \nQ 3525 4100 3525 3541 \nQ 3525 3141 3298 2862 \nQ 3072 2584 2669 2484 \nQ 3125 2378 3379 2068 \nQ 3634 1759 3634 1313 \nQ 3634 634 3220 271 \nQ 2806 -91 2034 -91 \nQ 1263 -91 848 271 \nQ 434 634 434 1313 \nQ 434 1759 690 2068 \nQ 947 2378 1403 2484 \nz\nM 1172 3481 \nQ 1172 3119 1398 2916 \nQ 1625 2713 2034 2713 \nQ 2441 2713 2670 2916 \nQ 2900 3119 2900 3481 \nQ 2900 3844 2670 4047 \nQ 2441 4250 2034 4250 \nQ 1625 4250 1398 4047 \nQ 1172 3844 1172 3481 \nz\n\" transform=\"scale(0.015625)\"/>\n       </defs>\n       <use xlink:href=\"#DejaVuSans-38\"/>\n      </g>\n     </g>\n    </g>\n    <g id=\"xtick_9\">\n     <g id=\"line2d_17\">\n      <path d=\"M 100.451041 290.25375 \nL 100.451041 24.14175 \n\" clip-path=\"url(#pc9c66672a5)\" style=\"fill: none; stroke: #ffffff; stroke-width: 0.8; stroke-linecap: square\"/>\n     </g>\n     <g id=\"line2d_18\">\n      <g>\n       <use xlink:href=\"#m306453811f\" x=\"100.451041\" y=\"290.25375\" style=\"fill: #555555; stroke: #555555; stroke-width: 0.8\"/>\n      </g>\n     </g>\n     <g id=\"text_9\">\n      <!-- 9 -->\n      <g style=\"fill: #555555\" transform=\"translate(97.269791 304.852187) scale(0.1 -0.1)\">\n       <defs>\n        <path id=\"DejaVuSans-39\" d=\"M 703 97 \nL 703 672 \nQ 941 559 1184 500 \nQ 1428 441 1663 441 \nQ 2288 441 2617 861 \nQ 2947 1281 2994 2138 \nQ 2813 1869 2534 1725 \nQ 2256 1581 1919 1581 \nQ 1219 1581 811 2004 \nQ 403 2428 403 3163 \nQ 403 3881 828 4315 \nQ 1253 4750 1959 4750 \nQ 2769 4750 3195 4129 \nQ 3622 3509 3622 2328 \nQ 3622 1225 3098 567 \nQ 2575 -91 1691 -91 \nQ 1453 -91 1209 -44 \nQ 966 3 703 97 \nz\nM 1959 2075 \nQ 2384 2075 2632 2365 \nQ 2881 2656 2881 3163 \nQ 2881 3666 2632 3958 \nQ 2384 4250 1959 4250 \nQ 1534 4250 1286 3958 \nQ 1038 3666 1038 3163 \nQ 1038 2656 1286 2365 \nQ 1534 2075 1959 2075 \nz\n\" transform=\"scale(0.015625)\"/>\n       </defs>\n       <use xlink:href=\"#DejaVuSans-39\"/>\n      </g>\n     </g>\n    </g>\n    <g id=\"xtick_10\">\n     <g id=\"line2d_19\">\n      <path d=\"M 102.082471 290.25375 \nL 102.082471 24.14175 \n\" clip-path=\"url(#pc9c66672a5)\" style=\"fill: none; stroke: #ffffff; stroke-width: 0.8; stroke-linecap: square\"/>\n     </g>\n     <g id=\"line2d_20\">\n      <g>\n       <use xlink:href=\"#m306453811f\" x=\"102.082471\" y=\"290.25375\" style=\"fill: #555555; stroke: #555555; stroke-width: 0.8\"/>\n      </g>\n     </g>\n     <g id=\"text_10\">\n      <!-- 10 -->\n      <g style=\"fill: #555555\" transform=\"translate(95.719971 304.852187) scale(0.1 -0.1)\">\n       <defs>\n        <path id=\"DejaVuSans-30\" d=\"M 2034 4250 \nQ 1547 4250 1301 3770 \nQ 1056 3291 1056 2328 \nQ 1056 1369 1301 889 \nQ 1547 409 2034 409 \nQ 2525 409 2770 889 \nQ 3016 1369 3016 2328 \nQ 3016 3291 2770 3770 \nQ 2525 4250 2034 4250 \nz\nM 2034 4750 \nQ 2819 4750 3233 4129 \nQ 3647 3509 3647 2328 \nQ 3647 1150 3233 529 \nQ 2819 -91 2034 -91 \nQ 1250 -91 836 529 \nQ 422 1150 422 2328 \nQ 422 3509 836 4129 \nQ 1250 4750 2034 4750 \nz\n\" transform=\"scale(0.015625)\"/>\n       </defs>\n       <use xlink:href=\"#DejaVuSans-31\"/>\n       <use xlink:href=\"#DejaVuSans-30\" x=\"63.623047\"/>\n      </g>\n     </g>\n    </g>\n    <g id=\"xtick_11\">\n     <g id=\"line2d_21\">\n      <path d=\"M 103.713901 290.25375 \nL 103.713901 24.14175 \n\" clip-path=\"url(#pc9c66672a5)\" style=\"fill: none; stroke: #ffffff; stroke-width: 0.8; stroke-linecap: square\"/>\n     </g>\n     <g id=\"line2d_22\">\n      <g>\n       <use xlink:href=\"#m306453811f\" x=\"103.713901\" y=\"290.25375\" style=\"fill: #555555; stroke: #555555; stroke-width: 0.8\"/>\n      </g>\n     </g>\n     <g id=\"text_11\">\n      <!-- 11 -->\n      <g style=\"fill: #555555\" transform=\"translate(97.351401 304.852187) scale(0.1 -0.1)\">\n       <use xlink:href=\"#DejaVuSans-31\"/>\n       <use xlink:href=\"#DejaVuSans-31\" x=\"63.623047\"/>\n      </g>\n     </g>\n    </g>\n    <g id=\"xtick_12\">\n     <g id=\"line2d_23\">\n      <path d=\"M 105.345331 290.25375 \nL 105.345331 24.14175 \n\" clip-path=\"url(#pc9c66672a5)\" style=\"fill: none; stroke: #ffffff; stroke-width: 0.8; stroke-linecap: square\"/>\n     </g>\n     <g id=\"line2d_24\">\n      <g>\n       <use xlink:href=\"#m306453811f\" x=\"105.345331\" y=\"290.25375\" style=\"fill: #555555; stroke: #555555; stroke-width: 0.8\"/>\n      </g>\n     </g>\n     <g id=\"text_12\">\n      <!-- 12 -->\n      <g style=\"fill: #555555\" transform=\"translate(98.982831 304.852187) scale(0.1 -0.1)\">\n       <use xlink:href=\"#DejaVuSans-31\"/>\n       <use xlink:href=\"#DejaVuSans-32\" x=\"63.623047\"/>\n      </g>\n     </g>\n    </g>\n    <g id=\"xtick_13\">\n     <g id=\"line2d_25\">\n      <path d=\"M 106.976761 290.25375 \nL 106.976761 24.14175 \n\" clip-path=\"url(#pc9c66672a5)\" style=\"fill: none; stroke: #ffffff; stroke-width: 0.8; stroke-linecap: square\"/>\n     </g>\n     <g id=\"line2d_26\">\n      <g>\n       <use xlink:href=\"#m306453811f\" x=\"106.976761\" y=\"290.25375\" style=\"fill: #555555; stroke: #555555; stroke-width: 0.8\"/>\n      </g>\n     </g>\n     <g id=\"text_13\">\n      <!-- 13 -->\n      <g style=\"fill: #555555\" transform=\"translate(100.614261 304.852187) scale(0.1 -0.1)\">\n       <use xlink:href=\"#DejaVuSans-31\"/>\n       <use xlink:href=\"#DejaVuSans-33\" x=\"63.623047\"/>\n      </g>\n     </g>\n    </g>\n    <g id=\"xtick_14\">\n     <g id=\"line2d_27\">\n      <path d=\"M 108.608191 290.25375 \nL 108.608191 24.14175 \n\" clip-path=\"url(#pc9c66672a5)\" style=\"fill: none; stroke: #ffffff; stroke-width: 0.8; stroke-linecap: square\"/>\n     </g>\n     <g id=\"line2d_28\">\n      <g>\n       <use xlink:href=\"#m306453811f\" x=\"108.608191\" y=\"290.25375\" style=\"fill: #555555; stroke: #555555; stroke-width: 0.8\"/>\n      </g>\n     </g>\n     <g id=\"text_14\">\n      <!-- 14 -->\n      <g style=\"fill: #555555\" transform=\"translate(102.245691 304.852187) scale(0.1 -0.1)\">\n       <use xlink:href=\"#DejaVuSans-31\"/>\n       <use xlink:href=\"#DejaVuSans-34\" x=\"63.623047\"/>\n      </g>\n     </g>\n    </g>\n    <g id=\"xtick_15\">\n     <g id=\"line2d_29\">\n      <path d=\"M 110.239621 290.25375 \nL 110.239621 24.14175 \n\" clip-path=\"url(#pc9c66672a5)\" style=\"fill: none; stroke: #ffffff; stroke-width: 0.8; stroke-linecap: square\"/>\n     </g>\n     <g id=\"line2d_30\">\n      <g>\n       <use xlink:href=\"#m306453811f\" x=\"110.239621\" y=\"290.25375\" style=\"fill: #555555; stroke: #555555; stroke-width: 0.8\"/>\n      </g>\n     </g>\n     <g id=\"text_15\">\n      <!-- 15 -->\n      <g style=\"fill: #555555\" transform=\"translate(103.877121 304.852187) scale(0.1 -0.1)\">\n       <use xlink:href=\"#DejaVuSans-31\"/>\n       <use xlink:href=\"#DejaVuSans-35\" x=\"63.623047\"/>\n      </g>\n     </g>\n    </g>\n    <g id=\"xtick_16\">\n     <g id=\"line2d_31\">\n      <path d=\"M 111.87105 290.25375 \nL 111.87105 24.14175 \n\" clip-path=\"url(#pc9c66672a5)\" style=\"fill: none; stroke: #ffffff; stroke-width: 0.8; stroke-linecap: square\"/>\n     </g>\n     <g id=\"line2d_32\">\n      <g>\n       <use xlink:href=\"#m306453811f\" x=\"111.87105\" y=\"290.25375\" style=\"fill: #555555; stroke: #555555; stroke-width: 0.8\"/>\n      </g>\n     </g>\n     <g id=\"text_16\">\n      <!-- 16 -->\n      <g style=\"fill: #555555\" transform=\"translate(105.50855 304.852187) scale(0.1 -0.1)\">\n       <use xlink:href=\"#DejaVuSans-31\"/>\n       <use xlink:href=\"#DejaVuSans-36\" x=\"63.623047\"/>\n      </g>\n     </g>\n    </g>\n    <g id=\"xtick_17\">\n     <g id=\"line2d_33\">\n      <path d=\"M 113.50248 290.25375 \nL 113.50248 24.14175 \n\" clip-path=\"url(#pc9c66672a5)\" style=\"fill: none; stroke: #ffffff; stroke-width: 0.8; stroke-linecap: square\"/>\n     </g>\n     <g id=\"line2d_34\">\n      <g>\n       <use xlink:href=\"#m306453811f\" x=\"113.50248\" y=\"290.25375\" style=\"fill: #555555; stroke: #555555; stroke-width: 0.8\"/>\n      </g>\n     </g>\n     <g id=\"text_17\">\n      <!-- 17 -->\n      <g style=\"fill: #555555\" transform=\"translate(107.13998 304.852187) scale(0.1 -0.1)\">\n       <use xlink:href=\"#DejaVuSans-31\"/>\n       <use xlink:href=\"#DejaVuSans-37\" x=\"63.623047\"/>\n      </g>\n     </g>\n    </g>\n    <g id=\"xtick_18\">\n     <g id=\"line2d_35\">\n      <path d=\"M 115.13391 290.25375 \nL 115.13391 24.14175 \n\" clip-path=\"url(#pc9c66672a5)\" style=\"fill: none; stroke: #ffffff; stroke-width: 0.8; stroke-linecap: square\"/>\n     </g>\n     <g id=\"line2d_36\">\n      <g>\n       <use xlink:href=\"#m306453811f\" x=\"115.13391\" y=\"290.25375\" style=\"fill: #555555; stroke: #555555; stroke-width: 0.8\"/>\n      </g>\n     </g>\n     <g id=\"text_18\">\n      <!-- 18 -->\n      <g style=\"fill: #555555\" transform=\"translate(108.77141 304.852187) scale(0.1 -0.1)\">\n       <use xlink:href=\"#DejaVuSans-31\"/>\n       <use xlink:href=\"#DejaVuSans-38\" x=\"63.623047\"/>\n      </g>\n     </g>\n    </g>\n    <g id=\"xtick_19\">\n     <g id=\"line2d_37\">\n      <path d=\"M 116.76534 290.25375 \nL 116.76534 24.14175 \n\" clip-path=\"url(#pc9c66672a5)\" style=\"fill: none; stroke: #ffffff; stroke-width: 0.8; stroke-linecap: square\"/>\n     </g>\n     <g id=\"line2d_38\">\n      <g>\n       <use xlink:href=\"#m306453811f\" x=\"116.76534\" y=\"290.25375\" style=\"fill: #555555; stroke: #555555; stroke-width: 0.8\"/>\n      </g>\n     </g>\n     <g id=\"text_19\">\n      <!-- 19 -->\n      <g style=\"fill: #555555\" transform=\"translate(110.40284 304.852187) scale(0.1 -0.1)\">\n       <use xlink:href=\"#DejaVuSans-31\"/>\n       <use xlink:href=\"#DejaVuSans-39\" x=\"63.623047\"/>\n      </g>\n     </g>\n    </g>\n    <g id=\"xtick_20\">\n     <g id=\"line2d_39\">\n      <path d=\"M 118.39677 290.25375 \nL 118.39677 24.14175 \n\" clip-path=\"url(#pc9c66672a5)\" style=\"fill: none; stroke: #ffffff; stroke-width: 0.8; stroke-linecap: square\"/>\n     </g>\n     <g id=\"line2d_40\">\n      <g>\n       <use xlink:href=\"#m306453811f\" x=\"118.39677\" y=\"290.25375\" style=\"fill: #555555; stroke: #555555; stroke-width: 0.8\"/>\n      </g>\n     </g>\n     <g id=\"text_20\">\n      <!-- 20 -->\n      <g style=\"fill: #555555\" transform=\"translate(112.03427 304.852187) scale(0.1 -0.1)\">\n       <use xlink:href=\"#DejaVuSans-32\"/>\n       <use xlink:href=\"#DejaVuSans-30\" x=\"63.623047\"/>\n      </g>\n     </g>\n    </g>\n    <g id=\"xtick_21\">\n     <g id=\"line2d_41\">\n      <path d=\"M 120.0282 290.25375 \nL 120.0282 24.14175 \n\" clip-path=\"url(#pc9c66672a5)\" style=\"fill: none; stroke: #ffffff; stroke-width: 0.8; stroke-linecap: square\"/>\n     </g>\n     <g id=\"line2d_42\">\n      <g>\n       <use xlink:href=\"#m306453811f\" x=\"120.0282\" y=\"290.25375\" style=\"fill: #555555; stroke: #555555; stroke-width: 0.8\"/>\n      </g>\n     </g>\n     <g id=\"text_21\">\n      <!-- 21 -->\n      <g style=\"fill: #555555\" transform=\"translate(113.6657 304.852187) scale(0.1 -0.1)\">\n       <use xlink:href=\"#DejaVuSans-32\"/>\n       <use xlink:href=\"#DejaVuSans-31\" x=\"63.623047\"/>\n      </g>\n     </g>\n    </g>\n    <g id=\"xtick_22\">\n     <g id=\"line2d_43\">\n      <path d=\"M 121.65963 290.25375 \nL 121.65963 24.14175 \n\" clip-path=\"url(#pc9c66672a5)\" style=\"fill: none; stroke: #ffffff; stroke-width: 0.8; stroke-linecap: square\"/>\n     </g>\n     <g id=\"line2d_44\">\n      <g>\n       <use xlink:href=\"#m306453811f\" x=\"121.65963\" y=\"290.25375\" style=\"fill: #555555; stroke: #555555; stroke-width: 0.8\"/>\n      </g>\n     </g>\n     <g id=\"text_22\">\n      <!-- 22 -->\n      <g style=\"fill: #555555\" transform=\"translate(115.29713 304.852187) scale(0.1 -0.1)\">\n       <use xlink:href=\"#DejaVuSans-32\"/>\n       <use xlink:href=\"#DejaVuSans-32\" x=\"63.623047\"/>\n      </g>\n     </g>\n    </g>\n    <g id=\"xtick_23\">\n     <g id=\"line2d_45\">\n      <path d=\"M 123.29106 290.25375 \nL 123.29106 24.14175 \n\" clip-path=\"url(#pc9c66672a5)\" style=\"fill: none; stroke: #ffffff; stroke-width: 0.8; stroke-linecap: square\"/>\n     </g>\n     <g id=\"line2d_46\">\n      <g>\n       <use xlink:href=\"#m306453811f\" x=\"123.29106\" y=\"290.25375\" style=\"fill: #555555; stroke: #555555; stroke-width: 0.8\"/>\n      </g>\n     </g>\n     <g id=\"text_23\">\n      <!-- 23 -->\n      <g style=\"fill: #555555\" transform=\"translate(116.92856 304.852187) scale(0.1 -0.1)\">\n       <use xlink:href=\"#DejaVuSans-32\"/>\n       <use xlink:href=\"#DejaVuSans-33\" x=\"63.623047\"/>\n      </g>\n     </g>\n    </g>\n    <g id=\"xtick_24\">\n     <g id=\"line2d_47\">\n      <path d=\"M 124.922489 290.25375 \nL 124.922489 24.14175 \n\" clip-path=\"url(#pc9c66672a5)\" style=\"fill: none; stroke: #ffffff; stroke-width: 0.8; stroke-linecap: square\"/>\n     </g>\n     <g id=\"line2d_48\">\n      <g>\n       <use xlink:href=\"#m306453811f\" x=\"124.922489\" y=\"290.25375\" style=\"fill: #555555; stroke: #555555; stroke-width: 0.8\"/>\n      </g>\n     </g>\n     <g id=\"text_24\">\n      <!-- 24 -->\n      <g style=\"fill: #555555\" transform=\"translate(118.559989 304.852187) scale(0.1 -0.1)\">\n       <use xlink:href=\"#DejaVuSans-32\"/>\n       <use xlink:href=\"#DejaVuSans-34\" x=\"63.623047\"/>\n      </g>\n     </g>\n    </g>\n    <g id=\"xtick_25\">\n     <g id=\"line2d_49\">\n      <path d=\"M 126.553919 290.25375 \nL 126.553919 24.14175 \n\" clip-path=\"url(#pc9c66672a5)\" style=\"fill: none; stroke: #ffffff; stroke-width: 0.8; stroke-linecap: square\"/>\n     </g>\n     <g id=\"line2d_50\">\n      <g>\n       <use xlink:href=\"#m306453811f\" x=\"126.553919\" y=\"290.25375\" style=\"fill: #555555; stroke: #555555; stroke-width: 0.8\"/>\n      </g>\n     </g>\n     <g id=\"text_25\">\n      <!-- 25 -->\n      <g style=\"fill: #555555\" transform=\"translate(120.191419 304.852187) scale(0.1 -0.1)\">\n       <use xlink:href=\"#DejaVuSans-32\"/>\n       <use xlink:href=\"#DejaVuSans-35\" x=\"63.623047\"/>\n      </g>\n     </g>\n    </g>\n    <g id=\"xtick_26\">\n     <g id=\"line2d_51\">\n      <path d=\"M 128.185349 290.25375 \nL 128.185349 24.14175 \n\" clip-path=\"url(#pc9c66672a5)\" style=\"fill: none; stroke: #ffffff; stroke-width: 0.8; stroke-linecap: square\"/>\n     </g>\n     <g id=\"line2d_52\">\n      <g>\n       <use xlink:href=\"#m306453811f\" x=\"128.185349\" y=\"290.25375\" style=\"fill: #555555; stroke: #555555; stroke-width: 0.8\"/>\n      </g>\n     </g>\n     <g id=\"text_26\">\n      <!-- 26 -->\n      <g style=\"fill: #555555\" transform=\"translate(121.822849 304.852187) scale(0.1 -0.1)\">\n       <use xlink:href=\"#DejaVuSans-32\"/>\n       <use xlink:href=\"#DejaVuSans-36\" x=\"63.623047\"/>\n      </g>\n     </g>\n    </g>\n    <g id=\"xtick_27\">\n     <g id=\"line2d_53\">\n      <path d=\"M 129.816779 290.25375 \nL 129.816779 24.14175 \n\" clip-path=\"url(#pc9c66672a5)\" style=\"fill: none; stroke: #ffffff; stroke-width: 0.8; stroke-linecap: square\"/>\n     </g>\n     <g id=\"line2d_54\">\n      <g>\n       <use xlink:href=\"#m306453811f\" x=\"129.816779\" y=\"290.25375\" style=\"fill: #555555; stroke: #555555; stroke-width: 0.8\"/>\n      </g>\n     </g>\n     <g id=\"text_27\">\n      <!-- 27 -->\n      <g style=\"fill: #555555\" transform=\"translate(123.454279 304.852187) scale(0.1 -0.1)\">\n       <use xlink:href=\"#DejaVuSans-32\"/>\n       <use xlink:href=\"#DejaVuSans-37\" x=\"63.623047\"/>\n      </g>\n     </g>\n    </g>\n    <g id=\"xtick_28\">\n     <g id=\"line2d_55\">\n      <path d=\"M 131.448209 290.25375 \nL 131.448209 24.14175 \n\" clip-path=\"url(#pc9c66672a5)\" style=\"fill: none; stroke: #ffffff; stroke-width: 0.8; stroke-linecap: square\"/>\n     </g>\n     <g id=\"line2d_56\">\n      <g>\n       <use xlink:href=\"#m306453811f\" x=\"131.448209\" y=\"290.25375\" style=\"fill: #555555; stroke: #555555; stroke-width: 0.8\"/>\n      </g>\n     </g>\n     <g id=\"text_28\">\n      <!-- 28 -->\n      <g style=\"fill: #555555\" transform=\"translate(125.085709 304.852187) scale(0.1 -0.1)\">\n       <use xlink:href=\"#DejaVuSans-32\"/>\n       <use xlink:href=\"#DejaVuSans-38\" x=\"63.623047\"/>\n      </g>\n     </g>\n    </g>\n    <g id=\"xtick_29\">\n     <g id=\"line2d_57\">\n      <path d=\"M 133.079639 290.25375 \nL 133.079639 24.14175 \n\" clip-path=\"url(#pc9c66672a5)\" style=\"fill: none; stroke: #ffffff; stroke-width: 0.8; stroke-linecap: square\"/>\n     </g>\n     <g id=\"line2d_58\">\n      <g>\n       <use xlink:href=\"#m306453811f\" x=\"133.079639\" y=\"290.25375\" style=\"fill: #555555; stroke: #555555; stroke-width: 0.8\"/>\n      </g>\n     </g>\n     <g id=\"text_29\">\n      <!-- 29 -->\n      <g style=\"fill: #555555\" transform=\"translate(126.717139 304.852187) scale(0.1 -0.1)\">\n       <use xlink:href=\"#DejaVuSans-32\"/>\n       <use xlink:href=\"#DejaVuSans-39\" x=\"63.623047\"/>\n      </g>\n     </g>\n    </g>\n    <g id=\"xtick_30\">\n     <g id=\"line2d_59\">\n      <path d=\"M 134.711069 290.25375 \nL 134.711069 24.14175 \n\" clip-path=\"url(#pc9c66672a5)\" style=\"fill: none; stroke: #ffffff; stroke-width: 0.8; stroke-linecap: square\"/>\n     </g>\n     <g id=\"line2d_60\">\n      <g>\n       <use xlink:href=\"#m306453811f\" x=\"134.711069\" y=\"290.25375\" style=\"fill: #555555; stroke: #555555; stroke-width: 0.8\"/>\n      </g>\n     </g>\n     <g id=\"text_30\">\n      <!-- 30 -->\n      <g style=\"fill: #555555\" transform=\"translate(128.348569 304.852187) scale(0.1 -0.1)\">\n       <use xlink:href=\"#DejaVuSans-33\"/>\n       <use xlink:href=\"#DejaVuSans-30\" x=\"63.623047\"/>\n      </g>\n     </g>\n    </g>\n    <g id=\"xtick_31\">\n     <g id=\"line2d_61\">\n      <path d=\"M 136.342499 290.25375 \nL 136.342499 24.14175 \n\" clip-path=\"url(#pc9c66672a5)\" style=\"fill: none; stroke: #ffffff; stroke-width: 0.8; stroke-linecap: square\"/>\n     </g>\n     <g id=\"line2d_62\">\n      <g>\n       <use xlink:href=\"#m306453811f\" x=\"136.342499\" y=\"290.25375\" style=\"fill: #555555; stroke: #555555; stroke-width: 0.8\"/>\n      </g>\n     </g>\n     <g id=\"text_31\">\n      <!-- 31 -->\n      <g style=\"fill: #555555\" transform=\"translate(129.979999 304.852187) scale(0.1 -0.1)\">\n       <use xlink:href=\"#DejaVuSans-33\"/>\n       <use xlink:href=\"#DejaVuSans-31\" x=\"63.623047\"/>\n      </g>\n     </g>\n    </g>\n    <g id=\"xtick_32\">\n     <g id=\"line2d_63\">\n      <path d=\"M 137.973928 290.25375 \nL 137.973928 24.14175 \n\" clip-path=\"url(#pc9c66672a5)\" style=\"fill: none; stroke: #ffffff; stroke-width: 0.8; stroke-linecap: square\"/>\n     </g>\n     <g id=\"line2d_64\">\n      <g>\n       <use xlink:href=\"#m306453811f\" x=\"137.973928\" y=\"290.25375\" style=\"fill: #555555; stroke: #555555; stroke-width: 0.8\"/>\n      </g>\n     </g>\n     <g id=\"text_32\">\n      <!-- 32 -->\n      <g style=\"fill: #555555\" transform=\"translate(131.611428 304.852187) scale(0.1 -0.1)\">\n       <use xlink:href=\"#DejaVuSans-33\"/>\n       <use xlink:href=\"#DejaVuSans-32\" x=\"63.623047\"/>\n      </g>\n     </g>\n    </g>\n    <g id=\"xtick_33\">\n     <g id=\"line2d_65\">\n      <path d=\"M 139.605358 290.25375 \nL 139.605358 24.14175 \n\" clip-path=\"url(#pc9c66672a5)\" style=\"fill: none; stroke: #ffffff; stroke-width: 0.8; stroke-linecap: square\"/>\n     </g>\n     <g id=\"line2d_66\">\n      <g>\n       <use xlink:href=\"#m306453811f\" x=\"139.605358\" y=\"290.25375\" style=\"fill: #555555; stroke: #555555; stroke-width: 0.8\"/>\n      </g>\n     </g>\n     <g id=\"text_33\">\n      <!-- 33 -->\n      <g style=\"fill: #555555\" transform=\"translate(133.242858 304.852187) scale(0.1 -0.1)\">\n       <use xlink:href=\"#DejaVuSans-33\"/>\n       <use xlink:href=\"#DejaVuSans-33\" x=\"63.623047\"/>\n      </g>\n     </g>\n    </g>\n    <g id=\"xtick_34\">\n     <g id=\"line2d_67\">\n      <path d=\"M 141.236788 290.25375 \nL 141.236788 24.14175 \n\" clip-path=\"url(#pc9c66672a5)\" style=\"fill: none; stroke: #ffffff; stroke-width: 0.8; stroke-linecap: square\"/>\n     </g>\n     <g id=\"line2d_68\">\n      <g>\n       <use xlink:href=\"#m306453811f\" x=\"141.236788\" y=\"290.25375\" style=\"fill: #555555; stroke: #555555; stroke-width: 0.8\"/>\n      </g>\n     </g>\n     <g id=\"text_34\">\n      <!-- 34 -->\n      <g style=\"fill: #555555\" transform=\"translate(134.874288 304.852187) scale(0.1 -0.1)\">\n       <use xlink:href=\"#DejaVuSans-33\"/>\n       <use xlink:href=\"#DejaVuSans-34\" x=\"63.623047\"/>\n      </g>\n     </g>\n    </g>\n    <g id=\"xtick_35\">\n     <g id=\"line2d_69\">\n      <path d=\"M 142.868218 290.25375 \nL 142.868218 24.14175 \n\" clip-path=\"url(#pc9c66672a5)\" style=\"fill: none; stroke: #ffffff; stroke-width: 0.8; stroke-linecap: square\"/>\n     </g>\n     <g id=\"line2d_70\">\n      <g>\n       <use xlink:href=\"#m306453811f\" x=\"142.868218\" y=\"290.25375\" style=\"fill: #555555; stroke: #555555; stroke-width: 0.8\"/>\n      </g>\n     </g>\n     <g id=\"text_35\">\n      <!-- 35 -->\n      <g style=\"fill: #555555\" transform=\"translate(136.505718 304.852187) scale(0.1 -0.1)\">\n       <use xlink:href=\"#DejaVuSans-33\"/>\n       <use xlink:href=\"#DejaVuSans-35\" x=\"63.623047\"/>\n      </g>\n     </g>\n    </g>\n    <g id=\"xtick_36\">\n     <g id=\"line2d_71\">\n      <path d=\"M 144.499648 290.25375 \nL 144.499648 24.14175 \n\" clip-path=\"url(#pc9c66672a5)\" style=\"fill: none; stroke: #ffffff; stroke-width: 0.8; stroke-linecap: square\"/>\n     </g>\n     <g id=\"line2d_72\">\n      <g>\n       <use xlink:href=\"#m306453811f\" x=\"144.499648\" y=\"290.25375\" style=\"fill: #555555; stroke: #555555; stroke-width: 0.8\"/>\n      </g>\n     </g>\n     <g id=\"text_36\">\n      <!-- 36 -->\n      <g style=\"fill: #555555\" transform=\"translate(138.137148 304.852187) scale(0.1 -0.1)\">\n       <use xlink:href=\"#DejaVuSans-33\"/>\n       <use xlink:href=\"#DejaVuSans-36\" x=\"63.623047\"/>\n      </g>\n     </g>\n    </g>\n    <g id=\"xtick_37\">\n     <g id=\"line2d_73\">\n      <path d=\"M 146.131078 290.25375 \nL 146.131078 24.14175 \n\" clip-path=\"url(#pc9c66672a5)\" style=\"fill: none; stroke: #ffffff; stroke-width: 0.8; stroke-linecap: square\"/>\n     </g>\n     <g id=\"line2d_74\">\n      <g>\n       <use xlink:href=\"#m306453811f\" x=\"146.131078\" y=\"290.25375\" style=\"fill: #555555; stroke: #555555; stroke-width: 0.8\"/>\n      </g>\n     </g>\n     <g id=\"text_37\">\n      <!-- 37 -->\n      <g style=\"fill: #555555\" transform=\"translate(139.768578 304.852187) scale(0.1 -0.1)\">\n       <use xlink:href=\"#DejaVuSans-33\"/>\n       <use xlink:href=\"#DejaVuSans-37\" x=\"63.623047\"/>\n      </g>\n     </g>\n    </g>\n    <g id=\"xtick_38\">\n     <g id=\"line2d_75\">\n      <path d=\"M 147.762508 290.25375 \nL 147.762508 24.14175 \n\" clip-path=\"url(#pc9c66672a5)\" style=\"fill: none; stroke: #ffffff; stroke-width: 0.8; stroke-linecap: square\"/>\n     </g>\n     <g id=\"line2d_76\">\n      <g>\n       <use xlink:href=\"#m306453811f\" x=\"147.762508\" y=\"290.25375\" style=\"fill: #555555; stroke: #555555; stroke-width: 0.8\"/>\n      </g>\n     </g>\n     <g id=\"text_38\">\n      <!-- 38 -->\n      <g style=\"fill: #555555\" transform=\"translate(141.400008 304.852187) scale(0.1 -0.1)\">\n       <use xlink:href=\"#DejaVuSans-33\"/>\n       <use xlink:href=\"#DejaVuSans-38\" x=\"63.623047\"/>\n      </g>\n     </g>\n    </g>\n    <g id=\"xtick_39\">\n     <g id=\"line2d_77\">\n      <path d=\"M 149.393938 290.25375 \nL 149.393938 24.14175 \n\" clip-path=\"url(#pc9c66672a5)\" style=\"fill: none; stroke: #ffffff; stroke-width: 0.8; stroke-linecap: square\"/>\n     </g>\n     <g id=\"line2d_78\">\n      <g>\n       <use xlink:href=\"#m306453811f\" x=\"149.393938\" y=\"290.25375\" style=\"fill: #555555; stroke: #555555; stroke-width: 0.8\"/>\n      </g>\n     </g>\n     <g id=\"text_39\">\n      <!-- 39 -->\n      <g style=\"fill: #555555\" transform=\"translate(143.031438 304.852187) scale(0.1 -0.1)\">\n       <use xlink:href=\"#DejaVuSans-33\"/>\n       <use xlink:href=\"#DejaVuSans-39\" x=\"63.623047\"/>\n      </g>\n     </g>\n    </g>\n    <g id=\"xtick_40\">\n     <g id=\"line2d_79\">\n      <path d=\"M 151.025367 290.25375 \nL 151.025367 24.14175 \n\" clip-path=\"url(#pc9c66672a5)\" style=\"fill: none; stroke: #ffffff; stroke-width: 0.8; stroke-linecap: square\"/>\n     </g>\n     <g id=\"line2d_80\">\n      <g>\n       <use xlink:href=\"#m306453811f\" x=\"151.025367\" y=\"290.25375\" style=\"fill: #555555; stroke: #555555; stroke-width: 0.8\"/>\n      </g>\n     </g>\n     <g id=\"text_40\">\n      <!-- 40 -->\n      <g style=\"fill: #555555\" transform=\"translate(144.662867 304.852187) scale(0.1 -0.1)\">\n       <use xlink:href=\"#DejaVuSans-34\"/>\n       <use xlink:href=\"#DejaVuSans-30\" x=\"63.623047\"/>\n      </g>\n     </g>\n    </g>\n    <g id=\"xtick_41\">\n     <g id=\"line2d_81\">\n      <path d=\"M 152.656797 290.25375 \nL 152.656797 24.14175 \n\" clip-path=\"url(#pc9c66672a5)\" style=\"fill: none; stroke: #ffffff; stroke-width: 0.8; stroke-linecap: square\"/>\n     </g>\n     <g id=\"line2d_82\">\n      <g>\n       <use xlink:href=\"#m306453811f\" x=\"152.656797\" y=\"290.25375\" style=\"fill: #555555; stroke: #555555; stroke-width: 0.8\"/>\n      </g>\n     </g>\n     <g id=\"text_41\">\n      <!-- 41 -->\n      <g style=\"fill: #555555\" transform=\"translate(146.294297 304.852187) scale(0.1 -0.1)\">\n       <use xlink:href=\"#DejaVuSans-34\"/>\n       <use xlink:href=\"#DejaVuSans-31\" x=\"63.623047\"/>\n      </g>\n     </g>\n    </g>\n    <g id=\"xtick_42\">\n     <g id=\"line2d_83\">\n      <path d=\"M 154.288227 290.25375 \nL 154.288227 24.14175 \n\" clip-path=\"url(#pc9c66672a5)\" style=\"fill: none; stroke: #ffffff; stroke-width: 0.8; stroke-linecap: square\"/>\n     </g>\n     <g id=\"line2d_84\">\n      <g>\n       <use xlink:href=\"#m306453811f\" x=\"154.288227\" y=\"290.25375\" style=\"fill: #555555; stroke: #555555; stroke-width: 0.8\"/>\n      </g>\n     </g>\n     <g id=\"text_42\">\n      <!-- 42 -->\n      <g style=\"fill: #555555\" transform=\"translate(147.925727 304.852187) scale(0.1 -0.1)\">\n       <use xlink:href=\"#DejaVuSans-34\"/>\n       <use xlink:href=\"#DejaVuSans-32\" x=\"63.623047\"/>\n      </g>\n     </g>\n    </g>\n    <g id=\"xtick_43\">\n     <g id=\"line2d_85\">\n      <path d=\"M 155.919657 290.25375 \nL 155.919657 24.14175 \n\" clip-path=\"url(#pc9c66672a5)\" style=\"fill: none; stroke: #ffffff; stroke-width: 0.8; stroke-linecap: square\"/>\n     </g>\n     <g id=\"line2d_86\">\n      <g>\n       <use xlink:href=\"#m306453811f\" x=\"155.919657\" y=\"290.25375\" style=\"fill: #555555; stroke: #555555; stroke-width: 0.8\"/>\n      </g>\n     </g>\n     <g id=\"text_43\">\n      <!-- 43 -->\n      <g style=\"fill: #555555\" transform=\"translate(149.557157 304.852187) scale(0.1 -0.1)\">\n       <use xlink:href=\"#DejaVuSans-34\"/>\n       <use xlink:href=\"#DejaVuSans-33\" x=\"63.623047\"/>\n      </g>\n     </g>\n    </g>\n    <g id=\"xtick_44\">\n     <g id=\"line2d_87\">\n      <path d=\"M 157.551087 290.25375 \nL 157.551087 24.14175 \n\" clip-path=\"url(#pc9c66672a5)\" style=\"fill: none; stroke: #ffffff; stroke-width: 0.8; stroke-linecap: square\"/>\n     </g>\n     <g id=\"line2d_88\">\n      <g>\n       <use xlink:href=\"#m306453811f\" x=\"157.551087\" y=\"290.25375\" style=\"fill: #555555; stroke: #555555; stroke-width: 0.8\"/>\n      </g>\n     </g>\n     <g id=\"text_44\">\n      <!-- 44 -->\n      <g style=\"fill: #555555\" transform=\"translate(151.188587 304.852187) scale(0.1 -0.1)\">\n       <use xlink:href=\"#DejaVuSans-34\"/>\n       <use xlink:href=\"#DejaVuSans-34\" x=\"63.623047\"/>\n      </g>\n     </g>\n    </g>\n    <g id=\"xtick_45\">\n     <g id=\"line2d_89\">\n      <path d=\"M 159.182517 290.25375 \nL 159.182517 24.14175 \n\" clip-path=\"url(#pc9c66672a5)\" style=\"fill: none; stroke: #ffffff; stroke-width: 0.8; stroke-linecap: square\"/>\n     </g>\n     <g id=\"line2d_90\">\n      <g>\n       <use xlink:href=\"#m306453811f\" x=\"159.182517\" y=\"290.25375\" style=\"fill: #555555; stroke: #555555; stroke-width: 0.8\"/>\n      </g>\n     </g>\n     <g id=\"text_45\">\n      <!-- 45 -->\n      <g style=\"fill: #555555\" transform=\"translate(152.820017 304.852187) scale(0.1 -0.1)\">\n       <use xlink:href=\"#DejaVuSans-34\"/>\n       <use xlink:href=\"#DejaVuSans-35\" x=\"63.623047\"/>\n      </g>\n     </g>\n    </g>\n    <g id=\"xtick_46\">\n     <g id=\"line2d_91\">\n      <path d=\"M 160.813947 290.25375 \nL 160.813947 24.14175 \n\" clip-path=\"url(#pc9c66672a5)\" style=\"fill: none; stroke: #ffffff; stroke-width: 0.8; stroke-linecap: square\"/>\n     </g>\n     <g id=\"line2d_92\">\n      <g>\n       <use xlink:href=\"#m306453811f\" x=\"160.813947\" y=\"290.25375\" style=\"fill: #555555; stroke: #555555; stroke-width: 0.8\"/>\n      </g>\n     </g>\n     <g id=\"text_46\">\n      <!-- 46 -->\n      <g style=\"fill: #555555\" transform=\"translate(154.451447 304.852187) scale(0.1 -0.1)\">\n       <use xlink:href=\"#DejaVuSans-34\"/>\n       <use xlink:href=\"#DejaVuSans-36\" x=\"63.623047\"/>\n      </g>\n     </g>\n    </g>\n    <g id=\"xtick_47\">\n     <g id=\"line2d_93\">\n      <path d=\"M 162.445377 290.25375 \nL 162.445377 24.14175 \n\" clip-path=\"url(#pc9c66672a5)\" style=\"fill: none; stroke: #ffffff; stroke-width: 0.8; stroke-linecap: square\"/>\n     </g>\n     <g id=\"line2d_94\">\n      <g>\n       <use xlink:href=\"#m306453811f\" x=\"162.445377\" y=\"290.25375\" style=\"fill: #555555; stroke: #555555; stroke-width: 0.8\"/>\n      </g>\n     </g>\n     <g id=\"text_47\">\n      <!-- 47 -->\n      <g style=\"fill: #555555\" transform=\"translate(156.082877 304.852187) scale(0.1 -0.1)\">\n       <use xlink:href=\"#DejaVuSans-34\"/>\n       <use xlink:href=\"#DejaVuSans-37\" x=\"63.623047\"/>\n      </g>\n     </g>\n    </g>\n    <g id=\"xtick_48\">\n     <g id=\"line2d_95\">\n      <path d=\"M 164.076806 290.25375 \nL 164.076806 24.14175 \n\" clip-path=\"url(#pc9c66672a5)\" style=\"fill: none; stroke: #ffffff; stroke-width: 0.8; stroke-linecap: square\"/>\n     </g>\n     <g id=\"line2d_96\">\n      <g>\n       <use xlink:href=\"#m306453811f\" x=\"164.076806\" y=\"290.25375\" style=\"fill: #555555; stroke: #555555; stroke-width: 0.8\"/>\n      </g>\n     </g>\n     <g id=\"text_48\">\n      <!-- 48 -->\n      <g style=\"fill: #555555\" transform=\"translate(157.714306 304.852187) scale(0.1 -0.1)\">\n       <use xlink:href=\"#DejaVuSans-34\"/>\n       <use xlink:href=\"#DejaVuSans-38\" x=\"63.623047\"/>\n      </g>\n     </g>\n    </g>\n    <g id=\"xtick_49\">\n     <g id=\"line2d_97\">\n      <path d=\"M 165.708236 290.25375 \nL 165.708236 24.14175 \n\" clip-path=\"url(#pc9c66672a5)\" style=\"fill: none; stroke: #ffffff; stroke-width: 0.8; stroke-linecap: square\"/>\n     </g>\n     <g id=\"line2d_98\">\n      <g>\n       <use xlink:href=\"#m306453811f\" x=\"165.708236\" y=\"290.25375\" style=\"fill: #555555; stroke: #555555; stroke-width: 0.8\"/>\n      </g>\n     </g>\n     <g id=\"text_49\">\n      <!-- 49 -->\n      <g style=\"fill: #555555\" transform=\"translate(159.345736 304.852187) scale(0.1 -0.1)\">\n       <use xlink:href=\"#DejaVuSans-34\"/>\n       <use xlink:href=\"#DejaVuSans-39\" x=\"63.623047\"/>\n      </g>\n     </g>\n    </g>\n    <g id=\"xtick_50\">\n     <g id=\"line2d_99\">\n      <path d=\"M 167.339666 290.25375 \nL 167.339666 24.14175 \n\" clip-path=\"url(#pc9c66672a5)\" style=\"fill: none; stroke: #ffffff; stroke-width: 0.8; stroke-linecap: square\"/>\n     </g>\n     <g id=\"line2d_100\">\n      <g>\n       <use xlink:href=\"#m306453811f\" x=\"167.339666\" y=\"290.25375\" style=\"fill: #555555; stroke: #555555; stroke-width: 0.8\"/>\n      </g>\n     </g>\n     <g id=\"text_50\">\n      <!-- 50 -->\n      <g style=\"fill: #555555\" transform=\"translate(160.977166 304.852187) scale(0.1 -0.1)\">\n       <use xlink:href=\"#DejaVuSans-35\"/>\n       <use xlink:href=\"#DejaVuSans-30\" x=\"63.623047\"/>\n      </g>\n     </g>\n    </g>\n    <g id=\"xtick_51\">\n     <g id=\"line2d_101\">\n      <path d=\"M 168.971096 290.25375 \nL 168.971096 24.14175 \n\" clip-path=\"url(#pc9c66672a5)\" style=\"fill: none; stroke: #ffffff; stroke-width: 0.8; stroke-linecap: square\"/>\n     </g>\n     <g id=\"line2d_102\">\n      <g>\n       <use xlink:href=\"#m306453811f\" x=\"168.971096\" y=\"290.25375\" style=\"fill: #555555; stroke: #555555; stroke-width: 0.8\"/>\n      </g>\n     </g>\n     <g id=\"text_51\">\n      <!-- 51 -->\n      <g style=\"fill: #555555\" transform=\"translate(162.608596 304.852187) scale(0.1 -0.1)\">\n       <use xlink:href=\"#DejaVuSans-35\"/>\n       <use xlink:href=\"#DejaVuSans-31\" x=\"63.623047\"/>\n      </g>\n     </g>\n    </g>\n    <g id=\"xtick_52\">\n     <g id=\"line2d_103\">\n      <path d=\"M 170.602526 290.25375 \nL 170.602526 24.14175 \n\" clip-path=\"url(#pc9c66672a5)\" style=\"fill: none; stroke: #ffffff; stroke-width: 0.8; stroke-linecap: square\"/>\n     </g>\n     <g id=\"line2d_104\">\n      <g>\n       <use xlink:href=\"#m306453811f\" x=\"170.602526\" y=\"290.25375\" style=\"fill: #555555; stroke: #555555; stroke-width: 0.8\"/>\n      </g>\n     </g>\n     <g id=\"text_52\">\n      <!-- 52 -->\n      <g style=\"fill: #555555\" transform=\"translate(164.240026 304.852187) scale(0.1 -0.1)\">\n       <use xlink:href=\"#DejaVuSans-35\"/>\n       <use xlink:href=\"#DejaVuSans-32\" x=\"63.623047\"/>\n      </g>\n     </g>\n    </g>\n    <g id=\"xtick_53\">\n     <g id=\"line2d_105\">\n      <path d=\"M 172.233956 290.25375 \nL 172.233956 24.14175 \n\" clip-path=\"url(#pc9c66672a5)\" style=\"fill: none; stroke: #ffffff; stroke-width: 0.8; stroke-linecap: square\"/>\n     </g>\n     <g id=\"line2d_106\">\n      <g>\n       <use xlink:href=\"#m306453811f\" x=\"172.233956\" y=\"290.25375\" style=\"fill: #555555; stroke: #555555; stroke-width: 0.8\"/>\n      </g>\n     </g>\n     <g id=\"text_53\">\n      <!-- 53 -->\n      <g style=\"fill: #555555\" transform=\"translate(165.871456 304.852187) scale(0.1 -0.1)\">\n       <use xlink:href=\"#DejaVuSans-35\"/>\n       <use xlink:href=\"#DejaVuSans-33\" x=\"63.623047\"/>\n      </g>\n     </g>\n    </g>\n    <g id=\"xtick_54\">\n     <g id=\"line2d_107\">\n      <path d=\"M 173.865386 290.25375 \nL 173.865386 24.14175 \n\" clip-path=\"url(#pc9c66672a5)\" style=\"fill: none; stroke: #ffffff; stroke-width: 0.8; stroke-linecap: square\"/>\n     </g>\n     <g id=\"line2d_108\">\n      <g>\n       <use xlink:href=\"#m306453811f\" x=\"173.865386\" y=\"290.25375\" style=\"fill: #555555; stroke: #555555; stroke-width: 0.8\"/>\n      </g>\n     </g>\n     <g id=\"text_54\">\n      <!-- 54 -->\n      <g style=\"fill: #555555\" transform=\"translate(167.502886 304.852187) scale(0.1 -0.1)\">\n       <use xlink:href=\"#DejaVuSans-35\"/>\n       <use xlink:href=\"#DejaVuSans-34\" x=\"63.623047\"/>\n      </g>\n     </g>\n    </g>\n    <g id=\"xtick_55\">\n     <g id=\"line2d_109\">\n      <path d=\"M 175.496816 290.25375 \nL 175.496816 24.14175 \n\" clip-path=\"url(#pc9c66672a5)\" style=\"fill: none; stroke: #ffffff; stroke-width: 0.8; stroke-linecap: square\"/>\n     </g>\n     <g id=\"line2d_110\">\n      <g>\n       <use xlink:href=\"#m306453811f\" x=\"175.496816\" y=\"290.25375\" style=\"fill: #555555; stroke: #555555; stroke-width: 0.8\"/>\n      </g>\n     </g>\n     <g id=\"text_55\">\n      <!-- 55 -->\n      <g style=\"fill: #555555\" transform=\"translate(169.134316 304.852187) scale(0.1 -0.1)\">\n       <use xlink:href=\"#DejaVuSans-35\"/>\n       <use xlink:href=\"#DejaVuSans-35\" x=\"63.623047\"/>\n      </g>\n     </g>\n    </g>\n    <g id=\"xtick_56\">\n     <g id=\"line2d_111\">\n      <path d=\"M 177.128245 290.25375 \nL 177.128245 24.14175 \n\" clip-path=\"url(#pc9c66672a5)\" style=\"fill: none; stroke: #ffffff; stroke-width: 0.8; stroke-linecap: square\"/>\n     </g>\n     <g id=\"line2d_112\">\n      <g>\n       <use xlink:href=\"#m306453811f\" x=\"177.128245\" y=\"290.25375\" style=\"fill: #555555; stroke: #555555; stroke-width: 0.8\"/>\n      </g>\n     </g>\n     <g id=\"text_56\">\n      <!-- 56 -->\n      <g style=\"fill: #555555\" transform=\"translate(170.765745 304.852187) scale(0.1 -0.1)\">\n       <use xlink:href=\"#DejaVuSans-35\"/>\n       <use xlink:href=\"#DejaVuSans-36\" x=\"63.623047\"/>\n      </g>\n     </g>\n    </g>\n    <g id=\"xtick_57\">\n     <g id=\"line2d_113\">\n      <path d=\"M 178.759675 290.25375 \nL 178.759675 24.14175 \n\" clip-path=\"url(#pc9c66672a5)\" style=\"fill: none; stroke: #ffffff; stroke-width: 0.8; stroke-linecap: square\"/>\n     </g>\n     <g id=\"line2d_114\">\n      <g>\n       <use xlink:href=\"#m306453811f\" x=\"178.759675\" y=\"290.25375\" style=\"fill: #555555; stroke: #555555; stroke-width: 0.8\"/>\n      </g>\n     </g>\n     <g id=\"text_57\">\n      <!-- 57 -->\n      <g style=\"fill: #555555\" transform=\"translate(172.397175 304.852187) scale(0.1 -0.1)\">\n       <use xlink:href=\"#DejaVuSans-35\"/>\n       <use xlink:href=\"#DejaVuSans-37\" x=\"63.623047\"/>\n      </g>\n     </g>\n    </g>\n    <g id=\"xtick_58\">\n     <g id=\"line2d_115\">\n      <path d=\"M 180.391105 290.25375 \nL 180.391105 24.14175 \n\" clip-path=\"url(#pc9c66672a5)\" style=\"fill: none; stroke: #ffffff; stroke-width: 0.8; stroke-linecap: square\"/>\n     </g>\n     <g id=\"line2d_116\">\n      <g>\n       <use xlink:href=\"#m306453811f\" x=\"180.391105\" y=\"290.25375\" style=\"fill: #555555; stroke: #555555; stroke-width: 0.8\"/>\n      </g>\n     </g>\n     <g id=\"text_58\">\n      <!-- 58 -->\n      <g style=\"fill: #555555\" transform=\"translate(174.028605 304.852187) scale(0.1 -0.1)\">\n       <use xlink:href=\"#DejaVuSans-35\"/>\n       <use xlink:href=\"#DejaVuSans-38\" x=\"63.623047\"/>\n      </g>\n     </g>\n    </g>\n    <g id=\"xtick_59\">\n     <g id=\"line2d_117\">\n      <path d=\"M 182.022535 290.25375 \nL 182.022535 24.14175 \n\" clip-path=\"url(#pc9c66672a5)\" style=\"fill: none; stroke: #ffffff; stroke-width: 0.8; stroke-linecap: square\"/>\n     </g>\n     <g id=\"line2d_118\">\n      <g>\n       <use xlink:href=\"#m306453811f\" x=\"182.022535\" y=\"290.25375\" style=\"fill: #555555; stroke: #555555; stroke-width: 0.8\"/>\n      </g>\n     </g>\n     <g id=\"text_59\">\n      <!-- 59 -->\n      <g style=\"fill: #555555\" transform=\"translate(175.660035 304.852187) scale(0.1 -0.1)\">\n       <use xlink:href=\"#DejaVuSans-35\"/>\n       <use xlink:href=\"#DejaVuSans-39\" x=\"63.623047\"/>\n      </g>\n     </g>\n    </g>\n    <g id=\"xtick_60\">\n     <g id=\"line2d_119\">\n      <path d=\"M 183.653965 290.25375 \nL 183.653965 24.14175 \n\" clip-path=\"url(#pc9c66672a5)\" style=\"fill: none; stroke: #ffffff; stroke-width: 0.8; stroke-linecap: square\"/>\n     </g>\n     <g id=\"line2d_120\">\n      <g>\n       <use xlink:href=\"#m306453811f\" x=\"183.653965\" y=\"290.25375\" style=\"fill: #555555; stroke: #555555; stroke-width: 0.8\"/>\n      </g>\n     </g>\n     <g id=\"text_60\">\n      <!-- 60 -->\n      <g style=\"fill: #555555\" transform=\"translate(177.291465 304.852187) scale(0.1 -0.1)\">\n       <use xlink:href=\"#DejaVuSans-36\"/>\n       <use xlink:href=\"#DejaVuSans-30\" x=\"63.623047\"/>\n      </g>\n     </g>\n    </g>\n    <g id=\"xtick_61\">\n     <g id=\"line2d_121\">\n      <path d=\"M 185.285395 290.25375 \nL 185.285395 24.14175 \n\" clip-path=\"url(#pc9c66672a5)\" style=\"fill: none; stroke: #ffffff; stroke-width: 0.8; stroke-linecap: square\"/>\n     </g>\n     <g id=\"line2d_122\">\n      <g>\n       <use xlink:href=\"#m306453811f\" x=\"185.285395\" y=\"290.25375\" style=\"fill: #555555; stroke: #555555; stroke-width: 0.8\"/>\n      </g>\n     </g>\n     <g id=\"text_61\">\n      <!-- 61 -->\n      <g style=\"fill: #555555\" transform=\"translate(178.922895 304.852187) scale(0.1 -0.1)\">\n       <use xlink:href=\"#DejaVuSans-36\"/>\n       <use xlink:href=\"#DejaVuSans-31\" x=\"63.623047\"/>\n      </g>\n     </g>\n    </g>\n    <g id=\"xtick_62\">\n     <g id=\"line2d_123\">\n      <path d=\"M 186.916825 290.25375 \nL 186.916825 24.14175 \n\" clip-path=\"url(#pc9c66672a5)\" style=\"fill: none; stroke: #ffffff; stroke-width: 0.8; stroke-linecap: square\"/>\n     </g>\n     <g id=\"line2d_124\">\n      <g>\n       <use xlink:href=\"#m306453811f\" x=\"186.916825\" y=\"290.25375\" style=\"fill: #555555; stroke: #555555; stroke-width: 0.8\"/>\n      </g>\n     </g>\n     <g id=\"text_62\">\n      <!-- 62 -->\n      <g style=\"fill: #555555\" transform=\"translate(180.554325 304.852187) scale(0.1 -0.1)\">\n       <use xlink:href=\"#DejaVuSans-36\"/>\n       <use xlink:href=\"#DejaVuSans-32\" x=\"63.623047\"/>\n      </g>\n     </g>\n    </g>\n    <g id=\"xtick_63\">\n     <g id=\"line2d_125\">\n      <path d=\"M 188.548255 290.25375 \nL 188.548255 24.14175 \n\" clip-path=\"url(#pc9c66672a5)\" style=\"fill: none; stroke: #ffffff; stroke-width: 0.8; stroke-linecap: square\"/>\n     </g>\n     <g id=\"line2d_126\">\n      <g>\n       <use xlink:href=\"#m306453811f\" x=\"188.548255\" y=\"290.25375\" style=\"fill: #555555; stroke: #555555; stroke-width: 0.8\"/>\n      </g>\n     </g>\n     <g id=\"text_63\">\n      <!-- 63 -->\n      <g style=\"fill: #555555\" transform=\"translate(182.185755 304.852187) scale(0.1 -0.1)\">\n       <use xlink:href=\"#DejaVuSans-36\"/>\n       <use xlink:href=\"#DejaVuSans-33\" x=\"63.623047\"/>\n      </g>\n     </g>\n    </g>\n    <g id=\"xtick_64\">\n     <g id=\"line2d_127\">\n      <path d=\"M 190.179685 290.25375 \nL 190.179685 24.14175 \n\" clip-path=\"url(#pc9c66672a5)\" style=\"fill: none; stroke: #ffffff; stroke-width: 0.8; stroke-linecap: square\"/>\n     </g>\n     <g id=\"line2d_128\">\n      <g>\n       <use xlink:href=\"#m306453811f\" x=\"190.179685\" y=\"290.25375\" style=\"fill: #555555; stroke: #555555; stroke-width: 0.8\"/>\n      </g>\n     </g>\n     <g id=\"text_64\">\n      <!-- 64 -->\n      <g style=\"fill: #555555\" transform=\"translate(183.817185 304.852187) scale(0.1 -0.1)\">\n       <use xlink:href=\"#DejaVuSans-36\"/>\n       <use xlink:href=\"#DejaVuSans-34\" x=\"63.623047\"/>\n      </g>\n     </g>\n    </g>\n    <g id=\"xtick_65\">\n     <g id=\"line2d_129\">\n      <path d=\"M 191.811114 290.25375 \nL 191.811114 24.14175 \n\" clip-path=\"url(#pc9c66672a5)\" style=\"fill: none; stroke: #ffffff; stroke-width: 0.8; stroke-linecap: square\"/>\n     </g>\n     <g id=\"line2d_130\">\n      <g>\n       <use xlink:href=\"#m306453811f\" x=\"191.811114\" y=\"290.25375\" style=\"fill: #555555; stroke: #555555; stroke-width: 0.8\"/>\n      </g>\n     </g>\n     <g id=\"text_65\">\n      <!-- 65 -->\n      <g style=\"fill: #555555\" transform=\"translate(185.448614 304.852187) scale(0.1 -0.1)\">\n       <use xlink:href=\"#DejaVuSans-36\"/>\n       <use xlink:href=\"#DejaVuSans-35\" x=\"63.623047\"/>\n      </g>\n     </g>\n    </g>\n    <g id=\"xtick_66\">\n     <g id=\"line2d_131\">\n      <path d=\"M 193.442544 290.25375 \nL 193.442544 24.14175 \n\" clip-path=\"url(#pc9c66672a5)\" style=\"fill: none; stroke: #ffffff; stroke-width: 0.8; stroke-linecap: square\"/>\n     </g>\n     <g id=\"line2d_132\">\n      <g>\n       <use xlink:href=\"#m306453811f\" x=\"193.442544\" y=\"290.25375\" style=\"fill: #555555; stroke: #555555; stroke-width: 0.8\"/>\n      </g>\n     </g>\n     <g id=\"text_66\">\n      <!-- 66 -->\n      <g style=\"fill: #555555\" transform=\"translate(187.080044 304.852187) scale(0.1 -0.1)\">\n       <use xlink:href=\"#DejaVuSans-36\"/>\n       <use xlink:href=\"#DejaVuSans-36\" x=\"63.623047\"/>\n      </g>\n     </g>\n    </g>\n    <g id=\"xtick_67\">\n     <g id=\"line2d_133\">\n      <path d=\"M 195.073974 290.25375 \nL 195.073974 24.14175 \n\" clip-path=\"url(#pc9c66672a5)\" style=\"fill: none; stroke: #ffffff; stroke-width: 0.8; stroke-linecap: square\"/>\n     </g>\n     <g id=\"line2d_134\">\n      <g>\n       <use xlink:href=\"#m306453811f\" x=\"195.073974\" y=\"290.25375\" style=\"fill: #555555; stroke: #555555; stroke-width: 0.8\"/>\n      </g>\n     </g>\n     <g id=\"text_67\">\n      <!-- 67 -->\n      <g style=\"fill: #555555\" transform=\"translate(188.711474 304.852187) scale(0.1 -0.1)\">\n       <use xlink:href=\"#DejaVuSans-36\"/>\n       <use xlink:href=\"#DejaVuSans-37\" x=\"63.623047\"/>\n      </g>\n     </g>\n    </g>\n    <g id=\"xtick_68\">\n     <g id=\"line2d_135\">\n      <path d=\"M 196.705404 290.25375 \nL 196.705404 24.14175 \n\" clip-path=\"url(#pc9c66672a5)\" style=\"fill: none; stroke: #ffffff; stroke-width: 0.8; stroke-linecap: square\"/>\n     </g>\n     <g id=\"line2d_136\">\n      <g>\n       <use xlink:href=\"#m306453811f\" x=\"196.705404\" y=\"290.25375\" style=\"fill: #555555; stroke: #555555; stroke-width: 0.8\"/>\n      </g>\n     </g>\n     <g id=\"text_68\">\n      <!-- 68 -->\n      <g style=\"fill: #555555\" transform=\"translate(190.342904 304.852187) scale(0.1 -0.1)\">\n       <use xlink:href=\"#DejaVuSans-36\"/>\n       <use xlink:href=\"#DejaVuSans-38\" x=\"63.623047\"/>\n      </g>\n     </g>\n    </g>\n    <g id=\"xtick_69\">\n     <g id=\"line2d_137\">\n      <path d=\"M 198.336834 290.25375 \nL 198.336834 24.14175 \n\" clip-path=\"url(#pc9c66672a5)\" style=\"fill: none; stroke: #ffffff; stroke-width: 0.8; stroke-linecap: square\"/>\n     </g>\n     <g id=\"line2d_138\">\n      <g>\n       <use xlink:href=\"#m306453811f\" x=\"198.336834\" y=\"290.25375\" style=\"fill: #555555; stroke: #555555; stroke-width: 0.8\"/>\n      </g>\n     </g>\n     <g id=\"text_69\">\n      <!-- 69 -->\n      <g style=\"fill: #555555\" transform=\"translate(191.974334 304.852187) scale(0.1 -0.1)\">\n       <use xlink:href=\"#DejaVuSans-36\"/>\n       <use xlink:href=\"#DejaVuSans-39\" x=\"63.623047\"/>\n      </g>\n     </g>\n    </g>\n    <g id=\"xtick_70\">\n     <g id=\"line2d_139\">\n      <path d=\"M 199.968264 290.25375 \nL 199.968264 24.14175 \n\" clip-path=\"url(#pc9c66672a5)\" style=\"fill: none; stroke: #ffffff; stroke-width: 0.8; stroke-linecap: square\"/>\n     </g>\n     <g id=\"line2d_140\">\n      <g>\n       <use xlink:href=\"#m306453811f\" x=\"199.968264\" y=\"290.25375\" style=\"fill: #555555; stroke: #555555; stroke-width: 0.8\"/>\n      </g>\n     </g>\n     <g id=\"text_70\">\n      <!-- 70 -->\n      <g style=\"fill: #555555\" transform=\"translate(193.605764 304.852187) scale(0.1 -0.1)\">\n       <use xlink:href=\"#DejaVuSans-37\"/>\n       <use xlink:href=\"#DejaVuSans-30\" x=\"63.623047\"/>\n      </g>\n     </g>\n    </g>\n    <g id=\"xtick_71\">\n     <g id=\"line2d_141\">\n      <path d=\"M 201.599694 290.25375 \nL 201.599694 24.14175 \n\" clip-path=\"url(#pc9c66672a5)\" style=\"fill: none; stroke: #ffffff; stroke-width: 0.8; stroke-linecap: square\"/>\n     </g>\n     <g id=\"line2d_142\">\n      <g>\n       <use xlink:href=\"#m306453811f\" x=\"201.599694\" y=\"290.25375\" style=\"fill: #555555; stroke: #555555; stroke-width: 0.8\"/>\n      </g>\n     </g>\n     <g id=\"text_71\">\n      <!-- 71 -->\n      <g style=\"fill: #555555\" transform=\"translate(195.237194 304.852187) scale(0.1 -0.1)\">\n       <use xlink:href=\"#DejaVuSans-37\"/>\n       <use xlink:href=\"#DejaVuSans-31\" x=\"63.623047\"/>\n      </g>\n     </g>\n    </g>\n    <g id=\"xtick_72\">\n     <g id=\"line2d_143\">\n      <path d=\"M 203.231124 290.25375 \nL 203.231124 24.14175 \n\" clip-path=\"url(#pc9c66672a5)\" style=\"fill: none; stroke: #ffffff; stroke-width: 0.8; stroke-linecap: square\"/>\n     </g>\n     <g id=\"line2d_144\">\n      <g>\n       <use xlink:href=\"#m306453811f\" x=\"203.231124\" y=\"290.25375\" style=\"fill: #555555; stroke: #555555; stroke-width: 0.8\"/>\n      </g>\n     </g>\n     <g id=\"text_72\">\n      <!-- 72 -->\n      <g style=\"fill: #555555\" transform=\"translate(196.868624 304.852187) scale(0.1 -0.1)\">\n       <use xlink:href=\"#DejaVuSans-37\"/>\n       <use xlink:href=\"#DejaVuSans-32\" x=\"63.623047\"/>\n      </g>\n     </g>\n    </g>\n    <g id=\"xtick_73\">\n     <g id=\"line2d_145\">\n      <path d=\"M 204.862553 290.25375 \nL 204.862553 24.14175 \n\" clip-path=\"url(#pc9c66672a5)\" style=\"fill: none; stroke: #ffffff; stroke-width: 0.8; stroke-linecap: square\"/>\n     </g>\n     <g id=\"line2d_146\">\n      <g>\n       <use xlink:href=\"#m306453811f\" x=\"204.862553\" y=\"290.25375\" style=\"fill: #555555; stroke: #555555; stroke-width: 0.8\"/>\n      </g>\n     </g>\n     <g id=\"text_73\">\n      <!-- 73 -->\n      <g style=\"fill: #555555\" transform=\"translate(198.500053 304.852187) scale(0.1 -0.1)\">\n       <use xlink:href=\"#DejaVuSans-37\"/>\n       <use xlink:href=\"#DejaVuSans-33\" x=\"63.623047\"/>\n      </g>\n     </g>\n    </g>\n    <g id=\"xtick_74\">\n     <g id=\"line2d_147\">\n      <path d=\"M 206.493983 290.25375 \nL 206.493983 24.14175 \n\" clip-path=\"url(#pc9c66672a5)\" style=\"fill: none; stroke: #ffffff; stroke-width: 0.8; stroke-linecap: square\"/>\n     </g>\n     <g id=\"line2d_148\">\n      <g>\n       <use xlink:href=\"#m306453811f\" x=\"206.493983\" y=\"290.25375\" style=\"fill: #555555; stroke: #555555; stroke-width: 0.8\"/>\n      </g>\n     </g>\n     <g id=\"text_74\">\n      <!-- 74 -->\n      <g style=\"fill: #555555\" transform=\"translate(200.131483 304.852187) scale(0.1 -0.1)\">\n       <use xlink:href=\"#DejaVuSans-37\"/>\n       <use xlink:href=\"#DejaVuSans-34\" x=\"63.623047\"/>\n      </g>\n     </g>\n    </g>\n    <g id=\"xtick_75\">\n     <g id=\"line2d_149\">\n      <path d=\"M 208.125413 290.25375 \nL 208.125413 24.14175 \n\" clip-path=\"url(#pc9c66672a5)\" style=\"fill: none; stroke: #ffffff; stroke-width: 0.8; stroke-linecap: square\"/>\n     </g>\n     <g id=\"line2d_150\">\n      <g>\n       <use xlink:href=\"#m306453811f\" x=\"208.125413\" y=\"290.25375\" style=\"fill: #555555; stroke: #555555; stroke-width: 0.8\"/>\n      </g>\n     </g>\n     <g id=\"text_75\">\n      <!-- 75 -->\n      <g style=\"fill: #555555\" transform=\"translate(201.762913 304.852187) scale(0.1 -0.1)\">\n       <use xlink:href=\"#DejaVuSans-37\"/>\n       <use xlink:href=\"#DejaVuSans-35\" x=\"63.623047\"/>\n      </g>\n     </g>\n    </g>\n    <g id=\"xtick_76\">\n     <g id=\"line2d_151\">\n      <path d=\"M 209.756843 290.25375 \nL 209.756843 24.14175 \n\" clip-path=\"url(#pc9c66672a5)\" style=\"fill: none; stroke: #ffffff; stroke-width: 0.8; stroke-linecap: square\"/>\n     </g>\n     <g id=\"line2d_152\">\n      <g>\n       <use xlink:href=\"#m306453811f\" x=\"209.756843\" y=\"290.25375\" style=\"fill: #555555; stroke: #555555; stroke-width: 0.8\"/>\n      </g>\n     </g>\n     <g id=\"text_76\">\n      <!-- 76 -->\n      <g style=\"fill: #555555\" transform=\"translate(203.394343 304.852187) scale(0.1 -0.1)\">\n       <use xlink:href=\"#DejaVuSans-37\"/>\n       <use xlink:href=\"#DejaVuSans-36\" x=\"63.623047\"/>\n      </g>\n     </g>\n    </g>\n    <g id=\"xtick_77\">\n     <g id=\"line2d_153\">\n      <path d=\"M 211.388273 290.25375 \nL 211.388273 24.14175 \n\" clip-path=\"url(#pc9c66672a5)\" style=\"fill: none; stroke: #ffffff; stroke-width: 0.8; stroke-linecap: square\"/>\n     </g>\n     <g id=\"line2d_154\">\n      <g>\n       <use xlink:href=\"#m306453811f\" x=\"211.388273\" y=\"290.25375\" style=\"fill: #555555; stroke: #555555; stroke-width: 0.8\"/>\n      </g>\n     </g>\n     <g id=\"text_77\">\n      <!-- 77 -->\n      <g style=\"fill: #555555\" transform=\"translate(205.025773 304.852187) scale(0.1 -0.1)\">\n       <use xlink:href=\"#DejaVuSans-37\"/>\n       <use xlink:href=\"#DejaVuSans-37\" x=\"63.623047\"/>\n      </g>\n     </g>\n    </g>\n    <g id=\"xtick_78\">\n     <g id=\"line2d_155\">\n      <path d=\"M 213.019703 290.25375 \nL 213.019703 24.14175 \n\" clip-path=\"url(#pc9c66672a5)\" style=\"fill: none; stroke: #ffffff; stroke-width: 0.8; stroke-linecap: square\"/>\n     </g>\n     <g id=\"line2d_156\">\n      <g>\n       <use xlink:href=\"#m306453811f\" x=\"213.019703\" y=\"290.25375\" style=\"fill: #555555; stroke: #555555; stroke-width: 0.8\"/>\n      </g>\n     </g>\n     <g id=\"text_78\">\n      <!-- 78 -->\n      <g style=\"fill: #555555\" transform=\"translate(206.657203 304.852187) scale(0.1 -0.1)\">\n       <use xlink:href=\"#DejaVuSans-37\"/>\n       <use xlink:href=\"#DejaVuSans-38\" x=\"63.623047\"/>\n      </g>\n     </g>\n    </g>\n    <g id=\"xtick_79\">\n     <g id=\"line2d_157\">\n      <path d=\"M 214.651133 290.25375 \nL 214.651133 24.14175 \n\" clip-path=\"url(#pc9c66672a5)\" style=\"fill: none; stroke: #ffffff; stroke-width: 0.8; stroke-linecap: square\"/>\n     </g>\n     <g id=\"line2d_158\">\n      <g>\n       <use xlink:href=\"#m306453811f\" x=\"214.651133\" y=\"290.25375\" style=\"fill: #555555; stroke: #555555; stroke-width: 0.8\"/>\n      </g>\n     </g>\n     <g id=\"text_79\">\n      <!-- 79 -->\n      <g style=\"fill: #555555\" transform=\"translate(208.288633 304.852187) scale(0.1 -0.1)\">\n       <use xlink:href=\"#DejaVuSans-37\"/>\n       <use xlink:href=\"#DejaVuSans-39\" x=\"63.623047\"/>\n      </g>\n     </g>\n    </g>\n    <g id=\"xtick_80\">\n     <g id=\"line2d_159\">\n      <path d=\"M 216.282563 290.25375 \nL 216.282563 24.14175 \n\" clip-path=\"url(#pc9c66672a5)\" style=\"fill: none; stroke: #ffffff; stroke-width: 0.8; stroke-linecap: square\"/>\n     </g>\n     <g id=\"line2d_160\">\n      <g>\n       <use xlink:href=\"#m306453811f\" x=\"216.282563\" y=\"290.25375\" style=\"fill: #555555; stroke: #555555; stroke-width: 0.8\"/>\n      </g>\n     </g>\n     <g id=\"text_80\">\n      <!-- 80 -->\n      <g style=\"fill: #555555\" transform=\"translate(209.920063 304.852187) scale(0.1 -0.1)\">\n       <use xlink:href=\"#DejaVuSans-38\"/>\n       <use xlink:href=\"#DejaVuSans-30\" x=\"63.623047\"/>\n      </g>\n     </g>\n    </g>\n    <g id=\"xtick_81\">\n     <g id=\"line2d_161\">\n      <path d=\"M 217.913992 290.25375 \nL 217.913992 24.14175 \n\" clip-path=\"url(#pc9c66672a5)\" style=\"fill: none; stroke: #ffffff; stroke-width: 0.8; stroke-linecap: square\"/>\n     </g>\n     <g id=\"line2d_162\">\n      <g>\n       <use xlink:href=\"#m306453811f\" x=\"217.913992\" y=\"290.25375\" style=\"fill: #555555; stroke: #555555; stroke-width: 0.8\"/>\n      </g>\n     </g>\n     <g id=\"text_81\">\n      <!-- 81 -->\n      <g style=\"fill: #555555\" transform=\"translate(211.551492 304.852187) scale(0.1 -0.1)\">\n       <use xlink:href=\"#DejaVuSans-38\"/>\n       <use xlink:href=\"#DejaVuSans-31\" x=\"63.623047\"/>\n      </g>\n     </g>\n    </g>\n    <g id=\"xtick_82\">\n     <g id=\"line2d_163\">\n      <path d=\"M 219.545422 290.25375 \nL 219.545422 24.14175 \n\" clip-path=\"url(#pc9c66672a5)\" style=\"fill: none; stroke: #ffffff; stroke-width: 0.8; stroke-linecap: square\"/>\n     </g>\n     <g id=\"line2d_164\">\n      <g>\n       <use xlink:href=\"#m306453811f\" x=\"219.545422\" y=\"290.25375\" style=\"fill: #555555; stroke: #555555; stroke-width: 0.8\"/>\n      </g>\n     </g>\n     <g id=\"text_82\">\n      <!-- 82 -->\n      <g style=\"fill: #555555\" transform=\"translate(213.182922 304.852187) scale(0.1 -0.1)\">\n       <use xlink:href=\"#DejaVuSans-38\"/>\n       <use xlink:href=\"#DejaVuSans-32\" x=\"63.623047\"/>\n      </g>\n     </g>\n    </g>\n    <g id=\"xtick_83\">\n     <g id=\"line2d_165\">\n      <path d=\"M 221.176852 290.25375 \nL 221.176852 24.14175 \n\" clip-path=\"url(#pc9c66672a5)\" style=\"fill: none; stroke: #ffffff; stroke-width: 0.8; stroke-linecap: square\"/>\n     </g>\n     <g id=\"line2d_166\">\n      <g>\n       <use xlink:href=\"#m306453811f\" x=\"221.176852\" y=\"290.25375\" style=\"fill: #555555; stroke: #555555; stroke-width: 0.8\"/>\n      </g>\n     </g>\n     <g id=\"text_83\">\n      <!-- 83 -->\n      <g style=\"fill: #555555\" transform=\"translate(214.814352 304.852187) scale(0.1 -0.1)\">\n       <use xlink:href=\"#DejaVuSans-38\"/>\n       <use xlink:href=\"#DejaVuSans-33\" x=\"63.623047\"/>\n      </g>\n     </g>\n    </g>\n    <g id=\"xtick_84\">\n     <g id=\"line2d_167\">\n      <path d=\"M 222.808282 290.25375 \nL 222.808282 24.14175 \n\" clip-path=\"url(#pc9c66672a5)\" style=\"fill: none; stroke: #ffffff; stroke-width: 0.8; stroke-linecap: square\"/>\n     </g>\n     <g id=\"line2d_168\">\n      <g>\n       <use xlink:href=\"#m306453811f\" x=\"222.808282\" y=\"290.25375\" style=\"fill: #555555; stroke: #555555; stroke-width: 0.8\"/>\n      </g>\n     </g>\n     <g id=\"text_84\">\n      <!-- 84 -->\n      <g style=\"fill: #555555\" transform=\"translate(216.445782 304.852187) scale(0.1 -0.1)\">\n       <use xlink:href=\"#DejaVuSans-38\"/>\n       <use xlink:href=\"#DejaVuSans-34\" x=\"63.623047\"/>\n      </g>\n     </g>\n    </g>\n    <g id=\"xtick_85\">\n     <g id=\"line2d_169\">\n      <path d=\"M 224.439712 290.25375 \nL 224.439712 24.14175 \n\" clip-path=\"url(#pc9c66672a5)\" style=\"fill: none; stroke: #ffffff; stroke-width: 0.8; stroke-linecap: square\"/>\n     </g>\n     <g id=\"line2d_170\">\n      <g>\n       <use xlink:href=\"#m306453811f\" x=\"224.439712\" y=\"290.25375\" style=\"fill: #555555; stroke: #555555; stroke-width: 0.8\"/>\n      </g>\n     </g>\n     <g id=\"text_85\">\n      <!-- 85 -->\n      <g style=\"fill: #555555\" transform=\"translate(218.077212 304.852187) scale(0.1 -0.1)\">\n       <use xlink:href=\"#DejaVuSans-38\"/>\n       <use xlink:href=\"#DejaVuSans-35\" x=\"63.623047\"/>\n      </g>\n     </g>\n    </g>\n    <g id=\"xtick_86\">\n     <g id=\"line2d_171\">\n      <path d=\"M 226.071142 290.25375 \nL 226.071142 24.14175 \n\" clip-path=\"url(#pc9c66672a5)\" style=\"fill: none; stroke: #ffffff; stroke-width: 0.8; stroke-linecap: square\"/>\n     </g>\n     <g id=\"line2d_172\">\n      <g>\n       <use xlink:href=\"#m306453811f\" x=\"226.071142\" y=\"290.25375\" style=\"fill: #555555; stroke: #555555; stroke-width: 0.8\"/>\n      </g>\n     </g>\n     <g id=\"text_86\">\n      <!-- 86 -->\n      <g style=\"fill: #555555\" transform=\"translate(219.708642 304.852187) scale(0.1 -0.1)\">\n       <use xlink:href=\"#DejaVuSans-38\"/>\n       <use xlink:href=\"#DejaVuSans-36\" x=\"63.623047\"/>\n      </g>\n     </g>\n    </g>\n    <g id=\"xtick_87\">\n     <g id=\"line2d_173\">\n      <path d=\"M 227.702572 290.25375 \nL 227.702572 24.14175 \n\" clip-path=\"url(#pc9c66672a5)\" style=\"fill: none; stroke: #ffffff; stroke-width: 0.8; stroke-linecap: square\"/>\n     </g>\n     <g id=\"line2d_174\">\n      <g>\n       <use xlink:href=\"#m306453811f\" x=\"227.702572\" y=\"290.25375\" style=\"fill: #555555; stroke: #555555; stroke-width: 0.8\"/>\n      </g>\n     </g>\n     <g id=\"text_87\">\n      <!-- 87 -->\n      <g style=\"fill: #555555\" transform=\"translate(221.340072 304.852187) scale(0.1 -0.1)\">\n       <use xlink:href=\"#DejaVuSans-38\"/>\n       <use xlink:href=\"#DejaVuSans-37\" x=\"63.623047\"/>\n      </g>\n     </g>\n    </g>\n    <g id=\"xtick_88\">\n     <g id=\"line2d_175\">\n      <path d=\"M 229.334002 290.25375 \nL 229.334002 24.14175 \n\" clip-path=\"url(#pc9c66672a5)\" style=\"fill: none; stroke: #ffffff; stroke-width: 0.8; stroke-linecap: square\"/>\n     </g>\n     <g id=\"line2d_176\">\n      <g>\n       <use xlink:href=\"#m306453811f\" x=\"229.334002\" y=\"290.25375\" style=\"fill: #555555; stroke: #555555; stroke-width: 0.8\"/>\n      </g>\n     </g>\n     <g id=\"text_88\">\n      <!-- 88 -->\n      <g style=\"fill: #555555\" transform=\"translate(222.971502 304.852187) scale(0.1 -0.1)\">\n       <use xlink:href=\"#DejaVuSans-38\"/>\n       <use xlink:href=\"#DejaVuSans-38\" x=\"63.623047\"/>\n      </g>\n     </g>\n    </g>\n    <g id=\"xtick_89\">\n     <g id=\"line2d_177\">\n      <path d=\"M 230.965431 290.25375 \nL 230.965431 24.14175 \n\" clip-path=\"url(#pc9c66672a5)\" style=\"fill: none; stroke: #ffffff; stroke-width: 0.8; stroke-linecap: square\"/>\n     </g>\n     <g id=\"line2d_178\">\n      <g>\n       <use xlink:href=\"#m306453811f\" x=\"230.965431\" y=\"290.25375\" style=\"fill: #555555; stroke: #555555; stroke-width: 0.8\"/>\n      </g>\n     </g>\n     <g id=\"text_89\">\n      <!-- 89 -->\n      <g style=\"fill: #555555\" transform=\"translate(224.602931 304.852187) scale(0.1 -0.1)\">\n       <use xlink:href=\"#DejaVuSans-38\"/>\n       <use xlink:href=\"#DejaVuSans-39\" x=\"63.623047\"/>\n      </g>\n     </g>\n    </g>\n    <g id=\"xtick_90\">\n     <g id=\"line2d_179\">\n      <path d=\"M 232.596861 290.25375 \nL 232.596861 24.14175 \n\" clip-path=\"url(#pc9c66672a5)\" style=\"fill: none; stroke: #ffffff; stroke-width: 0.8; stroke-linecap: square\"/>\n     </g>\n     <g id=\"line2d_180\">\n      <g>\n       <use xlink:href=\"#m306453811f\" x=\"232.596861\" y=\"290.25375\" style=\"fill: #555555; stroke: #555555; stroke-width: 0.8\"/>\n      </g>\n     </g>\n     <g id=\"text_90\">\n      <!-- 90 -->\n      <g style=\"fill: #555555\" transform=\"translate(226.234361 304.852187) scale(0.1 -0.1)\">\n       <use xlink:href=\"#DejaVuSans-39\"/>\n       <use xlink:href=\"#DejaVuSans-30\" x=\"63.623047\"/>\n      </g>\n     </g>\n    </g>\n    <g id=\"xtick_91\">\n     <g id=\"line2d_181\">\n      <path d=\"M 234.228291 290.25375 \nL 234.228291 24.14175 \n\" clip-path=\"url(#pc9c66672a5)\" style=\"fill: none; stroke: #ffffff; stroke-width: 0.8; stroke-linecap: square\"/>\n     </g>\n     <g id=\"line2d_182\">\n      <g>\n       <use xlink:href=\"#m306453811f\" x=\"234.228291\" y=\"290.25375\" style=\"fill: #555555; stroke: #555555; stroke-width: 0.8\"/>\n      </g>\n     </g>\n     <g id=\"text_91\">\n      <!-- 91 -->\n      <g style=\"fill: #555555\" transform=\"translate(227.865791 304.852187) scale(0.1 -0.1)\">\n       <use xlink:href=\"#DejaVuSans-39\"/>\n       <use xlink:href=\"#DejaVuSans-31\" x=\"63.623047\"/>\n      </g>\n     </g>\n    </g>\n    <g id=\"xtick_92\">\n     <g id=\"line2d_183\">\n      <path d=\"M 235.859721 290.25375 \nL 235.859721 24.14175 \n\" clip-path=\"url(#pc9c66672a5)\" style=\"fill: none; stroke: #ffffff; stroke-width: 0.8; stroke-linecap: square\"/>\n     </g>\n     <g id=\"line2d_184\">\n      <g>\n       <use xlink:href=\"#m306453811f\" x=\"235.859721\" y=\"290.25375\" style=\"fill: #555555; stroke: #555555; stroke-width: 0.8\"/>\n      </g>\n     </g>\n     <g id=\"text_92\">\n      <!-- 92 -->\n      <g style=\"fill: #555555\" transform=\"translate(229.497221 304.852187) scale(0.1 -0.1)\">\n       <use xlink:href=\"#DejaVuSans-39\"/>\n       <use xlink:href=\"#DejaVuSans-32\" x=\"63.623047\"/>\n      </g>\n     </g>\n    </g>\n    <g id=\"xtick_93\">\n     <g id=\"line2d_185\">\n      <path d=\"M 237.491151 290.25375 \nL 237.491151 24.14175 \n\" clip-path=\"url(#pc9c66672a5)\" style=\"fill: none; stroke: #ffffff; stroke-width: 0.8; stroke-linecap: square\"/>\n     </g>\n     <g id=\"line2d_186\">\n      <g>\n       <use xlink:href=\"#m306453811f\" x=\"237.491151\" y=\"290.25375\" style=\"fill: #555555; stroke: #555555; stroke-width: 0.8\"/>\n      </g>\n     </g>\n     <g id=\"text_93\">\n      <!-- 93 -->\n      <g style=\"fill: #555555\" transform=\"translate(231.128651 304.852187) scale(0.1 -0.1)\">\n       <use xlink:href=\"#DejaVuSans-39\"/>\n       <use xlink:href=\"#DejaVuSans-33\" x=\"63.623047\"/>\n      </g>\n     </g>\n    </g>\n    <g id=\"xtick_94\">\n     <g id=\"line2d_187\">\n      <path d=\"M 239.122581 290.25375 \nL 239.122581 24.14175 \n\" clip-path=\"url(#pc9c66672a5)\" style=\"fill: none; stroke: #ffffff; stroke-width: 0.8; stroke-linecap: square\"/>\n     </g>\n     <g id=\"line2d_188\">\n      <g>\n       <use xlink:href=\"#m306453811f\" x=\"239.122581\" y=\"290.25375\" style=\"fill: #555555; stroke: #555555; stroke-width: 0.8\"/>\n      </g>\n     </g>\n     <g id=\"text_94\">\n      <!-- 94 -->\n      <g style=\"fill: #555555\" transform=\"translate(232.760081 304.852187) scale(0.1 -0.1)\">\n       <use xlink:href=\"#DejaVuSans-39\"/>\n       <use xlink:href=\"#DejaVuSans-34\" x=\"63.623047\"/>\n      </g>\n     </g>\n    </g>\n    <g id=\"xtick_95\">\n     <g id=\"line2d_189\">\n      <path d=\"M 240.754011 290.25375 \nL 240.754011 24.14175 \n\" clip-path=\"url(#pc9c66672a5)\" style=\"fill: none; stroke: #ffffff; stroke-width: 0.8; stroke-linecap: square\"/>\n     </g>\n     <g id=\"line2d_190\">\n      <g>\n       <use xlink:href=\"#m306453811f\" x=\"240.754011\" y=\"290.25375\" style=\"fill: #555555; stroke: #555555; stroke-width: 0.8\"/>\n      </g>\n     </g>\n     <g id=\"text_95\">\n      <!-- 95 -->\n      <g style=\"fill: #555555\" transform=\"translate(234.391511 304.852187) scale(0.1 -0.1)\">\n       <use xlink:href=\"#DejaVuSans-39\"/>\n       <use xlink:href=\"#DejaVuSans-35\" x=\"63.623047\"/>\n      </g>\n     </g>\n    </g>\n    <g id=\"xtick_96\">\n     <g id=\"line2d_191\">\n      <path d=\"M 242.385441 290.25375 \nL 242.385441 24.14175 \n\" clip-path=\"url(#pc9c66672a5)\" style=\"fill: none; stroke: #ffffff; stroke-width: 0.8; stroke-linecap: square\"/>\n     </g>\n     <g id=\"line2d_192\">\n      <g>\n       <use xlink:href=\"#m306453811f\" x=\"242.385441\" y=\"290.25375\" style=\"fill: #555555; stroke: #555555; stroke-width: 0.8\"/>\n      </g>\n     </g>\n     <g id=\"text_96\">\n      <!-- 96 -->\n      <g style=\"fill: #555555\" transform=\"translate(236.022941 304.852187) scale(0.1 -0.1)\">\n       <use xlink:href=\"#DejaVuSans-39\"/>\n       <use xlink:href=\"#DejaVuSans-36\" x=\"63.623047\"/>\n      </g>\n     </g>\n    </g>\n    <g id=\"xtick_97\">\n     <g id=\"line2d_193\">\n      <path d=\"M 244.01687 290.25375 \nL 244.01687 24.14175 \n\" clip-path=\"url(#pc9c66672a5)\" style=\"fill: none; stroke: #ffffff; stroke-width: 0.8; stroke-linecap: square\"/>\n     </g>\n     <g id=\"line2d_194\">\n      <g>\n       <use xlink:href=\"#m306453811f\" x=\"244.01687\" y=\"290.25375\" style=\"fill: #555555; stroke: #555555; stroke-width: 0.8\"/>\n      </g>\n     </g>\n     <g id=\"text_97\">\n      <!-- 97 -->\n      <g style=\"fill: #555555\" transform=\"translate(237.65437 304.852187) scale(0.1 -0.1)\">\n       <use xlink:href=\"#DejaVuSans-39\"/>\n       <use xlink:href=\"#DejaVuSans-37\" x=\"63.623047\"/>\n      </g>\n     </g>\n    </g>\n    <g id=\"xtick_98\">\n     <g id=\"line2d_195\">\n      <path d=\"M 245.6483 290.25375 \nL 245.6483 24.14175 \n\" clip-path=\"url(#pc9c66672a5)\" style=\"fill: none; stroke: #ffffff; stroke-width: 0.8; stroke-linecap: square\"/>\n     </g>\n     <g id=\"line2d_196\">\n      <g>\n       <use xlink:href=\"#m306453811f\" x=\"245.6483\" y=\"290.25375\" style=\"fill: #555555; stroke: #555555; stroke-width: 0.8\"/>\n      </g>\n     </g>\n     <g id=\"text_98\">\n      <!-- 98 -->\n      <g style=\"fill: #555555\" transform=\"translate(239.2858 304.852187) scale(0.1 -0.1)\">\n       <use xlink:href=\"#DejaVuSans-39\"/>\n       <use xlink:href=\"#DejaVuSans-38\" x=\"63.623047\"/>\n      </g>\n     </g>\n    </g>\n    <g id=\"xtick_99\">\n     <g id=\"line2d_197\">\n      <path d=\"M 247.27973 290.25375 \nL 247.27973 24.14175 \n\" clip-path=\"url(#pc9c66672a5)\" style=\"fill: none; stroke: #ffffff; stroke-width: 0.8; stroke-linecap: square\"/>\n     </g>\n     <g id=\"line2d_198\">\n      <g>\n       <use xlink:href=\"#m306453811f\" x=\"247.27973\" y=\"290.25375\" style=\"fill: #555555; stroke: #555555; stroke-width: 0.8\"/>\n      </g>\n     </g>\n     <g id=\"text_99\">\n      <!-- 99 -->\n      <g style=\"fill: #555555\" transform=\"translate(240.91723 304.852187) scale(0.1 -0.1)\">\n       <use xlink:href=\"#DejaVuSans-39\"/>\n       <use xlink:href=\"#DejaVuSans-39\" x=\"63.623047\"/>\n      </g>\n     </g>\n    </g>\n    <g id=\"xtick_100\">\n     <g id=\"line2d_199\">\n      <path d=\"M 248.91116 290.25375 \nL 248.91116 24.14175 \n\" clip-path=\"url(#pc9c66672a5)\" style=\"fill: none; stroke: #ffffff; stroke-width: 0.8; stroke-linecap: square\"/>\n     </g>\n     <g id=\"line2d_200\">\n      <g>\n       <use xlink:href=\"#m306453811f\" x=\"248.91116\" y=\"290.25375\" style=\"fill: #555555; stroke: #555555; stroke-width: 0.8\"/>\n      </g>\n     </g>\n     <g id=\"text_100\">\n      <!-- 100 -->\n      <g style=\"fill: #555555\" transform=\"translate(239.36741 304.852187) scale(0.1 -0.1)\">\n       <use xlink:href=\"#DejaVuSans-31\"/>\n       <use xlink:href=\"#DejaVuSans-30\" x=\"63.623047\"/>\n       <use xlink:href=\"#DejaVuSans-30\" x=\"127.246094\"/>\n      </g>\n     </g>\n    </g>\n    <g id=\"xtick_101\">\n     <g id=\"line2d_201\">\n      <path d=\"M 250.54259 290.25375 \nL 250.54259 24.14175 \n\" clip-path=\"url(#pc9c66672a5)\" style=\"fill: none; stroke: #ffffff; stroke-width: 0.8; stroke-linecap: square\"/>\n     </g>\n     <g id=\"line2d_202\">\n      <g>\n       <use xlink:href=\"#m306453811f\" x=\"250.54259\" y=\"290.25375\" style=\"fill: #555555; stroke: #555555; stroke-width: 0.8\"/>\n      </g>\n     </g>\n     <g id=\"text_101\">\n      <!-- 101 -->\n      <g style=\"fill: #555555\" transform=\"translate(240.99884 304.852187) scale(0.1 -0.1)\">\n       <use xlink:href=\"#DejaVuSans-31\"/>\n       <use xlink:href=\"#DejaVuSans-30\" x=\"63.623047\"/>\n       <use xlink:href=\"#DejaVuSans-31\" x=\"127.246094\"/>\n      </g>\n     </g>\n    </g>\n    <g id=\"xtick_102\">\n     <g id=\"line2d_203\">\n      <path d=\"M 252.17402 290.25375 \nL 252.17402 24.14175 \n\" clip-path=\"url(#pc9c66672a5)\" style=\"fill: none; stroke: #ffffff; stroke-width: 0.8; stroke-linecap: square\"/>\n     </g>\n     <g id=\"line2d_204\">\n      <g>\n       <use xlink:href=\"#m306453811f\" x=\"252.17402\" y=\"290.25375\" style=\"fill: #555555; stroke: #555555; stroke-width: 0.8\"/>\n      </g>\n     </g>\n     <g id=\"text_102\">\n      <!-- 102 -->\n      <g style=\"fill: #555555\" transform=\"translate(242.63027 304.852187) scale(0.1 -0.1)\">\n       <use xlink:href=\"#DejaVuSans-31\"/>\n       <use xlink:href=\"#DejaVuSans-30\" x=\"63.623047\"/>\n       <use xlink:href=\"#DejaVuSans-32\" x=\"127.246094\"/>\n      </g>\n     </g>\n    </g>\n    <g id=\"xtick_103\">\n     <g id=\"line2d_205\">\n      <path d=\"M 253.80545 290.25375 \nL 253.80545 24.14175 \n\" clip-path=\"url(#pc9c66672a5)\" style=\"fill: none; stroke: #ffffff; stroke-width: 0.8; stroke-linecap: square\"/>\n     </g>\n     <g id=\"line2d_206\">\n      <g>\n       <use xlink:href=\"#m306453811f\" x=\"253.80545\" y=\"290.25375\" style=\"fill: #555555; stroke: #555555; stroke-width: 0.8\"/>\n      </g>\n     </g>\n     <g id=\"text_103\">\n      <!-- 103 -->\n      <g style=\"fill: #555555\" transform=\"translate(244.2617 304.852187) scale(0.1 -0.1)\">\n       <use xlink:href=\"#DejaVuSans-31\"/>\n       <use xlink:href=\"#DejaVuSans-30\" x=\"63.623047\"/>\n       <use xlink:href=\"#DejaVuSans-33\" x=\"127.246094\"/>\n      </g>\n     </g>\n    </g>\n    <g id=\"xtick_104\">\n     <g id=\"line2d_207\">\n      <path d=\"M 255.43688 290.25375 \nL 255.43688 24.14175 \n\" clip-path=\"url(#pc9c66672a5)\" style=\"fill: none; stroke: #ffffff; stroke-width: 0.8; stroke-linecap: square\"/>\n     </g>\n     <g id=\"line2d_208\">\n      <g>\n       <use xlink:href=\"#m306453811f\" x=\"255.43688\" y=\"290.25375\" style=\"fill: #555555; stroke: #555555; stroke-width: 0.8\"/>\n      </g>\n     </g>\n     <g id=\"text_104\">\n      <!-- 104 -->\n      <g style=\"fill: #555555\" transform=\"translate(245.89313 304.852187) scale(0.1 -0.1)\">\n       <use xlink:href=\"#DejaVuSans-31\"/>\n       <use xlink:href=\"#DejaVuSans-30\" x=\"63.623047\"/>\n       <use xlink:href=\"#DejaVuSans-34\" x=\"127.246094\"/>\n      </g>\n     </g>\n    </g>\n    <g id=\"xtick_105\">\n     <g id=\"line2d_209\">\n      <path d=\"M 257.068309 290.25375 \nL 257.068309 24.14175 \n\" clip-path=\"url(#pc9c66672a5)\" style=\"fill: none; stroke: #ffffff; stroke-width: 0.8; stroke-linecap: square\"/>\n     </g>\n     <g id=\"line2d_210\">\n      <g>\n       <use xlink:href=\"#m306453811f\" x=\"257.068309\" y=\"290.25375\" style=\"fill: #555555; stroke: #555555; stroke-width: 0.8\"/>\n      </g>\n     </g>\n     <g id=\"text_105\">\n      <!-- 105 -->\n      <g style=\"fill: #555555\" transform=\"translate(247.524559 304.852187) scale(0.1 -0.1)\">\n       <use xlink:href=\"#DejaVuSans-31\"/>\n       <use xlink:href=\"#DejaVuSans-30\" x=\"63.623047\"/>\n       <use xlink:href=\"#DejaVuSans-35\" x=\"127.246094\"/>\n      </g>\n     </g>\n    </g>\n    <g id=\"xtick_106\">\n     <g id=\"line2d_211\">\n      <path d=\"M 258.699739 290.25375 \nL 258.699739 24.14175 \n\" clip-path=\"url(#pc9c66672a5)\" style=\"fill: none; stroke: #ffffff; stroke-width: 0.8; stroke-linecap: square\"/>\n     </g>\n     <g id=\"line2d_212\">\n      <g>\n       <use xlink:href=\"#m306453811f\" x=\"258.699739\" y=\"290.25375\" style=\"fill: #555555; stroke: #555555; stroke-width: 0.8\"/>\n      </g>\n     </g>\n     <g id=\"text_106\">\n      <!-- 106 -->\n      <g style=\"fill: #555555\" transform=\"translate(249.155989 304.852187) scale(0.1 -0.1)\">\n       <use xlink:href=\"#DejaVuSans-31\"/>\n       <use xlink:href=\"#DejaVuSans-30\" x=\"63.623047\"/>\n       <use xlink:href=\"#DejaVuSans-36\" x=\"127.246094\"/>\n      </g>\n     </g>\n    </g>\n    <g id=\"xtick_107\">\n     <g id=\"line2d_213\">\n      <path d=\"M 260.331169 290.25375 \nL 260.331169 24.14175 \n\" clip-path=\"url(#pc9c66672a5)\" style=\"fill: none; stroke: #ffffff; stroke-width: 0.8; stroke-linecap: square\"/>\n     </g>\n     <g id=\"line2d_214\">\n      <g>\n       <use xlink:href=\"#m306453811f\" x=\"260.331169\" y=\"290.25375\" style=\"fill: #555555; stroke: #555555; stroke-width: 0.8\"/>\n      </g>\n     </g>\n     <g id=\"text_107\">\n      <!-- 107 -->\n      <g style=\"fill: #555555\" transform=\"translate(250.787419 304.852187) scale(0.1 -0.1)\">\n       <use xlink:href=\"#DejaVuSans-31\"/>\n       <use xlink:href=\"#DejaVuSans-30\" x=\"63.623047\"/>\n       <use xlink:href=\"#DejaVuSans-37\" x=\"127.246094\"/>\n      </g>\n     </g>\n    </g>\n    <g id=\"xtick_108\">\n     <g id=\"line2d_215\">\n      <path d=\"M 261.962599 290.25375 \nL 261.962599 24.14175 \n\" clip-path=\"url(#pc9c66672a5)\" style=\"fill: none; stroke: #ffffff; stroke-width: 0.8; stroke-linecap: square\"/>\n     </g>\n     <g id=\"line2d_216\">\n      <g>\n       <use xlink:href=\"#m306453811f\" x=\"261.962599\" y=\"290.25375\" style=\"fill: #555555; stroke: #555555; stroke-width: 0.8\"/>\n      </g>\n     </g>\n     <g id=\"text_108\">\n      <!-- 108 -->\n      <g style=\"fill: #555555\" transform=\"translate(252.418849 304.852187) scale(0.1 -0.1)\">\n       <use xlink:href=\"#DejaVuSans-31\"/>\n       <use xlink:href=\"#DejaVuSans-30\" x=\"63.623047\"/>\n       <use xlink:href=\"#DejaVuSans-38\" x=\"127.246094\"/>\n      </g>\n     </g>\n    </g>\n    <g id=\"xtick_109\">\n     <g id=\"line2d_217\">\n      <path d=\"M 263.594029 290.25375 \nL 263.594029 24.14175 \n\" clip-path=\"url(#pc9c66672a5)\" style=\"fill: none; stroke: #ffffff; stroke-width: 0.8; stroke-linecap: square\"/>\n     </g>\n     <g id=\"line2d_218\">\n      <g>\n       <use xlink:href=\"#m306453811f\" x=\"263.594029\" y=\"290.25375\" style=\"fill: #555555; stroke: #555555; stroke-width: 0.8\"/>\n      </g>\n     </g>\n     <g id=\"text_109\">\n      <!-- 109 -->\n      <g style=\"fill: #555555\" transform=\"translate(254.050279 304.852187) scale(0.1 -0.1)\">\n       <use xlink:href=\"#DejaVuSans-31\"/>\n       <use xlink:href=\"#DejaVuSans-30\" x=\"63.623047\"/>\n       <use xlink:href=\"#DejaVuSans-39\" x=\"127.246094\"/>\n      </g>\n     </g>\n    </g>\n    <g id=\"xtick_110\">\n     <g id=\"line2d_219\">\n      <path d=\"M 265.225459 290.25375 \nL 265.225459 24.14175 \n\" clip-path=\"url(#pc9c66672a5)\" style=\"fill: none; stroke: #ffffff; stroke-width: 0.8; stroke-linecap: square\"/>\n     </g>\n     <g id=\"line2d_220\">\n      <g>\n       <use xlink:href=\"#m306453811f\" x=\"265.225459\" y=\"290.25375\" style=\"fill: #555555; stroke: #555555; stroke-width: 0.8\"/>\n      </g>\n     </g>\n     <g id=\"text_110\">\n      <!-- 110 -->\n      <g style=\"fill: #555555\" transform=\"translate(255.681709 304.852187) scale(0.1 -0.1)\">\n       <use xlink:href=\"#DejaVuSans-31\"/>\n       <use xlink:href=\"#DejaVuSans-31\" x=\"63.623047\"/>\n       <use xlink:href=\"#DejaVuSans-30\" x=\"127.246094\"/>\n      </g>\n     </g>\n    </g>\n    <g id=\"xtick_111\">\n     <g id=\"line2d_221\">\n      <path d=\"M 266.856889 290.25375 \nL 266.856889 24.14175 \n\" clip-path=\"url(#pc9c66672a5)\" style=\"fill: none; stroke: #ffffff; stroke-width: 0.8; stroke-linecap: square\"/>\n     </g>\n     <g id=\"line2d_222\">\n      <g>\n       <use xlink:href=\"#m306453811f\" x=\"266.856889\" y=\"290.25375\" style=\"fill: #555555; stroke: #555555; stroke-width: 0.8\"/>\n      </g>\n     </g>\n     <g id=\"text_111\">\n      <!-- 111 -->\n      <g style=\"fill: #555555\" transform=\"translate(257.313139 304.852187) scale(0.1 -0.1)\">\n       <use xlink:href=\"#DejaVuSans-31\"/>\n       <use xlink:href=\"#DejaVuSans-31\" x=\"63.623047\"/>\n       <use xlink:href=\"#DejaVuSans-31\" x=\"127.246094\"/>\n      </g>\n     </g>\n    </g>\n    <g id=\"xtick_112\">\n     <g id=\"line2d_223\">\n      <path d=\"M 268.488319 290.25375 \nL 268.488319 24.14175 \n\" clip-path=\"url(#pc9c66672a5)\" style=\"fill: none; stroke: #ffffff; stroke-width: 0.8; stroke-linecap: square\"/>\n     </g>\n     <g id=\"line2d_224\">\n      <g>\n       <use xlink:href=\"#m306453811f\" x=\"268.488319\" y=\"290.25375\" style=\"fill: #555555; stroke: #555555; stroke-width: 0.8\"/>\n      </g>\n     </g>\n     <g id=\"text_112\">\n      <!-- 112 -->\n      <g style=\"fill: #555555\" transform=\"translate(258.944569 304.852187) scale(0.1 -0.1)\">\n       <use xlink:href=\"#DejaVuSans-31\"/>\n       <use xlink:href=\"#DejaVuSans-31\" x=\"63.623047\"/>\n       <use xlink:href=\"#DejaVuSans-32\" x=\"127.246094\"/>\n      </g>\n     </g>\n    </g>\n    <g id=\"xtick_113\">\n     <g id=\"line2d_225\">\n      <path d=\"M 270.119748 290.25375 \nL 270.119748 24.14175 \n\" clip-path=\"url(#pc9c66672a5)\" style=\"fill: none; stroke: #ffffff; stroke-width: 0.8; stroke-linecap: square\"/>\n     </g>\n     <g id=\"line2d_226\">\n      <g>\n       <use xlink:href=\"#m306453811f\" x=\"270.119748\" y=\"290.25375\" style=\"fill: #555555; stroke: #555555; stroke-width: 0.8\"/>\n      </g>\n     </g>\n     <g id=\"text_113\">\n      <!-- 113 -->\n      <g style=\"fill: #555555\" transform=\"translate(260.575998 304.852187) scale(0.1 -0.1)\">\n       <use xlink:href=\"#DejaVuSans-31\"/>\n       <use xlink:href=\"#DejaVuSans-31\" x=\"63.623047\"/>\n       <use xlink:href=\"#DejaVuSans-33\" x=\"127.246094\"/>\n      </g>\n     </g>\n    </g>\n    <g id=\"xtick_114\">\n     <g id=\"line2d_227\">\n      <path d=\"M 271.751178 290.25375 \nL 271.751178 24.14175 \n\" clip-path=\"url(#pc9c66672a5)\" style=\"fill: none; stroke: #ffffff; stroke-width: 0.8; stroke-linecap: square\"/>\n     </g>\n     <g id=\"line2d_228\">\n      <g>\n       <use xlink:href=\"#m306453811f\" x=\"271.751178\" y=\"290.25375\" style=\"fill: #555555; stroke: #555555; stroke-width: 0.8\"/>\n      </g>\n     </g>\n     <g id=\"text_114\">\n      <!-- 114 -->\n      <g style=\"fill: #555555\" transform=\"translate(262.207428 304.852187) scale(0.1 -0.1)\">\n       <use xlink:href=\"#DejaVuSans-31\"/>\n       <use xlink:href=\"#DejaVuSans-31\" x=\"63.623047\"/>\n       <use xlink:href=\"#DejaVuSans-34\" x=\"127.246094\"/>\n      </g>\n     </g>\n    </g>\n    <g id=\"xtick_115\">\n     <g id=\"line2d_229\">\n      <path d=\"M 273.382608 290.25375 \nL 273.382608 24.14175 \n\" clip-path=\"url(#pc9c66672a5)\" style=\"fill: none; stroke: #ffffff; stroke-width: 0.8; stroke-linecap: square\"/>\n     </g>\n     <g id=\"line2d_230\">\n      <g>\n       <use xlink:href=\"#m306453811f\" x=\"273.382608\" y=\"290.25375\" style=\"fill: #555555; stroke: #555555; stroke-width: 0.8\"/>\n      </g>\n     </g>\n     <g id=\"text_115\">\n      <!-- 115 -->\n      <g style=\"fill: #555555\" transform=\"translate(263.838858 304.852187) scale(0.1 -0.1)\">\n       <use xlink:href=\"#DejaVuSans-31\"/>\n       <use xlink:href=\"#DejaVuSans-31\" x=\"63.623047\"/>\n       <use xlink:href=\"#DejaVuSans-35\" x=\"127.246094\"/>\n      </g>\n     </g>\n    </g>\n    <g id=\"xtick_116\">\n     <g id=\"line2d_231\">\n      <path d=\"M 275.014038 290.25375 \nL 275.014038 24.14175 \n\" clip-path=\"url(#pc9c66672a5)\" style=\"fill: none; stroke: #ffffff; stroke-width: 0.8; stroke-linecap: square\"/>\n     </g>\n     <g id=\"line2d_232\">\n      <g>\n       <use xlink:href=\"#m306453811f\" x=\"275.014038\" y=\"290.25375\" style=\"fill: #555555; stroke: #555555; stroke-width: 0.8\"/>\n      </g>\n     </g>\n     <g id=\"text_116\">\n      <!-- 116 -->\n      <g style=\"fill: #555555\" transform=\"translate(265.470288 304.852187) scale(0.1 -0.1)\">\n       <use xlink:href=\"#DejaVuSans-31\"/>\n       <use xlink:href=\"#DejaVuSans-31\" x=\"63.623047\"/>\n       <use xlink:href=\"#DejaVuSans-36\" x=\"127.246094\"/>\n      </g>\n     </g>\n    </g>\n    <g id=\"xtick_117\">\n     <g id=\"line2d_233\">\n      <path d=\"M 276.645468 290.25375 \nL 276.645468 24.14175 \n\" clip-path=\"url(#pc9c66672a5)\" style=\"fill: none; stroke: #ffffff; stroke-width: 0.8; stroke-linecap: square\"/>\n     </g>\n     <g id=\"line2d_234\">\n      <g>\n       <use xlink:href=\"#m306453811f\" x=\"276.645468\" y=\"290.25375\" style=\"fill: #555555; stroke: #555555; stroke-width: 0.8\"/>\n      </g>\n     </g>\n     <g id=\"text_117\">\n      <!-- 117 -->\n      <g style=\"fill: #555555\" transform=\"translate(267.101718 304.852187) scale(0.1 -0.1)\">\n       <use xlink:href=\"#DejaVuSans-31\"/>\n       <use xlink:href=\"#DejaVuSans-31\" x=\"63.623047\"/>\n       <use xlink:href=\"#DejaVuSans-37\" x=\"127.246094\"/>\n      </g>\n     </g>\n    </g>\n    <g id=\"xtick_118\">\n     <g id=\"line2d_235\">\n      <path d=\"M 278.276898 290.25375 \nL 278.276898 24.14175 \n\" clip-path=\"url(#pc9c66672a5)\" style=\"fill: none; stroke: #ffffff; stroke-width: 0.8; stroke-linecap: square\"/>\n     </g>\n     <g id=\"line2d_236\">\n      <g>\n       <use xlink:href=\"#m306453811f\" x=\"278.276898\" y=\"290.25375\" style=\"fill: #555555; stroke: #555555; stroke-width: 0.8\"/>\n      </g>\n     </g>\n     <g id=\"text_118\">\n      <!-- 118 -->\n      <g style=\"fill: #555555\" transform=\"translate(268.733148 304.852187) scale(0.1 -0.1)\">\n       <use xlink:href=\"#DejaVuSans-31\"/>\n       <use xlink:href=\"#DejaVuSans-31\" x=\"63.623047\"/>\n       <use xlink:href=\"#DejaVuSans-38\" x=\"127.246094\"/>\n      </g>\n     </g>\n    </g>\n    <g id=\"xtick_119\">\n     <g id=\"line2d_237\">\n      <path d=\"M 279.908328 290.25375 \nL 279.908328 24.14175 \n\" clip-path=\"url(#pc9c66672a5)\" style=\"fill: none; stroke: #ffffff; stroke-width: 0.8; stroke-linecap: square\"/>\n     </g>\n     <g id=\"line2d_238\">\n      <g>\n       <use xlink:href=\"#m306453811f\" x=\"279.908328\" y=\"290.25375\" style=\"fill: #555555; stroke: #555555; stroke-width: 0.8\"/>\n      </g>\n     </g>\n     <g id=\"text_119\">\n      <!-- 119 -->\n      <g style=\"fill: #555555\" transform=\"translate(270.364578 304.852187) scale(0.1 -0.1)\">\n       <use xlink:href=\"#DejaVuSans-31\"/>\n       <use xlink:href=\"#DejaVuSans-31\" x=\"63.623047\"/>\n       <use xlink:href=\"#DejaVuSans-39\" x=\"127.246094\"/>\n      </g>\n     </g>\n    </g>\n    <g id=\"xtick_120\">\n     <g id=\"line2d_239\">\n      <path d=\"M 281.539758 290.25375 \nL 281.539758 24.14175 \n\" clip-path=\"url(#pc9c66672a5)\" style=\"fill: none; stroke: #ffffff; stroke-width: 0.8; stroke-linecap: square\"/>\n     </g>\n     <g id=\"line2d_240\">\n      <g>\n       <use xlink:href=\"#m306453811f\" x=\"281.539758\" y=\"290.25375\" style=\"fill: #555555; stroke: #555555; stroke-width: 0.8\"/>\n      </g>\n     </g>\n     <g id=\"text_120\">\n      <!-- 120 -->\n      <g style=\"fill: #555555\" transform=\"translate(271.996008 304.852187) scale(0.1 -0.1)\">\n       <use xlink:href=\"#DejaVuSans-31\"/>\n       <use xlink:href=\"#DejaVuSans-32\" x=\"63.623047\"/>\n       <use xlink:href=\"#DejaVuSans-30\" x=\"127.246094\"/>\n      </g>\n     </g>\n    </g>\n    <g id=\"xtick_121\">\n     <g id=\"line2d_241\">\n      <path d=\"M 283.171187 290.25375 \nL 283.171187 24.14175 \n\" clip-path=\"url(#pc9c66672a5)\" style=\"fill: none; stroke: #ffffff; stroke-width: 0.8; stroke-linecap: square\"/>\n     </g>\n     <g id=\"line2d_242\">\n      <g>\n       <use xlink:href=\"#m306453811f\" x=\"283.171187\" y=\"290.25375\" style=\"fill: #555555; stroke: #555555; stroke-width: 0.8\"/>\n      </g>\n     </g>\n     <g id=\"text_121\">\n      <!-- 121 -->\n      <g style=\"fill: #555555\" transform=\"translate(273.627437 304.852187) scale(0.1 -0.1)\">\n       <use xlink:href=\"#DejaVuSans-31\"/>\n       <use xlink:href=\"#DejaVuSans-32\" x=\"63.623047\"/>\n       <use xlink:href=\"#DejaVuSans-31\" x=\"127.246094\"/>\n      </g>\n     </g>\n    </g>\n    <g id=\"xtick_122\">\n     <g id=\"line2d_243\">\n      <path d=\"M 284.802617 290.25375 \nL 284.802617 24.14175 \n\" clip-path=\"url(#pc9c66672a5)\" style=\"fill: none; stroke: #ffffff; stroke-width: 0.8; stroke-linecap: square\"/>\n     </g>\n     <g id=\"line2d_244\">\n      <g>\n       <use xlink:href=\"#m306453811f\" x=\"284.802617\" y=\"290.25375\" style=\"fill: #555555; stroke: #555555; stroke-width: 0.8\"/>\n      </g>\n     </g>\n     <g id=\"text_122\">\n      <!-- 122 -->\n      <g style=\"fill: #555555\" transform=\"translate(275.258867 304.852187) scale(0.1 -0.1)\">\n       <use xlink:href=\"#DejaVuSans-31\"/>\n       <use xlink:href=\"#DejaVuSans-32\" x=\"63.623047\"/>\n       <use xlink:href=\"#DejaVuSans-32\" x=\"127.246094\"/>\n      </g>\n     </g>\n    </g>\n    <g id=\"xtick_123\">\n     <g id=\"line2d_245\">\n      <path d=\"M 286.434047 290.25375 \nL 286.434047 24.14175 \n\" clip-path=\"url(#pc9c66672a5)\" style=\"fill: none; stroke: #ffffff; stroke-width: 0.8; stroke-linecap: square\"/>\n     </g>\n     <g id=\"line2d_246\">\n      <g>\n       <use xlink:href=\"#m306453811f\" x=\"286.434047\" y=\"290.25375\" style=\"fill: #555555; stroke: #555555; stroke-width: 0.8\"/>\n      </g>\n     </g>\n     <g id=\"text_123\">\n      <!-- 123 -->\n      <g style=\"fill: #555555\" transform=\"translate(276.890297 304.852187) scale(0.1 -0.1)\">\n       <use xlink:href=\"#DejaVuSans-31\"/>\n       <use xlink:href=\"#DejaVuSans-32\" x=\"63.623047\"/>\n       <use xlink:href=\"#DejaVuSans-33\" x=\"127.246094\"/>\n      </g>\n     </g>\n    </g>\n    <g id=\"xtick_124\">\n     <g id=\"line2d_247\">\n      <path d=\"M 288.065477 290.25375 \nL 288.065477 24.14175 \n\" clip-path=\"url(#pc9c66672a5)\" style=\"fill: none; stroke: #ffffff; stroke-width: 0.8; stroke-linecap: square\"/>\n     </g>\n     <g id=\"line2d_248\">\n      <g>\n       <use xlink:href=\"#m306453811f\" x=\"288.065477\" y=\"290.25375\" style=\"fill: #555555; stroke: #555555; stroke-width: 0.8\"/>\n      </g>\n     </g>\n     <g id=\"text_124\">\n      <!-- 124 -->\n      <g style=\"fill: #555555\" transform=\"translate(278.521727 304.852187) scale(0.1 -0.1)\">\n       <use xlink:href=\"#DejaVuSans-31\"/>\n       <use xlink:href=\"#DejaVuSans-32\" x=\"63.623047\"/>\n       <use xlink:href=\"#DejaVuSans-34\" x=\"127.246094\"/>\n      </g>\n     </g>\n    </g>\n    <g id=\"xtick_125\">\n     <g id=\"line2d_249\">\n      <path d=\"M 289.696907 290.25375 \nL 289.696907 24.14175 \n\" clip-path=\"url(#pc9c66672a5)\" style=\"fill: none; stroke: #ffffff; stroke-width: 0.8; stroke-linecap: square\"/>\n     </g>\n     <g id=\"line2d_250\">\n      <g>\n       <use xlink:href=\"#m306453811f\" x=\"289.696907\" y=\"290.25375\" style=\"fill: #555555; stroke: #555555; stroke-width: 0.8\"/>\n      </g>\n     </g>\n     <g id=\"text_125\">\n      <!-- 125 -->\n      <g style=\"fill: #555555\" transform=\"translate(280.153157 304.852187) scale(0.1 -0.1)\">\n       <use xlink:href=\"#DejaVuSans-31\"/>\n       <use xlink:href=\"#DejaVuSans-32\" x=\"63.623047\"/>\n       <use xlink:href=\"#DejaVuSans-35\" x=\"127.246094\"/>\n      </g>\n     </g>\n    </g>\n    <g id=\"xtick_126\">\n     <g id=\"line2d_251\">\n      <path d=\"M 291.328337 290.25375 \nL 291.328337 24.14175 \n\" clip-path=\"url(#pc9c66672a5)\" style=\"fill: none; stroke: #ffffff; stroke-width: 0.8; stroke-linecap: square\"/>\n     </g>\n     <g id=\"line2d_252\">\n      <g>\n       <use xlink:href=\"#m306453811f\" x=\"291.328337\" y=\"290.25375\" style=\"fill: #555555; stroke: #555555; stroke-width: 0.8\"/>\n      </g>\n     </g>\n     <g id=\"text_126\">\n      <!-- 126 -->\n      <g style=\"fill: #555555\" transform=\"translate(281.784587 304.852187) scale(0.1 -0.1)\">\n       <use xlink:href=\"#DejaVuSans-31\"/>\n       <use xlink:href=\"#DejaVuSans-32\" x=\"63.623047\"/>\n       <use xlink:href=\"#DejaVuSans-36\" x=\"127.246094\"/>\n      </g>\n     </g>\n    </g>\n    <g id=\"xtick_127\">\n     <g id=\"line2d_253\">\n      <path d=\"M 292.959767 290.25375 \nL 292.959767 24.14175 \n\" clip-path=\"url(#pc9c66672a5)\" style=\"fill: none; stroke: #ffffff; stroke-width: 0.8; stroke-linecap: square\"/>\n     </g>\n     <g id=\"line2d_254\">\n      <g>\n       <use xlink:href=\"#m306453811f\" x=\"292.959767\" y=\"290.25375\" style=\"fill: #555555; stroke: #555555; stroke-width: 0.8\"/>\n      </g>\n     </g>\n     <g id=\"text_127\">\n      <!-- 127 -->\n      <g style=\"fill: #555555\" transform=\"translate(283.416017 304.852187) scale(0.1 -0.1)\">\n       <use xlink:href=\"#DejaVuSans-31\"/>\n       <use xlink:href=\"#DejaVuSans-32\" x=\"63.623047\"/>\n       <use xlink:href=\"#DejaVuSans-37\" x=\"127.246094\"/>\n      </g>\n     </g>\n    </g>\n    <g id=\"xtick_128\">\n     <g id=\"line2d_255\">\n      <path d=\"M 294.591197 290.25375 \nL 294.591197 24.14175 \n\" clip-path=\"url(#pc9c66672a5)\" style=\"fill: none; stroke: #ffffff; stroke-width: 0.8; stroke-linecap: square\"/>\n     </g>\n     <g id=\"line2d_256\">\n      <g>\n       <use xlink:href=\"#m306453811f\" x=\"294.591197\" y=\"290.25375\" style=\"fill: #555555; stroke: #555555; stroke-width: 0.8\"/>\n      </g>\n     </g>\n     <g id=\"text_128\">\n      <!-- 128 -->\n      <g style=\"fill: #555555\" transform=\"translate(285.047447 304.852187) scale(0.1 -0.1)\">\n       <use xlink:href=\"#DejaVuSans-31\"/>\n       <use xlink:href=\"#DejaVuSans-32\" x=\"63.623047\"/>\n       <use xlink:href=\"#DejaVuSans-38\" x=\"127.246094\"/>\n      </g>\n     </g>\n    </g>\n    <g id=\"xtick_129\">\n     <g id=\"line2d_257\">\n      <path d=\"M 296.222626 290.25375 \nL 296.222626 24.14175 \n\" clip-path=\"url(#pc9c66672a5)\" style=\"fill: none; stroke: #ffffff; stroke-width: 0.8; stroke-linecap: square\"/>\n     </g>\n     <g id=\"line2d_258\">\n      <g>\n       <use xlink:href=\"#m306453811f\" x=\"296.222626\" y=\"290.25375\" style=\"fill: #555555; stroke: #555555; stroke-width: 0.8\"/>\n      </g>\n     </g>\n     <g id=\"text_129\">\n      <!-- 129 -->\n      <g style=\"fill: #555555\" transform=\"translate(286.678876 304.852187) scale(0.1 -0.1)\">\n       <use xlink:href=\"#DejaVuSans-31\"/>\n       <use xlink:href=\"#DejaVuSans-32\" x=\"63.623047\"/>\n       <use xlink:href=\"#DejaVuSans-39\" x=\"127.246094\"/>\n      </g>\n     </g>\n    </g>\n    <g id=\"xtick_130\">\n     <g id=\"line2d_259\">\n      <path d=\"M 297.854056 290.25375 \nL 297.854056 24.14175 \n\" clip-path=\"url(#pc9c66672a5)\" style=\"fill: none; stroke: #ffffff; stroke-width: 0.8; stroke-linecap: square\"/>\n     </g>\n     <g id=\"line2d_260\">\n      <g>\n       <use xlink:href=\"#m306453811f\" x=\"297.854056\" y=\"290.25375\" style=\"fill: #555555; stroke: #555555; stroke-width: 0.8\"/>\n      </g>\n     </g>\n     <g id=\"text_130\">\n      <!-- 130 -->\n      <g style=\"fill: #555555\" transform=\"translate(288.310306 304.852187) scale(0.1 -0.1)\">\n       <use xlink:href=\"#DejaVuSans-31\"/>\n       <use xlink:href=\"#DejaVuSans-33\" x=\"63.623047\"/>\n       <use xlink:href=\"#DejaVuSans-30\" x=\"127.246094\"/>\n      </g>\n     </g>\n    </g>\n    <g id=\"xtick_131\">\n     <g id=\"line2d_261\">\n      <path d=\"M 299.485486 290.25375 \nL 299.485486 24.14175 \n\" clip-path=\"url(#pc9c66672a5)\" style=\"fill: none; stroke: #ffffff; stroke-width: 0.8; stroke-linecap: square\"/>\n     </g>\n     <g id=\"line2d_262\">\n      <g>\n       <use xlink:href=\"#m306453811f\" x=\"299.485486\" y=\"290.25375\" style=\"fill: #555555; stroke: #555555; stroke-width: 0.8\"/>\n      </g>\n     </g>\n     <g id=\"text_131\">\n      <!-- 131 -->\n      <g style=\"fill: #555555\" transform=\"translate(289.941736 304.852187) scale(0.1 -0.1)\">\n       <use xlink:href=\"#DejaVuSans-31\"/>\n       <use xlink:href=\"#DejaVuSans-33\" x=\"63.623047\"/>\n       <use xlink:href=\"#DejaVuSans-31\" x=\"127.246094\"/>\n      </g>\n     </g>\n    </g>\n    <g id=\"xtick_132\">\n     <g id=\"line2d_263\">\n      <path d=\"M 301.116916 290.25375 \nL 301.116916 24.14175 \n\" clip-path=\"url(#pc9c66672a5)\" style=\"fill: none; stroke: #ffffff; stroke-width: 0.8; stroke-linecap: square\"/>\n     </g>\n     <g id=\"line2d_264\">\n      <g>\n       <use xlink:href=\"#m306453811f\" x=\"301.116916\" y=\"290.25375\" style=\"fill: #555555; stroke: #555555; stroke-width: 0.8\"/>\n      </g>\n     </g>\n     <g id=\"text_132\">\n      <!-- 132 -->\n      <g style=\"fill: #555555\" transform=\"translate(291.573166 304.852187) scale(0.1 -0.1)\">\n       <use xlink:href=\"#DejaVuSans-31\"/>\n       <use xlink:href=\"#DejaVuSans-33\" x=\"63.623047\"/>\n       <use xlink:href=\"#DejaVuSans-32\" x=\"127.246094\"/>\n      </g>\n     </g>\n    </g>\n    <g id=\"xtick_133\">\n     <g id=\"line2d_265\">\n      <path d=\"M 302.748346 290.25375 \nL 302.748346 24.14175 \n\" clip-path=\"url(#pc9c66672a5)\" style=\"fill: none; stroke: #ffffff; stroke-width: 0.8; stroke-linecap: square\"/>\n     </g>\n     <g id=\"line2d_266\">\n      <g>\n       <use xlink:href=\"#m306453811f\" x=\"302.748346\" y=\"290.25375\" style=\"fill: #555555; stroke: #555555; stroke-width: 0.8\"/>\n      </g>\n     </g>\n     <g id=\"text_133\">\n      <!-- 133 -->\n      <g style=\"fill: #555555\" transform=\"translate(293.204596 304.852187) scale(0.1 -0.1)\">\n       <use xlink:href=\"#DejaVuSans-31\"/>\n       <use xlink:href=\"#DejaVuSans-33\" x=\"63.623047\"/>\n       <use xlink:href=\"#DejaVuSans-33\" x=\"127.246094\"/>\n      </g>\n     </g>\n    </g>\n    <g id=\"xtick_134\">\n     <g id=\"line2d_267\">\n      <path d=\"M 304.379776 290.25375 \nL 304.379776 24.14175 \n\" clip-path=\"url(#pc9c66672a5)\" style=\"fill: none; stroke: #ffffff; stroke-width: 0.8; stroke-linecap: square\"/>\n     </g>\n     <g id=\"line2d_268\">\n      <g>\n       <use xlink:href=\"#m306453811f\" x=\"304.379776\" y=\"290.25375\" style=\"fill: #555555; stroke: #555555; stroke-width: 0.8\"/>\n      </g>\n     </g>\n     <g id=\"text_134\">\n      <!-- 134 -->\n      <g style=\"fill: #555555\" transform=\"translate(294.836026 304.852187) scale(0.1 -0.1)\">\n       <use xlink:href=\"#DejaVuSans-31\"/>\n       <use xlink:href=\"#DejaVuSans-33\" x=\"63.623047\"/>\n       <use xlink:href=\"#DejaVuSans-34\" x=\"127.246094\"/>\n      </g>\n     </g>\n    </g>\n    <g id=\"xtick_135\">\n     <g id=\"line2d_269\">\n      <path d=\"M 306.011206 290.25375 \nL 306.011206 24.14175 \n\" clip-path=\"url(#pc9c66672a5)\" style=\"fill: none; stroke: #ffffff; stroke-width: 0.8; stroke-linecap: square\"/>\n     </g>\n     <g id=\"line2d_270\">\n      <g>\n       <use xlink:href=\"#m306453811f\" x=\"306.011206\" y=\"290.25375\" style=\"fill: #555555; stroke: #555555; stroke-width: 0.8\"/>\n      </g>\n     </g>\n     <g id=\"text_135\">\n      <!-- 135 -->\n      <g style=\"fill: #555555\" transform=\"translate(296.467456 304.852187) scale(0.1 -0.1)\">\n       <use xlink:href=\"#DejaVuSans-31\"/>\n       <use xlink:href=\"#DejaVuSans-33\" x=\"63.623047\"/>\n       <use xlink:href=\"#DejaVuSans-35\" x=\"127.246094\"/>\n      </g>\n     </g>\n    </g>\n    <g id=\"xtick_136\">\n     <g id=\"line2d_271\">\n      <path d=\"M 307.642636 290.25375 \nL 307.642636 24.14175 \n\" clip-path=\"url(#pc9c66672a5)\" style=\"fill: none; stroke: #ffffff; stroke-width: 0.8; stroke-linecap: square\"/>\n     </g>\n     <g id=\"line2d_272\">\n      <g>\n       <use xlink:href=\"#m306453811f\" x=\"307.642636\" y=\"290.25375\" style=\"fill: #555555; stroke: #555555; stroke-width: 0.8\"/>\n      </g>\n     </g>\n     <g id=\"text_136\">\n      <!-- 136 -->\n      <g style=\"fill: #555555\" transform=\"translate(298.098886 304.852187) scale(0.1 -0.1)\">\n       <use xlink:href=\"#DejaVuSans-31\"/>\n       <use xlink:href=\"#DejaVuSans-33\" x=\"63.623047\"/>\n       <use xlink:href=\"#DejaVuSans-36\" x=\"127.246094\"/>\n      </g>\n     </g>\n    </g>\n    <g id=\"xtick_137\">\n     <g id=\"line2d_273\">\n      <path d=\"M 309.274065 290.25375 \nL 309.274065 24.14175 \n\" clip-path=\"url(#pc9c66672a5)\" style=\"fill: none; stroke: #ffffff; stroke-width: 0.8; stroke-linecap: square\"/>\n     </g>\n     <g id=\"line2d_274\">\n      <g>\n       <use xlink:href=\"#m306453811f\" x=\"309.274065\" y=\"290.25375\" style=\"fill: #555555; stroke: #555555; stroke-width: 0.8\"/>\n      </g>\n     </g>\n     <g id=\"text_137\">\n      <!-- 137 -->\n      <g style=\"fill: #555555\" transform=\"translate(299.730315 304.852187) scale(0.1 -0.1)\">\n       <use xlink:href=\"#DejaVuSans-31\"/>\n       <use xlink:href=\"#DejaVuSans-33\" x=\"63.623047\"/>\n       <use xlink:href=\"#DejaVuSans-37\" x=\"127.246094\"/>\n      </g>\n     </g>\n    </g>\n    <g id=\"xtick_138\">\n     <g id=\"line2d_275\">\n      <path d=\"M 310.905495 290.25375 \nL 310.905495 24.14175 \n\" clip-path=\"url(#pc9c66672a5)\" style=\"fill: none; stroke: #ffffff; stroke-width: 0.8; stroke-linecap: square\"/>\n     </g>\n     <g id=\"line2d_276\">\n      <g>\n       <use xlink:href=\"#m306453811f\" x=\"310.905495\" y=\"290.25375\" style=\"fill: #555555; stroke: #555555; stroke-width: 0.8\"/>\n      </g>\n     </g>\n     <g id=\"text_138\">\n      <!-- 138 -->\n      <g style=\"fill: #555555\" transform=\"translate(301.361745 304.852187) scale(0.1 -0.1)\">\n       <use xlink:href=\"#DejaVuSans-31\"/>\n       <use xlink:href=\"#DejaVuSans-33\" x=\"63.623047\"/>\n       <use xlink:href=\"#DejaVuSans-38\" x=\"127.246094\"/>\n      </g>\n     </g>\n    </g>\n    <g id=\"xtick_139\">\n     <g id=\"line2d_277\">\n      <path d=\"M 312.536925 290.25375 \nL 312.536925 24.14175 \n\" clip-path=\"url(#pc9c66672a5)\" style=\"fill: none; stroke: #ffffff; stroke-width: 0.8; stroke-linecap: square\"/>\n     </g>\n     <g id=\"line2d_278\">\n      <g>\n       <use xlink:href=\"#m306453811f\" x=\"312.536925\" y=\"290.25375\" style=\"fill: #555555; stroke: #555555; stroke-width: 0.8\"/>\n      </g>\n     </g>\n     <g id=\"text_139\">\n      <!-- 139 -->\n      <g style=\"fill: #555555\" transform=\"translate(302.993175 304.852187) scale(0.1 -0.1)\">\n       <use xlink:href=\"#DejaVuSans-31\"/>\n       <use xlink:href=\"#DejaVuSans-33\" x=\"63.623047\"/>\n       <use xlink:href=\"#DejaVuSans-39\" x=\"127.246094\"/>\n      </g>\n     </g>\n    </g>\n    <g id=\"xtick_140\">\n     <g id=\"line2d_279\">\n      <path d=\"M 314.168355 290.25375 \nL 314.168355 24.14175 \n\" clip-path=\"url(#pc9c66672a5)\" style=\"fill: none; stroke: #ffffff; stroke-width: 0.8; stroke-linecap: square\"/>\n     </g>\n     <g id=\"line2d_280\">\n      <g>\n       <use xlink:href=\"#m306453811f\" x=\"314.168355\" y=\"290.25375\" style=\"fill: #555555; stroke: #555555; stroke-width: 0.8\"/>\n      </g>\n     </g>\n     <g id=\"text_140\">\n      <!-- 140 -->\n      <g style=\"fill: #555555\" transform=\"translate(304.624605 304.852187) scale(0.1 -0.1)\">\n       <use xlink:href=\"#DejaVuSans-31\"/>\n       <use xlink:href=\"#DejaVuSans-34\" x=\"63.623047\"/>\n       <use xlink:href=\"#DejaVuSans-30\" x=\"127.246094\"/>\n      </g>\n     </g>\n    </g>\n    <g id=\"xtick_141\">\n     <g id=\"line2d_281\">\n      <path d=\"M 315.799785 290.25375 \nL 315.799785 24.14175 \n\" clip-path=\"url(#pc9c66672a5)\" style=\"fill: none; stroke: #ffffff; stroke-width: 0.8; stroke-linecap: square\"/>\n     </g>\n     <g id=\"line2d_282\">\n      <g>\n       <use xlink:href=\"#m306453811f\" x=\"315.799785\" y=\"290.25375\" style=\"fill: #555555; stroke: #555555; stroke-width: 0.8\"/>\n      </g>\n     </g>\n     <g id=\"text_141\">\n      <!-- 141 -->\n      <g style=\"fill: #555555\" transform=\"translate(306.256035 304.852187) scale(0.1 -0.1)\">\n       <use xlink:href=\"#DejaVuSans-31\"/>\n       <use xlink:href=\"#DejaVuSans-34\" x=\"63.623047\"/>\n       <use xlink:href=\"#DejaVuSans-31\" x=\"127.246094\"/>\n      </g>\n     </g>\n    </g>\n    <g id=\"xtick_142\">\n     <g id=\"line2d_283\">\n      <path d=\"M 317.431215 290.25375 \nL 317.431215 24.14175 \n\" clip-path=\"url(#pc9c66672a5)\" style=\"fill: none; stroke: #ffffff; stroke-width: 0.8; stroke-linecap: square\"/>\n     </g>\n     <g id=\"line2d_284\">\n      <g>\n       <use xlink:href=\"#m306453811f\" x=\"317.431215\" y=\"290.25375\" style=\"fill: #555555; stroke: #555555; stroke-width: 0.8\"/>\n      </g>\n     </g>\n     <g id=\"text_142\">\n      <!-- 142 -->\n      <g style=\"fill: #555555\" transform=\"translate(307.887465 304.852187) scale(0.1 -0.1)\">\n       <use xlink:href=\"#DejaVuSans-31\"/>\n       <use xlink:href=\"#DejaVuSans-34\" x=\"63.623047\"/>\n       <use xlink:href=\"#DejaVuSans-32\" x=\"127.246094\"/>\n      </g>\n     </g>\n    </g>\n    <g id=\"xtick_143\">\n     <g id=\"line2d_285\">\n      <path d=\"M 319.062645 290.25375 \nL 319.062645 24.14175 \n\" clip-path=\"url(#pc9c66672a5)\" style=\"fill: none; stroke: #ffffff; stroke-width: 0.8; stroke-linecap: square\"/>\n     </g>\n     <g id=\"line2d_286\">\n      <g>\n       <use xlink:href=\"#m306453811f\" x=\"319.062645\" y=\"290.25375\" style=\"fill: #555555; stroke: #555555; stroke-width: 0.8\"/>\n      </g>\n     </g>\n     <g id=\"text_143\">\n      <!-- 143 -->\n      <g style=\"fill: #555555\" transform=\"translate(309.518895 304.852187) scale(0.1 -0.1)\">\n       <use xlink:href=\"#DejaVuSans-31\"/>\n       <use xlink:href=\"#DejaVuSans-34\" x=\"63.623047\"/>\n       <use xlink:href=\"#DejaVuSans-33\" x=\"127.246094\"/>\n      </g>\n     </g>\n    </g>\n    <g id=\"xtick_144\">\n     <g id=\"line2d_287\">\n      <path d=\"M 320.694075 290.25375 \nL 320.694075 24.14175 \n\" clip-path=\"url(#pc9c66672a5)\" style=\"fill: none; stroke: #ffffff; stroke-width: 0.8; stroke-linecap: square\"/>\n     </g>\n     <g id=\"line2d_288\">\n      <g>\n       <use xlink:href=\"#m306453811f\" x=\"320.694075\" y=\"290.25375\" style=\"fill: #555555; stroke: #555555; stroke-width: 0.8\"/>\n      </g>\n     </g>\n     <g id=\"text_144\">\n      <!-- 144 -->\n      <g style=\"fill: #555555\" transform=\"translate(311.150325 304.852187) scale(0.1 -0.1)\">\n       <use xlink:href=\"#DejaVuSans-31\"/>\n       <use xlink:href=\"#DejaVuSans-34\" x=\"63.623047\"/>\n       <use xlink:href=\"#DejaVuSans-34\" x=\"127.246094\"/>\n      </g>\n     </g>\n    </g>\n    <g id=\"xtick_145\">\n     <g id=\"line2d_289\">\n      <path d=\"M 322.325505 290.25375 \nL 322.325505 24.14175 \n\" clip-path=\"url(#pc9c66672a5)\" style=\"fill: none; stroke: #ffffff; stroke-width: 0.8; stroke-linecap: square\"/>\n     </g>\n     <g id=\"line2d_290\">\n      <g>\n       <use xlink:href=\"#m306453811f\" x=\"322.325505\" y=\"290.25375\" style=\"fill: #555555; stroke: #555555; stroke-width: 0.8\"/>\n      </g>\n     </g>\n     <g id=\"text_145\">\n      <!-- 145 -->\n      <g style=\"fill: #555555\" transform=\"translate(312.781755 304.852187) scale(0.1 -0.1)\">\n       <use xlink:href=\"#DejaVuSans-31\"/>\n       <use xlink:href=\"#DejaVuSans-34\" x=\"63.623047\"/>\n       <use xlink:href=\"#DejaVuSans-35\" x=\"127.246094\"/>\n      </g>\n     </g>\n    </g>\n    <g id=\"xtick_146\">\n     <g id=\"line2d_291\">\n      <path d=\"M 323.956934 290.25375 \nL 323.956934 24.14175 \n\" clip-path=\"url(#pc9c66672a5)\" style=\"fill: none; stroke: #ffffff; stroke-width: 0.8; stroke-linecap: square\"/>\n     </g>\n     <g id=\"line2d_292\">\n      <g>\n       <use xlink:href=\"#m306453811f\" x=\"323.956934\" y=\"290.25375\" style=\"fill: #555555; stroke: #555555; stroke-width: 0.8\"/>\n      </g>\n     </g>\n     <g id=\"text_146\">\n      <!-- 146 -->\n      <g style=\"fill: #555555\" transform=\"translate(314.413184 304.852187) scale(0.1 -0.1)\">\n       <use xlink:href=\"#DejaVuSans-31\"/>\n       <use xlink:href=\"#DejaVuSans-34\" x=\"63.623047\"/>\n       <use xlink:href=\"#DejaVuSans-36\" x=\"127.246094\"/>\n      </g>\n     </g>\n    </g>\n    <g id=\"xtick_147\">\n     <g id=\"line2d_293\">\n      <path d=\"M 325.588364 290.25375 \nL 325.588364 24.14175 \n\" clip-path=\"url(#pc9c66672a5)\" style=\"fill: none; stroke: #ffffff; stroke-width: 0.8; stroke-linecap: square\"/>\n     </g>\n     <g id=\"line2d_294\">\n      <g>\n       <use xlink:href=\"#m306453811f\" x=\"325.588364\" y=\"290.25375\" style=\"fill: #555555; stroke: #555555; stroke-width: 0.8\"/>\n      </g>\n     </g>\n     <g id=\"text_147\">\n      <!-- 147 -->\n      <g style=\"fill: #555555\" transform=\"translate(316.044614 304.852187) scale(0.1 -0.1)\">\n       <use xlink:href=\"#DejaVuSans-31\"/>\n       <use xlink:href=\"#DejaVuSans-34\" x=\"63.623047\"/>\n       <use xlink:href=\"#DejaVuSans-37\" x=\"127.246094\"/>\n      </g>\n     </g>\n    </g>\n    <g id=\"xtick_148\">\n     <g id=\"line2d_295\">\n      <path d=\"M 327.219794 290.25375 \nL 327.219794 24.14175 \n\" clip-path=\"url(#pc9c66672a5)\" style=\"fill: none; stroke: #ffffff; stroke-width: 0.8; stroke-linecap: square\"/>\n     </g>\n     <g id=\"line2d_296\">\n      <g>\n       <use xlink:href=\"#m306453811f\" x=\"327.219794\" y=\"290.25375\" style=\"fill: #555555; stroke: #555555; stroke-width: 0.8\"/>\n      </g>\n     </g>\n     <g id=\"text_148\">\n      <!-- 148 -->\n      <g style=\"fill: #555555\" transform=\"translate(317.676044 304.852187) scale(0.1 -0.1)\">\n       <use xlink:href=\"#DejaVuSans-31\"/>\n       <use xlink:href=\"#DejaVuSans-34\" x=\"63.623047\"/>\n       <use xlink:href=\"#DejaVuSans-38\" x=\"127.246094\"/>\n      </g>\n     </g>\n    </g>\n    <g id=\"xtick_149\">\n     <g id=\"line2d_297\">\n      <path d=\"M 328.851224 290.25375 \nL 328.851224 24.14175 \n\" clip-path=\"url(#pc9c66672a5)\" style=\"fill: none; stroke: #ffffff; stroke-width: 0.8; stroke-linecap: square\"/>\n     </g>\n     <g id=\"line2d_298\">\n      <g>\n       <use xlink:href=\"#m306453811f\" x=\"328.851224\" y=\"290.25375\" style=\"fill: #555555; stroke: #555555; stroke-width: 0.8\"/>\n      </g>\n     </g>\n     <g id=\"text_149\">\n      <!-- 149 -->\n      <g style=\"fill: #555555\" transform=\"translate(319.307474 304.852187) scale(0.1 -0.1)\">\n       <use xlink:href=\"#DejaVuSans-31\"/>\n       <use xlink:href=\"#DejaVuSans-34\" x=\"63.623047\"/>\n       <use xlink:href=\"#DejaVuSans-39\" x=\"127.246094\"/>\n      </g>\n     </g>\n    </g>\n    <g id=\"xtick_150\">\n     <g id=\"line2d_299\">\n      <path d=\"M 330.482654 290.25375 \nL 330.482654 24.14175 \n\" clip-path=\"url(#pc9c66672a5)\" style=\"fill: none; stroke: #ffffff; stroke-width: 0.8; stroke-linecap: square\"/>\n     </g>\n     <g id=\"line2d_300\">\n      <g>\n       <use xlink:href=\"#m306453811f\" x=\"330.482654\" y=\"290.25375\" style=\"fill: #555555; stroke: #555555; stroke-width: 0.8\"/>\n      </g>\n     </g>\n     <g id=\"text_150\">\n      <!-- 150 -->\n      <g style=\"fill: #555555\" transform=\"translate(320.938904 304.852187) scale(0.1 -0.1)\">\n       <use xlink:href=\"#DejaVuSans-31\"/>\n       <use xlink:href=\"#DejaVuSans-35\" x=\"63.623047\"/>\n       <use xlink:href=\"#DejaVuSans-30\" x=\"127.246094\"/>\n      </g>\n     </g>\n    </g>\n    <g id=\"xtick_151\">\n     <g id=\"line2d_301\">\n      <path d=\"M 332.114084 290.25375 \nL 332.114084 24.14175 \n\" clip-path=\"url(#pc9c66672a5)\" style=\"fill: none; stroke: #ffffff; stroke-width: 0.8; stroke-linecap: square\"/>\n     </g>\n     <g id=\"line2d_302\">\n      <g>\n       <use xlink:href=\"#m306453811f\" x=\"332.114084\" y=\"290.25375\" style=\"fill: #555555; stroke: #555555; stroke-width: 0.8\"/>\n      </g>\n     </g>\n     <g id=\"text_151\">\n      <!-- 151 -->\n      <g style=\"fill: #555555\" transform=\"translate(322.570334 304.852187) scale(0.1 -0.1)\">\n       <use xlink:href=\"#DejaVuSans-31\"/>\n       <use xlink:href=\"#DejaVuSans-35\" x=\"63.623047\"/>\n       <use xlink:href=\"#DejaVuSans-31\" x=\"127.246094\"/>\n      </g>\n     </g>\n    </g>\n    <g id=\"xtick_152\">\n     <g id=\"line2d_303\">\n      <path d=\"M 333.745514 290.25375 \nL 333.745514 24.14175 \n\" clip-path=\"url(#pc9c66672a5)\" style=\"fill: none; stroke: #ffffff; stroke-width: 0.8; stroke-linecap: square\"/>\n     </g>\n     <g id=\"line2d_304\">\n      <g>\n       <use xlink:href=\"#m306453811f\" x=\"333.745514\" y=\"290.25375\" style=\"fill: #555555; stroke: #555555; stroke-width: 0.8\"/>\n      </g>\n     </g>\n     <g id=\"text_152\">\n      <!-- 152 -->\n      <g style=\"fill: #555555\" transform=\"translate(324.201764 304.852187) scale(0.1 -0.1)\">\n       <use xlink:href=\"#DejaVuSans-31\"/>\n       <use xlink:href=\"#DejaVuSans-35\" x=\"63.623047\"/>\n       <use xlink:href=\"#DejaVuSans-32\" x=\"127.246094\"/>\n      </g>\n     </g>\n    </g>\n    <g id=\"xtick_153\">\n     <g id=\"line2d_305\">\n      <path d=\"M 335.376944 290.25375 \nL 335.376944 24.14175 \n\" clip-path=\"url(#pc9c66672a5)\" style=\"fill: none; stroke: #ffffff; stroke-width: 0.8; stroke-linecap: square\"/>\n     </g>\n     <g id=\"line2d_306\">\n      <g>\n       <use xlink:href=\"#m306453811f\" x=\"335.376944\" y=\"290.25375\" style=\"fill: #555555; stroke: #555555; stroke-width: 0.8\"/>\n      </g>\n     </g>\n     <g id=\"text_153\">\n      <!-- 153 -->\n      <g style=\"fill: #555555\" transform=\"translate(325.833194 304.852187) scale(0.1 -0.1)\">\n       <use xlink:href=\"#DejaVuSans-31\"/>\n       <use xlink:href=\"#DejaVuSans-35\" x=\"63.623047\"/>\n       <use xlink:href=\"#DejaVuSans-33\" x=\"127.246094\"/>\n      </g>\n     </g>\n    </g>\n    <g id=\"xtick_154\">\n     <g id=\"line2d_307\">\n      <path d=\"M 337.008373 290.25375 \nL 337.008373 24.14175 \n\" clip-path=\"url(#pc9c66672a5)\" style=\"fill: none; stroke: #ffffff; stroke-width: 0.8; stroke-linecap: square\"/>\n     </g>\n     <g id=\"line2d_308\">\n      <g>\n       <use xlink:href=\"#m306453811f\" x=\"337.008373\" y=\"290.25375\" style=\"fill: #555555; stroke: #555555; stroke-width: 0.8\"/>\n      </g>\n     </g>\n     <g id=\"text_154\">\n      <!-- 154 -->\n      <g style=\"fill: #555555\" transform=\"translate(327.464623 304.852187) scale(0.1 -0.1)\">\n       <use xlink:href=\"#DejaVuSans-31\"/>\n       <use xlink:href=\"#DejaVuSans-35\" x=\"63.623047\"/>\n       <use xlink:href=\"#DejaVuSans-34\" x=\"127.246094\"/>\n      </g>\n     </g>\n    </g>\n    <g id=\"xtick_155\">\n     <g id=\"line2d_309\">\n      <path d=\"M 338.639803 290.25375 \nL 338.639803 24.14175 \n\" clip-path=\"url(#pc9c66672a5)\" style=\"fill: none; stroke: #ffffff; stroke-width: 0.8; stroke-linecap: square\"/>\n     </g>\n     <g id=\"line2d_310\">\n      <g>\n       <use xlink:href=\"#m306453811f\" x=\"338.639803\" y=\"290.25375\" style=\"fill: #555555; stroke: #555555; stroke-width: 0.8\"/>\n      </g>\n     </g>\n     <g id=\"text_155\">\n      <!-- 155 -->\n      <g style=\"fill: #555555\" transform=\"translate(329.096053 304.852187) scale(0.1 -0.1)\">\n       <use xlink:href=\"#DejaVuSans-31\"/>\n       <use xlink:href=\"#DejaVuSans-35\" x=\"63.623047\"/>\n       <use xlink:href=\"#DejaVuSans-35\" x=\"127.246094\"/>\n      </g>\n     </g>\n    </g>\n    <g id=\"xtick_156\">\n     <g id=\"line2d_311\">\n      <path d=\"M 340.271233 290.25375 \nL 340.271233 24.14175 \n\" clip-path=\"url(#pc9c66672a5)\" style=\"fill: none; stroke: #ffffff; stroke-width: 0.8; stroke-linecap: square\"/>\n     </g>\n     <g id=\"line2d_312\">\n      <g>\n       <use xlink:href=\"#m306453811f\" x=\"340.271233\" y=\"290.25375\" style=\"fill: #555555; stroke: #555555; stroke-width: 0.8\"/>\n      </g>\n     </g>\n     <g id=\"text_156\">\n      <!-- 156 -->\n      <g style=\"fill: #555555\" transform=\"translate(330.727483 304.852187) scale(0.1 -0.1)\">\n       <use xlink:href=\"#DejaVuSans-31\"/>\n       <use xlink:href=\"#DejaVuSans-35\" x=\"63.623047\"/>\n       <use xlink:href=\"#DejaVuSans-36\" x=\"127.246094\"/>\n      </g>\n     </g>\n    </g>\n    <g id=\"xtick_157\">\n     <g id=\"line2d_313\">\n      <path d=\"M 341.902663 290.25375 \nL 341.902663 24.14175 \n\" clip-path=\"url(#pc9c66672a5)\" style=\"fill: none; stroke: #ffffff; stroke-width: 0.8; stroke-linecap: square\"/>\n     </g>\n     <g id=\"line2d_314\">\n      <g>\n       <use xlink:href=\"#m306453811f\" x=\"341.902663\" y=\"290.25375\" style=\"fill: #555555; stroke: #555555; stroke-width: 0.8\"/>\n      </g>\n     </g>\n     <g id=\"text_157\">\n      <!-- 157 -->\n      <g style=\"fill: #555555\" transform=\"translate(332.358913 304.852187) scale(0.1 -0.1)\">\n       <use xlink:href=\"#DejaVuSans-31\"/>\n       <use xlink:href=\"#DejaVuSans-35\" x=\"63.623047\"/>\n       <use xlink:href=\"#DejaVuSans-37\" x=\"127.246094\"/>\n      </g>\n     </g>\n    </g>\n    <g id=\"xtick_158\">\n     <g id=\"line2d_315\">\n      <path d=\"M 343.534093 290.25375 \nL 343.534093 24.14175 \n\" clip-path=\"url(#pc9c66672a5)\" style=\"fill: none; stroke: #ffffff; stroke-width: 0.8; stroke-linecap: square\"/>\n     </g>\n     <g id=\"line2d_316\">\n      <g>\n       <use xlink:href=\"#m306453811f\" x=\"343.534093\" y=\"290.25375\" style=\"fill: #555555; stroke: #555555; stroke-width: 0.8\"/>\n      </g>\n     </g>\n     <g id=\"text_158\">\n      <!-- 158 -->\n      <g style=\"fill: #555555\" transform=\"translate(333.990343 304.852187) scale(0.1 -0.1)\">\n       <use xlink:href=\"#DejaVuSans-31\"/>\n       <use xlink:href=\"#DejaVuSans-35\" x=\"63.623047\"/>\n       <use xlink:href=\"#DejaVuSans-38\" x=\"127.246094\"/>\n      </g>\n     </g>\n    </g>\n    <g id=\"xtick_159\">\n     <g id=\"line2d_317\">\n      <path d=\"M 345.165523 290.25375 \nL 345.165523 24.14175 \n\" clip-path=\"url(#pc9c66672a5)\" style=\"fill: none; stroke: #ffffff; stroke-width: 0.8; stroke-linecap: square\"/>\n     </g>\n     <g id=\"line2d_318\">\n      <g>\n       <use xlink:href=\"#m306453811f\" x=\"345.165523\" y=\"290.25375\" style=\"fill: #555555; stroke: #555555; stroke-width: 0.8\"/>\n      </g>\n     </g>\n     <g id=\"text_159\">\n      <!-- 159 -->\n      <g style=\"fill: #555555\" transform=\"translate(335.621773 304.852187) scale(0.1 -0.1)\">\n       <use xlink:href=\"#DejaVuSans-31\"/>\n       <use xlink:href=\"#DejaVuSans-35\" x=\"63.623047\"/>\n       <use xlink:href=\"#DejaVuSans-39\" x=\"127.246094\"/>\n      </g>\n     </g>\n    </g>\n    <g id=\"xtick_160\">\n     <g id=\"line2d_319\">\n      <path d=\"M 346.796953 290.25375 \nL 346.796953 24.14175 \n\" clip-path=\"url(#pc9c66672a5)\" style=\"fill: none; stroke: #ffffff; stroke-width: 0.8; stroke-linecap: square\"/>\n     </g>\n     <g id=\"line2d_320\">\n      <g>\n       <use xlink:href=\"#m306453811f\" x=\"346.796953\" y=\"290.25375\" style=\"fill: #555555; stroke: #555555; stroke-width: 0.8\"/>\n      </g>\n     </g>\n     <g id=\"text_160\">\n      <!-- 160 -->\n      <g style=\"fill: #555555\" transform=\"translate(337.253203 304.852187) scale(0.1 -0.1)\">\n       <use xlink:href=\"#DejaVuSans-31\"/>\n       <use xlink:href=\"#DejaVuSans-36\" x=\"63.623047\"/>\n       <use xlink:href=\"#DejaVuSans-30\" x=\"127.246094\"/>\n      </g>\n     </g>\n    </g>\n    <g id=\"xtick_161\">\n     <g id=\"line2d_321\">\n      <path d=\"M 348.428383 290.25375 \nL 348.428383 24.14175 \n\" clip-path=\"url(#pc9c66672a5)\" style=\"fill: none; stroke: #ffffff; stroke-width: 0.8; stroke-linecap: square\"/>\n     </g>\n     <g id=\"line2d_322\">\n      <g>\n       <use xlink:href=\"#m306453811f\" x=\"348.428383\" y=\"290.25375\" style=\"fill: #555555; stroke: #555555; stroke-width: 0.8\"/>\n      </g>\n     </g>\n     <g id=\"text_161\">\n      <!-- 161 -->\n      <g style=\"fill: #555555\" transform=\"translate(338.884633 304.852187) scale(0.1 -0.1)\">\n       <use xlink:href=\"#DejaVuSans-31\"/>\n       <use xlink:href=\"#DejaVuSans-36\" x=\"63.623047\"/>\n       <use xlink:href=\"#DejaVuSans-31\" x=\"127.246094\"/>\n      </g>\n     </g>\n    </g>\n    <g id=\"xtick_162\">\n     <g id=\"line2d_323\">\n      <path d=\"M 350.059812 290.25375 \nL 350.059812 24.14175 \n\" clip-path=\"url(#pc9c66672a5)\" style=\"fill: none; stroke: #ffffff; stroke-width: 0.8; stroke-linecap: square\"/>\n     </g>\n     <g id=\"line2d_324\">\n      <g>\n       <use xlink:href=\"#m306453811f\" x=\"350.059812\" y=\"290.25375\" style=\"fill: #555555; stroke: #555555; stroke-width: 0.8\"/>\n      </g>\n     </g>\n     <g id=\"text_162\">\n      <!-- 162 -->\n      <g style=\"fill: #555555\" transform=\"translate(340.516062 304.852187) scale(0.1 -0.1)\">\n       <use xlink:href=\"#DejaVuSans-31\"/>\n       <use xlink:href=\"#DejaVuSans-36\" x=\"63.623047\"/>\n       <use xlink:href=\"#DejaVuSans-32\" x=\"127.246094\"/>\n      </g>\n     </g>\n    </g>\n    <g id=\"xtick_163\">\n     <g id=\"line2d_325\">\n      <path d=\"M 351.691242 290.25375 \nL 351.691242 24.14175 \n\" clip-path=\"url(#pc9c66672a5)\" style=\"fill: none; stroke: #ffffff; stroke-width: 0.8; stroke-linecap: square\"/>\n     </g>\n     <g id=\"line2d_326\">\n      <g>\n       <use xlink:href=\"#m306453811f\" x=\"351.691242\" y=\"290.25375\" style=\"fill: #555555; stroke: #555555; stroke-width: 0.8\"/>\n      </g>\n     </g>\n     <g id=\"text_163\">\n      <!-- 163 -->\n      <g style=\"fill: #555555\" transform=\"translate(342.147492 304.852187) scale(0.1 -0.1)\">\n       <use xlink:href=\"#DejaVuSans-31\"/>\n       <use xlink:href=\"#DejaVuSans-36\" x=\"63.623047\"/>\n       <use xlink:href=\"#DejaVuSans-33\" x=\"127.246094\"/>\n      </g>\n     </g>\n    </g>\n    <g id=\"xtick_164\">\n     <g id=\"line2d_327\">\n      <path d=\"M 353.322672 290.25375 \nL 353.322672 24.14175 \n\" clip-path=\"url(#pc9c66672a5)\" style=\"fill: none; stroke: #ffffff; stroke-width: 0.8; stroke-linecap: square\"/>\n     </g>\n     <g id=\"line2d_328\">\n      <g>\n       <use xlink:href=\"#m306453811f\" x=\"353.322672\" y=\"290.25375\" style=\"fill: #555555; stroke: #555555; stroke-width: 0.8\"/>\n      </g>\n     </g>\n     <g id=\"text_164\">\n      <!-- 164 -->\n      <g style=\"fill: #555555\" transform=\"translate(343.778922 304.852187) scale(0.1 -0.1)\">\n       <use xlink:href=\"#DejaVuSans-31\"/>\n       <use xlink:href=\"#DejaVuSans-36\" x=\"63.623047\"/>\n       <use xlink:href=\"#DejaVuSans-34\" x=\"127.246094\"/>\n      </g>\n     </g>\n    </g>\n    <g id=\"xtick_165\">\n     <g id=\"line2d_329\">\n      <path d=\"M 354.954102 290.25375 \nL 354.954102 24.14175 \n\" clip-path=\"url(#pc9c66672a5)\" style=\"fill: none; stroke: #ffffff; stroke-width: 0.8; stroke-linecap: square\"/>\n     </g>\n     <g id=\"line2d_330\">\n      <g>\n       <use xlink:href=\"#m306453811f\" x=\"354.954102\" y=\"290.25375\" style=\"fill: #555555; stroke: #555555; stroke-width: 0.8\"/>\n      </g>\n     </g>\n     <g id=\"text_165\">\n      <!-- 165 -->\n      <g style=\"fill: #555555\" transform=\"translate(345.410352 304.852187) scale(0.1 -0.1)\">\n       <use xlink:href=\"#DejaVuSans-31\"/>\n       <use xlink:href=\"#DejaVuSans-36\" x=\"63.623047\"/>\n       <use xlink:href=\"#DejaVuSans-35\" x=\"127.246094\"/>\n      </g>\n     </g>\n    </g>\n    <g id=\"xtick_166\">\n     <g id=\"line2d_331\">\n      <path d=\"M 356.585532 290.25375 \nL 356.585532 24.14175 \n\" clip-path=\"url(#pc9c66672a5)\" style=\"fill: none; stroke: #ffffff; stroke-width: 0.8; stroke-linecap: square\"/>\n     </g>\n     <g id=\"line2d_332\">\n      <g>\n       <use xlink:href=\"#m306453811f\" x=\"356.585532\" y=\"290.25375\" style=\"fill: #555555; stroke: #555555; stroke-width: 0.8\"/>\n      </g>\n     </g>\n     <g id=\"text_166\">\n      <!-- 166 -->\n      <g style=\"fill: #555555\" transform=\"translate(347.041782 304.852187) scale(0.1 -0.1)\">\n       <use xlink:href=\"#DejaVuSans-31\"/>\n       <use xlink:href=\"#DejaVuSans-36\" x=\"63.623047\"/>\n       <use xlink:href=\"#DejaVuSans-36\" x=\"127.246094\"/>\n      </g>\n     </g>\n    </g>\n    <g id=\"xtick_167\">\n     <g id=\"line2d_333\">\n      <path d=\"M 358.216962 290.25375 \nL 358.216962 24.14175 \n\" clip-path=\"url(#pc9c66672a5)\" style=\"fill: none; stroke: #ffffff; stroke-width: 0.8; stroke-linecap: square\"/>\n     </g>\n     <g id=\"line2d_334\">\n      <g>\n       <use xlink:href=\"#m306453811f\" x=\"358.216962\" y=\"290.25375\" style=\"fill: #555555; stroke: #555555; stroke-width: 0.8\"/>\n      </g>\n     </g>\n     <g id=\"text_167\">\n      <!-- 167 -->\n      <g style=\"fill: #555555\" transform=\"translate(348.673212 304.852187) scale(0.1 -0.1)\">\n       <use xlink:href=\"#DejaVuSans-31\"/>\n       <use xlink:href=\"#DejaVuSans-36\" x=\"63.623047\"/>\n       <use xlink:href=\"#DejaVuSans-37\" x=\"127.246094\"/>\n      </g>\n     </g>\n    </g>\n    <g id=\"xtick_168\">\n     <g id=\"line2d_335\">\n      <path d=\"M 359.848392 290.25375 \nL 359.848392 24.14175 \n\" clip-path=\"url(#pc9c66672a5)\" style=\"fill: none; stroke: #ffffff; stroke-width: 0.8; stroke-linecap: square\"/>\n     </g>\n     <g id=\"line2d_336\">\n      <g>\n       <use xlink:href=\"#m306453811f\" x=\"359.848392\" y=\"290.25375\" style=\"fill: #555555; stroke: #555555; stroke-width: 0.8\"/>\n      </g>\n     </g>\n     <g id=\"text_168\">\n      <!-- 168 -->\n      <g style=\"fill: #555555\" transform=\"translate(350.304642 304.852187) scale(0.1 -0.1)\">\n       <use xlink:href=\"#DejaVuSans-31\"/>\n       <use xlink:href=\"#DejaVuSans-36\" x=\"63.623047\"/>\n       <use xlink:href=\"#DejaVuSans-38\" x=\"127.246094\"/>\n      </g>\n     </g>\n    </g>\n    <g id=\"xtick_169\">\n     <g id=\"line2d_337\">\n      <path d=\"M 361.479822 290.25375 \nL 361.479822 24.14175 \n\" clip-path=\"url(#pc9c66672a5)\" style=\"fill: none; stroke: #ffffff; stroke-width: 0.8; stroke-linecap: square\"/>\n     </g>\n     <g id=\"line2d_338\">\n      <g>\n       <use xlink:href=\"#m306453811f\" x=\"361.479822\" y=\"290.25375\" style=\"fill: #555555; stroke: #555555; stroke-width: 0.8\"/>\n      </g>\n     </g>\n     <g id=\"text_169\">\n      <!-- 169 -->\n      <g style=\"fill: #555555\" transform=\"translate(351.936072 304.852187) scale(0.1 -0.1)\">\n       <use xlink:href=\"#DejaVuSans-31\"/>\n       <use xlink:href=\"#DejaVuSans-36\" x=\"63.623047\"/>\n       <use xlink:href=\"#DejaVuSans-39\" x=\"127.246094\"/>\n      </g>\n     </g>\n    </g>\n    <g id=\"xtick_170\">\n     <g id=\"line2d_339\">\n      <path d=\"M 363.111251 290.25375 \nL 363.111251 24.14175 \n\" clip-path=\"url(#pc9c66672a5)\" style=\"fill: none; stroke: #ffffff; stroke-width: 0.8; stroke-linecap: square\"/>\n     </g>\n     <g id=\"line2d_340\">\n      <g>\n       <use xlink:href=\"#m306453811f\" x=\"363.111251\" y=\"290.25375\" style=\"fill: #555555; stroke: #555555; stroke-width: 0.8\"/>\n      </g>\n     </g>\n     <g id=\"text_170\">\n      <!-- 170 -->\n      <g style=\"fill: #555555\" transform=\"translate(353.567501 304.852187) scale(0.1 -0.1)\">\n       <use xlink:href=\"#DejaVuSans-31\"/>\n       <use xlink:href=\"#DejaVuSans-37\" x=\"63.623047\"/>\n       <use xlink:href=\"#DejaVuSans-30\" x=\"127.246094\"/>\n      </g>\n     </g>\n    </g>\n    <g id=\"xtick_171\">\n     <g id=\"line2d_341\">\n      <path d=\"M 364.742681 290.25375 \nL 364.742681 24.14175 \n\" clip-path=\"url(#pc9c66672a5)\" style=\"fill: none; stroke: #ffffff; stroke-width: 0.8; stroke-linecap: square\"/>\n     </g>\n     <g id=\"line2d_342\">\n      <g>\n       <use xlink:href=\"#m306453811f\" x=\"364.742681\" y=\"290.25375\" style=\"fill: #555555; stroke: #555555; stroke-width: 0.8\"/>\n      </g>\n     </g>\n     <g id=\"text_171\">\n      <!-- 171 -->\n      <g style=\"fill: #555555\" transform=\"translate(355.198931 304.852187) scale(0.1 -0.1)\">\n       <use xlink:href=\"#DejaVuSans-31\"/>\n       <use xlink:href=\"#DejaVuSans-37\" x=\"63.623047\"/>\n       <use xlink:href=\"#DejaVuSans-31\" x=\"127.246094\"/>\n      </g>\n     </g>\n    </g>\n    <g id=\"xtick_172\">\n     <g id=\"line2d_343\">\n      <path d=\"M 366.374111 290.25375 \nL 366.374111 24.14175 \n\" clip-path=\"url(#pc9c66672a5)\" style=\"fill: none; stroke: #ffffff; stroke-width: 0.8; stroke-linecap: square\"/>\n     </g>\n     <g id=\"line2d_344\">\n      <g>\n       <use xlink:href=\"#m306453811f\" x=\"366.374111\" y=\"290.25375\" style=\"fill: #555555; stroke: #555555; stroke-width: 0.8\"/>\n      </g>\n     </g>\n     <g id=\"text_172\">\n      <!-- 172 -->\n      <g style=\"fill: #555555\" transform=\"translate(356.830361 304.852187) scale(0.1 -0.1)\">\n       <use xlink:href=\"#DejaVuSans-31\"/>\n       <use xlink:href=\"#DejaVuSans-37\" x=\"63.623047\"/>\n       <use xlink:href=\"#DejaVuSans-32\" x=\"127.246094\"/>\n      </g>\n     </g>\n    </g>\n    <g id=\"xtick_173\">\n     <g id=\"line2d_345\">\n      <path d=\"M 368.005541 290.25375 \nL 368.005541 24.14175 \n\" clip-path=\"url(#pc9c66672a5)\" style=\"fill: none; stroke: #ffffff; stroke-width: 0.8; stroke-linecap: square\"/>\n     </g>\n     <g id=\"line2d_346\">\n      <g>\n       <use xlink:href=\"#m306453811f\" x=\"368.005541\" y=\"290.25375\" style=\"fill: #555555; stroke: #555555; stroke-width: 0.8\"/>\n      </g>\n     </g>\n     <g id=\"text_173\">\n      <!-- 173 -->\n      <g style=\"fill: #555555\" transform=\"translate(358.461791 304.852187) scale(0.1 -0.1)\">\n       <use xlink:href=\"#DejaVuSans-31\"/>\n       <use xlink:href=\"#DejaVuSans-37\" x=\"63.623047\"/>\n       <use xlink:href=\"#DejaVuSans-33\" x=\"127.246094\"/>\n      </g>\n     </g>\n    </g>\n    <g id=\"xtick_174\">\n     <g id=\"line2d_347\">\n      <path d=\"M 369.636971 290.25375 \nL 369.636971 24.14175 \n\" clip-path=\"url(#pc9c66672a5)\" style=\"fill: none; stroke: #ffffff; stroke-width: 0.8; stroke-linecap: square\"/>\n     </g>\n     <g id=\"line2d_348\">\n      <g>\n       <use xlink:href=\"#m306453811f\" x=\"369.636971\" y=\"290.25375\" style=\"fill: #555555; stroke: #555555; stroke-width: 0.8\"/>\n      </g>\n     </g>\n     <g id=\"text_174\">\n      <!-- 174 -->\n      <g style=\"fill: #555555\" transform=\"translate(360.093221 304.852187) scale(0.1 -0.1)\">\n       <use xlink:href=\"#DejaVuSans-31\"/>\n       <use xlink:href=\"#DejaVuSans-37\" x=\"63.623047\"/>\n       <use xlink:href=\"#DejaVuSans-34\" x=\"127.246094\"/>\n      </g>\n     </g>\n    </g>\n    <g id=\"xtick_175\">\n     <g id=\"line2d_349\">\n      <path d=\"M 371.268401 290.25375 \nL 371.268401 24.14175 \n\" clip-path=\"url(#pc9c66672a5)\" style=\"fill: none; stroke: #ffffff; stroke-width: 0.8; stroke-linecap: square\"/>\n     </g>\n     <g id=\"line2d_350\">\n      <g>\n       <use xlink:href=\"#m306453811f\" x=\"371.268401\" y=\"290.25375\" style=\"fill: #555555; stroke: #555555; stroke-width: 0.8\"/>\n      </g>\n     </g>\n     <g id=\"text_175\">\n      <!-- 175 -->\n      <g style=\"fill: #555555\" transform=\"translate(361.724651 304.852187) scale(0.1 -0.1)\">\n       <use xlink:href=\"#DejaVuSans-31\"/>\n       <use xlink:href=\"#DejaVuSans-37\" x=\"63.623047\"/>\n       <use xlink:href=\"#DejaVuSans-35\" x=\"127.246094\"/>\n      </g>\n     </g>\n    </g>\n    <g id=\"xtick_176\">\n     <g id=\"line2d_351\">\n      <path d=\"M 372.899831 290.25375 \nL 372.899831 24.14175 \n\" clip-path=\"url(#pc9c66672a5)\" style=\"fill: none; stroke: #ffffff; stroke-width: 0.8; stroke-linecap: square\"/>\n     </g>\n     <g id=\"line2d_352\">\n      <g>\n       <use xlink:href=\"#m306453811f\" x=\"372.899831\" y=\"290.25375\" style=\"fill: #555555; stroke: #555555; stroke-width: 0.8\"/>\n      </g>\n     </g>\n     <g id=\"text_176\">\n      <!-- 176 -->\n      <g style=\"fill: #555555\" transform=\"translate(363.356081 304.852187) scale(0.1 -0.1)\">\n       <use xlink:href=\"#DejaVuSans-31\"/>\n       <use xlink:href=\"#DejaVuSans-37\" x=\"63.623047\"/>\n       <use xlink:href=\"#DejaVuSans-36\" x=\"127.246094\"/>\n      </g>\n     </g>\n    </g>\n    <g id=\"xtick_177\">\n     <g id=\"line2d_353\">\n      <path d=\"M 374.531261 290.25375 \nL 374.531261 24.14175 \n\" clip-path=\"url(#pc9c66672a5)\" style=\"fill: none; stroke: #ffffff; stroke-width: 0.8; stroke-linecap: square\"/>\n     </g>\n     <g id=\"line2d_354\">\n      <g>\n       <use xlink:href=\"#m306453811f\" x=\"374.531261\" y=\"290.25375\" style=\"fill: #555555; stroke: #555555; stroke-width: 0.8\"/>\n      </g>\n     </g>\n     <g id=\"text_177\">\n      <!-- 177 -->\n      <g style=\"fill: #555555\" transform=\"translate(364.987511 304.852187) scale(0.1 -0.1)\">\n       <use xlink:href=\"#DejaVuSans-31\"/>\n       <use xlink:href=\"#DejaVuSans-37\" x=\"63.623047\"/>\n       <use xlink:href=\"#DejaVuSans-37\" x=\"127.246094\"/>\n      </g>\n     </g>\n    </g>\n    <g id=\"xtick_178\">\n     <g id=\"line2d_355\">\n      <path d=\"M 376.16269 290.25375 \nL 376.16269 24.14175 \n\" clip-path=\"url(#pc9c66672a5)\" style=\"fill: none; stroke: #ffffff; stroke-width: 0.8; stroke-linecap: square\"/>\n     </g>\n     <g id=\"line2d_356\">\n      <g>\n       <use xlink:href=\"#m306453811f\" x=\"376.16269\" y=\"290.25375\" style=\"fill: #555555; stroke: #555555; stroke-width: 0.8\"/>\n      </g>\n     </g>\n     <g id=\"text_178\">\n      <!-- 178 -->\n      <g style=\"fill: #555555\" transform=\"translate(366.61894 304.852187) scale(0.1 -0.1)\">\n       <use xlink:href=\"#DejaVuSans-31\"/>\n       <use xlink:href=\"#DejaVuSans-37\" x=\"63.623047\"/>\n       <use xlink:href=\"#DejaVuSans-38\" x=\"127.246094\"/>\n      </g>\n     </g>\n    </g>\n    <g id=\"xtick_179\">\n     <g id=\"line2d_357\">\n      <path d=\"M 377.79412 290.25375 \nL 377.79412 24.14175 \n\" clip-path=\"url(#pc9c66672a5)\" style=\"fill: none; stroke: #ffffff; stroke-width: 0.8; stroke-linecap: square\"/>\n     </g>\n     <g id=\"line2d_358\">\n      <g>\n       <use xlink:href=\"#m306453811f\" x=\"377.79412\" y=\"290.25375\" style=\"fill: #555555; stroke: #555555; stroke-width: 0.8\"/>\n      </g>\n     </g>\n     <g id=\"text_179\">\n      <!-- 179 -->\n      <g style=\"fill: #555555\" transform=\"translate(368.25037 304.852187) scale(0.1 -0.1)\">\n       <use xlink:href=\"#DejaVuSans-31\"/>\n       <use xlink:href=\"#DejaVuSans-37\" x=\"63.623047\"/>\n       <use xlink:href=\"#DejaVuSans-39\" x=\"127.246094\"/>\n      </g>\n     </g>\n    </g>\n    <g id=\"xtick_180\">\n     <g id=\"line2d_359\">\n      <path d=\"M 379.42555 290.25375 \nL 379.42555 24.14175 \n\" clip-path=\"url(#pc9c66672a5)\" style=\"fill: none; stroke: #ffffff; stroke-width: 0.8; stroke-linecap: square\"/>\n     </g>\n     <g id=\"line2d_360\">\n      <g>\n       <use xlink:href=\"#m306453811f\" x=\"379.42555\" y=\"290.25375\" style=\"fill: #555555; stroke: #555555; stroke-width: 0.8\"/>\n      </g>\n     </g>\n     <g id=\"text_180\">\n      <!-- 180 -->\n      <g style=\"fill: #555555\" transform=\"translate(369.8818 304.852187) scale(0.1 -0.1)\">\n       <use xlink:href=\"#DejaVuSans-31\"/>\n       <use xlink:href=\"#DejaVuSans-38\" x=\"63.623047\"/>\n       <use xlink:href=\"#DejaVuSans-30\" x=\"127.246094\"/>\n      </g>\n     </g>\n    </g>\n    <g id=\"xtick_181\">\n     <g id=\"line2d_361\">\n      <path d=\"M 381.05698 290.25375 \nL 381.05698 24.14175 \n\" clip-path=\"url(#pc9c66672a5)\" style=\"fill: none; stroke: #ffffff; stroke-width: 0.8; stroke-linecap: square\"/>\n     </g>\n     <g id=\"line2d_362\">\n      <g>\n       <use xlink:href=\"#m306453811f\" x=\"381.05698\" y=\"290.25375\" style=\"fill: #555555; stroke: #555555; stroke-width: 0.8\"/>\n      </g>\n     </g>\n     <g id=\"text_181\">\n      <!-- 181 -->\n      <g style=\"fill: #555555\" transform=\"translate(371.51323 304.852187) scale(0.1 -0.1)\">\n       <use xlink:href=\"#DejaVuSans-31\"/>\n       <use xlink:href=\"#DejaVuSans-38\" x=\"63.623047\"/>\n       <use xlink:href=\"#DejaVuSans-31\" x=\"127.246094\"/>\n      </g>\n     </g>\n    </g>\n    <g id=\"xtick_182\">\n     <g id=\"line2d_363\">\n      <path d=\"M 382.68841 290.25375 \nL 382.68841 24.14175 \n\" clip-path=\"url(#pc9c66672a5)\" style=\"fill: none; stroke: #ffffff; stroke-width: 0.8; stroke-linecap: square\"/>\n     </g>\n     <g id=\"line2d_364\">\n      <g>\n       <use xlink:href=\"#m306453811f\" x=\"382.68841\" y=\"290.25375\" style=\"fill: #555555; stroke: #555555; stroke-width: 0.8\"/>\n      </g>\n     </g>\n     <g id=\"text_182\">\n      <!-- 182 -->\n      <g style=\"fill: #555555\" transform=\"translate(373.14466 304.852187) scale(0.1 -0.1)\">\n       <use xlink:href=\"#DejaVuSans-31\"/>\n       <use xlink:href=\"#DejaVuSans-38\" x=\"63.623047\"/>\n       <use xlink:href=\"#DejaVuSans-32\" x=\"127.246094\"/>\n      </g>\n     </g>\n    </g>\n    <g id=\"xtick_183\">\n     <g id=\"line2d_365\">\n      <path d=\"M 384.31984 290.25375 \nL 384.31984 24.14175 \n\" clip-path=\"url(#pc9c66672a5)\" style=\"fill: none; stroke: #ffffff; stroke-width: 0.8; stroke-linecap: square\"/>\n     </g>\n     <g id=\"line2d_366\">\n      <g>\n       <use xlink:href=\"#m306453811f\" x=\"384.31984\" y=\"290.25375\" style=\"fill: #555555; stroke: #555555; stroke-width: 0.8\"/>\n      </g>\n     </g>\n     <g id=\"text_183\">\n      <!-- 183 -->\n      <g style=\"fill: #555555\" transform=\"translate(374.77609 304.852187) scale(0.1 -0.1)\">\n       <use xlink:href=\"#DejaVuSans-31\"/>\n       <use xlink:href=\"#DejaVuSans-38\" x=\"63.623047\"/>\n       <use xlink:href=\"#DejaVuSans-33\" x=\"127.246094\"/>\n      </g>\n     </g>\n    </g>\n    <g id=\"xtick_184\">\n     <g id=\"line2d_367\">\n      <path d=\"M 385.95127 290.25375 \nL 385.95127 24.14175 \n\" clip-path=\"url(#pc9c66672a5)\" style=\"fill: none; stroke: #ffffff; stroke-width: 0.8; stroke-linecap: square\"/>\n     </g>\n     <g id=\"line2d_368\">\n      <g>\n       <use xlink:href=\"#m306453811f\" x=\"385.95127\" y=\"290.25375\" style=\"fill: #555555; stroke: #555555; stroke-width: 0.8\"/>\n      </g>\n     </g>\n     <g id=\"text_184\">\n      <!-- 184 -->\n      <g style=\"fill: #555555\" transform=\"translate(376.40752 304.852187) scale(0.1 -0.1)\">\n       <use xlink:href=\"#DejaVuSans-31\"/>\n       <use xlink:href=\"#DejaVuSans-38\" x=\"63.623047\"/>\n       <use xlink:href=\"#DejaVuSans-34\" x=\"127.246094\"/>\n      </g>\n     </g>\n    </g>\n    <g id=\"xtick_185\">\n     <g id=\"line2d_369\">\n      <path d=\"M 387.5827 290.25375 \nL 387.5827 24.14175 \n\" clip-path=\"url(#pc9c66672a5)\" style=\"fill: none; stroke: #ffffff; stroke-width: 0.8; stroke-linecap: square\"/>\n     </g>\n     <g id=\"line2d_370\">\n      <g>\n       <use xlink:href=\"#m306453811f\" x=\"387.5827\" y=\"290.25375\" style=\"fill: #555555; stroke: #555555; stroke-width: 0.8\"/>\n      </g>\n     </g>\n     <g id=\"text_185\">\n      <!-- 185 -->\n      <g style=\"fill: #555555\" transform=\"translate(378.03895 304.852187) scale(0.1 -0.1)\">\n       <use xlink:href=\"#DejaVuSans-31\"/>\n       <use xlink:href=\"#DejaVuSans-38\" x=\"63.623047\"/>\n       <use xlink:href=\"#DejaVuSans-35\" x=\"127.246094\"/>\n      </g>\n     </g>\n    </g>\n    <g id=\"xtick_186\">\n     <g id=\"line2d_371\">\n      <path d=\"M 389.214129 290.25375 \nL 389.214129 24.14175 \n\" clip-path=\"url(#pc9c66672a5)\" style=\"fill: none; stroke: #ffffff; stroke-width: 0.8; stroke-linecap: square\"/>\n     </g>\n     <g id=\"line2d_372\">\n      <g>\n       <use xlink:href=\"#m306453811f\" x=\"389.214129\" y=\"290.25375\" style=\"fill: #555555; stroke: #555555; stroke-width: 0.8\"/>\n      </g>\n     </g>\n     <g id=\"text_186\">\n      <!-- 186 -->\n      <g style=\"fill: #555555\" transform=\"translate(379.670379 304.852187) scale(0.1 -0.1)\">\n       <use xlink:href=\"#DejaVuSans-31\"/>\n       <use xlink:href=\"#DejaVuSans-38\" x=\"63.623047\"/>\n       <use xlink:href=\"#DejaVuSans-36\" x=\"127.246094\"/>\n      </g>\n     </g>\n    </g>\n    <g id=\"xtick_187\">\n     <g id=\"line2d_373\">\n      <path d=\"M 390.845559 290.25375 \nL 390.845559 24.14175 \n\" clip-path=\"url(#pc9c66672a5)\" style=\"fill: none; stroke: #ffffff; stroke-width: 0.8; stroke-linecap: square\"/>\n     </g>\n     <g id=\"line2d_374\">\n      <g>\n       <use xlink:href=\"#m306453811f\" x=\"390.845559\" y=\"290.25375\" style=\"fill: #555555; stroke: #555555; stroke-width: 0.8\"/>\n      </g>\n     </g>\n     <g id=\"text_187\">\n      <!-- 187 -->\n      <g style=\"fill: #555555\" transform=\"translate(381.301809 304.852187) scale(0.1 -0.1)\">\n       <use xlink:href=\"#DejaVuSans-31\"/>\n       <use xlink:href=\"#DejaVuSans-38\" x=\"63.623047\"/>\n       <use xlink:href=\"#DejaVuSans-37\" x=\"127.246094\"/>\n      </g>\n     </g>\n    </g>\n    <g id=\"xtick_188\">\n     <g id=\"line2d_375\">\n      <path d=\"M 392.476989 290.25375 \nL 392.476989 24.14175 \n\" clip-path=\"url(#pc9c66672a5)\" style=\"fill: none; stroke: #ffffff; stroke-width: 0.8; stroke-linecap: square\"/>\n     </g>\n     <g id=\"line2d_376\">\n      <g>\n       <use xlink:href=\"#m306453811f\" x=\"392.476989\" y=\"290.25375\" style=\"fill: #555555; stroke: #555555; stroke-width: 0.8\"/>\n      </g>\n     </g>\n     <g id=\"text_188\">\n      <!-- 188 -->\n      <g style=\"fill: #555555\" transform=\"translate(382.933239 304.852187) scale(0.1 -0.1)\">\n       <use xlink:href=\"#DejaVuSans-31\"/>\n       <use xlink:href=\"#DejaVuSans-38\" x=\"63.623047\"/>\n       <use xlink:href=\"#DejaVuSans-38\" x=\"127.246094\"/>\n      </g>\n     </g>\n    </g>\n    <g id=\"xtick_189\">\n     <g id=\"line2d_377\">\n      <path d=\"M 394.108419 290.25375 \nL 394.108419 24.14175 \n\" clip-path=\"url(#pc9c66672a5)\" style=\"fill: none; stroke: #ffffff; stroke-width: 0.8; stroke-linecap: square\"/>\n     </g>\n     <g id=\"line2d_378\">\n      <g>\n       <use xlink:href=\"#m306453811f\" x=\"394.108419\" y=\"290.25375\" style=\"fill: #555555; stroke: #555555; stroke-width: 0.8\"/>\n      </g>\n     </g>\n     <g id=\"text_189\">\n      <!-- 189 -->\n      <g style=\"fill: #555555\" transform=\"translate(384.564669 304.852187) scale(0.1 -0.1)\">\n       <use xlink:href=\"#DejaVuSans-31\"/>\n       <use xlink:href=\"#DejaVuSans-38\" x=\"63.623047\"/>\n       <use xlink:href=\"#DejaVuSans-39\" x=\"127.246094\"/>\n      </g>\n     </g>\n    </g>\n    <g id=\"xtick_190\">\n     <g id=\"line2d_379\">\n      <path d=\"M 395.739849 290.25375 \nL 395.739849 24.14175 \n\" clip-path=\"url(#pc9c66672a5)\" style=\"fill: none; stroke: #ffffff; stroke-width: 0.8; stroke-linecap: square\"/>\n     </g>\n     <g id=\"line2d_380\">\n      <g>\n       <use xlink:href=\"#m306453811f\" x=\"395.739849\" y=\"290.25375\" style=\"fill: #555555; stroke: #555555; stroke-width: 0.8\"/>\n      </g>\n     </g>\n     <g id=\"text_190\">\n      <!-- 190 -->\n      <g style=\"fill: #555555\" transform=\"translate(386.196099 304.852187) scale(0.1 -0.1)\">\n       <use xlink:href=\"#DejaVuSans-31\"/>\n       <use xlink:href=\"#DejaVuSans-39\" x=\"63.623047\"/>\n       <use xlink:href=\"#DejaVuSans-30\" x=\"127.246094\"/>\n      </g>\n     </g>\n    </g>\n    <g id=\"xtick_191\">\n     <g id=\"line2d_381\">\n      <path d=\"M 397.371279 290.25375 \nL 397.371279 24.14175 \n\" clip-path=\"url(#pc9c66672a5)\" style=\"fill: none; stroke: #ffffff; stroke-width: 0.8; stroke-linecap: square\"/>\n     </g>\n     <g id=\"line2d_382\">\n      <g>\n       <use xlink:href=\"#m306453811f\" x=\"397.371279\" y=\"290.25375\" style=\"fill: #555555; stroke: #555555; stroke-width: 0.8\"/>\n      </g>\n     </g>\n     <g id=\"text_191\">\n      <!-- 191 -->\n      <g style=\"fill: #555555\" transform=\"translate(387.827529 304.852187) scale(0.1 -0.1)\">\n       <use xlink:href=\"#DejaVuSans-31\"/>\n       <use xlink:href=\"#DejaVuSans-39\" x=\"63.623047\"/>\n       <use xlink:href=\"#DejaVuSans-31\" x=\"127.246094\"/>\n      </g>\n     </g>\n    </g>\n    <g id=\"xtick_192\">\n     <g id=\"line2d_383\">\n      <path d=\"M 399.002709 290.25375 \nL 399.002709 24.14175 \n\" clip-path=\"url(#pc9c66672a5)\" style=\"fill: none; stroke: #ffffff; stroke-width: 0.8; stroke-linecap: square\"/>\n     </g>\n     <g id=\"line2d_384\">\n      <g>\n       <use xlink:href=\"#m306453811f\" x=\"399.002709\" y=\"290.25375\" style=\"fill: #555555; stroke: #555555; stroke-width: 0.8\"/>\n      </g>\n     </g>\n     <g id=\"text_192\">\n      <!-- 192 -->\n      <g style=\"fill: #555555\" transform=\"translate(389.458959 304.852187) scale(0.1 -0.1)\">\n       <use xlink:href=\"#DejaVuSans-31\"/>\n       <use xlink:href=\"#DejaVuSans-39\" x=\"63.623047\"/>\n       <use xlink:href=\"#DejaVuSans-32\" x=\"127.246094\"/>\n      </g>\n     </g>\n    </g>\n    <g id=\"xtick_193\">\n     <g id=\"line2d_385\">\n      <path d=\"M 400.634139 290.25375 \nL 400.634139 24.14175 \n\" clip-path=\"url(#pc9c66672a5)\" style=\"fill: none; stroke: #ffffff; stroke-width: 0.8; stroke-linecap: square\"/>\n     </g>\n     <g id=\"line2d_386\">\n      <g>\n       <use xlink:href=\"#m306453811f\" x=\"400.634139\" y=\"290.25375\" style=\"fill: #555555; stroke: #555555; stroke-width: 0.8\"/>\n      </g>\n     </g>\n     <g id=\"text_193\">\n      <!-- 193 -->\n      <g style=\"fill: #555555\" transform=\"translate(391.090389 304.852187) scale(0.1 -0.1)\">\n       <use xlink:href=\"#DejaVuSans-31\"/>\n       <use xlink:href=\"#DejaVuSans-39\" x=\"63.623047\"/>\n       <use xlink:href=\"#DejaVuSans-33\" x=\"127.246094\"/>\n      </g>\n     </g>\n    </g>\n    <g id=\"xtick_194\">\n     <g id=\"line2d_387\">\n      <path d=\"M 402.265568 290.25375 \nL 402.265568 24.14175 \n\" clip-path=\"url(#pc9c66672a5)\" style=\"fill: none; stroke: #ffffff; stroke-width: 0.8; stroke-linecap: square\"/>\n     </g>\n     <g id=\"line2d_388\">\n      <g>\n       <use xlink:href=\"#m306453811f\" x=\"402.265568\" y=\"290.25375\" style=\"fill: #555555; stroke: #555555; stroke-width: 0.8\"/>\n      </g>\n     </g>\n     <g id=\"text_194\">\n      <!-- 194 -->\n      <g style=\"fill: #555555\" transform=\"translate(392.721818 304.852187) scale(0.1 -0.1)\">\n       <use xlink:href=\"#DejaVuSans-31\"/>\n       <use xlink:href=\"#DejaVuSans-39\" x=\"63.623047\"/>\n       <use xlink:href=\"#DejaVuSans-34\" x=\"127.246094\"/>\n      </g>\n     </g>\n    </g>\n    <g id=\"xtick_195\">\n     <g id=\"line2d_389\">\n      <path d=\"M 403.896998 290.25375 \nL 403.896998 24.14175 \n\" clip-path=\"url(#pc9c66672a5)\" style=\"fill: none; stroke: #ffffff; stroke-width: 0.8; stroke-linecap: square\"/>\n     </g>\n     <g id=\"line2d_390\">\n      <g>\n       <use xlink:href=\"#m306453811f\" x=\"403.896998\" y=\"290.25375\" style=\"fill: #555555; stroke: #555555; stroke-width: 0.8\"/>\n      </g>\n     </g>\n     <g id=\"text_195\">\n      <!-- 195 -->\n      <g style=\"fill: #555555\" transform=\"translate(394.353248 304.852187) scale(0.1 -0.1)\">\n       <use xlink:href=\"#DejaVuSans-31\"/>\n       <use xlink:href=\"#DejaVuSans-39\" x=\"63.623047\"/>\n       <use xlink:href=\"#DejaVuSans-35\" x=\"127.246094\"/>\n      </g>\n     </g>\n    </g>\n    <g id=\"xtick_196\">\n     <g id=\"line2d_391\">\n      <path d=\"M 405.528428 290.25375 \nL 405.528428 24.14175 \n\" clip-path=\"url(#pc9c66672a5)\" style=\"fill: none; stroke: #ffffff; stroke-width: 0.8; stroke-linecap: square\"/>\n     </g>\n     <g id=\"line2d_392\">\n      <g>\n       <use xlink:href=\"#m306453811f\" x=\"405.528428\" y=\"290.25375\" style=\"fill: #555555; stroke: #555555; stroke-width: 0.8\"/>\n      </g>\n     </g>\n     <g id=\"text_196\">\n      <!-- 196 -->\n      <g style=\"fill: #555555\" transform=\"translate(395.984678 304.852187) scale(0.1 -0.1)\">\n       <use xlink:href=\"#DejaVuSans-31\"/>\n       <use xlink:href=\"#DejaVuSans-39\" x=\"63.623047\"/>\n       <use xlink:href=\"#DejaVuSans-36\" x=\"127.246094\"/>\n      </g>\n     </g>\n    </g>\n    <g id=\"xtick_197\">\n     <g id=\"line2d_393\">\n      <path d=\"M 407.159858 290.25375 \nL 407.159858 24.14175 \n\" clip-path=\"url(#pc9c66672a5)\" style=\"fill: none; stroke: #ffffff; stroke-width: 0.8; stroke-linecap: square\"/>\n     </g>\n     <g id=\"line2d_394\">\n      <g>\n       <use xlink:href=\"#m306453811f\" x=\"407.159858\" y=\"290.25375\" style=\"fill: #555555; stroke: #555555; stroke-width: 0.8\"/>\n      </g>\n     </g>\n     <g id=\"text_197\">\n      <!-- 197 -->\n      <g style=\"fill: #555555\" transform=\"translate(397.616108 304.852187) scale(0.1 -0.1)\">\n       <use xlink:href=\"#DejaVuSans-31\"/>\n       <use xlink:href=\"#DejaVuSans-39\" x=\"63.623047\"/>\n       <use xlink:href=\"#DejaVuSans-37\" x=\"127.246094\"/>\n      </g>\n     </g>\n    </g>\n    <g id=\"xtick_198\">\n     <g id=\"line2d_395\">\n      <path d=\"M 408.791288 290.25375 \nL 408.791288 24.14175 \n\" clip-path=\"url(#pc9c66672a5)\" style=\"fill: none; stroke: #ffffff; stroke-width: 0.8; stroke-linecap: square\"/>\n     </g>\n     <g id=\"line2d_396\">\n      <g>\n       <use xlink:href=\"#m306453811f\" x=\"408.791288\" y=\"290.25375\" style=\"fill: #555555; stroke: #555555; stroke-width: 0.8\"/>\n      </g>\n     </g>\n     <g id=\"text_198\">\n      <!-- 198 -->\n      <g style=\"fill: #555555\" transform=\"translate(399.247538 304.852187) scale(0.1 -0.1)\">\n       <use xlink:href=\"#DejaVuSans-31\"/>\n       <use xlink:href=\"#DejaVuSans-39\" x=\"63.623047\"/>\n       <use xlink:href=\"#DejaVuSans-38\" x=\"127.246094\"/>\n      </g>\n     </g>\n    </g>\n    <g id=\"xtick_199\">\n     <g id=\"line2d_397\">\n      <path d=\"M 410.422718 290.25375 \nL 410.422718 24.14175 \n\" clip-path=\"url(#pc9c66672a5)\" style=\"fill: none; stroke: #ffffff; stroke-width: 0.8; stroke-linecap: square\"/>\n     </g>\n     <g id=\"line2d_398\">\n      <g>\n       <use xlink:href=\"#m306453811f\" x=\"410.422718\" y=\"290.25375\" style=\"fill: #555555; stroke: #555555; stroke-width: 0.8\"/>\n      </g>\n     </g>\n     <g id=\"text_199\">\n      <!-- 199 -->\n      <g style=\"fill: #555555\" transform=\"translate(400.878968 304.852187) scale(0.1 -0.1)\">\n       <use xlink:href=\"#DejaVuSans-31\"/>\n       <use xlink:href=\"#DejaVuSans-39\" x=\"63.623047\"/>\n       <use xlink:href=\"#DejaVuSans-39\" x=\"127.246094\"/>\n      </g>\n     </g>\n    </g>\n    <g id=\"xtick_200\">\n     <g id=\"line2d_399\">\n      <path d=\"M 412.054148 290.25375 \nL 412.054148 24.14175 \n\" clip-path=\"url(#pc9c66672a5)\" style=\"fill: none; stroke: #ffffff; stroke-width: 0.8; stroke-linecap: square\"/>\n     </g>\n     <g id=\"line2d_400\">\n      <g>\n       <use xlink:href=\"#m306453811f\" x=\"412.054148\" y=\"290.25375\" style=\"fill: #555555; stroke: #555555; stroke-width: 0.8\"/>\n      </g>\n     </g>\n     <g id=\"text_200\">\n      <!-- 200 -->\n      <g style=\"fill: #555555\" transform=\"translate(402.510398 304.852187) scale(0.1 -0.1)\">\n       <use xlink:href=\"#DejaVuSans-32\"/>\n       <use xlink:href=\"#DejaVuSans-30\" x=\"63.623047\"/>\n       <use xlink:href=\"#DejaVuSans-30\" x=\"127.246094\"/>\n      </g>\n     </g>\n    </g>\n    <g id=\"text_201\">\n     <!-- Epoch # -->\n     <g style=\"fill: #555555\" transform=\"translate(224.419062 320.05) scale(0.12 -0.12)\">\n      <defs>\n       <path id=\"DejaVuSans-45\" d=\"M 628 4666 \nL 3578 4666 \nL 3578 4134 \nL 1259 4134 \nL 1259 2753 \nL 3481 2753 \nL 3481 2222 \nL 1259 2222 \nL 1259 531 \nL 3634 531 \nL 3634 0 \nL 628 0 \nL 628 4666 \nz\n\" transform=\"scale(0.015625)\"/>\n       <path id=\"DejaVuSans-70\" d=\"M 1159 525 \nL 1159 -1331 \nL 581 -1331 \nL 581 3500 \nL 1159 3500 \nL 1159 2969 \nQ 1341 3281 1617 3432 \nQ 1894 3584 2278 3584 \nQ 2916 3584 3314 3078 \nQ 3713 2572 3713 1747 \nQ 3713 922 3314 415 \nQ 2916 -91 2278 -91 \nQ 1894 -91 1617 61 \nQ 1341 213 1159 525 \nz\nM 3116 1747 \nQ 3116 2381 2855 2742 \nQ 2594 3103 2138 3103 \nQ 1681 3103 1420 2742 \nQ 1159 2381 1159 1747 \nQ 1159 1113 1420 752 \nQ 1681 391 2138 391 \nQ 2594 391 2855 752 \nQ 3116 1113 3116 1747 \nz\n\" transform=\"scale(0.015625)\"/>\n       <path id=\"DejaVuSans-6f\" d=\"M 1959 3097 \nQ 1497 3097 1228 2736 \nQ 959 2375 959 1747 \nQ 959 1119 1226 758 \nQ 1494 397 1959 397 \nQ 2419 397 2687 759 \nQ 2956 1122 2956 1747 \nQ 2956 2369 2687 2733 \nQ 2419 3097 1959 3097 \nz\nM 1959 3584 \nQ 2709 3584 3137 3096 \nQ 3566 2609 3566 1747 \nQ 3566 888 3137 398 \nQ 2709 -91 1959 -91 \nQ 1206 -91 779 398 \nQ 353 888 353 1747 \nQ 353 2609 779 3096 \nQ 1206 3584 1959 3584 \nz\n\" transform=\"scale(0.015625)\"/>\n       <path id=\"DejaVuSans-63\" d=\"M 3122 3366 \nL 3122 2828 \nQ 2878 2963 2633 3030 \nQ 2388 3097 2138 3097 \nQ 1578 3097 1268 2742 \nQ 959 2388 959 1747 \nQ 959 1106 1268 751 \nQ 1578 397 2138 397 \nQ 2388 397 2633 464 \nQ 2878 531 3122 666 \nL 3122 134 \nQ 2881 22 2623 -34 \nQ 2366 -91 2075 -91 \nQ 1284 -91 818 406 \nQ 353 903 353 1747 \nQ 353 2603 823 3093 \nQ 1294 3584 2113 3584 \nQ 2378 3584 2631 3529 \nQ 2884 3475 3122 3366 \nz\n\" transform=\"scale(0.015625)\"/>\n       <path id=\"DejaVuSans-68\" d=\"M 3513 2113 \nL 3513 0 \nL 2938 0 \nL 2938 2094 \nQ 2938 2591 2744 2837 \nQ 2550 3084 2163 3084 \nQ 1697 3084 1428 2787 \nQ 1159 2491 1159 1978 \nL 1159 0 \nL 581 0 \nL 581 4863 \nL 1159 4863 \nL 1159 2956 \nQ 1366 3272 1645 3428 \nQ 1925 3584 2291 3584 \nQ 2894 3584 3203 3211 \nQ 3513 2838 3513 2113 \nz\n\" transform=\"scale(0.015625)\"/>\n       <path id=\"DejaVuSans-20\" transform=\"scale(0.015625)\"/>\n       <path id=\"DejaVuSans-23\" d=\"M 3272 2816 \nL 2363 2816 \nL 2100 1772 \nL 3016 1772 \nL 3272 2816 \nz\nM 2803 4594 \nL 2478 3297 \nL 3391 3297 \nL 3719 4594 \nL 4219 4594 \nL 3897 3297 \nL 4872 3297 \nL 4872 2816 \nL 3775 2816 \nL 3519 1772 \nL 4513 1772 \nL 4513 1294 \nL 3397 1294 \nL 3072 0 \nL 2572 0 \nL 2894 1294 \nL 1978 1294 \nL 1656 0 \nL 1153 0 \nL 1478 1294 \nL 494 1294 \nL 494 1772 \nL 1594 1772 \nL 1856 2816 \nL 850 2816 \nL 850 3297 \nL 1978 3297 \nL 2297 4594 \nL 2803 4594 \nz\n\" transform=\"scale(0.015625)\"/>\n      </defs>\n      <use xlink:href=\"#DejaVuSans-45\"/>\n      <use xlink:href=\"#DejaVuSans-70\" x=\"63.183594\"/>\n      <use xlink:href=\"#DejaVuSans-6f\" x=\"126.660156\"/>\n      <use xlink:href=\"#DejaVuSans-63\" x=\"187.841797\"/>\n      <use xlink:href=\"#DejaVuSans-68\" x=\"242.822266\"/>\n      <use xlink:href=\"#DejaVuSans-20\" x=\"306.201172\"/>\n      <use xlink:href=\"#DejaVuSans-23\" x=\"337.988281\"/>\n     </g>\n    </g>\n   </g>\n   <g id=\"matplotlib.axis_2\">\n    <g id=\"ytick_1\">\n     <g id=\"line2d_401\">\n      <path d=\"M 71.166875 244.659312 \nL 428.286875 244.659312 \n\" clip-path=\"url(#pc9c66672a5)\" style=\"fill: none; stroke: #ffffff; stroke-width: 0.8; stroke-linecap: square\"/>\n     </g>\n     <g id=\"line2d_402\">\n      <defs>\n       <path id=\"md7dbfdd01d\" d=\"M 0 0 \nL -3.5 0 \n\" style=\"stroke: #555555; stroke-width: 0.8\"/>\n      </defs>\n      <g>\n       <use xlink:href=\"#md7dbfdd01d\" x=\"71.166875\" y=\"244.659312\" style=\"fill: #555555; stroke: #555555; stroke-width: 0.8\"/>\n      </g>\n     </g>\n     <g id=\"text_202\">\n      <!-- 0.00115 -->\n      <g style=\"fill: #555555\" transform=\"translate(22.81375 248.45853) scale(0.1 -0.1)\">\n       <defs>\n        <path id=\"DejaVuSans-2e\" d=\"M 684 794 \nL 1344 794 \nL 1344 0 \nL 684 0 \nL 684 794 \nz\n\" transform=\"scale(0.015625)\"/>\n       </defs>\n       <use xlink:href=\"#DejaVuSans-30\"/>\n       <use xlink:href=\"#DejaVuSans-2e\" x=\"63.623047\"/>\n       <use xlink:href=\"#DejaVuSans-30\" x=\"95.410156\"/>\n       <use xlink:href=\"#DejaVuSans-30\" x=\"159.033203\"/>\n       <use xlink:href=\"#DejaVuSans-31\" x=\"222.65625\"/>\n       <use xlink:href=\"#DejaVuSans-31\" x=\"286.279297\"/>\n       <use xlink:href=\"#DejaVuSans-35\" x=\"349.902344\"/>\n      </g>\n     </g>\n    </g>\n    <g id=\"ytick_2\">\n     <g id=\"line2d_403\">\n      <path d=\"M 71.166875 188.940583 \nL 428.286875 188.940583 \n\" clip-path=\"url(#pc9c66672a5)\" style=\"fill: none; stroke: #ffffff; stroke-width: 0.8; stroke-linecap: square\"/>\n     </g>\n     <g id=\"line2d_404\">\n      <g>\n       <use xlink:href=\"#md7dbfdd01d\" x=\"71.166875\" y=\"188.940583\" style=\"fill: #555555; stroke: #555555; stroke-width: 0.8\"/>\n      </g>\n     </g>\n     <g id=\"text_203\">\n      <!-- 0.00120 -->\n      <g style=\"fill: #555555\" transform=\"translate(22.81375 192.739802) scale(0.1 -0.1)\">\n       <use xlink:href=\"#DejaVuSans-30\"/>\n       <use xlink:href=\"#DejaVuSans-2e\" x=\"63.623047\"/>\n       <use xlink:href=\"#DejaVuSans-30\" x=\"95.410156\"/>\n       <use xlink:href=\"#DejaVuSans-30\" x=\"159.033203\"/>\n       <use xlink:href=\"#DejaVuSans-31\" x=\"222.65625\"/>\n       <use xlink:href=\"#DejaVuSans-32\" x=\"286.279297\"/>\n       <use xlink:href=\"#DejaVuSans-30\" x=\"349.902344\"/>\n      </g>\n     </g>\n    </g>\n    <g id=\"ytick_3\">\n     <g id=\"line2d_405\">\n      <path d=\"M 71.166875 133.221855 \nL 428.286875 133.221855 \n\" clip-path=\"url(#pc9c66672a5)\" style=\"fill: none; stroke: #ffffff; stroke-width: 0.8; stroke-linecap: square\"/>\n     </g>\n     <g id=\"line2d_406\">\n      <g>\n       <use xlink:href=\"#md7dbfdd01d\" x=\"71.166875\" y=\"133.221855\" style=\"fill: #555555; stroke: #555555; stroke-width: 0.8\"/>\n      </g>\n     </g>\n     <g id=\"text_204\">\n      <!-- 0.00125 -->\n      <g style=\"fill: #555555\" transform=\"translate(22.81375 137.021074) scale(0.1 -0.1)\">\n       <use xlink:href=\"#DejaVuSans-30\"/>\n       <use xlink:href=\"#DejaVuSans-2e\" x=\"63.623047\"/>\n       <use xlink:href=\"#DejaVuSans-30\" x=\"95.410156\"/>\n       <use xlink:href=\"#DejaVuSans-30\" x=\"159.033203\"/>\n       <use xlink:href=\"#DejaVuSans-31\" x=\"222.65625\"/>\n       <use xlink:href=\"#DejaVuSans-32\" x=\"286.279297\"/>\n       <use xlink:href=\"#DejaVuSans-35\" x=\"349.902344\"/>\n      </g>\n     </g>\n    </g>\n    <g id=\"ytick_4\">\n     <g id=\"line2d_407\">\n      <path d=\"M 71.166875 77.503127 \nL 428.286875 77.503127 \n\" clip-path=\"url(#pc9c66672a5)\" style=\"fill: none; stroke: #ffffff; stroke-width: 0.8; stroke-linecap: square\"/>\n     </g>\n     <g id=\"line2d_408\">\n      <g>\n       <use xlink:href=\"#md7dbfdd01d\" x=\"71.166875\" y=\"77.503127\" style=\"fill: #555555; stroke: #555555; stroke-width: 0.8\"/>\n      </g>\n     </g>\n     <g id=\"text_205\">\n      <!-- 0.00130 -->\n      <g style=\"fill: #555555\" transform=\"translate(22.81375 81.302346) scale(0.1 -0.1)\">\n       <use xlink:href=\"#DejaVuSans-30\"/>\n       <use xlink:href=\"#DejaVuSans-2e\" x=\"63.623047\"/>\n       <use xlink:href=\"#DejaVuSans-30\" x=\"95.410156\"/>\n       <use xlink:href=\"#DejaVuSans-30\" x=\"159.033203\"/>\n       <use xlink:href=\"#DejaVuSans-31\" x=\"222.65625\"/>\n       <use xlink:href=\"#DejaVuSans-33\" x=\"286.279297\"/>\n       <use xlink:href=\"#DejaVuSans-30\" x=\"349.902344\"/>\n      </g>\n     </g>\n    </g>\n    <g id=\"text_206\">\n     <!-- Loss -->\n     <g style=\"fill: #555555\" transform=\"translate(16.318125 170.358375) rotate(-90) scale(0.12 -0.12)\">\n      <defs>\n       <path id=\"DejaVuSans-4c\" d=\"M 628 4666 \nL 1259 4666 \nL 1259 531 \nL 3531 531 \nL 3531 0 \nL 628 0 \nL 628 4666 \nz\n\" transform=\"scale(0.015625)\"/>\n       <path id=\"DejaVuSans-73\" d=\"M 2834 3397 \nL 2834 2853 \nQ 2591 2978 2328 3040 \nQ 2066 3103 1784 3103 \nQ 1356 3103 1142 2972 \nQ 928 2841 928 2578 \nQ 928 2378 1081 2264 \nQ 1234 2150 1697 2047 \nL 1894 2003 \nQ 2506 1872 2764 1633 \nQ 3022 1394 3022 966 \nQ 3022 478 2636 193 \nQ 2250 -91 1575 -91 \nQ 1294 -91 989 -36 \nQ 684 19 347 128 \nL 347 722 \nQ 666 556 975 473 \nQ 1284 391 1588 391 \nQ 1994 391 2212 530 \nQ 2431 669 2431 922 \nQ 2431 1156 2273 1281 \nQ 2116 1406 1581 1522 \nL 1381 1569 \nQ 847 1681 609 1914 \nQ 372 2147 372 2553 \nQ 372 3047 722 3315 \nQ 1072 3584 1716 3584 \nQ 2034 3584 2315 3537 \nQ 2597 3491 2834 3397 \nz\n\" transform=\"scale(0.015625)\"/>\n      </defs>\n      <use xlink:href=\"#DejaVuSans-4c\"/>\n      <use xlink:href=\"#DejaVuSans-6f\" x=\"53.962891\"/>\n      <use xlink:href=\"#DejaVuSans-73\" x=\"115.144531\"/>\n      <use xlink:href=\"#DejaVuSans-73\" x=\"167.244141\"/>\n     </g>\n    </g>\n   </g>\n   <g id=\"line2d_409\">\n    <path d=\"M 87.399602 63.291564 \nL 98.819611 73.777154 \nL 111.87105 85.415594 \nL 124.922489 96.749561 \nL 137.973928 107.799623 \nL 151.025367 118.569313 \nL 164.076806 129.056828 \nL 177.128245 139.259958 \nL 190.179685 149.17736 \nL 203.231124 158.809162 \nL 216.282563 168.157064 \nL 229.334002 177.224063 \nL 242.385441 186.014464 \nL 255.43688 194.533512 \nL 268.488319 202.787236 \nL 281.539758 210.782287 \nL 294.591197 218.525772 \nL 307.642636 226.025194 \nL 320.694075 233.288177 \nL 335.376944 241.186078 \nL 350.059812 248.805642 \nL 364.742681 256.157974 \nL 379.42555 263.253888 \nL 394.108419 270.104031 \nL 408.791288 276.718765 \nL 412.054148 278.15775 \nL 412.054148 278.15775 \n\" clip-path=\"url(#pc9c66672a5)\" style=\"fill: none; stroke: #e24a33; stroke-width: 1.5; stroke-linecap: square\"/>\n   </g>\n   <g id=\"line2d_410\">\n    <path d=\"M 87.399602 36.23775 \nL 100.451041 48.030598 \nL 113.50248 59.525948 \nL 128.185349 72.14675 \nL 142.868218 84.441621 \nL 155.919657 95.091423 \nL 168.971096 105.472501 \nL 182.022535 115.581521 \nL 195.073974 125.416302 \nL 208.125413 134.977036 \nL 221.176852 144.265157 \nL 234.228291 153.284019 \nL 247.27973 162.037515 \nL 260.331169 170.530774 \nL 273.382608 178.769698 \nL 286.434047 186.760614 \nL 299.485486 194.509914 \nL 312.536925 202.025017 \nL 327.219794 210.208079 \nL 341.902663 218.113803 \nL 356.585532 225.752364 \nL 371.268401 233.133918 \nL 385.95127 240.268468 \nL 400.634139 247.165742 \nL 412.054148 252.372475 \nL 412.054148 252.372475 \n\" clip-path=\"url(#pc9c66672a5)\" style=\"fill: none; stroke: #348abd; stroke-width: 1.5; stroke-linecap: square\"/>\n   </g>\n   <g id=\"patch_3\">\n    <path d=\"M 71.166875 290.25375 \nL 71.166875 24.14175 \n\" style=\"fill: none; stroke: #ffffff; stroke-linejoin: miter; stroke-linecap: square\"/>\n   </g>\n   <g id=\"patch_4\">\n    <path d=\"M 428.286875 290.25375 \nL 428.286875 24.14175 \n\" style=\"fill: none; stroke: #ffffff; stroke-linejoin: miter; stroke-linecap: square\"/>\n   </g>\n   <g id=\"patch_5\">\n    <path d=\"M 71.166875 290.25375 \nL 428.286875 290.25375 \n\" style=\"fill: none; stroke: #ffffff; stroke-linejoin: miter; stroke-linecap: square\"/>\n   </g>\n   <g id=\"patch_6\">\n    <path d=\"M 71.166875 24.14175 \nL 428.286875 24.14175 \n\" style=\"fill: none; stroke: #ffffff; stroke-linejoin: miter; stroke-linecap: square\"/>\n   </g>\n   <g id=\"text_207\">\n    <!-- Losses -->\n    <g transform=\"translate(225.753125 18.14175) scale(0.144 -0.144)\">\n     <defs>\n      <path id=\"DejaVuSans-65\" d=\"M 3597 1894 \nL 3597 1613 \nL 953 1613 \nQ 991 1019 1311 708 \nQ 1631 397 2203 397 \nQ 2534 397 2845 478 \nQ 3156 559 3463 722 \nL 3463 178 \nQ 3153 47 2828 -22 \nQ 2503 -91 2169 -91 \nQ 1331 -91 842 396 \nQ 353 884 353 1716 \nQ 353 2575 817 3079 \nQ 1281 3584 2069 3584 \nQ 2775 3584 3186 3129 \nQ 3597 2675 3597 1894 \nz\nM 3022 2063 \nQ 3016 2534 2758 2815 \nQ 2500 3097 2075 3097 \nQ 1594 3097 1305 2825 \nQ 1016 2553 972 2059 \nL 3022 2063 \nz\n\" transform=\"scale(0.015625)\"/>\n     </defs>\n     <use xlink:href=\"#DejaVuSans-4c\"/>\n     <use xlink:href=\"#DejaVuSans-6f\" x=\"53.962891\"/>\n     <use xlink:href=\"#DejaVuSans-73\" x=\"115.144531\"/>\n     <use xlink:href=\"#DejaVuSans-73\" x=\"167.244141\"/>\n     <use xlink:href=\"#DejaVuSans-65\" x=\"219.34375\"/>\n     <use xlink:href=\"#DejaVuSans-73\" x=\"280.867188\"/>\n    </g>\n   </g>\n   <g id=\"legend_1\">\n    <g id=\"patch_7\">\n     <path d=\"M 340.075938 61.498 \nL 421.286875 61.498 \nQ 423.286875 61.498 423.286875 59.498 \nL 423.286875 31.14175 \nQ 423.286875 29.14175 421.286875 29.14175 \nL 340.075938 29.14175 \nQ 338.075938 29.14175 338.075938 31.14175 \nL 338.075938 59.498 \nQ 338.075938 61.498 340.075938 61.498 \nz\n\" style=\"fill: #e5e5e5; opacity: 0.8; stroke: #cccccc; stroke-width: 0.5; stroke-linejoin: miter\"/>\n    </g>\n    <g id=\"line2d_411\">\n     <path d=\"M 342.075938 37.240187 \nL 352.075938 37.240187 \nL 362.075938 37.240187 \n\" style=\"fill: none; stroke: #e24a33; stroke-width: 1.5; stroke-linecap: square\"/>\n    </g>\n    <g id=\"text_208\">\n     <!-- Train Loss -->\n     <g transform=\"translate(370.075938 40.740187) scale(0.1 -0.1)\">\n      <defs>\n       <path id=\"DejaVuSans-54\" d=\"M -19 4666 \nL 3928 4666 \nL 3928 4134 \nL 2272 4134 \nL 2272 0 \nL 1638 0 \nL 1638 4134 \nL -19 4134 \nL -19 4666 \nz\n\" transform=\"scale(0.015625)\"/>\n       <path id=\"DejaVuSans-72\" d=\"M 2631 2963 \nQ 2534 3019 2420 3045 \nQ 2306 3072 2169 3072 \nQ 1681 3072 1420 2755 \nQ 1159 2438 1159 1844 \nL 1159 0 \nL 581 0 \nL 581 3500 \nL 1159 3500 \nL 1159 2956 \nQ 1341 3275 1631 3429 \nQ 1922 3584 2338 3584 \nQ 2397 3584 2469 3576 \nQ 2541 3569 2628 3553 \nL 2631 2963 \nz\n\" transform=\"scale(0.015625)\"/>\n       <path id=\"DejaVuSans-61\" d=\"M 2194 1759 \nQ 1497 1759 1228 1600 \nQ 959 1441 959 1056 \nQ 959 750 1161 570 \nQ 1363 391 1709 391 \nQ 2188 391 2477 730 \nQ 2766 1069 2766 1631 \nL 2766 1759 \nL 2194 1759 \nz\nM 3341 1997 \nL 3341 0 \nL 2766 0 \nL 2766 531 \nQ 2569 213 2275 61 \nQ 1981 -91 1556 -91 \nQ 1019 -91 701 211 \nQ 384 513 384 1019 \nQ 384 1609 779 1909 \nQ 1175 2209 1959 2209 \nL 2766 2209 \nL 2766 2266 \nQ 2766 2663 2505 2880 \nQ 2244 3097 1772 3097 \nQ 1472 3097 1187 3025 \nQ 903 2953 641 2809 \nL 641 3341 \nQ 956 3463 1253 3523 \nQ 1550 3584 1831 3584 \nQ 2591 3584 2966 3190 \nQ 3341 2797 3341 1997 \nz\n\" transform=\"scale(0.015625)\"/>\n       <path id=\"DejaVuSans-69\" d=\"M 603 3500 \nL 1178 3500 \nL 1178 0 \nL 603 0 \nL 603 3500 \nz\nM 603 4863 \nL 1178 4863 \nL 1178 4134 \nL 603 4134 \nL 603 4863 \nz\n\" transform=\"scale(0.015625)\"/>\n       <path id=\"DejaVuSans-6e\" d=\"M 3513 2113 \nL 3513 0 \nL 2938 0 \nL 2938 2094 \nQ 2938 2591 2744 2837 \nQ 2550 3084 2163 3084 \nQ 1697 3084 1428 2787 \nQ 1159 2491 1159 1978 \nL 1159 0 \nL 581 0 \nL 581 3500 \nL 1159 3500 \nL 1159 2956 \nQ 1366 3272 1645 3428 \nQ 1925 3584 2291 3584 \nQ 2894 3584 3203 3211 \nQ 3513 2838 3513 2113 \nz\n\" transform=\"scale(0.015625)\"/>\n      </defs>\n      <use xlink:href=\"#DejaVuSans-54\"/>\n      <use xlink:href=\"#DejaVuSans-72\" x=\"46.333984\"/>\n      <use xlink:href=\"#DejaVuSans-61\" x=\"87.447266\"/>\n      <use xlink:href=\"#DejaVuSans-69\" x=\"148.726562\"/>\n      <use xlink:href=\"#DejaVuSans-6e\" x=\"176.509766\"/>\n      <use xlink:href=\"#DejaVuSans-20\" x=\"239.888672\"/>\n      <use xlink:href=\"#DejaVuSans-4c\" x=\"271.675781\"/>\n      <use xlink:href=\"#DejaVuSans-6f\" x=\"325.638672\"/>\n      <use xlink:href=\"#DejaVuSans-73\" x=\"386.820312\"/>\n      <use xlink:href=\"#DejaVuSans-73\" x=\"438.919922\"/>\n     </g>\n    </g>\n    <g id=\"line2d_412\">\n     <path d=\"M 342.075938 51.918312 \nL 352.075938 51.918312 \nL 362.075938 51.918312 \n\" style=\"fill: none; stroke: #348abd; stroke-width: 1.5; stroke-linecap: square\"/>\n    </g>\n    <g id=\"text_209\">\n     <!-- Valid Loss -->\n     <g transform=\"translate(370.075938 55.418312) scale(0.1 -0.1)\">\n      <defs>\n       <path id=\"DejaVuSans-56\" d=\"M 1831 0 \nL 50 4666 \nL 709 4666 \nL 2188 738 \nL 3669 4666 \nL 4325 4666 \nL 2547 0 \nL 1831 0 \nz\n\" transform=\"scale(0.015625)\"/>\n       <path id=\"DejaVuSans-6c\" d=\"M 603 4863 \nL 1178 4863 \nL 1178 0 \nL 603 0 \nL 603 4863 \nz\n\" transform=\"scale(0.015625)\"/>\n       <path id=\"DejaVuSans-64\" d=\"M 2906 2969 \nL 2906 4863 \nL 3481 4863 \nL 3481 0 \nL 2906 0 \nL 2906 525 \nQ 2725 213 2448 61 \nQ 2172 -91 1784 -91 \nQ 1150 -91 751 415 \nQ 353 922 353 1747 \nQ 353 2572 751 3078 \nQ 1150 3584 1784 3584 \nQ 2172 3584 2448 3432 \nQ 2725 3281 2906 2969 \nz\nM 947 1747 \nQ 947 1113 1208 752 \nQ 1469 391 1925 391 \nQ 2381 391 2643 752 \nQ 2906 1113 2906 1747 \nQ 2906 2381 2643 2742 \nQ 2381 3103 1925 3103 \nQ 1469 3103 1208 2742 \nQ 947 2381 947 1747 \nz\n\" transform=\"scale(0.015625)\"/>\n      </defs>\n      <use xlink:href=\"#DejaVuSans-56\"/>\n      <use xlink:href=\"#DejaVuSans-61\" x=\"60.658203\"/>\n      <use xlink:href=\"#DejaVuSans-6c\" x=\"121.9375\"/>\n      <use xlink:href=\"#DejaVuSans-69\" x=\"149.720703\"/>\n      <use xlink:href=\"#DejaVuSans-64\" x=\"177.503906\"/>\n      <use xlink:href=\"#DejaVuSans-20\" x=\"240.980469\"/>\n      <use xlink:href=\"#DejaVuSans-4c\" x=\"272.767578\"/>\n      <use xlink:href=\"#DejaVuSans-6f\" x=\"326.730469\"/>\n      <use xlink:href=\"#DejaVuSans-73\" x=\"387.912109\"/>\n      <use xlink:href=\"#DejaVuSans-73\" x=\"440.011719\"/>\n     </g>\n    </g>\n   </g>\n  </g>\n </g>\n <defs>\n  <clipPath id=\"pc9c66672a5\">\n   <rect x=\"71.166875\" y=\"24.14175\" width=\"357.12\" height=\"266.112\"/>\n  </clipPath>\n </defs>\n</svg>\n"
     },
     "metadata": {},
     "output_type": "display_data"
    }
   ],
   "execution_count": 138
  },
  {
   "cell_type": "markdown",
   "metadata": {
    "id": "jb3JqkXJQR9B"
   },
   "source": [
    "### TF-IDF Performance"
   ]
  },
  {
   "cell_type": "code",
   "metadata": {
    "id": "CD7f_FdEQR9B",
    "ExecuteTime": {
     "end_time": "2024-10-08T15:24:48.443065Z",
     "start_time": "2024-10-08T15:24:48.285518Z"
    }
   },
   "source": [
    "tfidf_model.eval()\n",
    "test_accuracy, n_examples = 0, 0\n",
    "y_true, y_pred = [], []\n",
    "\n",
    "with torch.no_grad():\n",
    "    for seq, bow, tfidf, target, text in test_loader:\n",
    "        inputs = tfidf\n",
    "        probs = tfidf_model(inputs)\n",
    "\n",
    "        probs = probs.detach().cpu().numpy()\n",
    "        predictions = np.argmax(probs, axis=1)\n",
    "        target = target.cpu().numpy()\n",
    "\n",
    "        y_true.extend(predictions)\n",
    "        y_pred.extend(target)\n",
    "\n",
    "print(classification_report(y_true, y_pred))"
   ],
   "outputs": [
    {
     "name": "stdout",
     "output_type": "stream",
     "text": [
      "              precision    recall  f1-score   support\n",
      "\n",
      "           0       0.78      0.82      0.80      1486\n",
      "           1       0.83      0.79      0.81      1621\n",
      "\n",
      "    accuracy                           0.80      3107\n",
      "   macro avg       0.80      0.81      0.80      3107\n",
      "weighted avg       0.81      0.80      0.80      3107\n",
      "\n"
     ]
    }
   ],
   "execution_count": 139
  },
  {
   "cell_type": "code",
   "metadata": {
    "id": "iBp1TrcnQR9E",
    "ExecuteTime": {
     "end_time": "2024-10-08T14:36:43.459151Z",
     "start_time": "2024-10-08T14:36:43.437165Z"
    }
   },
   "source": [
    "print_random_prediction(tfidf_model, n=5, input_type='tfidf')"
   ],
   "outputs": [
    {
     "data": {
      "text/plain": [
       "<IPython.core.display.HTML object>"
      ],
      "text/html": [
       "\n",
       "    <table>\n",
       "    <tbody>\n",
       "    <tr>\n",
       "    <td><b>Number</b>&nbsp;</td>\n",
       "    <td><b>Review</b>&nbsp;</td>\n",
       "    <td><b>Predicted</b>&nbsp;</td>\n",
       "    <td><b>Actual</b>&nbsp;</td>\n",
       "    </tr>\n",
       "            <tr>\n",
       "            <td>1&nbsp;</td>\n",
       "            <td>Johnny and Jeremy are vampires of sorts. Minus the fangs, of course. They're dark, bitter creatures with nothing better to do than to spread their own misery. Through their charms (namely a sharp tongue and a fat wallet, respectively) they seduce desperate souls, who they proceed to torment and victimize. That's more or less the basis of this black comedy, as I understand it.<br /><br />It's not a blend of black humor that I can easily subscribe to, partly because it bothers me to imagine the audience rooting for the sleazy, main character. I did enjoy, however, the sound and the melody of the rapid-fire (and supposedly very witty) remarks. I was very impressed by the cast's strong acting, particularly David Thelis's; only the character of Jeremy seemed too bi-dimensional. The photography and the music, both dramatic and somber, work very well together. <br /><br />What really turns me off about \"Naked\" (and the main reason I'd never recommend it to anyone) is the way it repeatedly seems to present misogyny as a valid way to vent one's angst. In other words, in a world that sucks so bad, what difference does it make if one inflicts some pain on girls, right? To suggest (as some have on this website) that Johnny is not so unkind a person because he's not as rough on girls as Jeremy, seems completely absurd to me. They're both terrible, nasty people. And they're particularly keen on hurting women every single time they get a chance. One could argue that Johnny eventually gets what he deserves, as if his bad karma suddenly swung straight back and bit him in the ass. But still, his and Jeremy's sadistic behavior are treated to a certain degree as a laughing matter. And I could be wrong, but I'm guessing that most people who absolutely love this movie also find that aspect of the film darkly comical.&nbsp;</td>\n",
       "            <td>😡&nbsp;</td>\n",
       "            <td>😡&nbsp;</td>\n",
       "            </tr>\n",
       "            \n",
       "\n",
       "            <tr>\n",
       "            <td>2&nbsp;</td>\n",
       "            <td>I admit to being in awe of the Sea and have spent a number of years in the Navy, so I am somewhat biased on this one. I missed this documentary when it first came out but nagged various people to buy me it on DVD this Christmas (2002) and I got it! Some of the film is amazing and I have a lot of respect for those who make these kinds of documentaries, to see 200 ton Blue Whales 'cruising' through the Sea is an incredible sight, they looked like submarines. I like the level of information and facts conveyed through the narration, it is just right, I don't want to know a load of science just some of the basics, to see these things is enough for most people. The BBC has a knack of putting things at the right level for the intended audience.<br /><br />A really great documentary, up there with 'The World at War for' me, the DVD is of excellent quality. If I had a minor criticism it would be some of the obviously added sound effects here and there, I think they detract from some of the scenes. But well done to the BBC and Discovery.&nbsp;</td>\n",
       "            <td>😄&nbsp;</td>\n",
       "            <td>😄&nbsp;</td>\n",
       "            </tr>\n",
       "            \n",
       "\n",
       "            <tr>\n",
       "            <td>3&nbsp;</td>\n",
       "            <td>\"Lifeforce\" is a truly bizarre adaptation of the novel \"The Space Vampires\" by Colin Wilson, scripted by Dan O'Bannon & Don Jakoby. A joint American-British space exploration team makes a mind-boggling discovery: an alien spacecraft resting inside Halleys' Comet, containing three entities that look like people, one of them a female beauty (the oh-so-alluring Mathilda May).<br /><br />They take these discoveries back on board their own spacecraft. Big mistake.<br /><br />It turns out that these creatures drain the life out of human beings, and as American colonel Carlsen (an intense, edgy, and committed Steve Railsback) and British S.A.S. colonel Caine (a solid Peter Firth) watch in horror, an infestation of vampirism overtakes London, with the fate of Earth in the balance.<br /><br />This picture certainly is not lacking in imagination. It moves a little slowly at times but offers so many strange and fanciful ideas and eye-popping visuals that it's hard not to be amused. The first of director Tobe Hoopers' three-picture deal with Cannon Films (he followed it up with \"Texas Chainsaw Massacre II\" and the \"Invaders from Mars\" remake), he makes it something truly unique. Incorporating elements of sci-fi, vampire films, zombie films, and end-of-the-world sagas, it's like nothing that I've seen before.<br /><br />Railsback and Firth are ably supported by such strong Brit actors as Frank Finlay, Patrick Stewart, Michael Gothard, Aubrey Morris, and John Hallam. Mathilda May is very memorable as the bewitching, enigmatic villainess; it certainly doesn't hurt that she performs a great deal of her scenes in the nude. Also worth noting is a stirring music score from none other than \"Pink Panther\" composer Henry Mancini.<br /><br />Ridiculous it may be, but I found it to be fun as well. It's flamboyant and spirited entertainment.<br /><br />8/10&nbsp;</td>\n",
       "            <td>😄&nbsp;</td>\n",
       "            <td>😄&nbsp;</td>\n",
       "            </tr>\n",
       "            \n",
       "\n",
       "            <tr>\n",
       "            <td>4&nbsp;</td>\n",
       "            <td>I would like to know who conned the producers of this movie to pay for its production - That persion is a genius of sorts. This movie somehow held my attention for about two thirds of it until I realized that it was going nowhere fast. I think the music managed to make it seem like something was going on, but nothing really was. It was not scary. The dialog was poorly written. The first 90 minutes should have been covered in about 15 minutes. This would have been a moderately acceptable Twilight Zone or Outer Limits episode.<br /><br />At this point I'm just mad that I wasted all that time. That's a couple hours that I will never get back.<br /><br />I hope these comments save someone from wasting their evening. Take a nap or hit the gym instead. Or if you want to be scared, turn on a cable news channel.&nbsp;</td>\n",
       "            <td>😡&nbsp;</td>\n",
       "            <td>😡&nbsp;</td>\n",
       "            </tr>\n",
       "            \n",
       "\n",
       "            <tr>\n",
       "            <td>5&nbsp;</td>\n",
       "            <td>By the mid 1990s, the career of animator-director Don Bluth had seemed to drop to its all-time low. Before, Bluth had made a series of popular animated films, many which remain beloved today such as \"The Land Before Time\" (1988), \"The Secret of NIMH\" (1982), and \"An American Tail\" (1986). But beginning with \"Thumbelina\" in 1994, his films seemed to decrease more and more in quality and popularity and one of the many unfortunate entries is 1995's box office bomb \"The Pebble and the Penguin\", a film that didn't attract audience members beyond parents and children under the age of seven. Frankly, the latter are the only audience members I can comprehend taking enjoyment out of this rather bland animated feature.<br /><br />The story is absurd. The film stars a poorly-drawn, stammering, and chubby penguin named Hubie (voiced by Martin Short) who falls in love with a female penguin with a surprisingly healthy flower on her head (voice by Annie Golden). SORT OF like in real life, penguins present their bride-to-bes with a pebble as a substitute for a ring. But when Hubie is swept away by the current, he teams up with a lone rockhopper (James Belushi) with a dream of flying and they race against time to return to Antarctica before it's too late. The reasons why they could be too late is one of many underdeveloped elements of this weak story that would still be weak even if they were there.<br /><br />It becomes very clear very early on why this animated children's musical does not and will not work for anybody older than say six or seven years of age. It just does not have any of the qualities that are required for a good animated feature. Number one, the film looks bad on account of a very poor drawing style. The animation in this film is very cartoony (even as far as animated films go); it's dark, gloomy, there is no vibrancy in the colors, and on top of that, the design of the film and the elements in it are universally droll and laughable. Take for instance, the penguins who star in the film. With only a few background exceptions, every single penguin looks absolutely nothing at all like a bird. Hubie, for example, looks absurdly ridiculous with wide cheeks, a stubby beak, big eyes, and that preposterous hat that he wears wherever he goes. Combined with his hand-like \"flippers\" he looks like Chris Farley in a penguin suit. Result: he's an ugly, poorly-drawn cartoon character. But the most absurd-looking and absurdly-designed character is the evil penguin, Drake, who frankly looks nothing at all like a penguin. He's a muscle-man wearing a penguin mask. He's got a chest broader than that of Arnold Schwarzenegger, and teeth larger than the teeth of the leopard seals and killer whales that serve as the film's predators. Basically, he's a two-dimensional, recycled villain. He lives in a cave shaped like a skull, he wears a cape, laughs a lot, and gets mad when people laugh with him. Result: who cares? And what's also bad, and maybe worse, is that this is an animated musical and there's not a single noteworthy or memorable song to found anywhere within its running time. The opening hymn was harmlessÂ?not memorable, but harmless. But after that, the songs became duller and duller and there was one in particular that had me grimacing all the way through. It's the moment that viewers press the fast-forward button for whenever it comes up.<br /><br />I felt \"The Pebble and the Penguin\" was lame all around save for the very few moments when Hubie and the rockhopper penguin Rocko are placed in peril at the jaws of leopard seals and killer whales, who were thankfully, given no dialogue and treated as animals instead of cartoon characters. But in a way, for this reason, I cannot wholeheartedly recommend this movie to children. This is the reason. The film displays killer whales are the natural predator of the penguins. My concern is that children familiar with \"Free Willy\" (1993) may be offended or downhearted by seeing their favorite denizen of the sea portrayed as a bloodthirsty carnivore. The leopard seal was a better antagonist and was more funny seeing as how his jaws opened wider than a rattlesnake's and how he appeared to smile while growling. But the point really is, these moments with the predatorsÂ?and there are only a fewÂ?are the only interesting moments. And they're not enormously interesting, mind you.<br /><br />Bottom line, I cannot recommend this to anybody below the age of seven. My advice: if you have children around that page, rent it for them. They might enjoy it.&nbsp;</td>\n",
       "            <td>😡&nbsp;</td>\n",
       "            <td>😡&nbsp;</td>\n",
       "            </tr>\n",
       "            \n",
       "    </tbody>\n",
       "    </table>\n",
       "    "
      ]
     },
     "metadata": {},
     "output_type": "display_data"
    }
   ],
   "execution_count": 121
  },
  {
   "cell_type": "markdown",
   "metadata": {
    "id": "17mRlwN2QWUj"
   },
   "source": [
    "## Quiz 1: Build your own Neural Logistic Regression Text Classifier\n",
    "\n",
    "\n",
    "- Input: BoW vector or TF-IDF vector\n",
    "- 2 Affine layer (what are the dimensions of input and output?)\n",
    "- 1 Softmax activation"
   ]
  },
  {
   "cell_type": "code",
   "metadata": {
    "id": "d15zhDh1OTCp",
    "ExecuteTime": {
     "end_time": "2024-10-08T18:09:40.906654Z",
     "start_time": "2024-10-08T18:09:40.903404Z"
    }
   },
   "source": [
    "# Define hidden layer size and training parameter\n",
    "HIDDEN1 = 250  # @param [\"10\",\"30\",\"50\",\"100\",\"200\",\"500\"] {\"type\":\"raw\",\"allow-input\":true}\n",
    "HIDDEN2 = 50  #@param [10, 30, 50, 100, 200, 500] {allow-input: true}\n",
    "DROPOUT_PUB = 0.5\n",
    "LEARNING_RATE = 5e-4\n",
    "WEIGHT_DECAY = 1e-4"
   ],
   "outputs": [],
   "execution_count": 239
  },
  {
   "cell_type": "code",
   "metadata": {
    "id": "OfKe8uzUQfdJ",
    "ExecuteTime": {
     "end_time": "2024-10-08T18:09:43.091381Z",
     "start_time": "2024-10-08T18:09:43.087606Z"
    }
   },
   "source": [
    "## define your feedforward neural networks:\n",
    "class FeedfowardTextClassifier(nn.Module):\n",
    "    def __init__(self, vocab_size, HIDDEN1, HIDDEN2, num_labels, dropout_pub=0.5):  # pass layer dimension\n",
    "        super(FeedfowardTextClassifier, self).__init__()\n",
    "        self.fc1 = nn.Linear(vocab_size, HIDDEN1)  # First hidden layer\n",
    "        self.fc2 = nn.Linear(HIDDEN1, HIDDEN2)  # second hidden layer\n",
    "        self.fc3 = nn.Linear(HIDDEN2, num_labels)  # Output layer\n",
    "        self.dropout = nn.Dropout(dropout_pub)\n",
    "        ## add layers\n",
    "\n",
    "    def forward(self, x):\n",
    "        x = torch.FloatTensor(x).to(device)\n",
    "        x = F.relu(self.fc1(x))  # First layer + activation function\n",
    "        x = self.dropout(x)\n",
    "        x = F.relu(self.fc2(x))  # Second layer + activation function\n",
    "        x = self.dropout(x)\n",
    "        return torch.softmax(self.fc3(x), dim=-1)  # softmax output\n",
    "        ## pass through affine layer & activation"
   ],
   "outputs": [],
   "execution_count": 240
  },
  {
   "cell_type": "code",
   "metadata": {
    "id": "JyvgjZ66WrXs",
    "ExecuteTime": {
     "end_time": "2024-10-08T18:09:45.232446Z",
     "start_time": "2024-10-08T18:09:45.227512Z"
    }
   },
   "source": [
    "neural_model = FeedfowardTextClassifier(\n",
    "    ## your code here\n",
    "    vocab_size=len(dataset.token2idx),\n",
    "    HIDDEN1=HIDDEN1,\n",
    "    HIDDEN2=HIDDEN2,\n",
    "    num_labels=2,\n",
    "    dropout_pub=DROPOUT_PUB,\n",
    ")\n",
    "neural_model"
   ],
   "outputs": [
    {
     "data": {
      "text/plain": [
       "FeedfowardTextClassifier(\n",
       "  (fc1): Linear(in_features=990, out_features=250, bias=True)\n",
       "  (fc2): Linear(in_features=250, out_features=50, bias=True)\n",
       "  (fc3): Linear(in_features=50, out_features=2, bias=True)\n",
       "  (dropout): Dropout(p=0.5, inplace=False)\n",
       ")"
      ]
     },
     "execution_count": 241,
     "metadata": {},
     "output_type": "execute_result"
    }
   ],
   "execution_count": 241
  },
  {
   "cell_type": "code",
   "metadata": {
    "id": "ZBnDTmr5XJGJ",
    "ExecuteTime": {
     "end_time": "2024-10-08T18:09:48.427649Z",
     "start_time": "2024-10-08T18:09:48.423457Z"
    }
   },
   "source": [
    "criterion = nn.CrossEntropyLoss()\n",
    "optimizer = optim.Adam(\n",
    "    filter(lambda p: p.requires_grad, neural_model.parameters()),\n",
    "    lr=LEARNING_RATE,  #try add weight_decay\n",
    "    weight_decay=WEIGHT_DECAY,\n",
    ")\n",
    "scheduler = CosineAnnealingLR(optimizer, 1)"
   ],
   "outputs": [],
   "execution_count": 242
  },
  {
   "cell_type": "code",
   "metadata": {
    "id": "KOaGLcA6Xa-A",
    "ExecuteTime": {
     "end_time": "2024-10-08T18:15:24.906179Z",
     "start_time": "2024-10-08T18:09:52.508587Z"
    }
   },
   "source": [
    "## Run training & validation\n",
    "n_epochs = 0\n",
    "train_losses, valid_losses = [], []\n",
    "while True:\n",
    "    train_loss = train_epoch(neural_model, optimizer, train_loader, input_type='tfidf')\n",
    "    valid_loss = validate_epoch(neural_model, valid_loader, input_type='tfidf')\n",
    "\n",
    "    tqdm.write(\n",
    "        f'epoch #{n_epochs + 1:3d}\\ttrain_loss: {train_loss:.2e}\\tvalid_loss: {valid_loss:.2e}\\n',\n",
    "    )\n",
    "\n",
    "    # Early stopping if the current valid_loss is greater than the last three valid losses\n",
    "    if len(valid_losses) > 2 and all(valid_loss >= loss for loss in valid_losses[-4:]):\n",
    "        print('Stopping early')\n",
    "        break\n",
    "\n",
    "    if n_epochs > 200:\n",
    "        print('Enough training')\n",
    "        break\n",
    "\n",
    "    train_losses.append(train_loss)\n",
    "    valid_losses.append(valid_loss)\n",
    "\n",
    "    n_epochs += 1"
   ],
   "outputs": [
    {
     "name": "stdout",
     "output_type": "stream",
     "text": [
      "epoch #  1\ttrain_loss: 4.51e-03\tvalid_loss: 3.74e-03\n",
      "\n",
      "epoch #  2\ttrain_loss: 3.62e-03\tvalid_loss: 3.65e-03\n",
      "\n",
      "epoch #  3\ttrain_loss: 3.55e-03\tvalid_loss: 3.64e-03\n",
      "\n",
      "epoch #  4\ttrain_loss: 3.51e-03\tvalid_loss: 3.63e-03\n",
      "\n",
      "epoch #  5\ttrain_loss: 3.49e-03\tvalid_loss: 3.64e-03\n",
      "\n",
      "epoch #  6\ttrain_loss: 3.48e-03\tvalid_loss: 3.64e-03\n",
      "\n",
      "epoch #  7\ttrain_loss: 3.47e-03\tvalid_loss: 3.64e-03\n",
      "\n",
      "epoch #  8\ttrain_loss: 3.46e-03\tvalid_loss: 3.63e-03\n",
      "\n",
      "epoch #  9\ttrain_loss: 3.45e-03\tvalid_loss: 3.63e-03\n",
      "\n",
      "epoch # 10\ttrain_loss: 3.44e-03\tvalid_loss: 3.64e-03\n",
      "\n",
      "epoch # 11\ttrain_loss: 3.43e-03\tvalid_loss: 3.64e-03\n",
      "\n",
      "epoch # 12\ttrain_loss: 3.42e-03\tvalid_loss: 3.63e-03\n",
      "\n",
      "epoch # 13\ttrain_loss: 3.41e-03\tvalid_loss: 3.62e-03\n",
      "\n",
      "epoch # 14\ttrain_loss: 3.39e-03\tvalid_loss: 3.61e-03\n",
      "\n",
      "epoch # 15\ttrain_loss: 3.37e-03\tvalid_loss: 3.61e-03\n",
      "\n",
      "epoch # 16\ttrain_loss: 3.35e-03\tvalid_loss: 3.60e-03\n",
      "\n",
      "epoch # 17\ttrain_loss: 3.33e-03\tvalid_loss: 3.59e-03\n",
      "\n",
      "epoch # 18\ttrain_loss: 3.31e-03\tvalid_loss: 3.58e-03\n",
      "\n",
      "epoch # 19\ttrain_loss: 3.29e-03\tvalid_loss: 3.57e-03\n",
      "\n",
      "epoch # 20\ttrain_loss: 3.27e-03\tvalid_loss: 3.56e-03\n",
      "\n",
      "epoch # 21\ttrain_loss: 3.24e-03\tvalid_loss: 3.55e-03\n",
      "\n",
      "epoch # 22\ttrain_loss: 3.23e-03\tvalid_loss: 3.54e-03\n",
      "\n",
      "epoch # 23\ttrain_loss: 3.20e-03\tvalid_loss: 3.54e-03\n",
      "\n",
      "epoch # 24\ttrain_loss: 3.18e-03\tvalid_loss: 3.52e-03\n",
      "\n",
      "epoch # 25\ttrain_loss: 3.16e-03\tvalid_loss: 3.51e-03\n",
      "\n",
      "epoch # 26\ttrain_loss: 3.14e-03\tvalid_loss: 3.50e-03\n",
      "\n",
      "epoch # 27\ttrain_loss: 3.12e-03\tvalid_loss: 3.50e-03\n",
      "\n",
      "epoch # 28\ttrain_loss: 3.11e-03\tvalid_loss: 3.49e-03\n",
      "\n",
      "epoch # 29\ttrain_loss: 3.09e-03\tvalid_loss: 3.49e-03\n",
      "\n",
      "epoch # 30\ttrain_loss: 3.07e-03\tvalid_loss: 3.49e-03\n",
      "\n",
      "epoch # 31\ttrain_loss: 3.06e-03\tvalid_loss: 3.48e-03\n",
      "\n",
      "epoch # 32\ttrain_loss: 3.05e-03\tvalid_loss: 3.48e-03\n",
      "\n",
      "epoch # 33\ttrain_loss: 3.03e-03\tvalid_loss: 3.47e-03\n",
      "\n",
      "epoch # 34\ttrain_loss: 3.02e-03\tvalid_loss: 3.46e-03\n",
      "\n",
      "epoch # 35\ttrain_loss: 3.01e-03\tvalid_loss: 3.46e-03\n",
      "\n",
      "epoch # 36\ttrain_loss: 3.00e-03\tvalid_loss: 3.45e-03\n",
      "\n",
      "epoch # 37\ttrain_loss: 2.99e-03\tvalid_loss: 3.45e-03\n",
      "\n",
      "epoch # 38\ttrain_loss: 2.98e-03\tvalid_loss: 3.44e-03\n",
      "\n",
      "epoch # 39\ttrain_loss: 2.98e-03\tvalid_loss: 3.43e-03\n",
      "\n",
      "epoch # 40\ttrain_loss: 2.96e-03\tvalid_loss: 3.42e-03\n",
      "\n",
      "epoch # 41\ttrain_loss: 2.95e-03\tvalid_loss: 3.42e-03\n",
      "\n",
      "epoch # 42\ttrain_loss: 2.95e-03\tvalid_loss: 3.42e-03\n",
      "\n",
      "epoch # 43\ttrain_loss: 2.94e-03\tvalid_loss: 3.41e-03\n",
      "\n",
      "epoch # 44\ttrain_loss: 2.93e-03\tvalid_loss: 3.41e-03\n",
      "\n",
      "epoch # 45\ttrain_loss: 2.92e-03\tvalid_loss: 3.40e-03\n",
      "\n",
      "epoch # 46\ttrain_loss: 2.91e-03\tvalid_loss: 3.41e-03\n",
      "\n",
      "epoch # 47\ttrain_loss: 2.90e-03\tvalid_loss: 3.39e-03\n",
      "\n",
      "epoch # 48\ttrain_loss: 2.90e-03\tvalid_loss: 3.39e-03\n",
      "\n",
      "epoch # 49\ttrain_loss: 2.89e-03\tvalid_loss: 3.38e-03\n",
      "\n",
      "epoch # 50\ttrain_loss: 2.88e-03\tvalid_loss: 3.38e-03\n",
      "\n",
      "epoch # 51\ttrain_loss: 2.88e-03\tvalid_loss: 3.39e-03\n",
      "\n",
      "epoch # 52\ttrain_loss: 2.87e-03\tvalid_loss: 3.39e-03\n",
      "\n",
      "epoch # 53\ttrain_loss: 2.87e-03\tvalid_loss: 3.38e-03\n",
      "\n",
      "epoch # 54\ttrain_loss: 2.85e-03\tvalid_loss: 3.38e-03\n",
      "\n",
      "epoch # 55\ttrain_loss: 2.85e-03\tvalid_loss: 3.37e-03\n",
      "\n",
      "epoch # 56\ttrain_loss: 2.85e-03\tvalid_loss: 3.38e-03\n",
      "\n",
      "epoch # 57\ttrain_loss: 2.84e-03\tvalid_loss: 3.37e-03\n",
      "\n",
      "epoch # 58\ttrain_loss: 2.83e-03\tvalid_loss: 3.37e-03\n",
      "\n",
      "epoch # 59\ttrain_loss: 2.83e-03\tvalid_loss: 3.36e-03\n",
      "\n",
      "epoch # 60\ttrain_loss: 2.82e-03\tvalid_loss: 3.36e-03\n",
      "\n",
      "epoch # 61\ttrain_loss: 2.81e-03\tvalid_loss: 3.35e-03\n",
      "\n",
      "epoch # 62\ttrain_loss: 2.81e-03\tvalid_loss: 3.34e-03\n",
      "\n",
      "epoch # 63\ttrain_loss: 2.80e-03\tvalid_loss: 3.34e-03\n",
      "\n",
      "epoch # 64\ttrain_loss: 2.80e-03\tvalid_loss: 3.34e-03\n",
      "\n",
      "epoch # 65\ttrain_loss: 2.80e-03\tvalid_loss: 3.35e-03\n",
      "\n",
      "epoch # 66\ttrain_loss: 2.79e-03\tvalid_loss: 3.34e-03\n",
      "\n",
      "epoch # 67\ttrain_loss: 2.79e-03\tvalid_loss: 3.34e-03\n",
      "\n",
      "epoch # 68\ttrain_loss: 2.79e-03\tvalid_loss: 3.33e-03\n",
      "\n",
      "epoch # 69\ttrain_loss: 2.78e-03\tvalid_loss: 3.33e-03\n",
      "\n",
      "epoch # 70\ttrain_loss: 2.78e-03\tvalid_loss: 3.33e-03\n",
      "\n",
      "epoch # 71\ttrain_loss: 2.77e-03\tvalid_loss: 3.33e-03\n",
      "\n",
      "epoch # 72\ttrain_loss: 2.77e-03\tvalid_loss: 3.32e-03\n",
      "\n",
      "epoch # 73\ttrain_loss: 2.77e-03\tvalid_loss: 3.33e-03\n",
      "\n",
      "epoch # 74\ttrain_loss: 2.76e-03\tvalid_loss: 3.32e-03\n",
      "\n",
      "epoch # 75\ttrain_loss: 2.76e-03\tvalid_loss: 3.33e-03\n",
      "\n",
      "epoch # 76\ttrain_loss: 2.76e-03\tvalid_loss: 3.32e-03\n",
      "\n",
      "epoch # 77\ttrain_loss: 2.76e-03\tvalid_loss: 3.33e-03\n",
      "\n",
      "epoch # 78\ttrain_loss: 2.75e-03\tvalid_loss: 3.33e-03\n",
      "\n",
      "epoch # 79\ttrain_loss: 2.75e-03\tvalid_loss: 3.32e-03\n",
      "\n",
      "epoch # 80\ttrain_loss: 2.74e-03\tvalid_loss: 3.32e-03\n",
      "\n",
      "epoch # 81\ttrain_loss: 2.74e-03\tvalid_loss: 3.33e-03\n",
      "\n",
      "Stopping early\n"
     ]
    }
   ],
   "execution_count": 243
  },
  {
   "cell_type": "code",
   "metadata": {
    "id": "w8Vagiy9aK_G",
    "ExecuteTime": {
     "end_time": "2024-10-08T18:15:39.108369Z",
     "start_time": "2024-10-08T18:15:38.904071Z"
    }
   },
   "source": [
    "epoch_ticks = range(1, n_epochs + 1)\n",
    "plt.plot(epoch_ticks, train_losses)\n",
    "plt.plot(epoch_ticks, valid_losses)\n",
    "plt.legend(['Train Loss', 'Valid Loss'])\n",
    "plt.title('Losses')\n",
    "plt.xlabel('Epoch #')\n",
    "plt.ylabel('Loss')\n",
    "plt.xticks(epoch_ticks)\n",
    "plt.show()"
   ],
   "outputs": [
    {
     "data": {
      "text/plain": [
       "<Figure size 640x480 with 1 Axes>"
      ],
      "image/svg+xml": "<?xml version=\"1.0\" encoding=\"utf-8\" standalone=\"no\"?>\n<!DOCTYPE svg PUBLIC \"-//W3C//DTD SVG 1.1//EN\"\n  \"http://www.w3.org/Graphics/SVG/1.1/DTD/svg11.dtd\">\n<svg xmlns:xlink=\"http://www.w3.org/1999/xlink\" width=\"435.486875pt\" height=\"329.745625pt\" viewBox=\"0 0 435.486875 329.745625\" xmlns=\"http://www.w3.org/2000/svg\" version=\"1.1\">\n <metadata>\n  <rdf:RDF xmlns:dc=\"http://purl.org/dc/elements/1.1/\" xmlns:cc=\"http://creativecommons.org/ns#\" xmlns:rdf=\"http://www.w3.org/1999/02/22-rdf-syntax-ns#\">\n   <cc:Work>\n    <dc:type rdf:resource=\"http://purl.org/dc/dcmitype/StillImage\"/>\n    <dc:date>2024-10-09T02:15:39.040528</dc:date>\n    <dc:format>image/svg+xml</dc:format>\n    <dc:creator>\n     <cc:Agent>\n      <dc:title>Matplotlib v3.8.4, https://matplotlib.org/</dc:title>\n     </cc:Agent>\n    </dc:creator>\n   </cc:Work>\n  </rdf:RDF>\n </metadata>\n <defs>\n  <style type=\"text/css\">*{stroke-linejoin: round; stroke-linecap: butt}</style>\n </defs>\n <g id=\"figure_1\">\n  <g id=\"patch_1\">\n   <path d=\"M 0 329.745625 \nL 435.486875 329.745625 \nL 435.486875 0 \nL 0 0 \nz\n\" style=\"fill: #ffffff\"/>\n  </g>\n  <g id=\"axes_1\">\n   <g id=\"patch_2\">\n    <path d=\"M 71.166875 290.25375 \nL 428.286875 290.25375 \nL 428.286875 24.14175 \nL 71.166875 24.14175 \nz\n\" style=\"fill: #e5e5e5\"/>\n   </g>\n   <g id=\"matplotlib.axis_1\">\n    <g id=\"xtick_1\">\n     <g id=\"line2d_1\">\n      <path d=\"M 87.399602 290.25375 \nL 87.399602 24.14175 \n\" clip-path=\"url(#p9abebfdc91)\" style=\"fill: none; stroke: #ffffff; stroke-width: 0.8; stroke-linecap: square\"/>\n     </g>\n     <g id=\"line2d_2\">\n      <defs>\n       <path id=\"m53e6ad25cf\" d=\"M 0 0 \nL 0 3.5 \n\" style=\"stroke: #555555; stroke-width: 0.8\"/>\n      </defs>\n      <g>\n       <use xlink:href=\"#m53e6ad25cf\" x=\"87.399602\" y=\"290.25375\" style=\"fill: #555555; stroke: #555555; stroke-width: 0.8\"/>\n      </g>\n     </g>\n     <g id=\"text_1\">\n      <!-- 1 -->\n      <g style=\"fill: #555555\" transform=\"translate(84.218352 304.852187) scale(0.1 -0.1)\">\n       <defs>\n        <path id=\"DejaVuSans-31\" d=\"M 794 531 \nL 1825 531 \nL 1825 4091 \nL 703 3866 \nL 703 4441 \nL 1819 4666 \nL 2450 4666 \nL 2450 531 \nL 3481 531 \nL 3481 0 \nL 794 0 \nL 794 531 \nz\n\" transform=\"scale(0.015625)\"/>\n       </defs>\n       <use xlink:href=\"#DejaVuSans-31\"/>\n      </g>\n     </g>\n    </g>\n    <g id=\"xtick_2\">\n     <g id=\"line2d_3\">\n      <path d=\"M 91.509153 290.25375 \nL 91.509153 24.14175 \n\" clip-path=\"url(#p9abebfdc91)\" style=\"fill: none; stroke: #ffffff; stroke-width: 0.8; stroke-linecap: square\"/>\n     </g>\n     <g id=\"line2d_4\">\n      <g>\n       <use xlink:href=\"#m53e6ad25cf\" x=\"91.509153\" y=\"290.25375\" style=\"fill: #555555; stroke: #555555; stroke-width: 0.8\"/>\n      </g>\n     </g>\n     <g id=\"text_2\">\n      <!-- 2 -->\n      <g style=\"fill: #555555\" transform=\"translate(88.327903 304.852187) scale(0.1 -0.1)\">\n       <defs>\n        <path id=\"DejaVuSans-32\" d=\"M 1228 531 \nL 3431 531 \nL 3431 0 \nL 469 0 \nL 469 531 \nQ 828 903 1448 1529 \nQ 2069 2156 2228 2338 \nQ 2531 2678 2651 2914 \nQ 2772 3150 2772 3378 \nQ 2772 3750 2511 3984 \nQ 2250 4219 1831 4219 \nQ 1534 4219 1204 4116 \nQ 875 4013 500 3803 \nL 500 4441 \nQ 881 4594 1212 4672 \nQ 1544 4750 1819 4750 \nQ 2544 4750 2975 4387 \nQ 3406 4025 3406 3419 \nQ 3406 3131 3298 2873 \nQ 3191 2616 2906 2266 \nQ 2828 2175 2409 1742 \nQ 1991 1309 1228 531 \nz\n\" transform=\"scale(0.015625)\"/>\n       </defs>\n       <use xlink:href=\"#DejaVuSans-32\"/>\n      </g>\n     </g>\n    </g>\n    <g id=\"xtick_3\">\n     <g id=\"line2d_5\">\n      <path d=\"M 95.618705 290.25375 \nL 95.618705 24.14175 \n\" clip-path=\"url(#p9abebfdc91)\" style=\"fill: none; stroke: #ffffff; stroke-width: 0.8; stroke-linecap: square\"/>\n     </g>\n     <g id=\"line2d_6\">\n      <g>\n       <use xlink:href=\"#m53e6ad25cf\" x=\"95.618705\" y=\"290.25375\" style=\"fill: #555555; stroke: #555555; stroke-width: 0.8\"/>\n      </g>\n     </g>\n     <g id=\"text_3\">\n      <!-- 3 -->\n      <g style=\"fill: #555555\" transform=\"translate(92.437455 304.852187) scale(0.1 -0.1)\">\n       <defs>\n        <path id=\"DejaVuSans-33\" d=\"M 2597 2516 \nQ 3050 2419 3304 2112 \nQ 3559 1806 3559 1356 \nQ 3559 666 3084 287 \nQ 2609 -91 1734 -91 \nQ 1441 -91 1130 -33 \nQ 819 25 488 141 \nL 488 750 \nQ 750 597 1062 519 \nQ 1375 441 1716 441 \nQ 2309 441 2620 675 \nQ 2931 909 2931 1356 \nQ 2931 1769 2642 2001 \nQ 2353 2234 1838 2234 \nL 1294 2234 \nL 1294 2753 \nL 1863 2753 \nQ 2328 2753 2575 2939 \nQ 2822 3125 2822 3475 \nQ 2822 3834 2567 4026 \nQ 2313 4219 1838 4219 \nQ 1578 4219 1281 4162 \nQ 984 4106 628 3988 \nL 628 4550 \nQ 988 4650 1302 4700 \nQ 1616 4750 1894 4750 \nQ 2613 4750 3031 4423 \nQ 3450 4097 3450 3541 \nQ 3450 3153 3228 2886 \nQ 3006 2619 2597 2516 \nz\n\" transform=\"scale(0.015625)\"/>\n       </defs>\n       <use xlink:href=\"#DejaVuSans-33\"/>\n      </g>\n     </g>\n    </g>\n    <g id=\"xtick_4\">\n     <g id=\"line2d_7\">\n      <path d=\"M 99.728256 290.25375 \nL 99.728256 24.14175 \n\" clip-path=\"url(#p9abebfdc91)\" style=\"fill: none; stroke: #ffffff; stroke-width: 0.8; stroke-linecap: square\"/>\n     </g>\n     <g id=\"line2d_8\">\n      <g>\n       <use xlink:href=\"#m53e6ad25cf\" x=\"99.728256\" y=\"290.25375\" style=\"fill: #555555; stroke: #555555; stroke-width: 0.8\"/>\n      </g>\n     </g>\n     <g id=\"text_4\">\n      <!-- 4 -->\n      <g style=\"fill: #555555\" transform=\"translate(96.547006 304.852187) scale(0.1 -0.1)\">\n       <defs>\n        <path id=\"DejaVuSans-34\" d=\"M 2419 4116 \nL 825 1625 \nL 2419 1625 \nL 2419 4116 \nz\nM 2253 4666 \nL 3047 4666 \nL 3047 1625 \nL 3713 1625 \nL 3713 1100 \nL 3047 1100 \nL 3047 0 \nL 2419 0 \nL 2419 1100 \nL 313 1100 \nL 313 1709 \nL 2253 4666 \nz\n\" transform=\"scale(0.015625)\"/>\n       </defs>\n       <use xlink:href=\"#DejaVuSans-34\"/>\n      </g>\n     </g>\n    </g>\n    <g id=\"xtick_5\">\n     <g id=\"line2d_9\">\n      <path d=\"M 103.837807 290.25375 \nL 103.837807 24.14175 \n\" clip-path=\"url(#p9abebfdc91)\" style=\"fill: none; stroke: #ffffff; stroke-width: 0.8; stroke-linecap: square\"/>\n     </g>\n     <g id=\"line2d_10\">\n      <g>\n       <use xlink:href=\"#m53e6ad25cf\" x=\"103.837807\" y=\"290.25375\" style=\"fill: #555555; stroke: #555555; stroke-width: 0.8\"/>\n      </g>\n     </g>\n     <g id=\"text_5\">\n      <!-- 5 -->\n      <g style=\"fill: #555555\" transform=\"translate(100.656557 304.852187) scale(0.1 -0.1)\">\n       <defs>\n        <path id=\"DejaVuSans-35\" d=\"M 691 4666 \nL 3169 4666 \nL 3169 4134 \nL 1269 4134 \nL 1269 2991 \nQ 1406 3038 1543 3061 \nQ 1681 3084 1819 3084 \nQ 2600 3084 3056 2656 \nQ 3513 2228 3513 1497 \nQ 3513 744 3044 326 \nQ 2575 -91 1722 -91 \nQ 1428 -91 1123 -41 \nQ 819 9 494 109 \nL 494 744 \nQ 775 591 1075 516 \nQ 1375 441 1709 441 \nQ 2250 441 2565 725 \nQ 2881 1009 2881 1497 \nQ 2881 1984 2565 2268 \nQ 2250 2553 1709 2553 \nQ 1456 2553 1204 2497 \nQ 953 2441 691 2322 \nL 691 4666 \nz\n\" transform=\"scale(0.015625)\"/>\n       </defs>\n       <use xlink:href=\"#DejaVuSans-35\"/>\n      </g>\n     </g>\n    </g>\n    <g id=\"xtick_6\">\n     <g id=\"line2d_11\">\n      <path d=\"M 107.947358 290.25375 \nL 107.947358 24.14175 \n\" clip-path=\"url(#p9abebfdc91)\" style=\"fill: none; stroke: #ffffff; stroke-width: 0.8; stroke-linecap: square\"/>\n     </g>\n     <g id=\"line2d_12\">\n      <g>\n       <use xlink:href=\"#m53e6ad25cf\" x=\"107.947358\" y=\"290.25375\" style=\"fill: #555555; stroke: #555555; stroke-width: 0.8\"/>\n      </g>\n     </g>\n     <g id=\"text_6\">\n      <!-- 6 -->\n      <g style=\"fill: #555555\" transform=\"translate(104.766108 304.852187) scale(0.1 -0.1)\">\n       <defs>\n        <path id=\"DejaVuSans-36\" d=\"M 2113 2584 \nQ 1688 2584 1439 2293 \nQ 1191 2003 1191 1497 \nQ 1191 994 1439 701 \nQ 1688 409 2113 409 \nQ 2538 409 2786 701 \nQ 3034 994 3034 1497 \nQ 3034 2003 2786 2293 \nQ 2538 2584 2113 2584 \nz\nM 3366 4563 \nL 3366 3988 \nQ 3128 4100 2886 4159 \nQ 2644 4219 2406 4219 \nQ 1781 4219 1451 3797 \nQ 1122 3375 1075 2522 \nQ 1259 2794 1537 2939 \nQ 1816 3084 2150 3084 \nQ 2853 3084 3261 2657 \nQ 3669 2231 3669 1497 \nQ 3669 778 3244 343 \nQ 2819 -91 2113 -91 \nQ 1303 -91 875 529 \nQ 447 1150 447 2328 \nQ 447 3434 972 4092 \nQ 1497 4750 2381 4750 \nQ 2619 4750 2861 4703 \nQ 3103 4656 3366 4563 \nz\n\" transform=\"scale(0.015625)\"/>\n       </defs>\n       <use xlink:href=\"#DejaVuSans-36\"/>\n      </g>\n     </g>\n    </g>\n    <g id=\"xtick_7\">\n     <g id=\"line2d_13\">\n      <path d=\"M 112.05691 290.25375 \nL 112.05691 24.14175 \n\" clip-path=\"url(#p9abebfdc91)\" style=\"fill: none; stroke: #ffffff; stroke-width: 0.8; stroke-linecap: square\"/>\n     </g>\n     <g id=\"line2d_14\">\n      <g>\n       <use xlink:href=\"#m53e6ad25cf\" x=\"112.05691\" y=\"290.25375\" style=\"fill: #555555; stroke: #555555; stroke-width: 0.8\"/>\n      </g>\n     </g>\n     <g id=\"text_7\">\n      <!-- 7 -->\n      <g style=\"fill: #555555\" transform=\"translate(108.87566 304.852187) scale(0.1 -0.1)\">\n       <defs>\n        <path id=\"DejaVuSans-37\" d=\"M 525 4666 \nL 3525 4666 \nL 3525 4397 \nL 1831 0 \nL 1172 0 \nL 2766 4134 \nL 525 4134 \nL 525 4666 \nz\n\" transform=\"scale(0.015625)\"/>\n       </defs>\n       <use xlink:href=\"#DejaVuSans-37\"/>\n      </g>\n     </g>\n    </g>\n    <g id=\"xtick_8\">\n     <g id=\"line2d_15\">\n      <path d=\"M 116.166461 290.25375 \nL 116.166461 24.14175 \n\" clip-path=\"url(#p9abebfdc91)\" style=\"fill: none; stroke: #ffffff; stroke-width: 0.8; stroke-linecap: square\"/>\n     </g>\n     <g id=\"line2d_16\">\n      <g>\n       <use xlink:href=\"#m53e6ad25cf\" x=\"116.166461\" y=\"290.25375\" style=\"fill: #555555; stroke: #555555; stroke-width: 0.8\"/>\n      </g>\n     </g>\n     <g id=\"text_8\">\n      <!-- 8 -->\n      <g style=\"fill: #555555\" transform=\"translate(112.985211 304.852187) scale(0.1 -0.1)\">\n       <defs>\n        <path id=\"DejaVuSans-38\" d=\"M 2034 2216 \nQ 1584 2216 1326 1975 \nQ 1069 1734 1069 1313 \nQ 1069 891 1326 650 \nQ 1584 409 2034 409 \nQ 2484 409 2743 651 \nQ 3003 894 3003 1313 \nQ 3003 1734 2745 1975 \nQ 2488 2216 2034 2216 \nz\nM 1403 2484 \nQ 997 2584 770 2862 \nQ 544 3141 544 3541 \nQ 544 4100 942 4425 \nQ 1341 4750 2034 4750 \nQ 2731 4750 3128 4425 \nQ 3525 4100 3525 3541 \nQ 3525 3141 3298 2862 \nQ 3072 2584 2669 2484 \nQ 3125 2378 3379 2068 \nQ 3634 1759 3634 1313 \nQ 3634 634 3220 271 \nQ 2806 -91 2034 -91 \nQ 1263 -91 848 271 \nQ 434 634 434 1313 \nQ 434 1759 690 2068 \nQ 947 2378 1403 2484 \nz\nM 1172 3481 \nQ 1172 3119 1398 2916 \nQ 1625 2713 2034 2713 \nQ 2441 2713 2670 2916 \nQ 2900 3119 2900 3481 \nQ 2900 3844 2670 4047 \nQ 2441 4250 2034 4250 \nQ 1625 4250 1398 4047 \nQ 1172 3844 1172 3481 \nz\n\" transform=\"scale(0.015625)\"/>\n       </defs>\n       <use xlink:href=\"#DejaVuSans-38\"/>\n      </g>\n     </g>\n    </g>\n    <g id=\"xtick_9\">\n     <g id=\"line2d_17\">\n      <path d=\"M 120.276012 290.25375 \nL 120.276012 24.14175 \n\" clip-path=\"url(#p9abebfdc91)\" style=\"fill: none; stroke: #ffffff; stroke-width: 0.8; stroke-linecap: square\"/>\n     </g>\n     <g id=\"line2d_18\">\n      <g>\n       <use xlink:href=\"#m53e6ad25cf\" x=\"120.276012\" y=\"290.25375\" style=\"fill: #555555; stroke: #555555; stroke-width: 0.8\"/>\n      </g>\n     </g>\n     <g id=\"text_9\">\n      <!-- 9 -->\n      <g style=\"fill: #555555\" transform=\"translate(117.094762 304.852187) scale(0.1 -0.1)\">\n       <defs>\n        <path id=\"DejaVuSans-39\" d=\"M 703 97 \nL 703 672 \nQ 941 559 1184 500 \nQ 1428 441 1663 441 \nQ 2288 441 2617 861 \nQ 2947 1281 2994 2138 \nQ 2813 1869 2534 1725 \nQ 2256 1581 1919 1581 \nQ 1219 1581 811 2004 \nQ 403 2428 403 3163 \nQ 403 3881 828 4315 \nQ 1253 4750 1959 4750 \nQ 2769 4750 3195 4129 \nQ 3622 3509 3622 2328 \nQ 3622 1225 3098 567 \nQ 2575 -91 1691 -91 \nQ 1453 -91 1209 -44 \nQ 966 3 703 97 \nz\nM 1959 2075 \nQ 2384 2075 2632 2365 \nQ 2881 2656 2881 3163 \nQ 2881 3666 2632 3958 \nQ 2384 4250 1959 4250 \nQ 1534 4250 1286 3958 \nQ 1038 3666 1038 3163 \nQ 1038 2656 1286 2365 \nQ 1534 2075 1959 2075 \nz\n\" transform=\"scale(0.015625)\"/>\n       </defs>\n       <use xlink:href=\"#DejaVuSans-39\"/>\n      </g>\n     </g>\n    </g>\n    <g id=\"xtick_10\">\n     <g id=\"line2d_19\">\n      <path d=\"M 124.385563 290.25375 \nL 124.385563 24.14175 \n\" clip-path=\"url(#p9abebfdc91)\" style=\"fill: none; stroke: #ffffff; stroke-width: 0.8; stroke-linecap: square\"/>\n     </g>\n     <g id=\"line2d_20\">\n      <g>\n       <use xlink:href=\"#m53e6ad25cf\" x=\"124.385563\" y=\"290.25375\" style=\"fill: #555555; stroke: #555555; stroke-width: 0.8\"/>\n      </g>\n     </g>\n     <g id=\"text_10\">\n      <!-- 10 -->\n      <g style=\"fill: #555555\" transform=\"translate(118.023063 304.852187) scale(0.1 -0.1)\">\n       <defs>\n        <path id=\"DejaVuSans-30\" d=\"M 2034 4250 \nQ 1547 4250 1301 3770 \nQ 1056 3291 1056 2328 \nQ 1056 1369 1301 889 \nQ 1547 409 2034 409 \nQ 2525 409 2770 889 \nQ 3016 1369 3016 2328 \nQ 3016 3291 2770 3770 \nQ 2525 4250 2034 4250 \nz\nM 2034 4750 \nQ 2819 4750 3233 4129 \nQ 3647 3509 3647 2328 \nQ 3647 1150 3233 529 \nQ 2819 -91 2034 -91 \nQ 1250 -91 836 529 \nQ 422 1150 422 2328 \nQ 422 3509 836 4129 \nQ 1250 4750 2034 4750 \nz\n\" transform=\"scale(0.015625)\"/>\n       </defs>\n       <use xlink:href=\"#DejaVuSans-31\"/>\n       <use xlink:href=\"#DejaVuSans-30\" x=\"63.623047\"/>\n      </g>\n     </g>\n    </g>\n    <g id=\"xtick_11\">\n     <g id=\"line2d_21\">\n      <path d=\"M 128.495114 290.25375 \nL 128.495114 24.14175 \n\" clip-path=\"url(#p9abebfdc91)\" style=\"fill: none; stroke: #ffffff; stroke-width: 0.8; stroke-linecap: square\"/>\n     </g>\n     <g id=\"line2d_22\">\n      <g>\n       <use xlink:href=\"#m53e6ad25cf\" x=\"128.495114\" y=\"290.25375\" style=\"fill: #555555; stroke: #555555; stroke-width: 0.8\"/>\n      </g>\n     </g>\n     <g id=\"text_11\">\n      <!-- 11 -->\n      <g style=\"fill: #555555\" transform=\"translate(122.132614 304.852187) scale(0.1 -0.1)\">\n       <use xlink:href=\"#DejaVuSans-31\"/>\n       <use xlink:href=\"#DejaVuSans-31\" x=\"63.623047\"/>\n      </g>\n     </g>\n    </g>\n    <g id=\"xtick_12\">\n     <g id=\"line2d_23\">\n      <path d=\"M 132.604666 290.25375 \nL 132.604666 24.14175 \n\" clip-path=\"url(#p9abebfdc91)\" style=\"fill: none; stroke: #ffffff; stroke-width: 0.8; stroke-linecap: square\"/>\n     </g>\n     <g id=\"line2d_24\">\n      <g>\n       <use xlink:href=\"#m53e6ad25cf\" x=\"132.604666\" y=\"290.25375\" style=\"fill: #555555; stroke: #555555; stroke-width: 0.8\"/>\n      </g>\n     </g>\n     <g id=\"text_12\">\n      <!-- 12 -->\n      <g style=\"fill: #555555\" transform=\"translate(126.242166 304.852187) scale(0.1 -0.1)\">\n       <use xlink:href=\"#DejaVuSans-31\"/>\n       <use xlink:href=\"#DejaVuSans-32\" x=\"63.623047\"/>\n      </g>\n     </g>\n    </g>\n    <g id=\"xtick_13\">\n     <g id=\"line2d_25\">\n      <path d=\"M 136.714217 290.25375 \nL 136.714217 24.14175 \n\" clip-path=\"url(#p9abebfdc91)\" style=\"fill: none; stroke: #ffffff; stroke-width: 0.8; stroke-linecap: square\"/>\n     </g>\n     <g id=\"line2d_26\">\n      <g>\n       <use xlink:href=\"#m53e6ad25cf\" x=\"136.714217\" y=\"290.25375\" style=\"fill: #555555; stroke: #555555; stroke-width: 0.8\"/>\n      </g>\n     </g>\n     <g id=\"text_13\">\n      <!-- 13 -->\n      <g style=\"fill: #555555\" transform=\"translate(130.351717 304.852187) scale(0.1 -0.1)\">\n       <use xlink:href=\"#DejaVuSans-31\"/>\n       <use xlink:href=\"#DejaVuSans-33\" x=\"63.623047\"/>\n      </g>\n     </g>\n    </g>\n    <g id=\"xtick_14\">\n     <g id=\"line2d_27\">\n      <path d=\"M 140.823768 290.25375 \nL 140.823768 24.14175 \n\" clip-path=\"url(#p9abebfdc91)\" style=\"fill: none; stroke: #ffffff; stroke-width: 0.8; stroke-linecap: square\"/>\n     </g>\n     <g id=\"line2d_28\">\n      <g>\n       <use xlink:href=\"#m53e6ad25cf\" x=\"140.823768\" y=\"290.25375\" style=\"fill: #555555; stroke: #555555; stroke-width: 0.8\"/>\n      </g>\n     </g>\n     <g id=\"text_14\">\n      <!-- 14 -->\n      <g style=\"fill: #555555\" transform=\"translate(134.461268 304.852187) scale(0.1 -0.1)\">\n       <use xlink:href=\"#DejaVuSans-31\"/>\n       <use xlink:href=\"#DejaVuSans-34\" x=\"63.623047\"/>\n      </g>\n     </g>\n    </g>\n    <g id=\"xtick_15\">\n     <g id=\"line2d_29\">\n      <path d=\"M 144.933319 290.25375 \nL 144.933319 24.14175 \n\" clip-path=\"url(#p9abebfdc91)\" style=\"fill: none; stroke: #ffffff; stroke-width: 0.8; stroke-linecap: square\"/>\n     </g>\n     <g id=\"line2d_30\">\n      <g>\n       <use xlink:href=\"#m53e6ad25cf\" x=\"144.933319\" y=\"290.25375\" style=\"fill: #555555; stroke: #555555; stroke-width: 0.8\"/>\n      </g>\n     </g>\n     <g id=\"text_15\">\n      <!-- 15 -->\n      <g style=\"fill: #555555\" transform=\"translate(138.570819 304.852187) scale(0.1 -0.1)\">\n       <use xlink:href=\"#DejaVuSans-31\"/>\n       <use xlink:href=\"#DejaVuSans-35\" x=\"63.623047\"/>\n      </g>\n     </g>\n    </g>\n    <g id=\"xtick_16\">\n     <g id=\"line2d_31\">\n      <path d=\"M 149.04287 290.25375 \nL 149.04287 24.14175 \n\" clip-path=\"url(#p9abebfdc91)\" style=\"fill: none; stroke: #ffffff; stroke-width: 0.8; stroke-linecap: square\"/>\n     </g>\n     <g id=\"line2d_32\">\n      <g>\n       <use xlink:href=\"#m53e6ad25cf\" x=\"149.04287\" y=\"290.25375\" style=\"fill: #555555; stroke: #555555; stroke-width: 0.8\"/>\n      </g>\n     </g>\n     <g id=\"text_16\">\n      <!-- 16 -->\n      <g style=\"fill: #555555\" transform=\"translate(142.68037 304.852187) scale(0.1 -0.1)\">\n       <use xlink:href=\"#DejaVuSans-31\"/>\n       <use xlink:href=\"#DejaVuSans-36\" x=\"63.623047\"/>\n      </g>\n     </g>\n    </g>\n    <g id=\"xtick_17\">\n     <g id=\"line2d_33\">\n      <path d=\"M 153.152422 290.25375 \nL 153.152422 24.14175 \n\" clip-path=\"url(#p9abebfdc91)\" style=\"fill: none; stroke: #ffffff; stroke-width: 0.8; stroke-linecap: square\"/>\n     </g>\n     <g id=\"line2d_34\">\n      <g>\n       <use xlink:href=\"#m53e6ad25cf\" x=\"153.152422\" y=\"290.25375\" style=\"fill: #555555; stroke: #555555; stroke-width: 0.8\"/>\n      </g>\n     </g>\n     <g id=\"text_17\">\n      <!-- 17 -->\n      <g style=\"fill: #555555\" transform=\"translate(146.789922 304.852187) scale(0.1 -0.1)\">\n       <use xlink:href=\"#DejaVuSans-31\"/>\n       <use xlink:href=\"#DejaVuSans-37\" x=\"63.623047\"/>\n      </g>\n     </g>\n    </g>\n    <g id=\"xtick_18\">\n     <g id=\"line2d_35\">\n      <path d=\"M 157.261973 290.25375 \nL 157.261973 24.14175 \n\" clip-path=\"url(#p9abebfdc91)\" style=\"fill: none; stroke: #ffffff; stroke-width: 0.8; stroke-linecap: square\"/>\n     </g>\n     <g id=\"line2d_36\">\n      <g>\n       <use xlink:href=\"#m53e6ad25cf\" x=\"157.261973\" y=\"290.25375\" style=\"fill: #555555; stroke: #555555; stroke-width: 0.8\"/>\n      </g>\n     </g>\n     <g id=\"text_18\">\n      <!-- 18 -->\n      <g style=\"fill: #555555\" transform=\"translate(150.899473 304.852187) scale(0.1 -0.1)\">\n       <use xlink:href=\"#DejaVuSans-31\"/>\n       <use xlink:href=\"#DejaVuSans-38\" x=\"63.623047\"/>\n      </g>\n     </g>\n    </g>\n    <g id=\"xtick_19\">\n     <g id=\"line2d_37\">\n      <path d=\"M 161.371524 290.25375 \nL 161.371524 24.14175 \n\" clip-path=\"url(#p9abebfdc91)\" style=\"fill: none; stroke: #ffffff; stroke-width: 0.8; stroke-linecap: square\"/>\n     </g>\n     <g id=\"line2d_38\">\n      <g>\n       <use xlink:href=\"#m53e6ad25cf\" x=\"161.371524\" y=\"290.25375\" style=\"fill: #555555; stroke: #555555; stroke-width: 0.8\"/>\n      </g>\n     </g>\n     <g id=\"text_19\">\n      <!-- 19 -->\n      <g style=\"fill: #555555\" transform=\"translate(155.009024 304.852187) scale(0.1 -0.1)\">\n       <use xlink:href=\"#DejaVuSans-31\"/>\n       <use xlink:href=\"#DejaVuSans-39\" x=\"63.623047\"/>\n      </g>\n     </g>\n    </g>\n    <g id=\"xtick_20\">\n     <g id=\"line2d_39\">\n      <path d=\"M 165.481075 290.25375 \nL 165.481075 24.14175 \n\" clip-path=\"url(#p9abebfdc91)\" style=\"fill: none; stroke: #ffffff; stroke-width: 0.8; stroke-linecap: square\"/>\n     </g>\n     <g id=\"line2d_40\">\n      <g>\n       <use xlink:href=\"#m53e6ad25cf\" x=\"165.481075\" y=\"290.25375\" style=\"fill: #555555; stroke: #555555; stroke-width: 0.8\"/>\n      </g>\n     </g>\n     <g id=\"text_20\">\n      <!-- 20 -->\n      <g style=\"fill: #555555\" transform=\"translate(159.118575 304.852187) scale(0.1 -0.1)\">\n       <use xlink:href=\"#DejaVuSans-32\"/>\n       <use xlink:href=\"#DejaVuSans-30\" x=\"63.623047\"/>\n      </g>\n     </g>\n    </g>\n    <g id=\"xtick_21\">\n     <g id=\"line2d_41\">\n      <path d=\"M 169.590626 290.25375 \nL 169.590626 24.14175 \n\" clip-path=\"url(#p9abebfdc91)\" style=\"fill: none; stroke: #ffffff; stroke-width: 0.8; stroke-linecap: square\"/>\n     </g>\n     <g id=\"line2d_42\">\n      <g>\n       <use xlink:href=\"#m53e6ad25cf\" x=\"169.590626\" y=\"290.25375\" style=\"fill: #555555; stroke: #555555; stroke-width: 0.8\"/>\n      </g>\n     </g>\n     <g id=\"text_21\">\n      <!-- 21 -->\n      <g style=\"fill: #555555\" transform=\"translate(163.228126 304.852187) scale(0.1 -0.1)\">\n       <use xlink:href=\"#DejaVuSans-32\"/>\n       <use xlink:href=\"#DejaVuSans-31\" x=\"63.623047\"/>\n      </g>\n     </g>\n    </g>\n    <g id=\"xtick_22\">\n     <g id=\"line2d_43\">\n      <path d=\"M 173.700178 290.25375 \nL 173.700178 24.14175 \n\" clip-path=\"url(#p9abebfdc91)\" style=\"fill: none; stroke: #ffffff; stroke-width: 0.8; stroke-linecap: square\"/>\n     </g>\n     <g id=\"line2d_44\">\n      <g>\n       <use xlink:href=\"#m53e6ad25cf\" x=\"173.700178\" y=\"290.25375\" style=\"fill: #555555; stroke: #555555; stroke-width: 0.8\"/>\n      </g>\n     </g>\n     <g id=\"text_22\">\n      <!-- 22 -->\n      <g style=\"fill: #555555\" transform=\"translate(167.337678 304.852187) scale(0.1 -0.1)\">\n       <use xlink:href=\"#DejaVuSans-32\"/>\n       <use xlink:href=\"#DejaVuSans-32\" x=\"63.623047\"/>\n      </g>\n     </g>\n    </g>\n    <g id=\"xtick_23\">\n     <g id=\"line2d_45\">\n      <path d=\"M 177.809729 290.25375 \nL 177.809729 24.14175 \n\" clip-path=\"url(#p9abebfdc91)\" style=\"fill: none; stroke: #ffffff; stroke-width: 0.8; stroke-linecap: square\"/>\n     </g>\n     <g id=\"line2d_46\">\n      <g>\n       <use xlink:href=\"#m53e6ad25cf\" x=\"177.809729\" y=\"290.25375\" style=\"fill: #555555; stroke: #555555; stroke-width: 0.8\"/>\n      </g>\n     </g>\n     <g id=\"text_23\">\n      <!-- 23 -->\n      <g style=\"fill: #555555\" transform=\"translate(171.447229 304.852187) scale(0.1 -0.1)\">\n       <use xlink:href=\"#DejaVuSans-32\"/>\n       <use xlink:href=\"#DejaVuSans-33\" x=\"63.623047\"/>\n      </g>\n     </g>\n    </g>\n    <g id=\"xtick_24\">\n     <g id=\"line2d_47\">\n      <path d=\"M 181.91928 290.25375 \nL 181.91928 24.14175 \n\" clip-path=\"url(#p9abebfdc91)\" style=\"fill: none; stroke: #ffffff; stroke-width: 0.8; stroke-linecap: square\"/>\n     </g>\n     <g id=\"line2d_48\">\n      <g>\n       <use xlink:href=\"#m53e6ad25cf\" x=\"181.91928\" y=\"290.25375\" style=\"fill: #555555; stroke: #555555; stroke-width: 0.8\"/>\n      </g>\n     </g>\n     <g id=\"text_24\">\n      <!-- 24 -->\n      <g style=\"fill: #555555\" transform=\"translate(175.55678 304.852187) scale(0.1 -0.1)\">\n       <use xlink:href=\"#DejaVuSans-32\"/>\n       <use xlink:href=\"#DejaVuSans-34\" x=\"63.623047\"/>\n      </g>\n     </g>\n    </g>\n    <g id=\"xtick_25\">\n     <g id=\"line2d_49\">\n      <path d=\"M 186.028831 290.25375 \nL 186.028831 24.14175 \n\" clip-path=\"url(#p9abebfdc91)\" style=\"fill: none; stroke: #ffffff; stroke-width: 0.8; stroke-linecap: square\"/>\n     </g>\n     <g id=\"line2d_50\">\n      <g>\n       <use xlink:href=\"#m53e6ad25cf\" x=\"186.028831\" y=\"290.25375\" style=\"fill: #555555; stroke: #555555; stroke-width: 0.8\"/>\n      </g>\n     </g>\n     <g id=\"text_25\">\n      <!-- 25 -->\n      <g style=\"fill: #555555\" transform=\"translate(179.666331 304.852187) scale(0.1 -0.1)\">\n       <use xlink:href=\"#DejaVuSans-32\"/>\n       <use xlink:href=\"#DejaVuSans-35\" x=\"63.623047\"/>\n      </g>\n     </g>\n    </g>\n    <g id=\"xtick_26\">\n     <g id=\"line2d_51\">\n      <path d=\"M 190.138382 290.25375 \nL 190.138382 24.14175 \n\" clip-path=\"url(#p9abebfdc91)\" style=\"fill: none; stroke: #ffffff; stroke-width: 0.8; stroke-linecap: square\"/>\n     </g>\n     <g id=\"line2d_52\">\n      <g>\n       <use xlink:href=\"#m53e6ad25cf\" x=\"190.138382\" y=\"290.25375\" style=\"fill: #555555; stroke: #555555; stroke-width: 0.8\"/>\n      </g>\n     </g>\n     <g id=\"text_26\">\n      <!-- 26 -->\n      <g style=\"fill: #555555\" transform=\"translate(183.775882 304.852187) scale(0.1 -0.1)\">\n       <use xlink:href=\"#DejaVuSans-32\"/>\n       <use xlink:href=\"#DejaVuSans-36\" x=\"63.623047\"/>\n      </g>\n     </g>\n    </g>\n    <g id=\"xtick_27\">\n     <g id=\"line2d_53\">\n      <path d=\"M 194.247934 290.25375 \nL 194.247934 24.14175 \n\" clip-path=\"url(#p9abebfdc91)\" style=\"fill: none; stroke: #ffffff; stroke-width: 0.8; stroke-linecap: square\"/>\n     </g>\n     <g id=\"line2d_54\">\n      <g>\n       <use xlink:href=\"#m53e6ad25cf\" x=\"194.247934\" y=\"290.25375\" style=\"fill: #555555; stroke: #555555; stroke-width: 0.8\"/>\n      </g>\n     </g>\n     <g id=\"text_27\">\n      <!-- 27 -->\n      <g style=\"fill: #555555\" transform=\"translate(187.885434 304.852187) scale(0.1 -0.1)\">\n       <use xlink:href=\"#DejaVuSans-32\"/>\n       <use xlink:href=\"#DejaVuSans-37\" x=\"63.623047\"/>\n      </g>\n     </g>\n    </g>\n    <g id=\"xtick_28\">\n     <g id=\"line2d_55\">\n      <path d=\"M 198.357485 290.25375 \nL 198.357485 24.14175 \n\" clip-path=\"url(#p9abebfdc91)\" style=\"fill: none; stroke: #ffffff; stroke-width: 0.8; stroke-linecap: square\"/>\n     </g>\n     <g id=\"line2d_56\">\n      <g>\n       <use xlink:href=\"#m53e6ad25cf\" x=\"198.357485\" y=\"290.25375\" style=\"fill: #555555; stroke: #555555; stroke-width: 0.8\"/>\n      </g>\n     </g>\n     <g id=\"text_28\">\n      <!-- 28 -->\n      <g style=\"fill: #555555\" transform=\"translate(191.994985 304.852187) scale(0.1 -0.1)\">\n       <use xlink:href=\"#DejaVuSans-32\"/>\n       <use xlink:href=\"#DejaVuSans-38\" x=\"63.623047\"/>\n      </g>\n     </g>\n    </g>\n    <g id=\"xtick_29\">\n     <g id=\"line2d_57\">\n      <path d=\"M 202.467036 290.25375 \nL 202.467036 24.14175 \n\" clip-path=\"url(#p9abebfdc91)\" style=\"fill: none; stroke: #ffffff; stroke-width: 0.8; stroke-linecap: square\"/>\n     </g>\n     <g id=\"line2d_58\">\n      <g>\n       <use xlink:href=\"#m53e6ad25cf\" x=\"202.467036\" y=\"290.25375\" style=\"fill: #555555; stroke: #555555; stroke-width: 0.8\"/>\n      </g>\n     </g>\n     <g id=\"text_29\">\n      <!-- 29 -->\n      <g style=\"fill: #555555\" transform=\"translate(196.104536 304.852187) scale(0.1 -0.1)\">\n       <use xlink:href=\"#DejaVuSans-32\"/>\n       <use xlink:href=\"#DejaVuSans-39\" x=\"63.623047\"/>\n      </g>\n     </g>\n    </g>\n    <g id=\"xtick_30\">\n     <g id=\"line2d_59\">\n      <path d=\"M 206.576587 290.25375 \nL 206.576587 24.14175 \n\" clip-path=\"url(#p9abebfdc91)\" style=\"fill: none; stroke: #ffffff; stroke-width: 0.8; stroke-linecap: square\"/>\n     </g>\n     <g id=\"line2d_60\">\n      <g>\n       <use xlink:href=\"#m53e6ad25cf\" x=\"206.576587\" y=\"290.25375\" style=\"fill: #555555; stroke: #555555; stroke-width: 0.8\"/>\n      </g>\n     </g>\n     <g id=\"text_30\">\n      <!-- 30 -->\n      <g style=\"fill: #555555\" transform=\"translate(200.214087 304.852187) scale(0.1 -0.1)\">\n       <use xlink:href=\"#DejaVuSans-33\"/>\n       <use xlink:href=\"#DejaVuSans-30\" x=\"63.623047\"/>\n      </g>\n     </g>\n    </g>\n    <g id=\"xtick_31\">\n     <g id=\"line2d_61\">\n      <path d=\"M 210.686139 290.25375 \nL 210.686139 24.14175 \n\" clip-path=\"url(#p9abebfdc91)\" style=\"fill: none; stroke: #ffffff; stroke-width: 0.8; stroke-linecap: square\"/>\n     </g>\n     <g id=\"line2d_62\">\n      <g>\n       <use xlink:href=\"#m53e6ad25cf\" x=\"210.686139\" y=\"290.25375\" style=\"fill: #555555; stroke: #555555; stroke-width: 0.8\"/>\n      </g>\n     </g>\n     <g id=\"text_31\">\n      <!-- 31 -->\n      <g style=\"fill: #555555\" transform=\"translate(204.323639 304.852187) scale(0.1 -0.1)\">\n       <use xlink:href=\"#DejaVuSans-33\"/>\n       <use xlink:href=\"#DejaVuSans-31\" x=\"63.623047\"/>\n      </g>\n     </g>\n    </g>\n    <g id=\"xtick_32\">\n     <g id=\"line2d_63\">\n      <path d=\"M 214.79569 290.25375 \nL 214.79569 24.14175 \n\" clip-path=\"url(#p9abebfdc91)\" style=\"fill: none; stroke: #ffffff; stroke-width: 0.8; stroke-linecap: square\"/>\n     </g>\n     <g id=\"line2d_64\">\n      <g>\n       <use xlink:href=\"#m53e6ad25cf\" x=\"214.79569\" y=\"290.25375\" style=\"fill: #555555; stroke: #555555; stroke-width: 0.8\"/>\n      </g>\n     </g>\n     <g id=\"text_32\">\n      <!-- 32 -->\n      <g style=\"fill: #555555\" transform=\"translate(208.43319 304.852187) scale(0.1 -0.1)\">\n       <use xlink:href=\"#DejaVuSans-33\"/>\n       <use xlink:href=\"#DejaVuSans-32\" x=\"63.623047\"/>\n      </g>\n     </g>\n    </g>\n    <g id=\"xtick_33\">\n     <g id=\"line2d_65\">\n      <path d=\"M 218.905241 290.25375 \nL 218.905241 24.14175 \n\" clip-path=\"url(#p9abebfdc91)\" style=\"fill: none; stroke: #ffffff; stroke-width: 0.8; stroke-linecap: square\"/>\n     </g>\n     <g id=\"line2d_66\">\n      <g>\n       <use xlink:href=\"#m53e6ad25cf\" x=\"218.905241\" y=\"290.25375\" style=\"fill: #555555; stroke: #555555; stroke-width: 0.8\"/>\n      </g>\n     </g>\n     <g id=\"text_33\">\n      <!-- 33 -->\n      <g style=\"fill: #555555\" transform=\"translate(212.542741 304.852187) scale(0.1 -0.1)\">\n       <use xlink:href=\"#DejaVuSans-33\"/>\n       <use xlink:href=\"#DejaVuSans-33\" x=\"63.623047\"/>\n      </g>\n     </g>\n    </g>\n    <g id=\"xtick_34\">\n     <g id=\"line2d_67\">\n      <path d=\"M 223.014792 290.25375 \nL 223.014792 24.14175 \n\" clip-path=\"url(#p9abebfdc91)\" style=\"fill: none; stroke: #ffffff; stroke-width: 0.8; stroke-linecap: square\"/>\n     </g>\n     <g id=\"line2d_68\">\n      <g>\n       <use xlink:href=\"#m53e6ad25cf\" x=\"223.014792\" y=\"290.25375\" style=\"fill: #555555; stroke: #555555; stroke-width: 0.8\"/>\n      </g>\n     </g>\n     <g id=\"text_34\">\n      <!-- 34 -->\n      <g style=\"fill: #555555\" transform=\"translate(216.652292 304.852187) scale(0.1 -0.1)\">\n       <use xlink:href=\"#DejaVuSans-33\"/>\n       <use xlink:href=\"#DejaVuSans-34\" x=\"63.623047\"/>\n      </g>\n     </g>\n    </g>\n    <g id=\"xtick_35\">\n     <g id=\"line2d_69\">\n      <path d=\"M 227.124343 290.25375 \nL 227.124343 24.14175 \n\" clip-path=\"url(#p9abebfdc91)\" style=\"fill: none; stroke: #ffffff; stroke-width: 0.8; stroke-linecap: square\"/>\n     </g>\n     <g id=\"line2d_70\">\n      <g>\n       <use xlink:href=\"#m53e6ad25cf\" x=\"227.124343\" y=\"290.25375\" style=\"fill: #555555; stroke: #555555; stroke-width: 0.8\"/>\n      </g>\n     </g>\n     <g id=\"text_35\">\n      <!-- 35 -->\n      <g style=\"fill: #555555\" transform=\"translate(220.761843 304.852187) scale(0.1 -0.1)\">\n       <use xlink:href=\"#DejaVuSans-33\"/>\n       <use xlink:href=\"#DejaVuSans-35\" x=\"63.623047\"/>\n      </g>\n     </g>\n    </g>\n    <g id=\"xtick_36\">\n     <g id=\"line2d_71\">\n      <path d=\"M 231.233895 290.25375 \nL 231.233895 24.14175 \n\" clip-path=\"url(#p9abebfdc91)\" style=\"fill: none; stroke: #ffffff; stroke-width: 0.8; stroke-linecap: square\"/>\n     </g>\n     <g id=\"line2d_72\">\n      <g>\n       <use xlink:href=\"#m53e6ad25cf\" x=\"231.233895\" y=\"290.25375\" style=\"fill: #555555; stroke: #555555; stroke-width: 0.8\"/>\n      </g>\n     </g>\n     <g id=\"text_36\">\n      <!-- 36 -->\n      <g style=\"fill: #555555\" transform=\"translate(224.871395 304.852187) scale(0.1 -0.1)\">\n       <use xlink:href=\"#DejaVuSans-33\"/>\n       <use xlink:href=\"#DejaVuSans-36\" x=\"63.623047\"/>\n      </g>\n     </g>\n    </g>\n    <g id=\"xtick_37\">\n     <g id=\"line2d_73\">\n      <path d=\"M 235.343446 290.25375 \nL 235.343446 24.14175 \n\" clip-path=\"url(#p9abebfdc91)\" style=\"fill: none; stroke: #ffffff; stroke-width: 0.8; stroke-linecap: square\"/>\n     </g>\n     <g id=\"line2d_74\">\n      <g>\n       <use xlink:href=\"#m53e6ad25cf\" x=\"235.343446\" y=\"290.25375\" style=\"fill: #555555; stroke: #555555; stroke-width: 0.8\"/>\n      </g>\n     </g>\n     <g id=\"text_37\">\n      <!-- 37 -->\n      <g style=\"fill: #555555\" transform=\"translate(228.980946 304.852187) scale(0.1 -0.1)\">\n       <use xlink:href=\"#DejaVuSans-33\"/>\n       <use xlink:href=\"#DejaVuSans-37\" x=\"63.623047\"/>\n      </g>\n     </g>\n    </g>\n    <g id=\"xtick_38\">\n     <g id=\"line2d_75\">\n      <path d=\"M 239.452997 290.25375 \nL 239.452997 24.14175 \n\" clip-path=\"url(#p9abebfdc91)\" style=\"fill: none; stroke: #ffffff; stroke-width: 0.8; stroke-linecap: square\"/>\n     </g>\n     <g id=\"line2d_76\">\n      <g>\n       <use xlink:href=\"#m53e6ad25cf\" x=\"239.452997\" y=\"290.25375\" style=\"fill: #555555; stroke: #555555; stroke-width: 0.8\"/>\n      </g>\n     </g>\n     <g id=\"text_38\">\n      <!-- 38 -->\n      <g style=\"fill: #555555\" transform=\"translate(233.090497 304.852187) scale(0.1 -0.1)\">\n       <use xlink:href=\"#DejaVuSans-33\"/>\n       <use xlink:href=\"#DejaVuSans-38\" x=\"63.623047\"/>\n      </g>\n     </g>\n    </g>\n    <g id=\"xtick_39\">\n     <g id=\"line2d_77\">\n      <path d=\"M 243.562548 290.25375 \nL 243.562548 24.14175 \n\" clip-path=\"url(#p9abebfdc91)\" style=\"fill: none; stroke: #ffffff; stroke-width: 0.8; stroke-linecap: square\"/>\n     </g>\n     <g id=\"line2d_78\">\n      <g>\n       <use xlink:href=\"#m53e6ad25cf\" x=\"243.562548\" y=\"290.25375\" style=\"fill: #555555; stroke: #555555; stroke-width: 0.8\"/>\n      </g>\n     </g>\n     <g id=\"text_39\">\n      <!-- 39 -->\n      <g style=\"fill: #555555\" transform=\"translate(237.200048 304.852187) scale(0.1 -0.1)\">\n       <use xlink:href=\"#DejaVuSans-33\"/>\n       <use xlink:href=\"#DejaVuSans-39\" x=\"63.623047\"/>\n      </g>\n     </g>\n    </g>\n    <g id=\"xtick_40\">\n     <g id=\"line2d_79\">\n      <path d=\"M 247.672099 290.25375 \nL 247.672099 24.14175 \n\" clip-path=\"url(#p9abebfdc91)\" style=\"fill: none; stroke: #ffffff; stroke-width: 0.8; stroke-linecap: square\"/>\n     </g>\n     <g id=\"line2d_80\">\n      <g>\n       <use xlink:href=\"#m53e6ad25cf\" x=\"247.672099\" y=\"290.25375\" style=\"fill: #555555; stroke: #555555; stroke-width: 0.8\"/>\n      </g>\n     </g>\n     <g id=\"text_40\">\n      <!-- 40 -->\n      <g style=\"fill: #555555\" transform=\"translate(241.309599 304.852187) scale(0.1 -0.1)\">\n       <use xlink:href=\"#DejaVuSans-34\"/>\n       <use xlink:href=\"#DejaVuSans-30\" x=\"63.623047\"/>\n      </g>\n     </g>\n    </g>\n    <g id=\"xtick_41\">\n     <g id=\"line2d_81\">\n      <path d=\"M 251.781651 290.25375 \nL 251.781651 24.14175 \n\" clip-path=\"url(#p9abebfdc91)\" style=\"fill: none; stroke: #ffffff; stroke-width: 0.8; stroke-linecap: square\"/>\n     </g>\n     <g id=\"line2d_82\">\n      <g>\n       <use xlink:href=\"#m53e6ad25cf\" x=\"251.781651\" y=\"290.25375\" style=\"fill: #555555; stroke: #555555; stroke-width: 0.8\"/>\n      </g>\n     </g>\n     <g id=\"text_41\">\n      <!-- 41 -->\n      <g style=\"fill: #555555\" transform=\"translate(245.419151 304.852187) scale(0.1 -0.1)\">\n       <use xlink:href=\"#DejaVuSans-34\"/>\n       <use xlink:href=\"#DejaVuSans-31\" x=\"63.623047\"/>\n      </g>\n     </g>\n    </g>\n    <g id=\"xtick_42\">\n     <g id=\"line2d_83\">\n      <path d=\"M 255.891202 290.25375 \nL 255.891202 24.14175 \n\" clip-path=\"url(#p9abebfdc91)\" style=\"fill: none; stroke: #ffffff; stroke-width: 0.8; stroke-linecap: square\"/>\n     </g>\n     <g id=\"line2d_84\">\n      <g>\n       <use xlink:href=\"#m53e6ad25cf\" x=\"255.891202\" y=\"290.25375\" style=\"fill: #555555; stroke: #555555; stroke-width: 0.8\"/>\n      </g>\n     </g>\n     <g id=\"text_42\">\n      <!-- 42 -->\n      <g style=\"fill: #555555\" transform=\"translate(249.528702 304.852187) scale(0.1 -0.1)\">\n       <use xlink:href=\"#DejaVuSans-34\"/>\n       <use xlink:href=\"#DejaVuSans-32\" x=\"63.623047\"/>\n      </g>\n     </g>\n    </g>\n    <g id=\"xtick_43\">\n     <g id=\"line2d_85\">\n      <path d=\"M 260.000753 290.25375 \nL 260.000753 24.14175 \n\" clip-path=\"url(#p9abebfdc91)\" style=\"fill: none; stroke: #ffffff; stroke-width: 0.8; stroke-linecap: square\"/>\n     </g>\n     <g id=\"line2d_86\">\n      <g>\n       <use xlink:href=\"#m53e6ad25cf\" x=\"260.000753\" y=\"290.25375\" style=\"fill: #555555; stroke: #555555; stroke-width: 0.8\"/>\n      </g>\n     </g>\n     <g id=\"text_43\">\n      <!-- 43 -->\n      <g style=\"fill: #555555\" transform=\"translate(253.638253 304.852187) scale(0.1 -0.1)\">\n       <use xlink:href=\"#DejaVuSans-34\"/>\n       <use xlink:href=\"#DejaVuSans-33\" x=\"63.623047\"/>\n      </g>\n     </g>\n    </g>\n    <g id=\"xtick_44\">\n     <g id=\"line2d_87\">\n      <path d=\"M 264.110304 290.25375 \nL 264.110304 24.14175 \n\" clip-path=\"url(#p9abebfdc91)\" style=\"fill: none; stroke: #ffffff; stroke-width: 0.8; stroke-linecap: square\"/>\n     </g>\n     <g id=\"line2d_88\">\n      <g>\n       <use xlink:href=\"#m53e6ad25cf\" x=\"264.110304\" y=\"290.25375\" style=\"fill: #555555; stroke: #555555; stroke-width: 0.8\"/>\n      </g>\n     </g>\n     <g id=\"text_44\">\n      <!-- 44 -->\n      <g style=\"fill: #555555\" transform=\"translate(257.747804 304.852187) scale(0.1 -0.1)\">\n       <use xlink:href=\"#DejaVuSans-34\"/>\n       <use xlink:href=\"#DejaVuSans-34\" x=\"63.623047\"/>\n      </g>\n     </g>\n    </g>\n    <g id=\"xtick_45\">\n     <g id=\"line2d_89\">\n      <path d=\"M 268.219855 290.25375 \nL 268.219855 24.14175 \n\" clip-path=\"url(#p9abebfdc91)\" style=\"fill: none; stroke: #ffffff; stroke-width: 0.8; stroke-linecap: square\"/>\n     </g>\n     <g id=\"line2d_90\">\n      <g>\n       <use xlink:href=\"#m53e6ad25cf\" x=\"268.219855\" y=\"290.25375\" style=\"fill: #555555; stroke: #555555; stroke-width: 0.8\"/>\n      </g>\n     </g>\n     <g id=\"text_45\">\n      <!-- 45 -->\n      <g style=\"fill: #555555\" transform=\"translate(261.857355 304.852187) scale(0.1 -0.1)\">\n       <use xlink:href=\"#DejaVuSans-34\"/>\n       <use xlink:href=\"#DejaVuSans-35\" x=\"63.623047\"/>\n      </g>\n     </g>\n    </g>\n    <g id=\"xtick_46\">\n     <g id=\"line2d_91\">\n      <path d=\"M 272.329407 290.25375 \nL 272.329407 24.14175 \n\" clip-path=\"url(#p9abebfdc91)\" style=\"fill: none; stroke: #ffffff; stroke-width: 0.8; stroke-linecap: square\"/>\n     </g>\n     <g id=\"line2d_92\">\n      <g>\n       <use xlink:href=\"#m53e6ad25cf\" x=\"272.329407\" y=\"290.25375\" style=\"fill: #555555; stroke: #555555; stroke-width: 0.8\"/>\n      </g>\n     </g>\n     <g id=\"text_46\">\n      <!-- 46 -->\n      <g style=\"fill: #555555\" transform=\"translate(265.966907 304.852187) scale(0.1 -0.1)\">\n       <use xlink:href=\"#DejaVuSans-34\"/>\n       <use xlink:href=\"#DejaVuSans-36\" x=\"63.623047\"/>\n      </g>\n     </g>\n    </g>\n    <g id=\"xtick_47\">\n     <g id=\"line2d_93\">\n      <path d=\"M 276.438958 290.25375 \nL 276.438958 24.14175 \n\" clip-path=\"url(#p9abebfdc91)\" style=\"fill: none; stroke: #ffffff; stroke-width: 0.8; stroke-linecap: square\"/>\n     </g>\n     <g id=\"line2d_94\">\n      <g>\n       <use xlink:href=\"#m53e6ad25cf\" x=\"276.438958\" y=\"290.25375\" style=\"fill: #555555; stroke: #555555; stroke-width: 0.8\"/>\n      </g>\n     </g>\n     <g id=\"text_47\">\n      <!-- 47 -->\n      <g style=\"fill: #555555\" transform=\"translate(270.076458 304.852187) scale(0.1 -0.1)\">\n       <use xlink:href=\"#DejaVuSans-34\"/>\n       <use xlink:href=\"#DejaVuSans-37\" x=\"63.623047\"/>\n      </g>\n     </g>\n    </g>\n    <g id=\"xtick_48\">\n     <g id=\"line2d_95\">\n      <path d=\"M 280.548509 290.25375 \nL 280.548509 24.14175 \n\" clip-path=\"url(#p9abebfdc91)\" style=\"fill: none; stroke: #ffffff; stroke-width: 0.8; stroke-linecap: square\"/>\n     </g>\n     <g id=\"line2d_96\">\n      <g>\n       <use xlink:href=\"#m53e6ad25cf\" x=\"280.548509\" y=\"290.25375\" style=\"fill: #555555; stroke: #555555; stroke-width: 0.8\"/>\n      </g>\n     </g>\n     <g id=\"text_48\">\n      <!-- 48 -->\n      <g style=\"fill: #555555\" transform=\"translate(274.186009 304.852187) scale(0.1 -0.1)\">\n       <use xlink:href=\"#DejaVuSans-34\"/>\n       <use xlink:href=\"#DejaVuSans-38\" x=\"63.623047\"/>\n      </g>\n     </g>\n    </g>\n    <g id=\"xtick_49\">\n     <g id=\"line2d_97\">\n      <path d=\"M 284.65806 290.25375 \nL 284.65806 24.14175 \n\" clip-path=\"url(#p9abebfdc91)\" style=\"fill: none; stroke: #ffffff; stroke-width: 0.8; stroke-linecap: square\"/>\n     </g>\n     <g id=\"line2d_98\">\n      <g>\n       <use xlink:href=\"#m53e6ad25cf\" x=\"284.65806\" y=\"290.25375\" style=\"fill: #555555; stroke: #555555; stroke-width: 0.8\"/>\n      </g>\n     </g>\n     <g id=\"text_49\">\n      <!-- 49 -->\n      <g style=\"fill: #555555\" transform=\"translate(278.29556 304.852187) scale(0.1 -0.1)\">\n       <use xlink:href=\"#DejaVuSans-34\"/>\n       <use xlink:href=\"#DejaVuSans-39\" x=\"63.623047\"/>\n      </g>\n     </g>\n    </g>\n    <g id=\"xtick_50\">\n     <g id=\"line2d_99\">\n      <path d=\"M 288.767611 290.25375 \nL 288.767611 24.14175 \n\" clip-path=\"url(#p9abebfdc91)\" style=\"fill: none; stroke: #ffffff; stroke-width: 0.8; stroke-linecap: square\"/>\n     </g>\n     <g id=\"line2d_100\">\n      <g>\n       <use xlink:href=\"#m53e6ad25cf\" x=\"288.767611\" y=\"290.25375\" style=\"fill: #555555; stroke: #555555; stroke-width: 0.8\"/>\n      </g>\n     </g>\n     <g id=\"text_50\">\n      <!-- 50 -->\n      <g style=\"fill: #555555\" transform=\"translate(282.405111 304.852187) scale(0.1 -0.1)\">\n       <use xlink:href=\"#DejaVuSans-35\"/>\n       <use xlink:href=\"#DejaVuSans-30\" x=\"63.623047\"/>\n      </g>\n     </g>\n    </g>\n    <g id=\"xtick_51\">\n     <g id=\"line2d_101\">\n      <path d=\"M 292.877163 290.25375 \nL 292.877163 24.14175 \n\" clip-path=\"url(#p9abebfdc91)\" style=\"fill: none; stroke: #ffffff; stroke-width: 0.8; stroke-linecap: square\"/>\n     </g>\n     <g id=\"line2d_102\">\n      <g>\n       <use xlink:href=\"#m53e6ad25cf\" x=\"292.877163\" y=\"290.25375\" style=\"fill: #555555; stroke: #555555; stroke-width: 0.8\"/>\n      </g>\n     </g>\n     <g id=\"text_51\">\n      <!-- 51 -->\n      <g style=\"fill: #555555\" transform=\"translate(286.514663 304.852187) scale(0.1 -0.1)\">\n       <use xlink:href=\"#DejaVuSans-35\"/>\n       <use xlink:href=\"#DejaVuSans-31\" x=\"63.623047\"/>\n      </g>\n     </g>\n    </g>\n    <g id=\"xtick_52\">\n     <g id=\"line2d_103\">\n      <path d=\"M 296.986714 290.25375 \nL 296.986714 24.14175 \n\" clip-path=\"url(#p9abebfdc91)\" style=\"fill: none; stroke: #ffffff; stroke-width: 0.8; stroke-linecap: square\"/>\n     </g>\n     <g id=\"line2d_104\">\n      <g>\n       <use xlink:href=\"#m53e6ad25cf\" x=\"296.986714\" y=\"290.25375\" style=\"fill: #555555; stroke: #555555; stroke-width: 0.8\"/>\n      </g>\n     </g>\n     <g id=\"text_52\">\n      <!-- 52 -->\n      <g style=\"fill: #555555\" transform=\"translate(290.624214 304.852187) scale(0.1 -0.1)\">\n       <use xlink:href=\"#DejaVuSans-35\"/>\n       <use xlink:href=\"#DejaVuSans-32\" x=\"63.623047\"/>\n      </g>\n     </g>\n    </g>\n    <g id=\"xtick_53\">\n     <g id=\"line2d_105\">\n      <path d=\"M 301.096265 290.25375 \nL 301.096265 24.14175 \n\" clip-path=\"url(#p9abebfdc91)\" style=\"fill: none; stroke: #ffffff; stroke-width: 0.8; stroke-linecap: square\"/>\n     </g>\n     <g id=\"line2d_106\">\n      <g>\n       <use xlink:href=\"#m53e6ad25cf\" x=\"301.096265\" y=\"290.25375\" style=\"fill: #555555; stroke: #555555; stroke-width: 0.8\"/>\n      </g>\n     </g>\n     <g id=\"text_53\">\n      <!-- 53 -->\n      <g style=\"fill: #555555\" transform=\"translate(294.733765 304.852187) scale(0.1 -0.1)\">\n       <use xlink:href=\"#DejaVuSans-35\"/>\n       <use xlink:href=\"#DejaVuSans-33\" x=\"63.623047\"/>\n      </g>\n     </g>\n    </g>\n    <g id=\"xtick_54\">\n     <g id=\"line2d_107\">\n      <path d=\"M 305.205816 290.25375 \nL 305.205816 24.14175 \n\" clip-path=\"url(#p9abebfdc91)\" style=\"fill: none; stroke: #ffffff; stroke-width: 0.8; stroke-linecap: square\"/>\n     </g>\n     <g id=\"line2d_108\">\n      <g>\n       <use xlink:href=\"#m53e6ad25cf\" x=\"305.205816\" y=\"290.25375\" style=\"fill: #555555; stroke: #555555; stroke-width: 0.8\"/>\n      </g>\n     </g>\n     <g id=\"text_54\">\n      <!-- 54 -->\n      <g style=\"fill: #555555\" transform=\"translate(298.843316 304.852187) scale(0.1 -0.1)\">\n       <use xlink:href=\"#DejaVuSans-35\"/>\n       <use xlink:href=\"#DejaVuSans-34\" x=\"63.623047\"/>\n      </g>\n     </g>\n    </g>\n    <g id=\"xtick_55\">\n     <g id=\"line2d_109\">\n      <path d=\"M 309.315368 290.25375 \nL 309.315368 24.14175 \n\" clip-path=\"url(#p9abebfdc91)\" style=\"fill: none; stroke: #ffffff; stroke-width: 0.8; stroke-linecap: square\"/>\n     </g>\n     <g id=\"line2d_110\">\n      <g>\n       <use xlink:href=\"#m53e6ad25cf\" x=\"309.315368\" y=\"290.25375\" style=\"fill: #555555; stroke: #555555; stroke-width: 0.8\"/>\n      </g>\n     </g>\n     <g id=\"text_55\">\n      <!-- 55 -->\n      <g style=\"fill: #555555\" transform=\"translate(302.952868 304.852187) scale(0.1 -0.1)\">\n       <use xlink:href=\"#DejaVuSans-35\"/>\n       <use xlink:href=\"#DejaVuSans-35\" x=\"63.623047\"/>\n      </g>\n     </g>\n    </g>\n    <g id=\"xtick_56\">\n     <g id=\"line2d_111\">\n      <path d=\"M 313.424919 290.25375 \nL 313.424919 24.14175 \n\" clip-path=\"url(#p9abebfdc91)\" style=\"fill: none; stroke: #ffffff; stroke-width: 0.8; stroke-linecap: square\"/>\n     </g>\n     <g id=\"line2d_112\">\n      <g>\n       <use xlink:href=\"#m53e6ad25cf\" x=\"313.424919\" y=\"290.25375\" style=\"fill: #555555; stroke: #555555; stroke-width: 0.8\"/>\n      </g>\n     </g>\n     <g id=\"text_56\">\n      <!-- 56 -->\n      <g style=\"fill: #555555\" transform=\"translate(307.062419 304.852187) scale(0.1 -0.1)\">\n       <use xlink:href=\"#DejaVuSans-35\"/>\n       <use xlink:href=\"#DejaVuSans-36\" x=\"63.623047\"/>\n      </g>\n     </g>\n    </g>\n    <g id=\"xtick_57\">\n     <g id=\"line2d_113\">\n      <path d=\"M 317.53447 290.25375 \nL 317.53447 24.14175 \n\" clip-path=\"url(#p9abebfdc91)\" style=\"fill: none; stroke: #ffffff; stroke-width: 0.8; stroke-linecap: square\"/>\n     </g>\n     <g id=\"line2d_114\">\n      <g>\n       <use xlink:href=\"#m53e6ad25cf\" x=\"317.53447\" y=\"290.25375\" style=\"fill: #555555; stroke: #555555; stroke-width: 0.8\"/>\n      </g>\n     </g>\n     <g id=\"text_57\">\n      <!-- 57 -->\n      <g style=\"fill: #555555\" transform=\"translate(311.17197 304.852187) scale(0.1 -0.1)\">\n       <use xlink:href=\"#DejaVuSans-35\"/>\n       <use xlink:href=\"#DejaVuSans-37\" x=\"63.623047\"/>\n      </g>\n     </g>\n    </g>\n    <g id=\"xtick_58\">\n     <g id=\"line2d_115\">\n      <path d=\"M 321.644021 290.25375 \nL 321.644021 24.14175 \n\" clip-path=\"url(#p9abebfdc91)\" style=\"fill: none; stroke: #ffffff; stroke-width: 0.8; stroke-linecap: square\"/>\n     </g>\n     <g id=\"line2d_116\">\n      <g>\n       <use xlink:href=\"#m53e6ad25cf\" x=\"321.644021\" y=\"290.25375\" style=\"fill: #555555; stroke: #555555; stroke-width: 0.8\"/>\n      </g>\n     </g>\n     <g id=\"text_58\">\n      <!-- 58 -->\n      <g style=\"fill: #555555\" transform=\"translate(315.281521 304.852187) scale(0.1 -0.1)\">\n       <use xlink:href=\"#DejaVuSans-35\"/>\n       <use xlink:href=\"#DejaVuSans-38\" x=\"63.623047\"/>\n      </g>\n     </g>\n    </g>\n    <g id=\"xtick_59\">\n     <g id=\"line2d_117\">\n      <path d=\"M 325.753572 290.25375 \nL 325.753572 24.14175 \n\" clip-path=\"url(#p9abebfdc91)\" style=\"fill: none; stroke: #ffffff; stroke-width: 0.8; stroke-linecap: square\"/>\n     </g>\n     <g id=\"line2d_118\">\n      <g>\n       <use xlink:href=\"#m53e6ad25cf\" x=\"325.753572\" y=\"290.25375\" style=\"fill: #555555; stroke: #555555; stroke-width: 0.8\"/>\n      </g>\n     </g>\n     <g id=\"text_59\">\n      <!-- 59 -->\n      <g style=\"fill: #555555\" transform=\"translate(319.391072 304.852187) scale(0.1 -0.1)\">\n       <use xlink:href=\"#DejaVuSans-35\"/>\n       <use xlink:href=\"#DejaVuSans-39\" x=\"63.623047\"/>\n      </g>\n     </g>\n    </g>\n    <g id=\"xtick_60\">\n     <g id=\"line2d_119\">\n      <path d=\"M 329.863124 290.25375 \nL 329.863124 24.14175 \n\" clip-path=\"url(#p9abebfdc91)\" style=\"fill: none; stroke: #ffffff; stroke-width: 0.8; stroke-linecap: square\"/>\n     </g>\n     <g id=\"line2d_120\">\n      <g>\n       <use xlink:href=\"#m53e6ad25cf\" x=\"329.863124\" y=\"290.25375\" style=\"fill: #555555; stroke: #555555; stroke-width: 0.8\"/>\n      </g>\n     </g>\n     <g id=\"text_60\">\n      <!-- 60 -->\n      <g style=\"fill: #555555\" transform=\"translate(323.500624 304.852187) scale(0.1 -0.1)\">\n       <use xlink:href=\"#DejaVuSans-36\"/>\n       <use xlink:href=\"#DejaVuSans-30\" x=\"63.623047\"/>\n      </g>\n     </g>\n    </g>\n    <g id=\"xtick_61\">\n     <g id=\"line2d_121\">\n      <path d=\"M 333.972675 290.25375 \nL 333.972675 24.14175 \n\" clip-path=\"url(#p9abebfdc91)\" style=\"fill: none; stroke: #ffffff; stroke-width: 0.8; stroke-linecap: square\"/>\n     </g>\n     <g id=\"line2d_122\">\n      <g>\n       <use xlink:href=\"#m53e6ad25cf\" x=\"333.972675\" y=\"290.25375\" style=\"fill: #555555; stroke: #555555; stroke-width: 0.8\"/>\n      </g>\n     </g>\n     <g id=\"text_61\">\n      <!-- 61 -->\n      <g style=\"fill: #555555\" transform=\"translate(327.610175 304.852187) scale(0.1 -0.1)\">\n       <use xlink:href=\"#DejaVuSans-36\"/>\n       <use xlink:href=\"#DejaVuSans-31\" x=\"63.623047\"/>\n      </g>\n     </g>\n    </g>\n    <g id=\"xtick_62\">\n     <g id=\"line2d_123\">\n      <path d=\"M 338.082226 290.25375 \nL 338.082226 24.14175 \n\" clip-path=\"url(#p9abebfdc91)\" style=\"fill: none; stroke: #ffffff; stroke-width: 0.8; stroke-linecap: square\"/>\n     </g>\n     <g id=\"line2d_124\">\n      <g>\n       <use xlink:href=\"#m53e6ad25cf\" x=\"338.082226\" y=\"290.25375\" style=\"fill: #555555; stroke: #555555; stroke-width: 0.8\"/>\n      </g>\n     </g>\n     <g id=\"text_62\">\n      <!-- 62 -->\n      <g style=\"fill: #555555\" transform=\"translate(331.719726 304.852187) scale(0.1 -0.1)\">\n       <use xlink:href=\"#DejaVuSans-36\"/>\n       <use xlink:href=\"#DejaVuSans-32\" x=\"63.623047\"/>\n      </g>\n     </g>\n    </g>\n    <g id=\"xtick_63\">\n     <g id=\"line2d_125\">\n      <path d=\"M 342.191777 290.25375 \nL 342.191777 24.14175 \n\" clip-path=\"url(#p9abebfdc91)\" style=\"fill: none; stroke: #ffffff; stroke-width: 0.8; stroke-linecap: square\"/>\n     </g>\n     <g id=\"line2d_126\">\n      <g>\n       <use xlink:href=\"#m53e6ad25cf\" x=\"342.191777\" y=\"290.25375\" style=\"fill: #555555; stroke: #555555; stroke-width: 0.8\"/>\n      </g>\n     </g>\n     <g id=\"text_63\">\n      <!-- 63 -->\n      <g style=\"fill: #555555\" transform=\"translate(335.829277 304.852187) scale(0.1 -0.1)\">\n       <use xlink:href=\"#DejaVuSans-36\"/>\n       <use xlink:href=\"#DejaVuSans-33\" x=\"63.623047\"/>\n      </g>\n     </g>\n    </g>\n    <g id=\"xtick_64\">\n     <g id=\"line2d_127\">\n      <path d=\"M 346.301328 290.25375 \nL 346.301328 24.14175 \n\" clip-path=\"url(#p9abebfdc91)\" style=\"fill: none; stroke: #ffffff; stroke-width: 0.8; stroke-linecap: square\"/>\n     </g>\n     <g id=\"line2d_128\">\n      <g>\n       <use xlink:href=\"#m53e6ad25cf\" x=\"346.301328\" y=\"290.25375\" style=\"fill: #555555; stroke: #555555; stroke-width: 0.8\"/>\n      </g>\n     </g>\n     <g id=\"text_64\">\n      <!-- 64 -->\n      <g style=\"fill: #555555\" transform=\"translate(339.938828 304.852187) scale(0.1 -0.1)\">\n       <use xlink:href=\"#DejaVuSans-36\"/>\n       <use xlink:href=\"#DejaVuSans-34\" x=\"63.623047\"/>\n      </g>\n     </g>\n    </g>\n    <g id=\"xtick_65\">\n     <g id=\"line2d_129\">\n      <path d=\"M 350.41088 290.25375 \nL 350.41088 24.14175 \n\" clip-path=\"url(#p9abebfdc91)\" style=\"fill: none; stroke: #ffffff; stroke-width: 0.8; stroke-linecap: square\"/>\n     </g>\n     <g id=\"line2d_130\">\n      <g>\n       <use xlink:href=\"#m53e6ad25cf\" x=\"350.41088\" y=\"290.25375\" style=\"fill: #555555; stroke: #555555; stroke-width: 0.8\"/>\n      </g>\n     </g>\n     <g id=\"text_65\">\n      <!-- 65 -->\n      <g style=\"fill: #555555\" transform=\"translate(344.04838 304.852187) scale(0.1 -0.1)\">\n       <use xlink:href=\"#DejaVuSans-36\"/>\n       <use xlink:href=\"#DejaVuSans-35\" x=\"63.623047\"/>\n      </g>\n     </g>\n    </g>\n    <g id=\"xtick_66\">\n     <g id=\"line2d_131\">\n      <path d=\"M 354.520431 290.25375 \nL 354.520431 24.14175 \n\" clip-path=\"url(#p9abebfdc91)\" style=\"fill: none; stroke: #ffffff; stroke-width: 0.8; stroke-linecap: square\"/>\n     </g>\n     <g id=\"line2d_132\">\n      <g>\n       <use xlink:href=\"#m53e6ad25cf\" x=\"354.520431\" y=\"290.25375\" style=\"fill: #555555; stroke: #555555; stroke-width: 0.8\"/>\n      </g>\n     </g>\n     <g id=\"text_66\">\n      <!-- 66 -->\n      <g style=\"fill: #555555\" transform=\"translate(348.157931 304.852187) scale(0.1 -0.1)\">\n       <use xlink:href=\"#DejaVuSans-36\"/>\n       <use xlink:href=\"#DejaVuSans-36\" x=\"63.623047\"/>\n      </g>\n     </g>\n    </g>\n    <g id=\"xtick_67\">\n     <g id=\"line2d_133\">\n      <path d=\"M 358.629982 290.25375 \nL 358.629982 24.14175 \n\" clip-path=\"url(#p9abebfdc91)\" style=\"fill: none; stroke: #ffffff; stroke-width: 0.8; stroke-linecap: square\"/>\n     </g>\n     <g id=\"line2d_134\">\n      <g>\n       <use xlink:href=\"#m53e6ad25cf\" x=\"358.629982\" y=\"290.25375\" style=\"fill: #555555; stroke: #555555; stroke-width: 0.8\"/>\n      </g>\n     </g>\n     <g id=\"text_67\">\n      <!-- 67 -->\n      <g style=\"fill: #555555\" transform=\"translate(352.267482 304.852187) scale(0.1 -0.1)\">\n       <use xlink:href=\"#DejaVuSans-36\"/>\n       <use xlink:href=\"#DejaVuSans-37\" x=\"63.623047\"/>\n      </g>\n     </g>\n    </g>\n    <g id=\"xtick_68\">\n     <g id=\"line2d_135\">\n      <path d=\"M 362.739533 290.25375 \nL 362.739533 24.14175 \n\" clip-path=\"url(#p9abebfdc91)\" style=\"fill: none; stroke: #ffffff; stroke-width: 0.8; stroke-linecap: square\"/>\n     </g>\n     <g id=\"line2d_136\">\n      <g>\n       <use xlink:href=\"#m53e6ad25cf\" x=\"362.739533\" y=\"290.25375\" style=\"fill: #555555; stroke: #555555; stroke-width: 0.8\"/>\n      </g>\n     </g>\n     <g id=\"text_68\">\n      <!-- 68 -->\n      <g style=\"fill: #555555\" transform=\"translate(356.377033 304.852187) scale(0.1 -0.1)\">\n       <use xlink:href=\"#DejaVuSans-36\"/>\n       <use xlink:href=\"#DejaVuSans-38\" x=\"63.623047\"/>\n      </g>\n     </g>\n    </g>\n    <g id=\"xtick_69\">\n     <g id=\"line2d_137\">\n      <path d=\"M 366.849084 290.25375 \nL 366.849084 24.14175 \n\" clip-path=\"url(#p9abebfdc91)\" style=\"fill: none; stroke: #ffffff; stroke-width: 0.8; stroke-linecap: square\"/>\n     </g>\n     <g id=\"line2d_138\">\n      <g>\n       <use xlink:href=\"#m53e6ad25cf\" x=\"366.849084\" y=\"290.25375\" style=\"fill: #555555; stroke: #555555; stroke-width: 0.8\"/>\n      </g>\n     </g>\n     <g id=\"text_69\">\n      <!-- 69 -->\n      <g style=\"fill: #555555\" transform=\"translate(360.486584 304.852187) scale(0.1 -0.1)\">\n       <use xlink:href=\"#DejaVuSans-36\"/>\n       <use xlink:href=\"#DejaVuSans-39\" x=\"63.623047\"/>\n      </g>\n     </g>\n    </g>\n    <g id=\"xtick_70\">\n     <g id=\"line2d_139\">\n      <path d=\"M 370.958636 290.25375 \nL 370.958636 24.14175 \n\" clip-path=\"url(#p9abebfdc91)\" style=\"fill: none; stroke: #ffffff; stroke-width: 0.8; stroke-linecap: square\"/>\n     </g>\n     <g id=\"line2d_140\">\n      <g>\n       <use xlink:href=\"#m53e6ad25cf\" x=\"370.958636\" y=\"290.25375\" style=\"fill: #555555; stroke: #555555; stroke-width: 0.8\"/>\n      </g>\n     </g>\n     <g id=\"text_70\">\n      <!-- 70 -->\n      <g style=\"fill: #555555\" transform=\"translate(364.596136 304.852187) scale(0.1 -0.1)\">\n       <use xlink:href=\"#DejaVuSans-37\"/>\n       <use xlink:href=\"#DejaVuSans-30\" x=\"63.623047\"/>\n      </g>\n     </g>\n    </g>\n    <g id=\"xtick_71\">\n     <g id=\"line2d_141\">\n      <path d=\"M 375.068187 290.25375 \nL 375.068187 24.14175 \n\" clip-path=\"url(#p9abebfdc91)\" style=\"fill: none; stroke: #ffffff; stroke-width: 0.8; stroke-linecap: square\"/>\n     </g>\n     <g id=\"line2d_142\">\n      <g>\n       <use xlink:href=\"#m53e6ad25cf\" x=\"375.068187\" y=\"290.25375\" style=\"fill: #555555; stroke: #555555; stroke-width: 0.8\"/>\n      </g>\n     </g>\n     <g id=\"text_71\">\n      <!-- 71 -->\n      <g style=\"fill: #555555\" transform=\"translate(368.705687 304.852187) scale(0.1 -0.1)\">\n       <use xlink:href=\"#DejaVuSans-37\"/>\n       <use xlink:href=\"#DejaVuSans-31\" x=\"63.623047\"/>\n      </g>\n     </g>\n    </g>\n    <g id=\"xtick_72\">\n     <g id=\"line2d_143\">\n      <path d=\"M 379.177738 290.25375 \nL 379.177738 24.14175 \n\" clip-path=\"url(#p9abebfdc91)\" style=\"fill: none; stroke: #ffffff; stroke-width: 0.8; stroke-linecap: square\"/>\n     </g>\n     <g id=\"line2d_144\">\n      <g>\n       <use xlink:href=\"#m53e6ad25cf\" x=\"379.177738\" y=\"290.25375\" style=\"fill: #555555; stroke: #555555; stroke-width: 0.8\"/>\n      </g>\n     </g>\n     <g id=\"text_72\">\n      <!-- 72 -->\n      <g style=\"fill: #555555\" transform=\"translate(372.815238 304.852187) scale(0.1 -0.1)\">\n       <use xlink:href=\"#DejaVuSans-37\"/>\n       <use xlink:href=\"#DejaVuSans-32\" x=\"63.623047\"/>\n      </g>\n     </g>\n    </g>\n    <g id=\"xtick_73\">\n     <g id=\"line2d_145\">\n      <path d=\"M 383.287289 290.25375 \nL 383.287289 24.14175 \n\" clip-path=\"url(#p9abebfdc91)\" style=\"fill: none; stroke: #ffffff; stroke-width: 0.8; stroke-linecap: square\"/>\n     </g>\n     <g id=\"line2d_146\">\n      <g>\n       <use xlink:href=\"#m53e6ad25cf\" x=\"383.287289\" y=\"290.25375\" style=\"fill: #555555; stroke: #555555; stroke-width: 0.8\"/>\n      </g>\n     </g>\n     <g id=\"text_73\">\n      <!-- 73 -->\n      <g style=\"fill: #555555\" transform=\"translate(376.924789 304.852187) scale(0.1 -0.1)\">\n       <use xlink:href=\"#DejaVuSans-37\"/>\n       <use xlink:href=\"#DejaVuSans-33\" x=\"63.623047\"/>\n      </g>\n     </g>\n    </g>\n    <g id=\"xtick_74\">\n     <g id=\"line2d_147\">\n      <path d=\"M 387.39684 290.25375 \nL 387.39684 24.14175 \n\" clip-path=\"url(#p9abebfdc91)\" style=\"fill: none; stroke: #ffffff; stroke-width: 0.8; stroke-linecap: square\"/>\n     </g>\n     <g id=\"line2d_148\">\n      <g>\n       <use xlink:href=\"#m53e6ad25cf\" x=\"387.39684\" y=\"290.25375\" style=\"fill: #555555; stroke: #555555; stroke-width: 0.8\"/>\n      </g>\n     </g>\n     <g id=\"text_74\">\n      <!-- 74 -->\n      <g style=\"fill: #555555\" transform=\"translate(381.03434 304.852187) scale(0.1 -0.1)\">\n       <use xlink:href=\"#DejaVuSans-37\"/>\n       <use xlink:href=\"#DejaVuSans-34\" x=\"63.623047\"/>\n      </g>\n     </g>\n    </g>\n    <g id=\"xtick_75\">\n     <g id=\"line2d_149\">\n      <path d=\"M 391.506392 290.25375 \nL 391.506392 24.14175 \n\" clip-path=\"url(#p9abebfdc91)\" style=\"fill: none; stroke: #ffffff; stroke-width: 0.8; stroke-linecap: square\"/>\n     </g>\n     <g id=\"line2d_150\">\n      <g>\n       <use xlink:href=\"#m53e6ad25cf\" x=\"391.506392\" y=\"290.25375\" style=\"fill: #555555; stroke: #555555; stroke-width: 0.8\"/>\n      </g>\n     </g>\n     <g id=\"text_75\">\n      <!-- 75 -->\n      <g style=\"fill: #555555\" transform=\"translate(385.143892 304.852187) scale(0.1 -0.1)\">\n       <use xlink:href=\"#DejaVuSans-37\"/>\n       <use xlink:href=\"#DejaVuSans-35\" x=\"63.623047\"/>\n      </g>\n     </g>\n    </g>\n    <g id=\"xtick_76\">\n     <g id=\"line2d_151\">\n      <path d=\"M 395.615943 290.25375 \nL 395.615943 24.14175 \n\" clip-path=\"url(#p9abebfdc91)\" style=\"fill: none; stroke: #ffffff; stroke-width: 0.8; stroke-linecap: square\"/>\n     </g>\n     <g id=\"line2d_152\">\n      <g>\n       <use xlink:href=\"#m53e6ad25cf\" x=\"395.615943\" y=\"290.25375\" style=\"fill: #555555; stroke: #555555; stroke-width: 0.8\"/>\n      </g>\n     </g>\n     <g id=\"text_76\">\n      <!-- 76 -->\n      <g style=\"fill: #555555\" transform=\"translate(389.253443 304.852187) scale(0.1 -0.1)\">\n       <use xlink:href=\"#DejaVuSans-37\"/>\n       <use xlink:href=\"#DejaVuSans-36\" x=\"63.623047\"/>\n      </g>\n     </g>\n    </g>\n    <g id=\"xtick_77\">\n     <g id=\"line2d_153\">\n      <path d=\"M 399.725494 290.25375 \nL 399.725494 24.14175 \n\" clip-path=\"url(#p9abebfdc91)\" style=\"fill: none; stroke: #ffffff; stroke-width: 0.8; stroke-linecap: square\"/>\n     </g>\n     <g id=\"line2d_154\">\n      <g>\n       <use xlink:href=\"#m53e6ad25cf\" x=\"399.725494\" y=\"290.25375\" style=\"fill: #555555; stroke: #555555; stroke-width: 0.8\"/>\n      </g>\n     </g>\n     <g id=\"text_77\">\n      <!-- 77 -->\n      <g style=\"fill: #555555\" transform=\"translate(393.362994 304.852187) scale(0.1 -0.1)\">\n       <use xlink:href=\"#DejaVuSans-37\"/>\n       <use xlink:href=\"#DejaVuSans-37\" x=\"63.623047\"/>\n      </g>\n     </g>\n    </g>\n    <g id=\"xtick_78\">\n     <g id=\"line2d_155\">\n      <path d=\"M 403.835045 290.25375 \nL 403.835045 24.14175 \n\" clip-path=\"url(#p9abebfdc91)\" style=\"fill: none; stroke: #ffffff; stroke-width: 0.8; stroke-linecap: square\"/>\n     </g>\n     <g id=\"line2d_156\">\n      <g>\n       <use xlink:href=\"#m53e6ad25cf\" x=\"403.835045\" y=\"290.25375\" style=\"fill: #555555; stroke: #555555; stroke-width: 0.8\"/>\n      </g>\n     </g>\n     <g id=\"text_78\">\n      <!-- 78 -->\n      <g style=\"fill: #555555\" transform=\"translate(397.472545 304.852187) scale(0.1 -0.1)\">\n       <use xlink:href=\"#DejaVuSans-37\"/>\n       <use xlink:href=\"#DejaVuSans-38\" x=\"63.623047\"/>\n      </g>\n     </g>\n    </g>\n    <g id=\"xtick_79\">\n     <g id=\"line2d_157\">\n      <path d=\"M 407.944597 290.25375 \nL 407.944597 24.14175 \n\" clip-path=\"url(#p9abebfdc91)\" style=\"fill: none; stroke: #ffffff; stroke-width: 0.8; stroke-linecap: square\"/>\n     </g>\n     <g id=\"line2d_158\">\n      <g>\n       <use xlink:href=\"#m53e6ad25cf\" x=\"407.944597\" y=\"290.25375\" style=\"fill: #555555; stroke: #555555; stroke-width: 0.8\"/>\n      </g>\n     </g>\n     <g id=\"text_79\">\n      <!-- 79 -->\n      <g style=\"fill: #555555\" transform=\"translate(401.582097 304.852187) scale(0.1 -0.1)\">\n       <use xlink:href=\"#DejaVuSans-37\"/>\n       <use xlink:href=\"#DejaVuSans-39\" x=\"63.623047\"/>\n      </g>\n     </g>\n    </g>\n    <g id=\"xtick_80\">\n     <g id=\"line2d_159\">\n      <path d=\"M 412.054148 290.25375 \nL 412.054148 24.14175 \n\" clip-path=\"url(#p9abebfdc91)\" style=\"fill: none; stroke: #ffffff; stroke-width: 0.8; stroke-linecap: square\"/>\n     </g>\n     <g id=\"line2d_160\">\n      <g>\n       <use xlink:href=\"#m53e6ad25cf\" x=\"412.054148\" y=\"290.25375\" style=\"fill: #555555; stroke: #555555; stroke-width: 0.8\"/>\n      </g>\n     </g>\n     <g id=\"text_80\">\n      <!-- 80 -->\n      <g style=\"fill: #555555\" transform=\"translate(405.691648 304.852187) scale(0.1 -0.1)\">\n       <use xlink:href=\"#DejaVuSans-38\"/>\n       <use xlink:href=\"#DejaVuSans-30\" x=\"63.623047\"/>\n      </g>\n     </g>\n    </g>\n    <g id=\"text_81\">\n     <!-- Epoch # -->\n     <g style=\"fill: #555555\" transform=\"translate(224.419062 320.05) scale(0.12 -0.12)\">\n      <defs>\n       <path id=\"DejaVuSans-45\" d=\"M 628 4666 \nL 3578 4666 \nL 3578 4134 \nL 1259 4134 \nL 1259 2753 \nL 3481 2753 \nL 3481 2222 \nL 1259 2222 \nL 1259 531 \nL 3634 531 \nL 3634 0 \nL 628 0 \nL 628 4666 \nz\n\" transform=\"scale(0.015625)\"/>\n       <path id=\"DejaVuSans-70\" d=\"M 1159 525 \nL 1159 -1331 \nL 581 -1331 \nL 581 3500 \nL 1159 3500 \nL 1159 2969 \nQ 1341 3281 1617 3432 \nQ 1894 3584 2278 3584 \nQ 2916 3584 3314 3078 \nQ 3713 2572 3713 1747 \nQ 3713 922 3314 415 \nQ 2916 -91 2278 -91 \nQ 1894 -91 1617 61 \nQ 1341 213 1159 525 \nz\nM 3116 1747 \nQ 3116 2381 2855 2742 \nQ 2594 3103 2138 3103 \nQ 1681 3103 1420 2742 \nQ 1159 2381 1159 1747 \nQ 1159 1113 1420 752 \nQ 1681 391 2138 391 \nQ 2594 391 2855 752 \nQ 3116 1113 3116 1747 \nz\n\" transform=\"scale(0.015625)\"/>\n       <path id=\"DejaVuSans-6f\" d=\"M 1959 3097 \nQ 1497 3097 1228 2736 \nQ 959 2375 959 1747 \nQ 959 1119 1226 758 \nQ 1494 397 1959 397 \nQ 2419 397 2687 759 \nQ 2956 1122 2956 1747 \nQ 2956 2369 2687 2733 \nQ 2419 3097 1959 3097 \nz\nM 1959 3584 \nQ 2709 3584 3137 3096 \nQ 3566 2609 3566 1747 \nQ 3566 888 3137 398 \nQ 2709 -91 1959 -91 \nQ 1206 -91 779 398 \nQ 353 888 353 1747 \nQ 353 2609 779 3096 \nQ 1206 3584 1959 3584 \nz\n\" transform=\"scale(0.015625)\"/>\n       <path id=\"DejaVuSans-63\" d=\"M 3122 3366 \nL 3122 2828 \nQ 2878 2963 2633 3030 \nQ 2388 3097 2138 3097 \nQ 1578 3097 1268 2742 \nQ 959 2388 959 1747 \nQ 959 1106 1268 751 \nQ 1578 397 2138 397 \nQ 2388 397 2633 464 \nQ 2878 531 3122 666 \nL 3122 134 \nQ 2881 22 2623 -34 \nQ 2366 -91 2075 -91 \nQ 1284 -91 818 406 \nQ 353 903 353 1747 \nQ 353 2603 823 3093 \nQ 1294 3584 2113 3584 \nQ 2378 3584 2631 3529 \nQ 2884 3475 3122 3366 \nz\n\" transform=\"scale(0.015625)\"/>\n       <path id=\"DejaVuSans-68\" d=\"M 3513 2113 \nL 3513 0 \nL 2938 0 \nL 2938 2094 \nQ 2938 2591 2744 2837 \nQ 2550 3084 2163 3084 \nQ 1697 3084 1428 2787 \nQ 1159 2491 1159 1978 \nL 1159 0 \nL 581 0 \nL 581 4863 \nL 1159 4863 \nL 1159 2956 \nQ 1366 3272 1645 3428 \nQ 1925 3584 2291 3584 \nQ 2894 3584 3203 3211 \nQ 3513 2838 3513 2113 \nz\n\" transform=\"scale(0.015625)\"/>\n       <path id=\"DejaVuSans-20\" transform=\"scale(0.015625)\"/>\n       <path id=\"DejaVuSans-23\" d=\"M 3272 2816 \nL 2363 2816 \nL 2100 1772 \nL 3016 1772 \nL 3272 2816 \nz\nM 2803 4594 \nL 2478 3297 \nL 3391 3297 \nL 3719 4594 \nL 4219 4594 \nL 3897 3297 \nL 4872 3297 \nL 4872 2816 \nL 3775 2816 \nL 3519 1772 \nL 4513 1772 \nL 4513 1294 \nL 3397 1294 \nL 3072 0 \nL 2572 0 \nL 2894 1294 \nL 1978 1294 \nL 1656 0 \nL 1153 0 \nL 1478 1294 \nL 494 1294 \nL 494 1772 \nL 1594 1772 \nL 1856 2816 \nL 850 2816 \nL 850 3297 \nL 1978 3297 \nL 2297 4594 \nL 2803 4594 \nz\n\" transform=\"scale(0.015625)\"/>\n      </defs>\n      <use xlink:href=\"#DejaVuSans-45\"/>\n      <use xlink:href=\"#DejaVuSans-70\" x=\"63.183594\"/>\n      <use xlink:href=\"#DejaVuSans-6f\" x=\"126.660156\"/>\n      <use xlink:href=\"#DejaVuSans-63\" x=\"187.841797\"/>\n      <use xlink:href=\"#DejaVuSans-68\" x=\"242.822266\"/>\n      <use xlink:href=\"#DejaVuSans-20\" x=\"306.201172\"/>\n      <use xlink:href=\"#DejaVuSans-23\" x=\"337.988281\"/>\n     </g>\n    </g>\n   </g>\n   <g id=\"matplotlib.axis_2\">\n    <g id=\"ytick_1\">\n     <g id=\"line2d_161\">\n      <path d=\"M 71.166875 277.325212 \nL 428.286875 277.325212 \n\" clip-path=\"url(#p9abebfdc91)\" style=\"fill: none; stroke: #ffffff; stroke-width: 0.8; stroke-linecap: square\"/>\n     </g>\n     <g id=\"line2d_162\">\n      <defs>\n       <path id=\"m26b8c99c77\" d=\"M 0 0 \nL -3.5 0 \n\" style=\"stroke: #555555; stroke-width: 0.8\"/>\n      </defs>\n      <g>\n       <use xlink:href=\"#m26b8c99c77\" x=\"71.166875\" y=\"277.325212\" style=\"fill: #555555; stroke: #555555; stroke-width: 0.8\"/>\n      </g>\n     </g>\n     <g id=\"text_82\">\n      <!-- 0.00275 -->\n      <g style=\"fill: #555555\" transform=\"translate(22.81375 281.124431) scale(0.1 -0.1)\">\n       <defs>\n        <path id=\"DejaVuSans-2e\" d=\"M 684 794 \nL 1344 794 \nL 1344 0 \nL 684 0 \nL 684 794 \nz\n\" transform=\"scale(0.015625)\"/>\n       </defs>\n       <use xlink:href=\"#DejaVuSans-30\"/>\n       <use xlink:href=\"#DejaVuSans-2e\" x=\"63.623047\"/>\n       <use xlink:href=\"#DejaVuSans-30\" x=\"95.410156\"/>\n       <use xlink:href=\"#DejaVuSans-30\" x=\"159.033203\"/>\n       <use xlink:href=\"#DejaVuSans-32\" x=\"222.65625\"/>\n       <use xlink:href=\"#DejaVuSans-37\" x=\"286.279297\"/>\n       <use xlink:href=\"#DejaVuSans-35\" x=\"349.902344\"/>\n      </g>\n     </g>\n    </g>\n    <g id=\"ytick_2\">\n     <g id=\"line2d_163\">\n      <path d=\"M 71.166875 243.019209 \nL 428.286875 243.019209 \n\" clip-path=\"url(#p9abebfdc91)\" style=\"fill: none; stroke: #ffffff; stroke-width: 0.8; stroke-linecap: square\"/>\n     </g>\n     <g id=\"line2d_164\">\n      <g>\n       <use xlink:href=\"#m26b8c99c77\" x=\"71.166875\" y=\"243.019209\" style=\"fill: #555555; stroke: #555555; stroke-width: 0.8\"/>\n      </g>\n     </g>\n     <g id=\"text_83\">\n      <!-- 0.00300 -->\n      <g style=\"fill: #555555\" transform=\"translate(22.81375 246.818428) scale(0.1 -0.1)\">\n       <use xlink:href=\"#DejaVuSans-30\"/>\n       <use xlink:href=\"#DejaVuSans-2e\" x=\"63.623047\"/>\n       <use xlink:href=\"#DejaVuSans-30\" x=\"95.410156\"/>\n       <use xlink:href=\"#DejaVuSans-30\" x=\"159.033203\"/>\n       <use xlink:href=\"#DejaVuSans-33\" x=\"222.65625\"/>\n       <use xlink:href=\"#DejaVuSans-30\" x=\"286.279297\"/>\n       <use xlink:href=\"#DejaVuSans-30\" x=\"349.902344\"/>\n      </g>\n     </g>\n    </g>\n    <g id=\"ytick_3\">\n     <g id=\"line2d_165\">\n      <path d=\"M 71.166875 208.713206 \nL 428.286875 208.713206 \n\" clip-path=\"url(#p9abebfdc91)\" style=\"fill: none; stroke: #ffffff; stroke-width: 0.8; stroke-linecap: square\"/>\n     </g>\n     <g id=\"line2d_166\">\n      <g>\n       <use xlink:href=\"#m26b8c99c77\" x=\"71.166875\" y=\"208.713206\" style=\"fill: #555555; stroke: #555555; stroke-width: 0.8\"/>\n      </g>\n     </g>\n     <g id=\"text_84\">\n      <!-- 0.00325 -->\n      <g style=\"fill: #555555\" transform=\"translate(22.81375 212.512424) scale(0.1 -0.1)\">\n       <use xlink:href=\"#DejaVuSans-30\"/>\n       <use xlink:href=\"#DejaVuSans-2e\" x=\"63.623047\"/>\n       <use xlink:href=\"#DejaVuSans-30\" x=\"95.410156\"/>\n       <use xlink:href=\"#DejaVuSans-30\" x=\"159.033203\"/>\n       <use xlink:href=\"#DejaVuSans-33\" x=\"222.65625\"/>\n       <use xlink:href=\"#DejaVuSans-32\" x=\"286.279297\"/>\n       <use xlink:href=\"#DejaVuSans-35\" x=\"349.902344\"/>\n      </g>\n     </g>\n    </g>\n    <g id=\"ytick_4\">\n     <g id=\"line2d_167\">\n      <path d=\"M 71.166875 174.407202 \nL 428.286875 174.407202 \n\" clip-path=\"url(#p9abebfdc91)\" style=\"fill: none; stroke: #ffffff; stroke-width: 0.8; stroke-linecap: square\"/>\n     </g>\n     <g id=\"line2d_168\">\n      <g>\n       <use xlink:href=\"#m26b8c99c77\" x=\"71.166875\" y=\"174.407202\" style=\"fill: #555555; stroke: #555555; stroke-width: 0.8\"/>\n      </g>\n     </g>\n     <g id=\"text_85\">\n      <!-- 0.00350 -->\n      <g style=\"fill: #555555\" transform=\"translate(22.81375 178.206421) scale(0.1 -0.1)\">\n       <use xlink:href=\"#DejaVuSans-30\"/>\n       <use xlink:href=\"#DejaVuSans-2e\" x=\"63.623047\"/>\n       <use xlink:href=\"#DejaVuSans-30\" x=\"95.410156\"/>\n       <use xlink:href=\"#DejaVuSans-30\" x=\"159.033203\"/>\n       <use xlink:href=\"#DejaVuSans-33\" x=\"222.65625\"/>\n       <use xlink:href=\"#DejaVuSans-35\" x=\"286.279297\"/>\n       <use xlink:href=\"#DejaVuSans-30\" x=\"349.902344\"/>\n      </g>\n     </g>\n    </g>\n    <g id=\"ytick_5\">\n     <g id=\"line2d_169\">\n      <path d=\"M 71.166875 140.101199 \nL 428.286875 140.101199 \n\" clip-path=\"url(#p9abebfdc91)\" style=\"fill: none; stroke: #ffffff; stroke-width: 0.8; stroke-linecap: square\"/>\n     </g>\n     <g id=\"line2d_170\">\n      <g>\n       <use xlink:href=\"#m26b8c99c77\" x=\"71.166875\" y=\"140.101199\" style=\"fill: #555555; stroke: #555555; stroke-width: 0.8\"/>\n      </g>\n     </g>\n     <g id=\"text_86\">\n      <!-- 0.00375 -->\n      <g style=\"fill: #555555\" transform=\"translate(22.81375 143.900418) scale(0.1 -0.1)\">\n       <use xlink:href=\"#DejaVuSans-30\"/>\n       <use xlink:href=\"#DejaVuSans-2e\" x=\"63.623047\"/>\n       <use xlink:href=\"#DejaVuSans-30\" x=\"95.410156\"/>\n       <use xlink:href=\"#DejaVuSans-30\" x=\"159.033203\"/>\n       <use xlink:href=\"#DejaVuSans-33\" x=\"222.65625\"/>\n       <use xlink:href=\"#DejaVuSans-37\" x=\"286.279297\"/>\n       <use xlink:href=\"#DejaVuSans-35\" x=\"349.902344\"/>\n      </g>\n     </g>\n    </g>\n    <g id=\"ytick_6\">\n     <g id=\"line2d_171\">\n      <path d=\"M 71.166875 105.795196 \nL 428.286875 105.795196 \n\" clip-path=\"url(#p9abebfdc91)\" style=\"fill: none; stroke: #ffffff; stroke-width: 0.8; stroke-linecap: square\"/>\n     </g>\n     <g id=\"line2d_172\">\n      <g>\n       <use xlink:href=\"#m26b8c99c77\" x=\"71.166875\" y=\"105.795196\" style=\"fill: #555555; stroke: #555555; stroke-width: 0.8\"/>\n      </g>\n     </g>\n     <g id=\"text_87\">\n      <!-- 0.00400 -->\n      <g style=\"fill: #555555\" transform=\"translate(22.81375 109.594415) scale(0.1 -0.1)\">\n       <use xlink:href=\"#DejaVuSans-30\"/>\n       <use xlink:href=\"#DejaVuSans-2e\" x=\"63.623047\"/>\n       <use xlink:href=\"#DejaVuSans-30\" x=\"95.410156\"/>\n       <use xlink:href=\"#DejaVuSans-30\" x=\"159.033203\"/>\n       <use xlink:href=\"#DejaVuSans-34\" x=\"222.65625\"/>\n       <use xlink:href=\"#DejaVuSans-30\" x=\"286.279297\"/>\n       <use xlink:href=\"#DejaVuSans-30\" x=\"349.902344\"/>\n      </g>\n     </g>\n    </g>\n    <g id=\"ytick_7\">\n     <g id=\"line2d_173\">\n      <path d=\"M 71.166875 71.489193 \nL 428.286875 71.489193 \n\" clip-path=\"url(#p9abebfdc91)\" style=\"fill: none; stroke: #ffffff; stroke-width: 0.8; stroke-linecap: square\"/>\n     </g>\n     <g id=\"line2d_174\">\n      <g>\n       <use xlink:href=\"#m26b8c99c77\" x=\"71.166875\" y=\"71.489193\" style=\"fill: #555555; stroke: #555555; stroke-width: 0.8\"/>\n      </g>\n     </g>\n     <g id=\"text_88\">\n      <!-- 0.00425 -->\n      <g style=\"fill: #555555\" transform=\"translate(22.81375 75.288411) scale(0.1 -0.1)\">\n       <use xlink:href=\"#DejaVuSans-30\"/>\n       <use xlink:href=\"#DejaVuSans-2e\" x=\"63.623047\"/>\n       <use xlink:href=\"#DejaVuSans-30\" x=\"95.410156\"/>\n       <use xlink:href=\"#DejaVuSans-30\" x=\"159.033203\"/>\n       <use xlink:href=\"#DejaVuSans-34\" x=\"222.65625\"/>\n       <use xlink:href=\"#DejaVuSans-32\" x=\"286.279297\"/>\n       <use xlink:href=\"#DejaVuSans-35\" x=\"349.902344\"/>\n      </g>\n     </g>\n    </g>\n    <g id=\"ytick_8\">\n     <g id=\"line2d_175\">\n      <path d=\"M 71.166875 37.183189 \nL 428.286875 37.183189 \n\" clip-path=\"url(#p9abebfdc91)\" style=\"fill: none; stroke: #ffffff; stroke-width: 0.8; stroke-linecap: square\"/>\n     </g>\n     <g id=\"line2d_176\">\n      <g>\n       <use xlink:href=\"#m26b8c99c77\" x=\"71.166875\" y=\"37.183189\" style=\"fill: #555555; stroke: #555555; stroke-width: 0.8\"/>\n      </g>\n     </g>\n     <g id=\"text_89\">\n      <!-- 0.00450 -->\n      <g style=\"fill: #555555\" transform=\"translate(22.81375 40.982408) scale(0.1 -0.1)\">\n       <use xlink:href=\"#DejaVuSans-30\"/>\n       <use xlink:href=\"#DejaVuSans-2e\" x=\"63.623047\"/>\n       <use xlink:href=\"#DejaVuSans-30\" x=\"95.410156\"/>\n       <use xlink:href=\"#DejaVuSans-30\" x=\"159.033203\"/>\n       <use xlink:href=\"#DejaVuSans-34\" x=\"222.65625\"/>\n       <use xlink:href=\"#DejaVuSans-35\" x=\"286.279297\"/>\n       <use xlink:href=\"#DejaVuSans-30\" x=\"349.902344\"/>\n      </g>\n     </g>\n    </g>\n    <g id=\"text_90\">\n     <!-- Loss -->\n     <g style=\"fill: #555555\" transform=\"translate(16.318125 170.358375) rotate(-90) scale(0.12 -0.12)\">\n      <defs>\n       <path id=\"DejaVuSans-4c\" d=\"M 628 4666 \nL 1259 4666 \nL 1259 531 \nL 3531 531 \nL 3531 0 \nL 628 0 \nL 628 4666 \nz\n\" transform=\"scale(0.015625)\"/>\n       <path id=\"DejaVuSans-73\" d=\"M 2834 3397 \nL 2834 2853 \nQ 2591 2978 2328 3040 \nQ 2066 3103 1784 3103 \nQ 1356 3103 1142 2972 \nQ 928 2841 928 2578 \nQ 928 2378 1081 2264 \nQ 1234 2150 1697 2047 \nL 1894 2003 \nQ 2506 1872 2764 1633 \nQ 3022 1394 3022 966 \nQ 3022 478 2636 193 \nQ 2250 -91 1575 -91 \nQ 1294 -91 989 -36 \nQ 684 19 347 128 \nL 347 722 \nQ 666 556 975 473 \nQ 1284 391 1588 391 \nQ 1994 391 2212 530 \nQ 2431 669 2431 922 \nQ 2431 1156 2273 1281 \nQ 2116 1406 1581 1522 \nL 1381 1569 \nQ 847 1681 609 1914 \nQ 372 2147 372 2553 \nQ 372 3047 722 3315 \nQ 1072 3584 1716 3584 \nQ 2034 3584 2315 3537 \nQ 2597 3491 2834 3397 \nz\n\" transform=\"scale(0.015625)\"/>\n      </defs>\n      <use xlink:href=\"#DejaVuSans-4c\"/>\n      <use xlink:href=\"#DejaVuSans-6f\" x=\"53.962891\"/>\n      <use xlink:href=\"#DejaVuSans-73\" x=\"115.144531\"/>\n      <use xlink:href=\"#DejaVuSans-73\" x=\"167.244141\"/>\n     </g>\n    </g>\n   </g>\n   <g id=\"line2d_177\">\n    <path d=\"M 87.399602 36.23775 \nL 91.509153 157.973233 \nL 95.618705 168.181711 \nL 99.728256 172.646358 \nL 103.837807 175.390868 \nL 107.947358 176.907779 \nL 112.05691 178.422955 \nL 116.166461 179.40186 \nL 120.276012 181.173644 \nL 124.385563 182.74043 \nL 128.495114 183.901173 \nL 132.604666 185.709675 \nL 136.714217 187.397858 \nL 140.823768 189.51417 \nL 144.933319 192.321429 \nL 149.04287 194.485887 \nL 153.152422 197.363322 \nL 157.261973 200.293003 \nL 161.371524 203.19354 \nL 165.481075 206.193931 \nL 169.590626 209.455247 \nL 173.700178 211.841039 \nL 177.809729 215.798605 \nL 181.91928 218.028739 \nL 186.028831 220.592271 \nL 190.138382 223.73262 \nL 194.247934 226.195472 \nL 198.357485 227.932625 \nL 202.467036 230.415085 \nL 206.576587 232.753722 \nL 210.686139 234.851746 \nL 214.79569 236.254464 \nL 218.905241 238.357133 \nL 223.014792 239.853922 \nL 227.124343 241.056963 \nL 231.233895 242.495686 \nL 235.343446 244.459662 \nL 239.452997 245.515932 \nL 243.562548 246.394214 \nL 247.672099 248.080279 \nL 251.781651 249.44439 \nL 255.891202 250.052138 \nL 260.000753 251.6328 \nL 264.110304 252.68139 \nL 268.219855 254.175461 \nL 272.329407 254.717274 \nL 276.438958 256.279701 \nL 280.548509 257.217112 \nL 284.65806 258.440172 \nL 288.767611 259.093781 \nL 292.877163 260.123941 \nL 296.986714 261.246582 \nL 301.096265 261.35183 \nL 305.205816 263.161346 \nL 309.315368 263.760279 \nL 313.424919 264.251998 \nL 317.53447 265.138058 \nL 321.644021 265.811511 \nL 325.753572 266.406165 \nL 329.863124 267.889719 \nL 333.972675 268.467928 \nL 338.082226 269.124285 \nL 342.191777 269.804302 \nL 346.301328 270.279908 \nL 350.41088 270.850701 \nL 354.520431 271.387762 \nL 358.629982 272.463656 \nL 362.739533 272.451204 \nL 366.849084 273.441271 \nL 370.958636 273.746143 \nL 375.068187 274.838619 \nL 379.177738 274.846363 \nL 383.287289 274.991448 \nL 387.39684 276.267099 \nL 391.506392 276.479048 \nL 395.615943 276.358489 \nL 399.725494 276.613079 \nL 403.835045 277.671322 \nL 407.944597 277.979378 \nL 412.054148 278.15775 \n\" clip-path=\"url(#p9abebfdc91)\" style=\"fill: none; stroke: #e24a33; stroke-width: 1.5; stroke-linecap: square\"/>\n   </g>\n   <g id=\"line2d_178\">\n    <path d=\"M 87.399602 141.046906 \nL 91.509153 154.106077 \nL 95.618705 155.473265 \nL 99.728256 156.03845 \nL 103.837807 155.156012 \nL 107.947358 155.646934 \nL 112.05691 155.572466 \nL 116.166461 155.925165 \nL 120.276012 156.427595 \nL 124.385563 155.632809 \nL 128.495114 155.657996 \nL 132.604666 156.180961 \nL 136.714217 157.65547 \nL 140.823768 159.342633 \nL 144.933319 159.59054 \nL 149.04287 161.009291 \nL 153.152422 162.262779 \nL 157.261973 163.034122 \nL 161.371524 164.198563 \nL 165.481075 165.655743 \nL 169.590626 166.891 \nL 173.700178 168.774075 \nL 177.809729 169.203728 \nL 181.91928 171.037813 \nL 186.028831 173.066944 \nL 190.138382 174.830511 \nL 194.247934 174.330848 \nL 198.357485 175.722554 \nL 202.467036 176.004909 \nL 206.576587 176.20866 \nL 210.686139 177.343648 \nL 214.79569 177.609791 \nL 218.905241 178.848956 \nL 223.014792 179.390635 \nL 227.124343 180.372678 \nL 231.233895 180.728238 \nL 235.343446 181.733432 \nL 239.452997 182.273972 \nL 243.562548 183.380492 \nL 247.672099 184.753585 \nL 251.781651 185.085591 \nL 255.891202 185.675054 \nL 260.000753 187.016403 \nL 264.110304 186.652972 \nL 268.219855 188.2638 \nL 272.329407 187.304852 \nL 276.438958 189.29009 \nL 280.548509 189.732847 \nL 284.65806 190.544494 \nL 288.767611 190.48047 \nL 292.877163 189.951882 \nL 296.986714 190.106941 \nL 301.096265 191.238797 \nL 305.205816 191.386753 \nL 309.315368 191.897964 \nL 313.424919 191.356054 \nL 317.53447 192.505288 \nL 321.644021 191.565818 \nL 325.753572 193.269112 \nL 329.863124 193.313071 \nL 333.972675 194.316511 \nL 338.082226 196.234483 \nL 342.191777 196.103517 \nL 346.301328 196.121279 \nL 350.41088 195.262116 \nL 354.520431 196.233747 \nL 358.629982 196.652274 \nL 362.739533 197.270686 \nL 366.849084 197.653051 \nL 370.958636 198.160355 \nL 375.068187 197.571962 \nL 379.177738 198.6883 \nL 383.287289 198.333464 \nL 387.39684 199.653684 \nL 391.506392 197.778653 \nL 395.615943 199.206263 \nL 399.725494 197.927843 \nL 403.835045 198.22646 \nL 407.944597 198.613092 \nL 412.054148 198.958979 \n\" clip-path=\"url(#p9abebfdc91)\" style=\"fill: none; stroke: #348abd; stroke-width: 1.5; stroke-linecap: square\"/>\n   </g>\n   <g id=\"patch_3\">\n    <path d=\"M 71.166875 290.25375 \nL 71.166875 24.14175 \n\" style=\"fill: none; stroke: #ffffff; stroke-linejoin: miter; stroke-linecap: square\"/>\n   </g>\n   <g id=\"patch_4\">\n    <path d=\"M 428.286875 290.25375 \nL 428.286875 24.14175 \n\" style=\"fill: none; stroke: #ffffff; stroke-linejoin: miter; stroke-linecap: square\"/>\n   </g>\n   <g id=\"patch_5\">\n    <path d=\"M 71.166875 290.25375 \nL 428.286875 290.25375 \n\" style=\"fill: none; stroke: #ffffff; stroke-linejoin: miter; stroke-linecap: square\"/>\n   </g>\n   <g id=\"patch_6\">\n    <path d=\"M 71.166875 24.14175 \nL 428.286875 24.14175 \n\" style=\"fill: none; stroke: #ffffff; stroke-linejoin: miter; stroke-linecap: square\"/>\n   </g>\n   <g id=\"text_91\">\n    <!-- Losses -->\n    <g transform=\"translate(225.753125 18.14175) scale(0.144 -0.144)\">\n     <defs>\n      <path id=\"DejaVuSans-65\" d=\"M 3597 1894 \nL 3597 1613 \nL 953 1613 \nQ 991 1019 1311 708 \nQ 1631 397 2203 397 \nQ 2534 397 2845 478 \nQ 3156 559 3463 722 \nL 3463 178 \nQ 3153 47 2828 -22 \nQ 2503 -91 2169 -91 \nQ 1331 -91 842 396 \nQ 353 884 353 1716 \nQ 353 2575 817 3079 \nQ 1281 3584 2069 3584 \nQ 2775 3584 3186 3129 \nQ 3597 2675 3597 1894 \nz\nM 3022 2063 \nQ 3016 2534 2758 2815 \nQ 2500 3097 2075 3097 \nQ 1594 3097 1305 2825 \nQ 1016 2553 972 2059 \nL 3022 2063 \nz\n\" transform=\"scale(0.015625)\"/>\n     </defs>\n     <use xlink:href=\"#DejaVuSans-4c\"/>\n     <use xlink:href=\"#DejaVuSans-6f\" x=\"53.962891\"/>\n     <use xlink:href=\"#DejaVuSans-73\" x=\"115.144531\"/>\n     <use xlink:href=\"#DejaVuSans-73\" x=\"167.244141\"/>\n     <use xlink:href=\"#DejaVuSans-65\" x=\"219.34375\"/>\n     <use xlink:href=\"#DejaVuSans-73\" x=\"280.867188\"/>\n    </g>\n   </g>\n   <g id=\"legend_1\">\n    <g id=\"patch_7\">\n     <path d=\"M 340.075938 61.498 \nL 421.286875 61.498 \nQ 423.286875 61.498 423.286875 59.498 \nL 423.286875 31.14175 \nQ 423.286875 29.14175 421.286875 29.14175 \nL 340.075938 29.14175 \nQ 338.075938 29.14175 338.075938 31.14175 \nL 338.075938 59.498 \nQ 338.075938 61.498 340.075938 61.498 \nz\n\" style=\"fill: #e5e5e5; opacity: 0.8; stroke: #cccccc; stroke-width: 0.5; stroke-linejoin: miter\"/>\n    </g>\n    <g id=\"line2d_179\">\n     <path d=\"M 342.075938 37.240187 \nL 352.075938 37.240187 \nL 362.075938 37.240187 \n\" style=\"fill: none; stroke: #e24a33; stroke-width: 1.5; stroke-linecap: square\"/>\n    </g>\n    <g id=\"text_92\">\n     <!-- Train Loss -->\n     <g transform=\"translate(370.075938 40.740187) scale(0.1 -0.1)\">\n      <defs>\n       <path id=\"DejaVuSans-54\" d=\"M -19 4666 \nL 3928 4666 \nL 3928 4134 \nL 2272 4134 \nL 2272 0 \nL 1638 0 \nL 1638 4134 \nL -19 4134 \nL -19 4666 \nz\n\" transform=\"scale(0.015625)\"/>\n       <path id=\"DejaVuSans-72\" d=\"M 2631 2963 \nQ 2534 3019 2420 3045 \nQ 2306 3072 2169 3072 \nQ 1681 3072 1420 2755 \nQ 1159 2438 1159 1844 \nL 1159 0 \nL 581 0 \nL 581 3500 \nL 1159 3500 \nL 1159 2956 \nQ 1341 3275 1631 3429 \nQ 1922 3584 2338 3584 \nQ 2397 3584 2469 3576 \nQ 2541 3569 2628 3553 \nL 2631 2963 \nz\n\" transform=\"scale(0.015625)\"/>\n       <path id=\"DejaVuSans-61\" d=\"M 2194 1759 \nQ 1497 1759 1228 1600 \nQ 959 1441 959 1056 \nQ 959 750 1161 570 \nQ 1363 391 1709 391 \nQ 2188 391 2477 730 \nQ 2766 1069 2766 1631 \nL 2766 1759 \nL 2194 1759 \nz\nM 3341 1997 \nL 3341 0 \nL 2766 0 \nL 2766 531 \nQ 2569 213 2275 61 \nQ 1981 -91 1556 -91 \nQ 1019 -91 701 211 \nQ 384 513 384 1019 \nQ 384 1609 779 1909 \nQ 1175 2209 1959 2209 \nL 2766 2209 \nL 2766 2266 \nQ 2766 2663 2505 2880 \nQ 2244 3097 1772 3097 \nQ 1472 3097 1187 3025 \nQ 903 2953 641 2809 \nL 641 3341 \nQ 956 3463 1253 3523 \nQ 1550 3584 1831 3584 \nQ 2591 3584 2966 3190 \nQ 3341 2797 3341 1997 \nz\n\" transform=\"scale(0.015625)\"/>\n       <path id=\"DejaVuSans-69\" d=\"M 603 3500 \nL 1178 3500 \nL 1178 0 \nL 603 0 \nL 603 3500 \nz\nM 603 4863 \nL 1178 4863 \nL 1178 4134 \nL 603 4134 \nL 603 4863 \nz\n\" transform=\"scale(0.015625)\"/>\n       <path id=\"DejaVuSans-6e\" d=\"M 3513 2113 \nL 3513 0 \nL 2938 0 \nL 2938 2094 \nQ 2938 2591 2744 2837 \nQ 2550 3084 2163 3084 \nQ 1697 3084 1428 2787 \nQ 1159 2491 1159 1978 \nL 1159 0 \nL 581 0 \nL 581 3500 \nL 1159 3500 \nL 1159 2956 \nQ 1366 3272 1645 3428 \nQ 1925 3584 2291 3584 \nQ 2894 3584 3203 3211 \nQ 3513 2838 3513 2113 \nz\n\" transform=\"scale(0.015625)\"/>\n      </defs>\n      <use xlink:href=\"#DejaVuSans-54\"/>\n      <use xlink:href=\"#DejaVuSans-72\" x=\"46.333984\"/>\n      <use xlink:href=\"#DejaVuSans-61\" x=\"87.447266\"/>\n      <use xlink:href=\"#DejaVuSans-69\" x=\"148.726562\"/>\n      <use xlink:href=\"#DejaVuSans-6e\" x=\"176.509766\"/>\n      <use xlink:href=\"#DejaVuSans-20\" x=\"239.888672\"/>\n      <use xlink:href=\"#DejaVuSans-4c\" x=\"271.675781\"/>\n      <use xlink:href=\"#DejaVuSans-6f\" x=\"325.638672\"/>\n      <use xlink:href=\"#DejaVuSans-73\" x=\"386.820312\"/>\n      <use xlink:href=\"#DejaVuSans-73\" x=\"438.919922\"/>\n     </g>\n    </g>\n    <g id=\"line2d_180\">\n     <path d=\"M 342.075938 51.918312 \nL 352.075938 51.918312 \nL 362.075938 51.918312 \n\" style=\"fill: none; stroke: #348abd; stroke-width: 1.5; stroke-linecap: square\"/>\n    </g>\n    <g id=\"text_93\">\n     <!-- Valid Loss -->\n     <g transform=\"translate(370.075938 55.418312) scale(0.1 -0.1)\">\n      <defs>\n       <path id=\"DejaVuSans-56\" d=\"M 1831 0 \nL 50 4666 \nL 709 4666 \nL 2188 738 \nL 3669 4666 \nL 4325 4666 \nL 2547 0 \nL 1831 0 \nz\n\" transform=\"scale(0.015625)\"/>\n       <path id=\"DejaVuSans-6c\" d=\"M 603 4863 \nL 1178 4863 \nL 1178 0 \nL 603 0 \nL 603 4863 \nz\n\" transform=\"scale(0.015625)\"/>\n       <path id=\"DejaVuSans-64\" d=\"M 2906 2969 \nL 2906 4863 \nL 3481 4863 \nL 3481 0 \nL 2906 0 \nL 2906 525 \nQ 2725 213 2448 61 \nQ 2172 -91 1784 -91 \nQ 1150 -91 751 415 \nQ 353 922 353 1747 \nQ 353 2572 751 3078 \nQ 1150 3584 1784 3584 \nQ 2172 3584 2448 3432 \nQ 2725 3281 2906 2969 \nz\nM 947 1747 \nQ 947 1113 1208 752 \nQ 1469 391 1925 391 \nQ 2381 391 2643 752 \nQ 2906 1113 2906 1747 \nQ 2906 2381 2643 2742 \nQ 2381 3103 1925 3103 \nQ 1469 3103 1208 2742 \nQ 947 2381 947 1747 \nz\n\" transform=\"scale(0.015625)\"/>\n      </defs>\n      <use xlink:href=\"#DejaVuSans-56\"/>\n      <use xlink:href=\"#DejaVuSans-61\" x=\"60.658203\"/>\n      <use xlink:href=\"#DejaVuSans-6c\" x=\"121.9375\"/>\n      <use xlink:href=\"#DejaVuSans-69\" x=\"149.720703\"/>\n      <use xlink:href=\"#DejaVuSans-64\" x=\"177.503906\"/>\n      <use xlink:href=\"#DejaVuSans-20\" x=\"240.980469\"/>\n      <use xlink:href=\"#DejaVuSans-4c\" x=\"272.767578\"/>\n      <use xlink:href=\"#DejaVuSans-6f\" x=\"326.730469\"/>\n      <use xlink:href=\"#DejaVuSans-73\" x=\"387.912109\"/>\n      <use xlink:href=\"#DejaVuSans-73\" x=\"440.011719\"/>\n     </g>\n    </g>\n   </g>\n  </g>\n </g>\n <defs>\n  <clipPath id=\"p9abebfdc91\">\n   <rect x=\"71.166875\" y=\"24.14175\" width=\"357.12\" height=\"266.112\"/>\n  </clipPath>\n </defs>\n</svg>\n"
     },
     "metadata": {},
     "output_type": "display_data"
    }
   ],
   "execution_count": 244
  },
  {
   "cell_type": "code",
   "metadata": {
    "id": "KYBQdpqsaL32",
    "ExecuteTime": {
     "end_time": "2024-10-08T18:15:51.339932Z",
     "start_time": "2024-10-08T18:15:51.167135Z"
    }
   },
   "source": [
    "## Run model evaluation\n",
    "## Please Report Your Final best F1 score in LM and Submit Your Notebook\n",
    "neural_model.eval()\n",
    "test_accuracy, n_examples = 0, 0\n",
    "y_true, y_pred = [], []\n",
    "\n",
    "with torch.no_grad():\n",
    "    for seq, bow, tfidf, target, text in test_loader:\n",
    "        inputs = tfidf\n",
    "        probs = neural_model(inputs)\n",
    "\n",
    "        probs = probs.detach().cpu().numpy()\n",
    "        predictions = np.argmax(probs, axis=1)\n",
    "        target = target.cpu().numpy()\n",
    "\n",
    "        y_true.extend(predictions)\n",
    "        y_pred.extend(target)\n",
    "\n",
    "print(classification_report(y_true, y_pred))"
   ],
   "outputs": [
    {
     "name": "stdout",
     "output_type": "stream",
     "text": [
      "              precision    recall  f1-score   support\n",
      "\n",
      "           0       0.91      0.89      0.90      1579\n",
      "           1       0.89      0.91      0.90      1528\n",
      "\n",
      "    accuracy                           0.90      3107\n",
      "   macro avg       0.90      0.90      0.90      3107\n",
      "weighted avg       0.90      0.90      0.90      3107\n",
      "\n"
     ]
    }
   ],
   "execution_count": 245
  },
  {
   "cell_type": "code",
   "metadata": {
    "id": "-Z9WfZzfXd30",
    "ExecuteTime": {
     "end_time": "2024-10-08T18:17:49.232675Z",
     "start_time": "2024-10-08T18:17:49.222662Z"
    }
   },
   "source": "print_random_prediction(neural_model, n=5, input_type='tfidf')",
   "outputs": [
    {
     "data": {
      "text/plain": [
       "<IPython.core.display.HTML object>"
      ],
      "text/html": [
       "\n",
       "    <table>\n",
       "    <tbody>\n",
       "    <tr>\n",
       "    <td><b>Number</b>&nbsp;</td>\n",
       "    <td><b>Review</b>&nbsp;</td>\n",
       "    <td><b>Predicted</b>&nbsp;</td>\n",
       "    <td><b>Actual</b>&nbsp;</td>\n",
       "    </tr>\n",
       "            <tr>\n",
       "            <td>1&nbsp;</td>\n",
       "            <td>on this quagmire of mediocrity? You are SO much better than this.<br /><br />Simply put, Frostbite is worthless. Bad acting (and I use that term loosely), minimalist \"plot,\" sophomoric humor, and lackluster snowboarding. There's not even a sufficient display of feminine pulchritude to spark the prurient interest of socially inept, but red-blooded, males.<br /><br />Top Gun had spectacular flight sequences to goggle at. Days of Thunder had heart-pounding racing action. Even Point Break had skydiving scenes to its credit. Frostbite has none of these. It's not worth your time, my time, Traci Lords' time, Carmen Nicole's time, nor the time of anyone involved with this destruction of celluloid that would have been perfectly usable on something worthwhile had it not been wasted on this fodder for the recycling center.<br /><br />The world will be a better place when we forget that Frostbite ever existed.&nbsp;</td>\n",
       "            <td>😡&nbsp;</td>\n",
       "            <td>😡&nbsp;</td>\n",
       "            </tr>\n",
       "            \n",
       "\n",
       "            <tr>\n",
       "            <td>2&nbsp;</td>\n",
       "            <td>Seriously. If this had been the first Shack movie, it would have been passable as funny, silly and goofy. Light satire commentary on the class system would make this an enjoyable late-night rental.<br /><br />However, everyone wants to compare it to the first film, and maybe that's not fair. The first film is a cult classic; what could possibly follow it up? Nothing. So take this second film as a stand alone, and it certainly has its moments.<br /><br />Jackie Mason is amusing, doing his best Rodney-wannabe impersonation. Is he as good as Rodney? No. Are his lines as good? No. But he is funny. The rest of the cast falls in line as being decent, but not outstanding. You'll recognize faces amongst the cast and wonder how they got to where they are today.<br /><br />The film is predictable, but aren't most in this genre? Again, it's not the best comedy you'll see, but if you like Cannonball Run-type fun, you'll enjoy this one.&nbsp;</td>\n",
       "            <td>😄&nbsp;</td>\n",
       "            <td>😄&nbsp;</td>\n",
       "            </tr>\n",
       "            \n",
       "\n",
       "            <tr>\n",
       "            <td>3&nbsp;</td>\n",
       "            <td>It's easy to make really general comments about a film like this. The fact that it's one of the only remaining Japanese films from this era causes people to say that it \\started Japanese cinema\\\" and was \\\"unlike anything the west ever made.\\\" The latter of these two comments is particularly false as Kinugasa himself admitted to ripping off \\\"Caligari\\\" on more than one occasion. But style was meant to be imitated, and doesn't take away from this film's importance. What we have here is experimental themes and composition built on already established visual styles, opening the doors for a truly brilliant layering of narratives and realities. For this purpose, the madhouse is the ideal setting, and the writers knew this. This is a landmark film, and every effort should be made to track it down.<br /><br />5 out of 5 - Essential\"&nbsp;</td>\n",
       "            <td>😄&nbsp;</td>\n",
       "            <td>😄&nbsp;</td>\n",
       "            </tr>\n",
       "            \n",
       "\n",
       "            <tr>\n",
       "            <td>4&nbsp;</td>\n",
       "            <td>There will be a time where kids will have grown up without ever seeing the one and only Bugs Bunny kiss (technically) another man on the lips. There will be a time where it won't be Duck or Rabbit season. There will be a time where the Tazmanian Devil will be dubbed politically incorrect.<br /><br />But so help me now is not that time.<br /><br />Nobody really wants an 'EXTREME' version of our beloved Loony characters. Whoever it is in marketing who comes up with \"Corn Nuts: Corn gone wrong\" and \"Extreme Doritos\" and evidently this festering turd should know that just because they have a degree in business or advertising or whatever doesn't mean they know jack about kids.<br /><br />I think that they're doing a disservice to children, depriving them of one of the greatest and most iconic shows of all time. This show disgusts me, and it's not just the dated artwork or terrible dialogue. They misuse good voice talent, like Phil Lamarr, Michael Clarke Duncan, Candi Milo, and so many others. It lacks style, humor, character development, and most importantly, heart.<br /><br />The show, like it's repackaged characters (Slam Tasmanian, Rev Runner, Ace Bunny) is but a shadow of it's former, timeless and beautiful self.&nbsp;</td>\n",
       "            <td>😄&nbsp;</td>\n",
       "            <td>😡&nbsp;</td>\n",
       "            </tr>\n",
       "            \n",
       "\n",
       "            <tr>\n",
       "            <td>5&nbsp;</td>\n",
       "            <td>I've just visited Russian forum of our TV-channel that had showed this film. Well... 99 per cent of active Russian audience is disappointed. We wanted to see more true facts of our space achievements in this film. But authors had in mind something else... :( We are big and beautiful country with intelligent people living here. We are proud of all our space dreams, real achievements on the one hand in this field and in science on the other hand. So I'd like to ask authors: Where is our LUNOHOD? And where, the Hell our MIR station? Ah? I'm quite sure, that LUNOHOD events took place much earlier Armstrong's \"walk on Moon\". And to comment numerous technical and science mistakes - I really have no time and enough space here! Se our constructive critics in Russian forum on www.1tv.ru&nbsp;</td>\n",
       "            <td>😡&nbsp;</td>\n",
       "            <td>😡&nbsp;</td>\n",
       "            </tr>\n",
       "            \n",
       "    </tbody>\n",
       "    </table>\n",
       "    "
      ]
     },
     "metadata": {},
     "output_type": "display_data"
    }
   ],
   "execution_count": 246
  },
  {
   "cell_type": "markdown",
   "source": [
    "# Quiz 2: BoW Naive Bayes\n",
    "If the feature vectors are binary indicator, is it true that all naive Bayes classifier can be represented by another feature based linear classifier?\n",
    "\n",
    "More formally, for $\\phi(x)\\in \\{0,1\\}^d$ and a dataset D=$\\{(x_i,y_i)\\}_{i=1}^n$. Can we get a set of linear scores $\\{\\theta_y \\}_y$ and a feature vector $\\phi'$ such that $\\hat{P}_{naive\\_bayes,\\phi}(y|x)= \\frac{\\exp (\\langle \\theta_y,\\phi'(x)\\rangle)}{\\sum_{y'} \\exp (\\langle \\theta_{y'},\\phi'(x)\\rangle)}$ ?\n",
    "\n",
    "Recall that $\\hat{P}_{naive\\_bayes,\\phi}(y|x)= \\frac{\\hat{P}_{mle}(y)         \\prod_i\\hat{P}_{mle}(\\phi_i(x)|y)}{\\sum_{y'} \\hat{P}_{mle}(y)\\prod_i\\hat{P}_{mle}(\\phi_i(x)|y')}$ where the estimator is from the dataset."
   ],
   "metadata": {
    "id": "LhUbeqxq0bNJ"
   }
  }
 ]
}
