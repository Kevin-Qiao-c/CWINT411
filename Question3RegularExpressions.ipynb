{
 "cells": [
  {
   "cell_type": "code",
   "id": "initial_id",
   "metadata": {
    "collapsed": true,
    "ExecuteTime": {
     "end_time": "2024-10-08T16:07:26.709278Z",
     "start_time": "2024-10-08T16:07:26.705470Z"
    }
   },
   "source": [
    "import re\n",
    "\n",
    "pattern = r'^(\\+86|0086)?1[3-9]\\d{9}$'\n",
    "\n",
    "test_numbers = [\n",
    "    # Samples that conform to the rules\n",
    "    '+8613812345678', '008613812345678', '13812345678', '+8615012345678',\n",
    "    '008617812345678', '15123456789', '19876543210', '+8616312345678',\n",
    "    '008618512345678', '18612345678',\n",
    "\n",
    "    # Samples that do not conform to the rules\n",
    "    '+8612312345678', '00861123456789', '12345678901', '+8653812345678',\n",
    "    '138123456789', '+861381234567', '00861451234', '+9913812345678',\n",
    "    '00861381234567', '1987654321099'\n",
    "]\n",
    "\n",
    "for number in test_numbers:\n",
    "    if re.match(pattern, number):\n",
    "        print(f'{number} is a valid China mobile number')\n",
    "    else:\n",
    "        print(f'{number} is NOT a valid China mobile number')"
   ],
   "outputs": [
    {
     "name": "stdout",
     "output_type": "stream",
     "text": [
      "+8613812345678 is a valid China mobile number\n",
      "008613812345678 is a valid China mobile number\n",
      "13812345678 is a valid China mobile number\n",
      "+8615012345678 is a valid China mobile number\n",
      "008617812345678 is a valid China mobile number\n",
      "15123456789 is a valid China mobile number\n",
      "19876543210 is a valid China mobile number\n",
      "+8616312345678 is a valid China mobile number\n",
      "008618512345678 is a valid China mobile number\n",
      "18612345678 is a valid China mobile number\n",
      "+8612312345678 is NOT a valid China mobile number\n",
      "00861123456789 is NOT a valid China mobile number\n",
      "12345678901 is NOT a valid China mobile number\n",
      "+8653812345678 is NOT a valid China mobile number\n",
      "138123456789 is NOT a valid China mobile number\n",
      "+861381234567 is NOT a valid China mobile number\n",
      "00861451234 is NOT a valid China mobile number\n",
      "+9913812345678 is NOT a valid China mobile number\n",
      "00861381234567 is NOT a valid China mobile number\n",
      "1987654321099 is NOT a valid China mobile number\n"
     ]
    }
   ],
   "execution_count": 2
  }
 ],
 "metadata": {
  "kernelspec": {
   "display_name": "Python 3",
   "language": "python",
   "name": "python3"
  },
  "language_info": {
   "codemirror_mode": {
    "name": "ipython",
    "version": 2
   },
   "file_extension": ".py",
   "mimetype": "text/x-python",
   "name": "python",
   "nbconvert_exporter": "python",
   "pygments_lexer": "ipython2",
   "version": "2.7.6"
  }
 },
 "nbformat": 4,
 "nbformat_minor": 5
}
